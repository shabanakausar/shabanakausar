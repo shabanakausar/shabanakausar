{
  "nbformat": 4,
  "nbformat_minor": 0,
  "metadata": {
    "colab": {
      "provenance": [],
      "collapsed_sections": [],
      "authorship_tag": "ABX9TyM6GeVOpjqgCdhQuc0TjGVk",
      "include_colab_link": true
    },
    "kernelspec": {
      "name": "python3",
      "display_name": "Python 3"
    },
    "language_info": {
      "name": "python"
    }
  },
  "cells": [
    {
      "cell_type": "markdown",
      "metadata": {
        "id": "view-in-github",
        "colab_type": "text"
      },
      "source": [
        "<a href=\"https://colab.research.google.com/github/shabanakausar/shabanakausar/blob/main/Word_Embedding.ipynb\" target=\"_parent\"><img src=\"https://colab.research.google.com/assets/colab-badge.svg\" alt=\"Open In Colab\"/></a>"
      ]
    },
    {
      "cell_type": "code",
      "execution_count": 87,
      "metadata": {
        "id": "tRytb2KNT1i_"
      },
      "outputs": [],
      "source": [
        "#--------Word Embeddings Techniques Using Embedding Layer in Keras"
      ]
    },
    {
      "cell_type": "code",
      "source": [
        "#------- Word embeddings provide a dense representation of words and their relative meanings.\n",
        "#--------They are an improvement over sparse representations used in simpler bag of word model\n",
        "#--------representations.Word embeddings can be learned from text data and reused among projects. \n",
        "#--------They can also be learned as part of fitting a neural network on text data."
      ],
      "metadata": {
        "id": "iuDzXz8Jkgk9"
      },
      "execution_count": 88,
      "outputs": []
    },
    {
      "cell_type": "code",
      "source": [
        "from tensorflow.keras.preprocessing.text import one_hot"
      ],
      "metadata": {
        "id": "ubiw9718khdQ"
      },
      "execution_count": 89,
      "outputs": []
    },
    {
      "cell_type": "code",
      "source": [
        "sent = [\n",
        "    'the glass of milk',\n",
        "    'the glass of juice',\n",
        "    'the cup of tea',\n",
        "    'i am a good boy',\n",
        "    'i am a good developer',\n",
        "    'understand the meaning of words',\n",
        "    'your words are good'\n",
        "]"
      ],
      "metadata": {
        "id": "Spl05cUTUo5Q"
      },
      "execution_count": 90,
      "outputs": []
    },
    {
      "cell_type": "code",
      "source": [
        "sent"
      ],
      "metadata": {
        "colab": {
          "base_uri": "https://localhost:8080/"
        },
        "id": "_cyfZxDSWxIg",
        "outputId": "8203d147-2fad-45d1-cd95-f2e8395e522d"
      },
      "execution_count": 91,
      "outputs": [
        {
          "output_type": "execute_result",
          "data": {
            "text/plain": [
              "['the glass of milk',\n",
              " 'the glass of juice',\n",
              " 'the cup of tea',\n",
              " 'i am a good boy',\n",
              " 'i am a good developer',\n",
              " 'understand the meaning of words',\n",
              " 'your words are good']"
            ]
          },
          "metadata": {},
          "execution_count": 91
        }
      ]
    },
    {
      "cell_type": "code",
      "source": [
        "voc_size = 10000"
      ],
      "metadata": {
        "id": "1ZL3YLPWWzq0"
      },
      "execution_count": 92,
      "outputs": []
    },
    {
      "cell_type": "code",
      "source": [
        "onehot_repr = [one_hot(words,voc_size)for words in sent]\n",
        "print(onehot_repr)"
      ],
      "metadata": {
        "colab": {
          "base_uri": "https://localhost:8080/"
        },
        "id": "ALwVJZCWXh-E",
        "outputId": "2e1f5c3c-ead0-4772-c9c6-3037bab772ea"
      },
      "execution_count": 93,
      "outputs": [
        {
          "output_type": "stream",
          "name": "stdout",
          "text": [
            "[[60, 3213, 3851, 6718], [60, 3213, 3851, 3852], [60, 8113, 3851, 4837], [6053, 3263, 3259, 9049, 7646], [6053, 3263, 3259, 9049, 6573], [5740, 60, 8253, 3851, 4286], [4917, 4286, 1732, 9049]]\n"
          ]
        }
      ]
    },
    {
      "cell_type": "code",
      "source": [
        "#-----------------------------------Word Embedding Representation"
      ],
      "metadata": {
        "id": "h-xQESLSY5q0"
      },
      "execution_count": 94,
      "outputs": []
    },
    {
      "cell_type": "code",
      "source": [
        "from tensorflow.keras.layers import Embedding\n",
        "from tensorflow.keras.preprocessing.sequence import pad_sequences\n",
        "from tensorflow.keras.models import Sequential"
      ],
      "metadata": {
        "id": "w6LCCNFmZKZM"
      },
      "execution_count": 95,
      "outputs": []
    },
    {
      "cell_type": "code",
      "source": [
        "import numpy as np "
      ],
      "metadata": {
        "id": "4az-67J1Z1-U"
      },
      "execution_count": 96,
      "outputs": []
    },
    {
      "cell_type": "code",
      "source": [
        "sent_length = 8\n",
        "embedded_docs = pad_sequences(onehot_repr,padding='pre',maxlen=sent_length)\n",
        "print(embedded_docs)"
      ],
      "metadata": {
        "colab": {
          "base_uri": "https://localhost:8080/"
        },
        "id": "vs_f4UfhZ6mz",
        "outputId": "7f3604aa-14ae-4937-d7e1-9a1cc2d528c6"
      },
      "execution_count": 97,
      "outputs": [
        {
          "output_type": "stream",
          "name": "stdout",
          "text": [
            "[[   0    0    0    0   60 3213 3851 6718]\n",
            " [   0    0    0    0   60 3213 3851 3852]\n",
            " [   0    0    0    0   60 8113 3851 4837]\n",
            " [   0    0    0 6053 3263 3259 9049 7646]\n",
            " [   0    0    0 6053 3263 3259 9049 6573]\n",
            " [   0    0    0 5740   60 8253 3851 4286]\n",
            " [   0    0    0    0 4917 4286 1732 9049]]\n"
          ]
        }
      ]
    },
    {
      "cell_type": "code",
      "source": [
        "dim = 10"
      ],
      "metadata": {
        "id": "Uuns1xxjauhn"
      },
      "execution_count": 98,
      "outputs": []
    },
    {
      "cell_type": "code",
      "source": [
        "model = Sequential()\n",
        "model.add(Embedding(voc_size,10,input_length=sent_length))\n",
        "model.compile('adam','mse')"
      ],
      "metadata": {
        "id": "CHmrvIyMfZ9l"
      },
      "execution_count": 99,
      "outputs": []
    },
    {
      "cell_type": "code",
      "source": [
        "model.summary()"
      ],
      "metadata": {
        "colab": {
          "base_uri": "https://localhost:8080/"
        },
        "id": "25tr8r_SfgBw",
        "outputId": "734cfbdf-ee53-420b-af7f-1035a1e38add"
      },
      "execution_count": 100,
      "outputs": [
        {
          "output_type": "stream",
          "name": "stdout",
          "text": [
            "Model: \"sequential_3\"\n",
            "_________________________________________________________________\n",
            " Layer (type)                Output Shape              Param #   \n",
            "=================================================================\n",
            " embedding_3 (Embedding)     (None, 8, 10)             100000    \n",
            "                                                                 \n",
            "=================================================================\n",
            "Total params: 100,000\n",
            "Trainable params: 100,000\n",
            "Non-trainable params: 0\n",
            "_________________________________________________________________\n"
          ]
        }
      ]
    },
    {
      "cell_type": "code",
      "source": [
        "print(model.predict(embedded_docs))"
      ],
      "metadata": {
        "colab": {
          "base_uri": "https://localhost:8080/"
        },
        "id": "DA7UP-LQgbqy",
        "outputId": "2d1b3f53-a5bf-4144-aa90-ef711b909856"
      },
      "execution_count": 101,
      "outputs": [
        {
          "output_type": "stream",
          "name": "stdout",
          "text": [
            "1/1 [==============================] - 0s 29ms/step\n",
            "[[[-0.01053866  0.00779831 -0.03539757 -0.04246053  0.02607495\n",
            "    0.03321674  0.04650969 -0.04511593 -0.03486379 -0.02792074]\n",
            "  [-0.01053866  0.00779831 -0.03539757 -0.04246053  0.02607495\n",
            "    0.03321674  0.04650969 -0.04511593 -0.03486379 -0.02792074]\n",
            "  [-0.01053866  0.00779831 -0.03539757 -0.04246053  0.02607495\n",
            "    0.03321674  0.04650969 -0.04511593 -0.03486379 -0.02792074]\n",
            "  [-0.01053866  0.00779831 -0.03539757 -0.04246053  0.02607495\n",
            "    0.03321674  0.04650969 -0.04511593 -0.03486379 -0.02792074]\n",
            "  [ 0.00836601  0.00814414 -0.01712896  0.01734373  0.02277407\n",
            "   -0.0367194  -0.02883312  0.0459929   0.00873052  0.04626245]\n",
            "  [-0.01811395 -0.02689333 -0.02674539  0.00061687  0.04675669\n",
            "    0.02317642  0.03153678 -0.01485841  0.03527195  0.02218441]\n",
            "  [-0.0436357   0.03267442 -0.00299769  0.02690214  0.02873241\n",
            "   -0.01455457  0.02239582 -0.00111525  0.02026743  0.01659402]\n",
            "  [-0.02855709  0.03532175 -0.04431939  0.04544285 -0.00679753\n",
            "   -0.01910367 -0.0335505   0.02254362  0.00029442  0.04536163]]\n",
            "\n",
            " [[-0.01053866  0.00779831 -0.03539757 -0.04246053  0.02607495\n",
            "    0.03321674  0.04650969 -0.04511593 -0.03486379 -0.02792074]\n",
            "  [-0.01053866  0.00779831 -0.03539757 -0.04246053  0.02607495\n",
            "    0.03321674  0.04650969 -0.04511593 -0.03486379 -0.02792074]\n",
            "  [-0.01053866  0.00779831 -0.03539757 -0.04246053  0.02607495\n",
            "    0.03321674  0.04650969 -0.04511593 -0.03486379 -0.02792074]\n",
            "  [-0.01053866  0.00779831 -0.03539757 -0.04246053  0.02607495\n",
            "    0.03321674  0.04650969 -0.04511593 -0.03486379 -0.02792074]\n",
            "  [ 0.00836601  0.00814414 -0.01712896  0.01734373  0.02277407\n",
            "   -0.0367194  -0.02883312  0.0459929   0.00873052  0.04626245]\n",
            "  [-0.01811395 -0.02689333 -0.02674539  0.00061687  0.04675669\n",
            "    0.02317642  0.03153678 -0.01485841  0.03527195  0.02218441]\n",
            "  [-0.0436357   0.03267442 -0.00299769  0.02690214  0.02873241\n",
            "   -0.01455457  0.02239582 -0.00111525  0.02026743  0.01659402]\n",
            "  [ 0.04577588 -0.0355489   0.04529415 -0.03958289 -0.01713721\n",
            "   -0.04027756  0.02593774  0.02461818  0.01289635  0.00811353]]\n",
            "\n",
            " [[-0.01053866  0.00779831 -0.03539757 -0.04246053  0.02607495\n",
            "    0.03321674  0.04650969 -0.04511593 -0.03486379 -0.02792074]\n",
            "  [-0.01053866  0.00779831 -0.03539757 -0.04246053  0.02607495\n",
            "    0.03321674  0.04650969 -0.04511593 -0.03486379 -0.02792074]\n",
            "  [-0.01053866  0.00779831 -0.03539757 -0.04246053  0.02607495\n",
            "    0.03321674  0.04650969 -0.04511593 -0.03486379 -0.02792074]\n",
            "  [-0.01053866  0.00779831 -0.03539757 -0.04246053  0.02607495\n",
            "    0.03321674  0.04650969 -0.04511593 -0.03486379 -0.02792074]\n",
            "  [ 0.00836601  0.00814414 -0.01712896  0.01734373  0.02277407\n",
            "   -0.0367194  -0.02883312  0.0459929   0.00873052  0.04626245]\n",
            "  [-0.02506876 -0.0421146   0.00400149 -0.02037815  0.04116342\n",
            "   -0.01914892  0.00589227  0.03687126 -0.03591304 -0.00527378]\n",
            "  [-0.0436357   0.03267442 -0.00299769  0.02690214  0.02873241\n",
            "   -0.01455457  0.02239582 -0.00111525  0.02026743  0.01659402]\n",
            "  [-0.0224722  -0.01980885 -0.02472125  0.01058554  0.04576487\n",
            "   -0.00587262  0.03952323 -0.03054161  0.04593703 -0.03668138]]\n",
            "\n",
            " [[-0.01053866  0.00779831 -0.03539757 -0.04246053  0.02607495\n",
            "    0.03321674  0.04650969 -0.04511593 -0.03486379 -0.02792074]\n",
            "  [-0.01053866  0.00779831 -0.03539757 -0.04246053  0.02607495\n",
            "    0.03321674  0.04650969 -0.04511593 -0.03486379 -0.02792074]\n",
            "  [-0.01053866  0.00779831 -0.03539757 -0.04246053  0.02607495\n",
            "    0.03321674  0.04650969 -0.04511593 -0.03486379 -0.02792074]\n",
            "  [-0.03292912 -0.01572566 -0.03475249  0.03411604  0.01479756\n",
            "    0.02639746  0.01148484 -0.04849093 -0.0305503  -0.01259159]\n",
            "  [ 0.00842661 -0.02339699  0.02140298 -0.02738638  0.00072128\n",
            "    0.03145478  0.01716722  0.03679958 -0.0097786  -0.04737177]\n",
            "  [-0.04656395 -0.02353017 -0.0385499   0.01951045 -0.03563724\n",
            "   -0.02598177 -0.04501798  0.04934954  0.01440744 -0.03670187]\n",
            "  [-0.00969694 -0.03406794 -0.0046942   0.03263357  0.03632892\n",
            "   -0.04031479 -0.01552922 -0.03976738  0.01496821  0.00098532]\n",
            "  [ 0.03174687 -0.0108636  -0.03843438 -0.01771212 -0.0486447\n",
            "   -0.02196413  0.03916537  0.01221324  0.03166206 -0.04309225]]\n",
            "\n",
            " [[-0.01053866  0.00779831 -0.03539757 -0.04246053  0.02607495\n",
            "    0.03321674  0.04650969 -0.04511593 -0.03486379 -0.02792074]\n",
            "  [-0.01053866  0.00779831 -0.03539757 -0.04246053  0.02607495\n",
            "    0.03321674  0.04650969 -0.04511593 -0.03486379 -0.02792074]\n",
            "  [-0.01053866  0.00779831 -0.03539757 -0.04246053  0.02607495\n",
            "    0.03321674  0.04650969 -0.04511593 -0.03486379 -0.02792074]\n",
            "  [-0.03292912 -0.01572566 -0.03475249  0.03411604  0.01479756\n",
            "    0.02639746  0.01148484 -0.04849093 -0.0305503  -0.01259159]\n",
            "  [ 0.00842661 -0.02339699  0.02140298 -0.02738638  0.00072128\n",
            "    0.03145478  0.01716722  0.03679958 -0.0097786  -0.04737177]\n",
            "  [-0.04656395 -0.02353017 -0.0385499   0.01951045 -0.03563724\n",
            "   -0.02598177 -0.04501798  0.04934954  0.01440744 -0.03670187]\n",
            "  [-0.00969694 -0.03406794 -0.0046942   0.03263357  0.03632892\n",
            "   -0.04031479 -0.01552922 -0.03976738  0.01496821  0.00098532]\n",
            "  [-0.04085521 -0.01160307  0.01778649 -0.01855816  0.03503538\n",
            "   -0.01909708 -0.0453051  -0.03145538 -0.04737027  0.02461082]]\n",
            "\n",
            " [[-0.01053866  0.00779831 -0.03539757 -0.04246053  0.02607495\n",
            "    0.03321674  0.04650969 -0.04511593 -0.03486379 -0.02792074]\n",
            "  [-0.01053866  0.00779831 -0.03539757 -0.04246053  0.02607495\n",
            "    0.03321674  0.04650969 -0.04511593 -0.03486379 -0.02792074]\n",
            "  [-0.01053866  0.00779831 -0.03539757 -0.04246053  0.02607495\n",
            "    0.03321674  0.04650969 -0.04511593 -0.03486379 -0.02792074]\n",
            "  [ 0.00339657  0.03137716 -0.03212581  0.0445019   0.01118221\n",
            "    0.03694283  0.03168854  0.04026589  0.02519343 -0.04482747]\n",
            "  [ 0.00836601  0.00814414 -0.01712896  0.01734373  0.02277407\n",
            "   -0.0367194  -0.02883312  0.0459929   0.00873052  0.04626245]\n",
            "  [-0.00263798 -0.03894919 -0.0344043   0.04242447 -0.04677496\n",
            "    0.02578194 -0.00116744 -0.00997204 -0.04181588  0.04516866]\n",
            "  [-0.0436357   0.03267442 -0.00299769  0.02690214  0.02873241\n",
            "   -0.01455457  0.02239582 -0.00111525  0.02026743  0.01659402]\n",
            "  [-0.03729435 -0.00426413 -0.02515765 -0.01647595 -0.02472732\n",
            "   -0.01720198 -0.02784116  0.0488568   0.03423588 -0.04349319]]\n",
            "\n",
            " [[-0.01053866  0.00779831 -0.03539757 -0.04246053  0.02607495\n",
            "    0.03321674  0.04650969 -0.04511593 -0.03486379 -0.02792074]\n",
            "  [-0.01053866  0.00779831 -0.03539757 -0.04246053  0.02607495\n",
            "    0.03321674  0.04650969 -0.04511593 -0.03486379 -0.02792074]\n",
            "  [-0.01053866  0.00779831 -0.03539757 -0.04246053  0.02607495\n",
            "    0.03321674  0.04650969 -0.04511593 -0.03486379 -0.02792074]\n",
            "  [-0.01053866  0.00779831 -0.03539757 -0.04246053  0.02607495\n",
            "    0.03321674  0.04650969 -0.04511593 -0.03486379 -0.02792074]\n",
            "  [ 0.0459086  -0.02283018  0.02292943  0.01812047 -0.00634909\n",
            "   -0.00022481 -0.01262901 -0.01103242 -0.03178813  0.02338262]\n",
            "  [-0.03729435 -0.00426413 -0.02515765 -0.01647595 -0.02472732\n",
            "   -0.01720198 -0.02784116  0.0488568   0.03423588 -0.04349319]\n",
            "  [ 0.04083855  0.01586027  0.03905841 -0.031431    0.00841801\n",
            "    0.04909965 -0.04159243  0.03070277 -0.0392202  -0.02120042]\n",
            "  [-0.00969694 -0.03406794 -0.0046942   0.03263357  0.03632892\n",
            "   -0.04031479 -0.01552922 -0.03976738  0.01496821  0.00098532]]]\n"
          ]
        }
      ]
    },
    {
      "cell_type": "code",
      "source": [
        "embedded_docs[0]"
      ],
      "metadata": {
        "colab": {
          "base_uri": "https://localhost:8080/"
        },
        "id": "vKKdr3B1g0pR",
        "outputId": "66c6ae69-ad57-4bf6-aa7e-92c54d97e75f"
      },
      "execution_count": 102,
      "outputs": [
        {
          "output_type": "execute_result",
          "data": {
            "text/plain": [
              "array([   0,    0,    0,    0,   60, 3213, 3851, 6718], dtype=int32)"
            ]
          },
          "metadata": {},
          "execution_count": 102
        }
      ]
    },
    {
      "cell_type": "code",
      "source": [
        "print(model.predict(embedded_docs)[0])"
      ],
      "metadata": {
        "colab": {
          "base_uri": "https://localhost:8080/"
        },
        "id": "0JrwYZDAjMj0",
        "outputId": "847c37a6-f834-43d7-e115-2645a9dd650a"
      },
      "execution_count": 103,
      "outputs": [
        {
          "output_type": "stream",
          "name": "stdout",
          "text": [
            "1/1 [==============================] - 0s 13ms/step\n",
            "[[-0.01053866  0.00779831 -0.03539757 -0.04246053  0.02607495  0.03321674\n",
            "   0.04650969 -0.04511593 -0.03486379 -0.02792074]\n",
            " [-0.01053866  0.00779831 -0.03539757 -0.04246053  0.02607495  0.03321674\n",
            "   0.04650969 -0.04511593 -0.03486379 -0.02792074]\n",
            " [-0.01053866  0.00779831 -0.03539757 -0.04246053  0.02607495  0.03321674\n",
            "   0.04650969 -0.04511593 -0.03486379 -0.02792074]\n",
            " [-0.01053866  0.00779831 -0.03539757 -0.04246053  0.02607495  0.03321674\n",
            "   0.04650969 -0.04511593 -0.03486379 -0.02792074]\n",
            " [ 0.00836601  0.00814414 -0.01712896  0.01734373  0.02277407 -0.0367194\n",
            "  -0.02883312  0.0459929   0.00873052  0.04626245]\n",
            " [-0.01811395 -0.02689333 -0.02674539  0.00061687  0.04675669  0.02317642\n",
            "   0.03153678 -0.01485841  0.03527195  0.02218441]\n",
            " [-0.0436357   0.03267442 -0.00299769  0.02690214  0.02873241 -0.01455457\n",
            "   0.02239582 -0.00111525  0.02026743  0.01659402]\n",
            " [-0.02855709  0.03532175 -0.04431939  0.04544285 -0.00679753 -0.01910367\n",
            "  -0.0335505   0.02254362  0.00029442  0.04536163]]\n"
          ]
        }
      ]
    },
    {
      "cell_type": "code",
      "source": [],
      "metadata": {
        "id": "d77D-ehJ0ihb"
      },
      "execution_count": 103,
      "outputs": []
    },
    {
      "cell_type": "code",
      "source": [
        "#--------Loading the IMDB data for use with an Embedding layer"
      ],
      "metadata": {
        "id": "Nh5kfLB5ohJW"
      },
      "execution_count": 104,
      "outputs": []
    },
    {
      "cell_type": "code",
      "source": [],
      "metadata": {
        "id": "5ESmM2aA0VdE"
      },
      "execution_count": 104,
      "outputs": []
    },
    {
      "cell_type": "code",
      "source": [
        "import tensorflow as tf\n",
        "from keras.datasets import imdb\n",
        "from keras import preprocessing\n"
      ],
      "metadata": {
        "id": "6qzScpXeqFJg"
      },
      "execution_count": 105,
      "outputs": []
    },
    {
      "cell_type": "code",
      "source": [
        "#--------------------------Number of words to consider as features\n",
        "max_features = 10000\n",
        "\n",
        "#-------------Cuts off the text after this number of words (among the max_features most common words)\n",
        "maxlen = 20"
      ],
      "metadata": {
        "id": "RsbOF-Qtohre"
      },
      "execution_count": 106,
      "outputs": []
    },
    {
      "cell_type": "code",
      "source": [
        "#-------------------------------Loads the data as lists of integers\n",
        "(x_train,y_train),(x_test,y_test) = imdb.load_data(num_words=max_features)"
      ],
      "metadata": {
        "id": "PqQLW2srjjA4"
      },
      "execution_count": 107,
      "outputs": []
    },
    {
      "cell_type": "code",
      "source": [
        "x_train.shape"
      ],
      "metadata": {
        "colab": {
          "base_uri": "https://localhost:8080/"
        },
        "id": "Co85NLK0obvw",
        "outputId": "2ad9779e-a514-4d2b-8d2c-f9260a8d00a8"
      },
      "execution_count": 108,
      "outputs": [
        {
          "output_type": "execute_result",
          "data": {
            "text/plain": [
              "(25000,)"
            ]
          },
          "metadata": {},
          "execution_count": 108
        }
      ]
    },
    {
      "cell_type": "code",
      "source": [
        "y_train.shape"
      ],
      "metadata": {
        "colab": {
          "base_uri": "https://localhost:8080/"
        },
        "id": "IZkSFdXfprja",
        "outputId": "3ca8c0fc-f851-485e-a6c6-e8cc3bc79d9f"
      },
      "execution_count": 109,
      "outputs": [
        {
          "output_type": "execute_result",
          "data": {
            "text/plain": [
              "(25000,)"
            ]
          },
          "metadata": {},
          "execution_count": 109
        }
      ]
    },
    {
      "cell_type": "code",
      "source": [
        "#---------------Turns the lists of integers into a 2D integer tensor of shape (samples, maxlen)\n",
        "x_train = tf.keras.preprocessing.sequence.pad_sequences(x_train,maxlen=maxlen)\n",
        "x_test =  tf.keras.preprocessing.sequence.pad_sequences(x_test, maxlen=maxlen)"
      ],
      "metadata": {
        "id": "-8Zl4dlcqBRX"
      },
      "execution_count": 110,
      "outputs": []
    },
    {
      "cell_type": "code",
      "source": [
        "#--------------------Using an Embedding layer and classifier on the IMDB data"
      ],
      "metadata": {
        "id": "wn_L6Jrhsynm"
      },
      "execution_count": 111,
      "outputs": []
    },
    {
      "cell_type": "code",
      "source": [
        "from keras.models import Sequential\n",
        "from keras.layers import Flatten, Dense"
      ],
      "metadata": {
        "id": "zf8RSBuAujRj"
      },
      "execution_count": 112,
      "outputs": []
    },
    {
      "cell_type": "code",
      "source": [
        "model = Sequential()"
      ],
      "metadata": {
        "id": "hWljf-SPuvDY"
      },
      "execution_count": 113,
      "outputs": []
    },
    {
      "cell_type": "code",
      "source": [
        "#---------------Specifies the maximum input length to the Embedding layer \n",
        "#---------------so you can later flatten the embedded inputs. After the Embedding layer, \n",
        "#---------------the activations have shape (samples, maxlen, 8).\n",
        "\n",
        "model.add(Embedding(10000, 8, input_length=maxlen))"
      ],
      "metadata": {
        "id": "u0P_t62Jrvzb"
      },
      "execution_count": 114,
      "outputs": []
    },
    {
      "cell_type": "code",
      "source": [
        "#---------------Flattens the 3D tensor of embeddings into a 2D tensor of shape (samples, maxlen * 8)\n",
        "model.add(Flatten())"
      ],
      "metadata": {
        "id": "YX3wmyHju3Vj"
      },
      "execution_count": 115,
      "outputs": []
    },
    {
      "cell_type": "code",
      "source": [
        "#---------------------------Adds the classifier on top\n",
        "model.add(Dense(1, activation='sigmoid'))\n",
        "model.compile(optimizer='rmsprop', loss='binary_crossentropy', metrics=['acc'])\n",
        "model.summary()\n"
      ],
      "metadata": {
        "id": "qYRYxo4vr047",
        "colab": {
          "base_uri": "https://localhost:8080/"
        },
        "outputId": "acf51807-a4a4-4d22-cd20-ce40891fd691"
      },
      "execution_count": 116,
      "outputs": [
        {
          "output_type": "stream",
          "name": "stdout",
          "text": [
            "Model: \"sequential_4\"\n",
            "_________________________________________________________________\n",
            " Layer (type)                Output Shape              Param #   \n",
            "=================================================================\n",
            " embedding_4 (Embedding)     (None, 20, 8)             80000     \n",
            "                                                                 \n",
            " flatten_1 (Flatten)         (None, 160)               0         \n",
            "                                                                 \n",
            " dense_1 (Dense)             (None, 1)                 161       \n",
            "                                                                 \n",
            "=================================================================\n",
            "Total params: 80,161\n",
            "Trainable params: 80,161\n",
            "Non-trainable params: 0\n",
            "_________________________________________________________________\n"
          ]
        }
      ]
    },
    {
      "cell_type": "code",
      "source": [
        "history = model.fit(x_train, y_train,\n",
        "epochs=10,\n",
        "batch_size=32,\n",
        "validation_split=0.2)"
      ],
      "metadata": {
        "id": "rvye5RqZr1bO",
        "colab": {
          "base_uri": "https://localhost:8080/"
        },
        "outputId": "c1c29c78-db04-4b7b-a29b-15e304301810"
      },
      "execution_count": 117,
      "outputs": [
        {
          "output_type": "stream",
          "name": "stdout",
          "text": [
            "Epoch 1/10\n",
            "625/625 [==============================] - 1s 2ms/step - loss: 0.6666 - acc: 0.6315 - val_loss: 0.6112 - val_acc: 0.7014\n",
            "Epoch 2/10\n",
            "625/625 [==============================] - 1s 1ms/step - loss: 0.5324 - acc: 0.7547 - val_loss: 0.5209 - val_acc: 0.7330\n",
            "Epoch 3/10\n",
            "625/625 [==============================] - 1s 1ms/step - loss: 0.4567 - acc: 0.7878 - val_loss: 0.4994 - val_acc: 0.7458\n",
            "Epoch 4/10\n",
            "625/625 [==============================] - 1s 1ms/step - loss: 0.4214 - acc: 0.8072 - val_loss: 0.4969 - val_acc: 0.7518\n",
            "Epoch 5/10\n",
            "625/625 [==============================] - 1s 1ms/step - loss: 0.3977 - acc: 0.8213 - val_loss: 0.4980 - val_acc: 0.7524\n",
            "Epoch 6/10\n",
            "625/625 [==============================] - 1s 1ms/step - loss: 0.3786 - acc: 0.8316 - val_loss: 0.5033 - val_acc: 0.7516\n",
            "Epoch 7/10\n",
            "625/625 [==============================] - 1s 1ms/step - loss: 0.3613 - acc: 0.8405 - val_loss: 0.5074 - val_acc: 0.7568\n",
            "Epoch 8/10\n",
            "625/625 [==============================] - 1s 1ms/step - loss: 0.3446 - acc: 0.8523 - val_loss: 0.5144 - val_acc: 0.7546\n",
            "Epoch 9/10\n",
            "625/625 [==============================] - 1s 2ms/step - loss: 0.3283 - acc: 0.8611 - val_loss: 0.5231 - val_acc: 0.7494\n",
            "Epoch 10/10\n",
            "625/625 [==============================] - 1s 1ms/step - loss: 0.3123 - acc: 0.8697 - val_loss: 0.5298 - val_acc: 0.7476\n"
          ]
        }
      ]
    },
    {
      "cell_type": "code",
      "source": [],
      "metadata": {
        "id": "p0H2V9Q5u96Z"
      },
      "execution_count": 118,
      "outputs": []
    },
    {
      "cell_type": "code",
      "source": [],
      "metadata": {
        "id": "X7VUF-sQ2dGz"
      },
      "execution_count": 118,
      "outputs": []
    }
  ]
}