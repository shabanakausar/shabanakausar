{
 "cells": [
  {
   "cell_type": "code",
   "execution_count": 1,
   "id": "67f0b1a2",
   "metadata": {
    "_cell_guid": "b1076dfc-b9ad-4769-8c92-a6c4dae69d19",
    "_uuid": "8f2839f25d086af736a60e9eeb907d3b93b6e0e5",
    "execution": {
     "iopub.execute_input": "2023-05-21T03:03:27.792719Z",
     "iopub.status.busy": "2023-05-21T03:03:27.792332Z",
     "iopub.status.idle": "2023-05-21T03:03:27.810783Z",
     "shell.execute_reply": "2023-05-21T03:03:27.809893Z"
    },
    "papermill": {
     "duration": 0.042023,
     "end_time": "2023-05-21T03:03:27.813349",
     "exception": false,
     "start_time": "2023-05-21T03:03:27.771326",
     "status": "completed"
    },
    "tags": []
   },
   "outputs": [
    {
     "name": "stdout",
     "output_type": "stream",
     "text": [
      "/kaggle/input/iris/Iris.csv\n",
      "/kaggle/input/iris/database.sqlite\n"
     ]
    }
   ],
   "source": [
    "# This Python 3 environment comes with many helpful analytics libraries installed\n",
    "# It is defined by the kaggle/python Docker image: https://github.com/kaggle/docker-python\n",
    "# For example, here's several helpful packages to load\n",
    "\n",
    "import numpy as np # linear algebra\n",
    "import pandas as pd # data processing, CSV file I/O (e.g. pd.read_csv)\n",
    "\n",
    "# Input data files are available in the read-only \"../input/\" directory\n",
    "# For example, running this (by clicking run or pressing Shift+Enter) will list all files under the input directory\n",
    "\n",
    "import os\n",
    "for dirname, _, filenames in os.walk('/kaggle/input'):\n",
    "    for filename in filenames:\n",
    "        print(os.path.join(dirname, filename))\n",
    "\n",
    "# You can write up to 20GB to the current directory (/kaggle/working/) that gets preserved as output when you create a version using \"Save & Run All\" \n",
    "# You can also write temporary files to /kaggle/temp/, but they won't be saved outside of the current session"
   ]
  },
  {
   "cell_type": "markdown",
   "id": "25bf55b2",
   "metadata": {
    "papermill": {
     "duration": 0.016419,
     "end_time": "2023-05-21T03:03:27.846917",
     "exception": false,
     "start_time": "2023-05-21T03:03:27.830498",
     "status": "completed"
    },
    "tags": []
   },
   "source": [
    "# Scalling in Machine Learning\n",
    "* Feature scaling is about transforming the values of different numerical features to fall within a similar range like each other. The feature scaling is used to prevent the supervised learning models from getting biased toward a specific range of values. For example, if your model is based on linear regression and you do not scale features, then some features may have a higher impact than others which will affect the performance of predictions by giving undue advantage for some variables over others.\n",
    "\n",
    "* Data Scaling is a common preprocessing step in Machine Learning that involves\n",
    "transforming the input variables to a similar scale or distribution. This can\n",
    "improve the performance and stability of some Machine Learning algorithm.\n",
    "* Scaling is especially important for distance-based algorithms, such as k-nearest neighbors (KNN) or support vector machines (SVM), where the distance between data points affects the model's performance. Scaling also aids gradient descent-based optimization algorithms, like in neural networks, by allowing faster convergence and preventing one feature from dominating the learning process.\n",
    "\n",
    "* It's a good practice to perform scaling during the preprocessing phase before training a machine learning model to ensure the features are on a similar scale and contribute fairly to the model's learning process.There are eight scalling techniques.\n"
   ]
  },
  {
   "cell_type": "markdown",
   "id": "648e311c",
   "metadata": {
    "papermill": {
     "duration": 0.016427,
     "end_time": "2023-05-21T03:03:27.879976",
     "exception": false,
     "start_time": "2023-05-21T03:03:27.863549",
     "status": "completed"
    },
    "tags": []
   },
   "source": [
    "# 1. Standard Scalar\n",
    "* Standardization scales each input variable separately by subtracting the mean (called centering) and dividing by the standard deviation to shift the distribution to have a mean of zero and a standard deviation of one.\n",
    "* The Scale Data Matters\n",
    "Machine learning models learn a mapping from input variables to an output variable.\n",
    "As such, the scale and distribution of the data drawn from the domain may be different for each variable.\n",
    "Input variables may have different units (e.g. feet, kilometers, and hours) that, in turn, may mean the variables have different scales.\n",
    "\n",
    "* Differences in the scales across input variables may increase the difficulty of the problem being modeled. An example of this is that large input values (e.g. a spread of hundreds or thousands of units) can result in a model that learns large weight values. A model with large weight values is often unstable, meaning that it may suffer from poor performance during learning and sensitivity to input values resulting in higher generalization error."
   ]
  },
  {
   "cell_type": "code",
   "execution_count": 2,
   "id": "d9b48c42",
   "metadata": {
    "execution": {
     "iopub.execute_input": "2023-05-21T03:03:27.915347Z",
     "iopub.status.busy": "2023-05-21T03:03:27.914479Z",
     "iopub.status.idle": "2023-05-21T03:03:29.473155Z",
     "shell.execute_reply": "2023-05-21T03:03:29.471945Z"
    },
    "papermill": {
     "duration": 1.579548,
     "end_time": "2023-05-21T03:03:29.476004",
     "exception": false,
     "start_time": "2023-05-21T03:03:27.896456",
     "status": "completed"
    },
    "tags": []
   },
   "outputs": [
    {
     "name": "stderr",
     "output_type": "stream",
     "text": [
      "/opt/conda/lib/python3.10/site-packages/scipy/__init__.py:146: UserWarning: A NumPy version >=1.16.5 and <1.23.0 is required for this version of SciPy (detected version 1.23.5\n",
      "  warnings.warn(f\"A NumPy version >={np_minversion} and <{np_maxversion}\"\n"
     ]
    }
   ],
   "source": [
    "# import Libraries\n",
    "import numpy as np\n",
    "import pandas as pd\n",
    "import seaborn as sns\n",
    "import matplotlib.pyplot as plt\n",
    "from sklearn.model_selection import train_test_split\n",
    "from sklearn.preprocessing import StandardScaler"
   ]
  },
  {
   "cell_type": "code",
   "execution_count": 3,
   "id": "e8604a56",
   "metadata": {
    "execution": {
     "iopub.execute_input": "2023-05-21T03:03:29.512487Z",
     "iopub.status.busy": "2023-05-21T03:03:29.512032Z",
     "iopub.status.idle": "2023-05-21T03:03:29.561298Z",
     "shell.execute_reply": "2023-05-21T03:03:29.560318Z"
    },
    "papermill": {
     "duration": 0.070831,
     "end_time": "2023-05-21T03:03:29.563587",
     "exception": false,
     "start_time": "2023-05-21T03:03:29.492756",
     "status": "completed"
    },
    "tags": []
   },
   "outputs": [
    {
     "data": {
      "text/html": [
       "<div>\n",
       "<style scoped>\n",
       "    .dataframe tbody tr th:only-of-type {\n",
       "        vertical-align: middle;\n",
       "    }\n",
       "\n",
       "    .dataframe tbody tr th {\n",
       "        vertical-align: top;\n",
       "    }\n",
       "\n",
       "    .dataframe thead th {\n",
       "        text-align: right;\n",
       "    }\n",
       "</style>\n",
       "<table border=\"1\" class=\"dataframe\">\n",
       "  <thead>\n",
       "    <tr style=\"text-align: right;\">\n",
       "      <th></th>\n",
       "      <th>Id</th>\n",
       "      <th>SepalLengthCm</th>\n",
       "      <th>SepalWidthCm</th>\n",
       "      <th>PetalLengthCm</th>\n",
       "      <th>PetalWidthCm</th>\n",
       "      <th>Species</th>\n",
       "    </tr>\n",
       "  </thead>\n",
       "  <tbody>\n",
       "    <tr>\n",
       "      <th>0</th>\n",
       "      <td>1</td>\n",
       "      <td>5.1</td>\n",
       "      <td>3.5</td>\n",
       "      <td>1.4</td>\n",
       "      <td>0.2</td>\n",
       "      <td>Iris-setosa</td>\n",
       "    </tr>\n",
       "    <tr>\n",
       "      <th>1</th>\n",
       "      <td>2</td>\n",
       "      <td>4.9</td>\n",
       "      <td>3.0</td>\n",
       "      <td>1.4</td>\n",
       "      <td>0.2</td>\n",
       "      <td>Iris-setosa</td>\n",
       "    </tr>\n",
       "    <tr>\n",
       "      <th>2</th>\n",
       "      <td>3</td>\n",
       "      <td>4.7</td>\n",
       "      <td>3.2</td>\n",
       "      <td>1.3</td>\n",
       "      <td>0.2</td>\n",
       "      <td>Iris-setosa</td>\n",
       "    </tr>\n",
       "    <tr>\n",
       "      <th>3</th>\n",
       "      <td>4</td>\n",
       "      <td>4.6</td>\n",
       "      <td>3.1</td>\n",
       "      <td>1.5</td>\n",
       "      <td>0.2</td>\n",
       "      <td>Iris-setosa</td>\n",
       "    </tr>\n",
       "    <tr>\n",
       "      <th>4</th>\n",
       "      <td>5</td>\n",
       "      <td>5.0</td>\n",
       "      <td>3.6</td>\n",
       "      <td>1.4</td>\n",
       "      <td>0.2</td>\n",
       "      <td>Iris-setosa</td>\n",
       "    </tr>\n",
       "  </tbody>\n",
       "</table>\n",
       "</div>"
      ],
      "text/plain": [
       "   Id  SepalLengthCm  SepalWidthCm  PetalLengthCm  PetalWidthCm      Species\n",
       "0   1            5.1           3.5            1.4           0.2  Iris-setosa\n",
       "1   2            4.9           3.0            1.4           0.2  Iris-setosa\n",
       "2   3            4.7           3.2            1.3           0.2  Iris-setosa\n",
       "3   4            4.6           3.1            1.5           0.2  Iris-setosa\n",
       "4   5            5.0           3.6            1.4           0.2  Iris-setosa"
      ]
     },
     "execution_count": 3,
     "metadata": {},
     "output_type": "execute_result"
    }
   ],
   "source": [
    "df = pd.read_csv('/kaggle/input/iris/Iris.csv')\n",
    "df.head()"
   ]
  },
  {
   "cell_type": "code",
   "execution_count": 4,
   "id": "b916c7e8",
   "metadata": {
    "execution": {
     "iopub.execute_input": "2023-05-21T03:03:29.599293Z",
     "iopub.status.busy": "2023-05-21T03:03:29.598831Z",
     "iopub.status.idle": "2023-05-21T03:03:29.627790Z",
     "shell.execute_reply": "2023-05-21T03:03:29.626552Z"
    },
    "papermill": {
     "duration": 0.049711,
     "end_time": "2023-05-21T03:03:29.630310",
     "exception": false,
     "start_time": "2023-05-21T03:03:29.580599",
     "status": "completed"
    },
    "tags": []
   },
   "outputs": [
    {
     "name": "stdout",
     "output_type": "stream",
     "text": [
      "<class 'pandas.core.frame.DataFrame'>\n",
      "RangeIndex: 150 entries, 0 to 149\n",
      "Data columns (total 6 columns):\n",
      " #   Column         Non-Null Count  Dtype  \n",
      "---  ------         --------------  -----  \n",
      " 0   Id             150 non-null    int64  \n",
      " 1   SepalLengthCm  150 non-null    float64\n",
      " 2   SepalWidthCm   150 non-null    float64\n",
      " 3   PetalLengthCm  150 non-null    float64\n",
      " 4   PetalWidthCm   150 non-null    float64\n",
      " 5   Species        150 non-null    object \n",
      "dtypes: float64(4), int64(1), object(1)\n",
      "memory usage: 7.2+ KB\n"
     ]
    }
   ],
   "source": [
    "df.info()"
   ]
  },
  {
   "cell_type": "code",
   "execution_count": 5,
   "id": "b96b44af",
   "metadata": {
    "execution": {
     "iopub.execute_input": "2023-05-21T03:03:29.671091Z",
     "iopub.status.busy": "2023-05-21T03:03:29.670350Z",
     "iopub.status.idle": "2023-05-21T03:03:29.678782Z",
     "shell.execute_reply": "2023-05-21T03:03:29.677663Z"
    },
    "papermill": {
     "duration": 0.031997,
     "end_time": "2023-05-21T03:03:29.681389",
     "exception": false,
     "start_time": "2023-05-21T03:03:29.649392",
     "status": "completed"
    },
    "tags": []
   },
   "outputs": [
    {
     "data": {
      "text/plain": [
       "Id                 int64\n",
       "SepalLengthCm    float64\n",
       "SepalWidthCm     float64\n",
       "PetalLengthCm    float64\n",
       "PetalWidthCm     float64\n",
       "Species           object\n",
       "dtype: object"
      ]
     },
     "execution_count": 5,
     "metadata": {},
     "output_type": "execute_result"
    }
   ],
   "source": [
    "df.dtypes"
   ]
  },
  {
   "cell_type": "code",
   "execution_count": 6,
   "id": "e0408963",
   "metadata": {
    "execution": {
     "iopub.execute_input": "2023-05-21T03:03:29.718082Z",
     "iopub.status.busy": "2023-05-21T03:03:29.717642Z",
     "iopub.status.idle": "2023-05-21T03:03:29.724653Z",
     "shell.execute_reply": "2023-05-21T03:03:29.723512Z"
    },
    "papermill": {
     "duration": 0.028502,
     "end_time": "2023-05-21T03:03:29.727069",
     "exception": false,
     "start_time": "2023-05-21T03:03:29.698567",
     "status": "completed"
    },
    "tags": []
   },
   "outputs": [
    {
     "data": {
      "text/plain": [
       "(150, 6)"
      ]
     },
     "execution_count": 6,
     "metadata": {},
     "output_type": "execute_result"
    }
   ],
   "source": [
    "df.shape"
   ]
  },
  {
   "cell_type": "code",
   "execution_count": 7,
   "id": "04ad65f0",
   "metadata": {
    "execution": {
     "iopub.execute_input": "2023-05-21T03:03:29.764013Z",
     "iopub.status.busy": "2023-05-21T03:03:29.763591Z",
     "iopub.status.idle": "2023-05-21T03:03:29.793832Z",
     "shell.execute_reply": "2023-05-21T03:03:29.792663Z"
    },
    "papermill": {
     "duration": 0.051596,
     "end_time": "2023-05-21T03:03:29.796419",
     "exception": false,
     "start_time": "2023-05-21T03:03:29.744823",
     "status": "completed"
    },
    "tags": []
   },
   "outputs": [
    {
     "data": {
      "text/html": [
       "<div>\n",
       "<style scoped>\n",
       "    .dataframe tbody tr th:only-of-type {\n",
       "        vertical-align: middle;\n",
       "    }\n",
       "\n",
       "    .dataframe tbody tr th {\n",
       "        vertical-align: top;\n",
       "    }\n",
       "\n",
       "    .dataframe thead th {\n",
       "        text-align: right;\n",
       "    }\n",
       "</style>\n",
       "<table border=\"1\" class=\"dataframe\">\n",
       "  <thead>\n",
       "    <tr style=\"text-align: right;\">\n",
       "      <th></th>\n",
       "      <th>Id</th>\n",
       "      <th>SepalLengthCm</th>\n",
       "      <th>SepalWidthCm</th>\n",
       "      <th>PetalLengthCm</th>\n",
       "      <th>PetalWidthCm</th>\n",
       "    </tr>\n",
       "  </thead>\n",
       "  <tbody>\n",
       "    <tr>\n",
       "      <th>count</th>\n",
       "      <td>150.000000</td>\n",
       "      <td>150.000000</td>\n",
       "      <td>150.000000</td>\n",
       "      <td>150.000000</td>\n",
       "      <td>150.000000</td>\n",
       "    </tr>\n",
       "    <tr>\n",
       "      <th>mean</th>\n",
       "      <td>75.500000</td>\n",
       "      <td>5.843333</td>\n",
       "      <td>3.054000</td>\n",
       "      <td>3.758667</td>\n",
       "      <td>1.198667</td>\n",
       "    </tr>\n",
       "    <tr>\n",
       "      <th>std</th>\n",
       "      <td>43.445368</td>\n",
       "      <td>0.828066</td>\n",
       "      <td>0.433594</td>\n",
       "      <td>1.764420</td>\n",
       "      <td>0.763161</td>\n",
       "    </tr>\n",
       "    <tr>\n",
       "      <th>min</th>\n",
       "      <td>1.000000</td>\n",
       "      <td>4.300000</td>\n",
       "      <td>2.000000</td>\n",
       "      <td>1.000000</td>\n",
       "      <td>0.100000</td>\n",
       "    </tr>\n",
       "    <tr>\n",
       "      <th>25%</th>\n",
       "      <td>38.250000</td>\n",
       "      <td>5.100000</td>\n",
       "      <td>2.800000</td>\n",
       "      <td>1.600000</td>\n",
       "      <td>0.300000</td>\n",
       "    </tr>\n",
       "    <tr>\n",
       "      <th>50%</th>\n",
       "      <td>75.500000</td>\n",
       "      <td>5.800000</td>\n",
       "      <td>3.000000</td>\n",
       "      <td>4.350000</td>\n",
       "      <td>1.300000</td>\n",
       "    </tr>\n",
       "    <tr>\n",
       "      <th>75%</th>\n",
       "      <td>112.750000</td>\n",
       "      <td>6.400000</td>\n",
       "      <td>3.300000</td>\n",
       "      <td>5.100000</td>\n",
       "      <td>1.800000</td>\n",
       "    </tr>\n",
       "    <tr>\n",
       "      <th>max</th>\n",
       "      <td>150.000000</td>\n",
       "      <td>7.900000</td>\n",
       "      <td>4.400000</td>\n",
       "      <td>6.900000</td>\n",
       "      <td>2.500000</td>\n",
       "    </tr>\n",
       "  </tbody>\n",
       "</table>\n",
       "</div>"
      ],
      "text/plain": [
       "               Id  SepalLengthCm  SepalWidthCm  PetalLengthCm  PetalWidthCm\n",
       "count  150.000000     150.000000    150.000000     150.000000    150.000000\n",
       "mean    75.500000       5.843333      3.054000       3.758667      1.198667\n",
       "std     43.445368       0.828066      0.433594       1.764420      0.763161\n",
       "min      1.000000       4.300000      2.000000       1.000000      0.100000\n",
       "25%     38.250000       5.100000      2.800000       1.600000      0.300000\n",
       "50%     75.500000       5.800000      3.000000       4.350000      1.300000\n",
       "75%    112.750000       6.400000      3.300000       5.100000      1.800000\n",
       "max    150.000000       7.900000      4.400000       6.900000      2.500000"
      ]
     },
     "execution_count": 7,
     "metadata": {},
     "output_type": "execute_result"
    }
   ],
   "source": [
    "df.describe()"
   ]
  },
  {
   "cell_type": "code",
   "execution_count": 8,
   "id": "5fdb3324",
   "metadata": {
    "execution": {
     "iopub.execute_input": "2023-05-21T03:03:29.834357Z",
     "iopub.status.busy": "2023-05-21T03:03:29.833950Z",
     "iopub.status.idle": "2023-05-21T03:03:29.840626Z",
     "shell.execute_reply": "2023-05-21T03:03:29.839782Z"
    },
    "papermill": {
     "duration": 0.028241,
     "end_time": "2023-05-21T03:03:29.842670",
     "exception": false,
     "start_time": "2023-05-21T03:03:29.814429",
     "status": "completed"
    },
    "tags": []
   },
   "outputs": [],
   "source": [
    "X = df.iloc[:,:-1]\n",
    "y = df.iloc[:,-1]"
   ]
  },
  {
   "cell_type": "code",
   "execution_count": 9,
   "id": "3ab779fa",
   "metadata": {
    "execution": {
     "iopub.execute_input": "2023-05-21T03:03:29.880220Z",
     "iopub.status.busy": "2023-05-21T03:03:29.879464Z",
     "iopub.status.idle": "2023-05-21T03:03:29.887163Z",
     "shell.execute_reply": "2023-05-21T03:03:29.885981Z"
    },
    "papermill": {
     "duration": 0.029385,
     "end_time": "2023-05-21T03:03:29.889976",
     "exception": false,
     "start_time": "2023-05-21T03:03:29.860591",
     "status": "completed"
    },
    "tags": []
   },
   "outputs": [],
   "source": [
    "# Split the dataset into train and test\n",
    "X_train, X_test, y_train, y_test = train_test_split(X,y, test_size=0.2, random_state=42)"
   ]
  },
  {
   "cell_type": "code",
   "execution_count": 10,
   "id": "1fe41642",
   "metadata": {
    "execution": {
     "iopub.execute_input": "2023-05-21T03:03:29.927433Z",
     "iopub.status.busy": "2023-05-21T03:03:29.926597Z",
     "iopub.status.idle": "2023-05-21T03:03:29.931595Z",
     "shell.execute_reply": "2023-05-21T03:03:29.930833Z"
    },
    "papermill": {
     "duration": 0.026414,
     "end_time": "2023-05-21T03:03:29.933892",
     "exception": false,
     "start_time": "2023-05-21T03:03:29.907478",
     "status": "completed"
    },
    "tags": []
   },
   "outputs": [],
   "source": [
    "# Perform Feature Scaling\n",
    "scaler = StandardScaler()"
   ]
  },
  {
   "cell_type": "code",
   "execution_count": 11,
   "id": "1e42bfb8",
   "metadata": {
    "execution": {
     "iopub.execute_input": "2023-05-21T03:03:29.973050Z",
     "iopub.status.busy": "2023-05-21T03:03:29.972253Z",
     "iopub.status.idle": "2023-05-21T03:03:29.982918Z",
     "shell.execute_reply": "2023-05-21T03:03:29.982063Z"
    },
    "papermill": {
     "duration": 0.032464,
     "end_time": "2023-05-21T03:03:29.985521",
     "exception": false,
     "start_time": "2023-05-21T03:03:29.953057",
     "status": "completed"
    },
    "tags": []
   },
   "outputs": [],
   "source": [
    "# Fit the StandardScalar\n",
    "X_train_scaled = scaler.fit_transform(X_train)\n",
    "X_test_scaled = scaler.transform(X_test)"
   ]
  },
  {
   "cell_type": "code",
   "execution_count": 12,
   "id": "591f29bd",
   "metadata": {
    "execution": {
     "iopub.execute_input": "2023-05-21T03:03:30.024787Z",
     "iopub.status.busy": "2023-05-21T03:03:30.023983Z",
     "iopub.status.idle": "2023-05-21T03:03:30.034512Z",
     "shell.execute_reply": "2023-05-21T03:03:30.032940Z"
    },
    "papermill": {
     "duration": 0.032898,
     "end_time": "2023-05-21T03:03:30.037127",
     "exception": false,
     "start_time": "2023-05-21T03:03:30.004229",
     "status": "completed"
    },
    "tags": []
   },
   "outputs": [
    {
     "name": "stdout",
     "output_type": "stream",
     "text": [
      "X_train Id               1.0\n",
      "SepalLengthCm    4.3\n",
      "SepalWidthCm     2.0\n",
      "PetalLengthCm    1.0\n",
      "PetalWidthCm     0.1\n",
      "dtype: float64 - Id               150.0\n",
      "SepalLengthCm      7.7\n",
      "SepalWidthCm       4.4\n",
      "PetalLengthCm      6.7\n",
      "PetalWidthCm       2.5\n",
      "dtype: float64\n"
     ]
    }
   ],
   "source": [
    "# Print Minimum and Maximum values\n",
    "print('X_train', X_train.min(),'-',X_train.max())"
   ]
  },
  {
   "cell_type": "code",
   "execution_count": 13,
   "id": "cffbc1a6",
   "metadata": {
    "execution": {
     "iopub.execute_input": "2023-05-21T03:03:30.075649Z",
     "iopub.status.busy": "2023-05-21T03:03:30.074896Z",
     "iopub.status.idle": "2023-05-21T03:03:30.080609Z",
     "shell.execute_reply": "2023-05-21T03:03:30.079435Z"
    },
    "papermill": {
     "duration": 0.027732,
     "end_time": "2023-05-21T03:03:30.082981",
     "exception": false,
     "start_time": "2023-05-21T03:03:30.055249",
     "status": "completed"
    },
    "tags": []
   },
   "outputs": [
    {
     "name": "stdout",
     "output_type": "stream",
     "text": [
      "X_train_scaled(Standard Scalar): -2.3788960166206907 - 3.020016928901447\n"
     ]
    }
   ],
   "source": [
    "# Print Minimum and Maximum values of scaled values\n",
    "print('X_train_scaled(Standard Scalar):',X_train_scaled.min(),'-',X_train_scaled.max())"
   ]
  },
  {
   "cell_type": "markdown",
   "id": "9cbe1699",
   "metadata": {
    "papermill": {
     "duration": 0.01803,
     "end_time": "2023-05-21T03:03:30.119074",
     "exception": false,
     "start_time": "2023-05-21T03:03:30.101044",
     "status": "completed"
    },
    "tags": []
   },
   "source": [
    "# 2. Min-Max Scalar\n",
    "* MinMaxScaler scales the data to a fixed range, typically between 0 and 1. On the other hand, StandardScaler rescales the data to have a mean of 0 and a standard deviation of 1. This results in a distribution with zero mean and unit variance. The choice between MinMaxScaler and StandardScaler depends on the data distribution, the nature of the analysis, and the algorithm being used.\n",
    "\n",
    "* MinMaxScaler is useful when the data has a bounded range or when the distribution is not Gaussian. For example, in image processing, pixel values are typically in the range of 0-255. Scaling these values using MinMaxScaler ensures that the values are within a fixed range and contributes equally to the analysis."
   ]
  },
  {
   "cell_type": "code",
   "execution_count": 14,
   "id": "2d9dff12",
   "metadata": {
    "execution": {
     "iopub.execute_input": "2023-05-21T03:03:30.157383Z",
     "iopub.status.busy": "2023-05-21T03:03:30.156997Z",
     "iopub.status.idle": "2023-05-21T03:03:30.176347Z",
     "shell.execute_reply": "2023-05-21T03:03:30.175072Z"
    },
    "papermill": {
     "duration": 0.041854,
     "end_time": "2023-05-21T03:03:30.178905",
     "exception": false,
     "start_time": "2023-05-21T03:03:30.137051",
     "status": "completed"
    },
    "tags": []
   },
   "outputs": [
    {
     "data": {
      "text/html": [
       "<div>\n",
       "<style scoped>\n",
       "    .dataframe tbody tr th:only-of-type {\n",
       "        vertical-align: middle;\n",
       "    }\n",
       "\n",
       "    .dataframe tbody tr th {\n",
       "        vertical-align: top;\n",
       "    }\n",
       "\n",
       "    .dataframe thead th {\n",
       "        text-align: right;\n",
       "    }\n",
       "</style>\n",
       "<table border=\"1\" class=\"dataframe\">\n",
       "  <thead>\n",
       "    <tr style=\"text-align: right;\">\n",
       "      <th></th>\n",
       "      <th>Id</th>\n",
       "      <th>SepalLengthCm</th>\n",
       "      <th>SepalWidthCm</th>\n",
       "      <th>PetalLengthCm</th>\n",
       "      <th>PetalWidthCm</th>\n",
       "      <th>Species</th>\n",
       "    </tr>\n",
       "  </thead>\n",
       "  <tbody>\n",
       "    <tr>\n",
       "      <th>0</th>\n",
       "      <td>1</td>\n",
       "      <td>5.1</td>\n",
       "      <td>3.5</td>\n",
       "      <td>1.4</td>\n",
       "      <td>0.2</td>\n",
       "      <td>Iris-setosa</td>\n",
       "    </tr>\n",
       "    <tr>\n",
       "      <th>1</th>\n",
       "      <td>2</td>\n",
       "      <td>4.9</td>\n",
       "      <td>3.0</td>\n",
       "      <td>1.4</td>\n",
       "      <td>0.2</td>\n",
       "      <td>Iris-setosa</td>\n",
       "    </tr>\n",
       "    <tr>\n",
       "      <th>2</th>\n",
       "      <td>3</td>\n",
       "      <td>4.7</td>\n",
       "      <td>3.2</td>\n",
       "      <td>1.3</td>\n",
       "      <td>0.2</td>\n",
       "      <td>Iris-setosa</td>\n",
       "    </tr>\n",
       "    <tr>\n",
       "      <th>3</th>\n",
       "      <td>4</td>\n",
       "      <td>4.6</td>\n",
       "      <td>3.1</td>\n",
       "      <td>1.5</td>\n",
       "      <td>0.2</td>\n",
       "      <td>Iris-setosa</td>\n",
       "    </tr>\n",
       "    <tr>\n",
       "      <th>4</th>\n",
       "      <td>5</td>\n",
       "      <td>5.0</td>\n",
       "      <td>3.6</td>\n",
       "      <td>1.4</td>\n",
       "      <td>0.2</td>\n",
       "      <td>Iris-setosa</td>\n",
       "    </tr>\n",
       "  </tbody>\n",
       "</table>\n",
       "</div>"
      ],
      "text/plain": [
       "   Id  SepalLengthCm  SepalWidthCm  PetalLengthCm  PetalWidthCm      Species\n",
       "0   1            5.1           3.5            1.4           0.2  Iris-setosa\n",
       "1   2            4.9           3.0            1.4           0.2  Iris-setosa\n",
       "2   3            4.7           3.2            1.3           0.2  Iris-setosa\n",
       "3   4            4.6           3.1            1.5           0.2  Iris-setosa\n",
       "4   5            5.0           3.6            1.4           0.2  Iris-setosa"
      ]
     },
     "execution_count": 14,
     "metadata": {},
     "output_type": "execute_result"
    }
   ],
   "source": [
    "df1 = pd.read_csv('/kaggle/input/iris/Iris.csv')\n",
    "df1.head()"
   ]
  },
  {
   "cell_type": "code",
   "execution_count": 15,
   "id": "da046166",
   "metadata": {
    "execution": {
     "iopub.execute_input": "2023-05-21T03:03:30.218880Z",
     "iopub.status.busy": "2023-05-21T03:03:30.218446Z",
     "iopub.status.idle": "2023-05-21T03:03:30.225095Z",
     "shell.execute_reply": "2023-05-21T03:03:30.223885Z"
    },
    "papermill": {
     "duration": 0.029746,
     "end_time": "2023-05-21T03:03:30.227709",
     "exception": false,
     "start_time": "2023-05-21T03:03:30.197963",
     "status": "completed"
    },
    "tags": []
   },
   "outputs": [],
   "source": [
    "X = df1.iloc[:,:-1]\n",
    "y = df1.iloc[:,-1]"
   ]
  },
  {
   "cell_type": "code",
   "execution_count": 16,
   "id": "416109d6",
   "metadata": {
    "execution": {
     "iopub.execute_input": "2023-05-21T03:03:30.266800Z",
     "iopub.status.busy": "2023-05-21T03:03:30.266310Z",
     "iopub.status.idle": "2023-05-21T03:03:30.275559Z",
     "shell.execute_reply": "2023-05-21T03:03:30.274113Z"
    },
    "papermill": {
     "duration": 0.032633,
     "end_time": "2023-05-21T03:03:30.278694",
     "exception": false,
     "start_time": "2023-05-21T03:03:30.246061",
     "status": "completed"
    },
    "tags": []
   },
   "outputs": [],
   "source": [
    "# Split the dataset into train and test\n",
    "X_train, X_test, y_train, y_test = train_test_split(X,y, test_size=0.2, random_state=42)"
   ]
  },
  {
   "cell_type": "code",
   "execution_count": 17,
   "id": "d420fe51",
   "metadata": {
    "execution": {
     "iopub.execute_input": "2023-05-21T03:03:30.317955Z",
     "iopub.status.busy": "2023-05-21T03:03:30.317505Z",
     "iopub.status.idle": "2023-05-21T03:03:30.323561Z",
     "shell.execute_reply": "2023-05-21T03:03:30.322301Z"
    },
    "papermill": {
     "duration": 0.02852,
     "end_time": "2023-05-21T03:03:30.326279",
     "exception": false,
     "start_time": "2023-05-21T03:03:30.297759",
     "status": "completed"
    },
    "tags": []
   },
   "outputs": [],
   "source": [
    "# Perform Feature Scaling\n",
    "from sklearn.preprocessing import MinMaxScaler\n",
    "scaler = MinMaxScaler()"
   ]
  },
  {
   "cell_type": "code",
   "execution_count": 18,
   "id": "c922646c",
   "metadata": {
    "execution": {
     "iopub.execute_input": "2023-05-21T03:03:30.365475Z",
     "iopub.status.busy": "2023-05-21T03:03:30.365036Z",
     "iopub.status.idle": "2023-05-21T03:03:30.376791Z",
     "shell.execute_reply": "2023-05-21T03:03:30.375676Z"
    },
    "papermill": {
     "duration": 0.035266,
     "end_time": "2023-05-21T03:03:30.380536",
     "exception": false,
     "start_time": "2023-05-21T03:03:30.345270",
     "status": "completed"
    },
    "tags": []
   },
   "outputs": [],
   "source": [
    "# Fit the StandardScalar\n",
    "X_train_scaled = scaler.fit_transform(X_train)\n",
    "X_test_scaled = scaler.transform(X_test)"
   ]
  },
  {
   "cell_type": "code",
   "execution_count": 19,
   "id": "a3d1023a",
   "metadata": {
    "execution": {
     "iopub.execute_input": "2023-05-21T03:03:30.419915Z",
     "iopub.status.busy": "2023-05-21T03:03:30.419452Z",
     "iopub.status.idle": "2023-05-21T03:03:30.429591Z",
     "shell.execute_reply": "2023-05-21T03:03:30.428408Z"
    },
    "papermill": {
     "duration": 0.032534,
     "end_time": "2023-05-21T03:03:30.432017",
     "exception": false,
     "start_time": "2023-05-21T03:03:30.399483",
     "status": "completed"
    },
    "tags": []
   },
   "outputs": [
    {
     "name": "stdout",
     "output_type": "stream",
     "text": [
      "X_train Id               1.0\n",
      "SepalLengthCm    4.3\n",
      "SepalWidthCm     2.0\n",
      "PetalLengthCm    1.0\n",
      "PetalWidthCm     0.1\n",
      "dtype: float64 - Id               150.0\n",
      "SepalLengthCm      7.7\n",
      "SepalWidthCm       4.4\n",
      "PetalLengthCm      6.7\n",
      "PetalWidthCm       2.5\n",
      "dtype: float64\n"
     ]
    }
   ],
   "source": [
    "# Print Minimum and Maximum values\n",
    "print('X_train', X_train.min(),'-',X_train.max())"
   ]
  },
  {
   "cell_type": "code",
   "execution_count": 20,
   "id": "3967e0b9",
   "metadata": {
    "execution": {
     "iopub.execute_input": "2023-05-21T03:03:30.470751Z",
     "iopub.status.busy": "2023-05-21T03:03:30.470354Z",
     "iopub.status.idle": "2023-05-21T03:03:30.476634Z",
     "shell.execute_reply": "2023-05-21T03:03:30.475469Z"
    },
    "papermill": {
     "duration": 0.028736,
     "end_time": "2023-05-21T03:03:30.479260",
     "exception": false,
     "start_time": "2023-05-21T03:03:30.450524",
     "status": "completed"
    },
    "tags": []
   },
   "outputs": [
    {
     "name": "stdout",
     "output_type": "stream",
     "text": [
      "X_train_scaled(Min Max Scaler): 0.0 - 1.0\n"
     ]
    }
   ],
   "source": [
    "# Print Minimum and Maximum values of scaled values\n",
    "print('X_train_scaled(Min Max Scaler):',X_train_scaled.min(),'-',X_train_scaled.max())"
   ]
  },
  {
   "cell_type": "markdown",
   "id": "8a6e3e13",
   "metadata": {
    "papermill": {
     "duration": 0.01852,
     "end_time": "2023-05-21T03:03:30.516411",
     "exception": false,
     "start_time": "2023-05-21T03:03:30.497891",
     "status": "completed"
    },
    "tags": []
   },
   "source": [
    "# Robust Scalar\n",
    "* Scaling dataset with robust scaler. \n",
    "Scale features using statistics that are robust to outliers.\n",
    "This Scaler removes the median and scales the data according to the quantile range (defaults to IQR: Interquartile Range). The IQR is the range between the 1st quartile (25th quantile) and the 3rd quartile (75th quantile)\n",
    "Centering and scaling happen independently on each feature by computing the relevant statistics on the samples in the training set. Median and interquartile range are then stored to be used on later data using the transform method.\n",
    "*  Standardization can become skewed or biased if the input variable contains outlier values.\n",
    "\n",
    "* To overcome this, the median and interquartile range can be used when standardizing numerical input variables, generally referred to as robust scaling."
   ]
  },
  {
   "cell_type": "code",
   "execution_count": 21,
   "id": "da4a5080",
   "metadata": {
    "execution": {
     "iopub.execute_input": "2023-05-21T03:03:30.555764Z",
     "iopub.status.busy": "2023-05-21T03:03:30.555366Z",
     "iopub.status.idle": "2023-05-21T03:03:30.573176Z",
     "shell.execute_reply": "2023-05-21T03:03:30.572103Z"
    },
    "papermill": {
     "duration": 0.040248,
     "end_time": "2023-05-21T03:03:30.575573",
     "exception": false,
     "start_time": "2023-05-21T03:03:30.535325",
     "status": "completed"
    },
    "tags": []
   },
   "outputs": [
    {
     "data": {
      "text/html": [
       "<div>\n",
       "<style scoped>\n",
       "    .dataframe tbody tr th:only-of-type {\n",
       "        vertical-align: middle;\n",
       "    }\n",
       "\n",
       "    .dataframe tbody tr th {\n",
       "        vertical-align: top;\n",
       "    }\n",
       "\n",
       "    .dataframe thead th {\n",
       "        text-align: right;\n",
       "    }\n",
       "</style>\n",
       "<table border=\"1\" class=\"dataframe\">\n",
       "  <thead>\n",
       "    <tr style=\"text-align: right;\">\n",
       "      <th></th>\n",
       "      <th>Id</th>\n",
       "      <th>SepalLengthCm</th>\n",
       "      <th>SepalWidthCm</th>\n",
       "      <th>PetalLengthCm</th>\n",
       "      <th>PetalWidthCm</th>\n",
       "      <th>Species</th>\n",
       "    </tr>\n",
       "  </thead>\n",
       "  <tbody>\n",
       "    <tr>\n",
       "      <th>0</th>\n",
       "      <td>1</td>\n",
       "      <td>5.1</td>\n",
       "      <td>3.5</td>\n",
       "      <td>1.4</td>\n",
       "      <td>0.2</td>\n",
       "      <td>Iris-setosa</td>\n",
       "    </tr>\n",
       "    <tr>\n",
       "      <th>1</th>\n",
       "      <td>2</td>\n",
       "      <td>4.9</td>\n",
       "      <td>3.0</td>\n",
       "      <td>1.4</td>\n",
       "      <td>0.2</td>\n",
       "      <td>Iris-setosa</td>\n",
       "    </tr>\n",
       "    <tr>\n",
       "      <th>2</th>\n",
       "      <td>3</td>\n",
       "      <td>4.7</td>\n",
       "      <td>3.2</td>\n",
       "      <td>1.3</td>\n",
       "      <td>0.2</td>\n",
       "      <td>Iris-setosa</td>\n",
       "    </tr>\n",
       "    <tr>\n",
       "      <th>3</th>\n",
       "      <td>4</td>\n",
       "      <td>4.6</td>\n",
       "      <td>3.1</td>\n",
       "      <td>1.5</td>\n",
       "      <td>0.2</td>\n",
       "      <td>Iris-setosa</td>\n",
       "    </tr>\n",
       "    <tr>\n",
       "      <th>4</th>\n",
       "      <td>5</td>\n",
       "      <td>5.0</td>\n",
       "      <td>3.6</td>\n",
       "      <td>1.4</td>\n",
       "      <td>0.2</td>\n",
       "      <td>Iris-setosa</td>\n",
       "    </tr>\n",
       "  </tbody>\n",
       "</table>\n",
       "</div>"
      ],
      "text/plain": [
       "   Id  SepalLengthCm  SepalWidthCm  PetalLengthCm  PetalWidthCm      Species\n",
       "0   1            5.1           3.5            1.4           0.2  Iris-setosa\n",
       "1   2            4.9           3.0            1.4           0.2  Iris-setosa\n",
       "2   3            4.7           3.2            1.3           0.2  Iris-setosa\n",
       "3   4            4.6           3.1            1.5           0.2  Iris-setosa\n",
       "4   5            5.0           3.6            1.4           0.2  Iris-setosa"
      ]
     },
     "execution_count": 21,
     "metadata": {},
     "output_type": "execute_result"
    }
   ],
   "source": [
    "df2 = pd.read_csv('/kaggle/input/iris/Iris.csv')\n",
    "df2.head()"
   ]
  },
  {
   "cell_type": "code",
   "execution_count": 22,
   "id": "1801549b",
   "metadata": {
    "execution": {
     "iopub.execute_input": "2023-05-21T03:03:30.615897Z",
     "iopub.status.busy": "2023-05-21T03:03:30.614687Z",
     "iopub.status.idle": "2023-05-21T03:03:30.620660Z",
     "shell.execute_reply": "2023-05-21T03:03:30.619740Z"
    },
    "papermill": {
     "duration": 0.028933,
     "end_time": "2023-05-21T03:03:30.623279",
     "exception": false,
     "start_time": "2023-05-21T03:03:30.594346",
     "status": "completed"
    },
    "tags": []
   },
   "outputs": [],
   "source": [
    "X = df2.iloc[:,:-1]\n",
    "y = df2.iloc[:,-1]"
   ]
  },
  {
   "cell_type": "code",
   "execution_count": 23,
   "id": "0c8d1a78",
   "metadata": {
    "execution": {
     "iopub.execute_input": "2023-05-21T03:03:30.663437Z",
     "iopub.status.busy": "2023-05-21T03:03:30.662317Z",
     "iopub.status.idle": "2023-05-21T03:03:30.670029Z",
     "shell.execute_reply": "2023-05-21T03:03:30.668954Z"
    },
    "papermill": {
     "duration": 0.030764,
     "end_time": "2023-05-21T03:03:30.672925",
     "exception": false,
     "start_time": "2023-05-21T03:03:30.642161",
     "status": "completed"
    },
    "tags": []
   },
   "outputs": [],
   "source": [
    "# Split the dataset into train and test\n",
    "X_train, X_test, y_train, y_test = train_test_split(X,y, test_size=0.2, random_state=42)"
   ]
  },
  {
   "cell_type": "code",
   "execution_count": 24,
   "id": "108a54f1",
   "metadata": {
    "execution": {
     "iopub.execute_input": "2023-05-21T03:03:30.712908Z",
     "iopub.status.busy": "2023-05-21T03:03:30.712453Z",
     "iopub.status.idle": "2023-05-21T03:03:30.717155Z",
     "shell.execute_reply": "2023-05-21T03:03:30.716180Z"
    },
    "papermill": {
     "duration": 0.02717,
     "end_time": "2023-05-21T03:03:30.719439",
     "exception": false,
     "start_time": "2023-05-21T03:03:30.692269",
     "status": "completed"
    },
    "tags": []
   },
   "outputs": [],
   "source": [
    "# Perform Feature Scaling\n",
    "from sklearn.preprocessing import RobustScaler\n",
    "scaler = RobustScaler()"
   ]
  },
  {
   "cell_type": "code",
   "execution_count": 25,
   "id": "39a541cc",
   "metadata": {
    "execution": {
     "iopub.execute_input": "2023-05-21T03:03:30.759148Z",
     "iopub.status.busy": "2023-05-21T03:03:30.758698Z",
     "iopub.status.idle": "2023-05-21T03:03:30.772458Z",
     "shell.execute_reply": "2023-05-21T03:03:30.771023Z"
    },
    "papermill": {
     "duration": 0.037019,
     "end_time": "2023-05-21T03:03:30.775360",
     "exception": false,
     "start_time": "2023-05-21T03:03:30.738341",
     "status": "completed"
    },
    "tags": []
   },
   "outputs": [],
   "source": [
    "# Fit the StandardScalar\n",
    "X_train_scaled = scaler.fit_transform(X_train)\n",
    "X_test_scaled = scaler.transform(X_test)"
   ]
  },
  {
   "cell_type": "code",
   "execution_count": 26,
   "id": "1f6f0dad",
   "metadata": {
    "execution": {
     "iopub.execute_input": "2023-05-21T03:03:30.814461Z",
     "iopub.status.busy": "2023-05-21T03:03:30.814071Z",
     "iopub.status.idle": "2023-05-21T03:03:30.825332Z",
     "shell.execute_reply": "2023-05-21T03:03:30.823368Z"
    },
    "papermill": {
     "duration": 0.034577,
     "end_time": "2023-05-21T03:03:30.828479",
     "exception": false,
     "start_time": "2023-05-21T03:03:30.793902",
     "status": "completed"
    },
    "tags": []
   },
   "outputs": [
    {
     "name": "stdout",
     "output_type": "stream",
     "text": [
      "X_train Id               1.0\n",
      "SepalLengthCm    4.3\n",
      "SepalWidthCm     2.0\n",
      "PetalLengthCm    1.0\n",
      "PetalWidthCm     0.1\n",
      "dtype: float64 - Id               150.0\n",
      "SepalLengthCm      7.7\n",
      "SepalWidthCm       4.4\n",
      "PetalLengthCm      6.7\n",
      "PetalWidthCm       2.5\n",
      "dtype: float64\n"
     ]
    }
   ],
   "source": [
    "# Print Minimum and Maximum values\n",
    "print('X_train', X_train.min(),'-',X_train.max())"
   ]
  },
  {
   "cell_type": "code",
   "execution_count": 27,
   "id": "f17ab1b6",
   "metadata": {
    "execution": {
     "iopub.execute_input": "2023-05-21T03:03:30.868465Z",
     "iopub.status.busy": "2023-05-21T03:03:30.867727Z",
     "iopub.status.idle": "2023-05-21T03:03:30.873430Z",
     "shell.execute_reply": "2023-05-21T03:03:30.872273Z"
    },
    "papermill": {
     "duration": 0.027899,
     "end_time": "2023-05-21T03:03:30.875705",
     "exception": false,
     "start_time": "2023-05-21T03:03:30.847806",
     "status": "completed"
    },
    "tags": []
   },
   "outputs": [
    {
     "name": "stdout",
     "output_type": "stream",
     "text": [
      "X_train_scaled(Min Max Scaler): -1.904761904761905 - 2.666666666666668\n"
     ]
    }
   ],
   "source": [
    "# Print Minimum and Maximum values of scaled values\n",
    "print('X_train_scaled(Min Max Scaler):',X_train_scaled.min(),'-',X_train_scaled.max())"
   ]
  },
  {
   "cell_type": "markdown",
   "id": "2657c674",
   "metadata": {
    "papermill": {
     "duration": 0.018234,
     "end_time": "2023-05-21T03:03:30.912532",
     "exception": false,
     "start_time": "2023-05-21T03:03:30.894298",
     "status": "completed"
    },
    "tags": []
   },
   "source": [
    "# 4: MaxAbs Scalar\n",
    "* Scale each feature by its maximum absolute value.This estimator scales and translates each feature individually such that the maximal absolute value of each feature in the training set will be 1.0. It does not shift/center the data, and thus does not destroy any sparsity.\n",
    "\n",
    "\n",
    "* MaxAbsScaler is a scaling technique used in machine learning to scale features to a range of [-1, 1] without shifting the data distribution or distorting the relative relationships between data points. It is particularly useful when the data contains outliers and sparse features.\n",
    "\n",
    "* The MaxAbsScaler scales the features by dividing each value by the maximum absolute value in the feature. The formula for scaling a feature x using MaxAbsScaler is:\n",
    "\n",
    "  x_scaled = x / max_abs_value\n",
    "\n",
    "  where x_scaled is the scaled value, x is the original value, and max_abs_value   is the maximum absolute value in the feature.\n",
    "\n",
    "  The MaxAbsScaler preserves the sign of the values and scales them in a way   that the maximum absolute value in each feature becomes 1. The scaling is done independently for each feature, so the features are not affected by the scaling of other features.\n",
    "\n"
   ]
  },
  {
   "cell_type": "code",
   "execution_count": 28,
   "id": "44a1ff3f",
   "metadata": {
    "execution": {
     "iopub.execute_input": "2023-05-21T03:03:30.952607Z",
     "iopub.status.busy": "2023-05-21T03:03:30.952192Z",
     "iopub.status.idle": "2023-05-21T03:03:30.957219Z",
     "shell.execute_reply": "2023-05-21T03:03:30.955974Z"
    },
    "papermill": {
     "duration": 0.027899,
     "end_time": "2023-05-21T03:03:30.959521",
     "exception": false,
     "start_time": "2023-05-21T03:03:30.931622",
     "status": "completed"
    },
    "tags": []
   },
   "outputs": [],
   "source": [
    "from sklearn.preprocessing import MaxAbsScaler\n",
    "scaler = MaxAbsScaler()"
   ]
  },
  {
   "cell_type": "code",
   "execution_count": 29,
   "id": "21bf67c5",
   "metadata": {
    "execution": {
     "iopub.execute_input": "2023-05-21T03:03:30.999642Z",
     "iopub.status.busy": "2023-05-21T03:03:30.998908Z",
     "iopub.status.idle": "2023-05-21T03:03:31.009123Z",
     "shell.execute_reply": "2023-05-21T03:03:31.008137Z"
    },
    "papermill": {
     "duration": 0.033423,
     "end_time": "2023-05-21T03:03:31.011615",
     "exception": false,
     "start_time": "2023-05-21T03:03:30.978192",
     "status": "completed"
    },
    "tags": []
   },
   "outputs": [],
   "source": [
    "X_train_scaled = scaler.fit_transform(X_train)\n",
    "X_test_scaled = scaler.transform(X_test)"
   ]
  },
  {
   "cell_type": "code",
   "execution_count": 30,
   "id": "0875d0c3",
   "metadata": {
    "execution": {
     "iopub.execute_input": "2023-05-21T03:03:31.053143Z",
     "iopub.status.busy": "2023-05-21T03:03:31.052316Z",
     "iopub.status.idle": "2023-05-21T03:03:31.062554Z",
     "shell.execute_reply": "2023-05-21T03:03:31.061356Z"
    },
    "papermill": {
     "duration": 0.034025,
     "end_time": "2023-05-21T03:03:31.065362",
     "exception": false,
     "start_time": "2023-05-21T03:03:31.031337",
     "status": "completed"
    },
    "tags": []
   },
   "outputs": [
    {
     "name": "stdout",
     "output_type": "stream",
     "text": [
      "X_Train:  Id               1.0\n",
      "SepalLengthCm    4.3\n",
      "SepalWidthCm     2.0\n",
      "PetalLengthCm    1.0\n",
      "PetalWidthCm     0.1\n",
      "dtype: float64 - Id               150.0\n",
      "SepalLengthCm      7.7\n",
      "SepalWidthCm       4.4\n",
      "PetalLengthCm      6.7\n",
      "PetalWidthCm       2.5\n",
      "dtype: float64\n"
     ]
    }
   ],
   "source": [
    "print('X_Train: ',X_train.min(), '-',X_train.max())"
   ]
  },
  {
   "cell_type": "code",
   "execution_count": 31,
   "id": "c0c6fc23",
   "metadata": {
    "execution": {
     "iopub.execute_input": "2023-05-21T03:03:31.106114Z",
     "iopub.status.busy": "2023-05-21T03:03:31.105313Z",
     "iopub.status.idle": "2023-05-21T03:03:31.111201Z",
     "shell.execute_reply": "2023-05-21T03:03:31.110162Z"
    },
    "papermill": {
     "duration": 0.029349,
     "end_time": "2023-05-21T03:03:31.113654",
     "exception": false,
     "start_time": "2023-05-21T03:03:31.084305",
     "status": "completed"
    },
    "tags": []
   },
   "outputs": [
    {
     "name": "stdout",
     "output_type": "stream",
     "text": [
      "X_train_scaled( MaxAbsScaler ) 0.006666666666666667 - 1.0\n"
     ]
    }
   ],
   "source": [
    "print('X_train_scaled( MaxAbsScaler )',X_train_scaled.min(),'-',X_train_scaled.max())"
   ]
  },
  {
   "cell_type": "markdown",
   "id": "7df6483e",
   "metadata": {
    "papermill": {
     "duration": 0.018989,
     "end_time": "2023-05-21T03:03:31.152211",
     "exception": false,
     "start_time": "2023-05-21T03:03:31.133222",
     "status": "completed"
    },
    "tags": []
   },
   "source": [
    "# 5: Quantile Transformer\n",
    "* QuantileTransformer is a data transformation technique used in machine learning to map the features of a dataset to a uniform or Gaussian distribution. It is particularly useful when the data does not follow a normal distribution or when you want to make the data more robust to outliers.\n",
    "\n",
    "* The QuantileTransformer works by estimating the cumulative distribution function (CDF) of each feature and transforming the data based on the desired output distribution. It maps the values of each feature to a predefined probability distribution, which can be uniform or Gaussian.\n",
    "* The key steps involved in using the QuantileTransformer are as follows:\n",
    "\n",
    "* Estimate the cumulative distribution function (CDF) of each feature in the dataset.\n",
    "* Map the original feature values to their corresponding quantiles based on the desired output distribution.\n",
    "* Transform the quantiles to obtain the transformed feature values.\n",
    "* The resulting transformed data will have a similar distribution across all features, which can be useful for certain machine learning algorithms that assume a specific data distribution, such as linear regression or Gaussian-based models.\n",
    "\n",
    "\n"
   ]
  },
  {
   "cell_type": "code",
   "execution_count": 32,
   "id": "4b109f8a",
   "metadata": {
    "execution": {
     "iopub.execute_input": "2023-05-21T03:03:31.193533Z",
     "iopub.status.busy": "2023-05-21T03:03:31.192562Z",
     "iopub.status.idle": "2023-05-21T03:03:31.197679Z",
     "shell.execute_reply": "2023-05-21T03:03:31.196734Z"
    },
    "papermill": {
     "duration": 0.028727,
     "end_time": "2023-05-21T03:03:31.200210",
     "exception": false,
     "start_time": "2023-05-21T03:03:31.171483",
     "status": "completed"
    },
    "tags": []
   },
   "outputs": [],
   "source": [
    "from sklearn.preprocessing import QuantileTransformer"
   ]
  },
  {
   "cell_type": "code",
   "execution_count": 33,
   "id": "aa29c881",
   "metadata": {
    "execution": {
     "iopub.execute_input": "2023-05-21T03:03:31.240567Z",
     "iopub.status.busy": "2023-05-21T03:03:31.239779Z",
     "iopub.status.idle": "2023-05-21T03:03:31.265794Z",
     "shell.execute_reply": "2023-05-21T03:03:31.264375Z"
    },
    "papermill": {
     "duration": 0.049404,
     "end_time": "2023-05-21T03:03:31.268806",
     "exception": false,
     "start_time": "2023-05-21T03:03:31.219402",
     "status": "completed"
    },
    "tags": []
   },
   "outputs": [
    {
     "name": "stderr",
     "output_type": "stream",
     "text": [
      "/opt/conda/lib/python3.10/site-packages/sklearn/preprocessing/_data.py:2627: UserWarning: n_quantiles (1000) is greater than the total number of samples (120). n_quantiles is set to n_samples.\n",
      "  warnings.warn(\n"
     ]
    }
   ],
   "source": [
    "scaler = QuantileTransformer(output_distribution = 'normal')\n",
    "X_train_scaled = scaler.fit_transform(X_train)\n",
    "X_test_scaled = scaler.transform(X_test)"
   ]
  },
  {
   "cell_type": "code",
   "execution_count": 34,
   "id": "505f6532",
   "metadata": {
    "execution": {
     "iopub.execute_input": "2023-05-21T03:03:31.310948Z",
     "iopub.status.busy": "2023-05-21T03:03:31.310223Z",
     "iopub.status.idle": "2023-05-21T03:03:31.320371Z",
     "shell.execute_reply": "2023-05-21T03:03:31.318770Z"
    },
    "papermill": {
     "duration": 0.03501,
     "end_time": "2023-05-21T03:03:31.323214",
     "exception": false,
     "start_time": "2023-05-21T03:03:31.288204",
     "status": "completed"
    },
    "tags": []
   },
   "outputs": [
    {
     "name": "stdout",
     "output_type": "stream",
     "text": [
      "X_train : Id               1.0\n",
      "SepalLengthCm    4.3\n",
      "SepalWidthCm     2.0\n",
      "PetalLengthCm    1.0\n",
      "PetalWidthCm     0.1\n",
      "dtype: float64 - Id               150.0\n",
      "SepalLengthCm      7.7\n",
      "SepalWidthCm       4.4\n",
      "PetalLengthCm      6.7\n",
      "PetalWidthCm       2.5\n",
      "dtype: float64\n"
     ]
    }
   ],
   "source": [
    "print('X_train :',X_train.min(),'-',X_train.max())"
   ]
  },
  {
   "cell_type": "code",
   "execution_count": 35,
   "id": "5c71e81d",
   "metadata": {
    "execution": {
     "iopub.execute_input": "2023-05-21T03:03:31.364764Z",
     "iopub.status.busy": "2023-05-21T03:03:31.364365Z",
     "iopub.status.idle": "2023-05-21T03:03:31.370454Z",
     "shell.execute_reply": "2023-05-21T03:03:31.369243Z"
    },
    "papermill": {
     "duration": 0.029198,
     "end_time": "2023-05-21T03:03:31.373198",
     "exception": false,
     "start_time": "2023-05-21T03:03:31.344000",
     "status": "completed"
    },
    "tags": []
   },
   "outputs": [
    {
     "name": "stdout",
     "output_type": "stream",
     "text": [
      "X_train_scaled(Quantile Transformer):  -5.199337582605575 - 5.19933758270342\n"
     ]
    }
   ],
   "source": [
    "print('X_train_scaled(Quantile Transformer): ',X_train_scaled.min(),'-',X_train_scaled.max())"
   ]
  },
  {
   "cell_type": "markdown",
   "id": "b6e7fd77",
   "metadata": {
    "papermill": {
     "duration": 0.019192,
     "end_time": "2023-05-21T03:03:31.411591",
     "exception": false,
     "start_time": "2023-05-21T03:03:31.392399",
     "status": "completed"
    },
    "tags": []
   },
   "source": [
    "# 6: Power Transformation\n",
    "\n",
    "The Power Transformer method transforms the features to follow a Normal Distribution by applying a power transformation, useful for non linear data in which output is more normally distributed.\n",
    "\n",
    "The Power Transformationer method applies a Power Transformation to the data to make it more Gaussian-like. The method parameter can be set to  Yeo-Johnson or box-cox to control the type of Power transformation used.\n",
    "\n",
    "The default is Yeo-Johnson. The box-cox method is limited to strictly positive data( Neural Network, K-Nearest Neighbors).\n",
    "\n",
    "Power transformation is a data transformation technique used in machine learning to adjust the distribution of data by applying a power function to the feature values. It is particularly useful when the data exhibits skewness or heteroscedasticity (unequal variances) and when you want to make the data more closely resemble a normal distribution.\n",
    "\n",
    "The power transformation is defined by the formula:\n",
    "\n",
    "x_transformed = (x^lambda - 1) / lambda\n",
    "\n",
    "where x_transformed is the transformed value, x is the original value, and lambda is the power parameter. The choice of lambda determines the type of power transformation applied.\n",
    "\n",
    "There are three common types of power transformations:\n",
    "\n",
    "* Box-Cox Transformation: The Box-Cox transformation is a family of power transformations that covers a range of lambda values. It is suitable for both positive and negative data values. The optimal lambda value is typically determined by maximizing the log-likelihood function.\n",
    "\n",
    "* Yeo-Johnson Transformation: The Yeo-Johnson transformation is an extension of the Box-Cox transformation that supports both positive and negative data values. Unlike the Box-Cox transformation, it handles zero and negative values. The optimal lambda value is determined by a numerical optimization method.\n",
    "\n",
    "* Log Transformation: The log transformation is a special case of the power transformation where lambda is set to 0. It is commonly used to reduce skewness in data and is especially effective for positive-valued data.\n",
    "\n"
   ]
  },
  {
   "cell_type": "markdown",
   "id": "37a0ffb6",
   "metadata": {
    "papermill": {
     "duration": 0.018889,
     "end_time": "2023-05-21T03:03:31.449700",
     "exception": false,
     "start_time": "2023-05-21T03:03:31.430811",
     "status": "completed"
    },
    "tags": []
   },
   "source": []
  },
  {
   "cell_type": "code",
   "execution_count": 36,
   "id": "ec8f6d64",
   "metadata": {
    "execution": {
     "iopub.execute_input": "2023-05-21T03:03:31.489968Z",
     "iopub.status.busy": "2023-05-21T03:03:31.489517Z",
     "iopub.status.idle": "2023-05-21T03:03:31.494842Z",
     "shell.execute_reply": "2023-05-21T03:03:31.493663Z"
    },
    "papermill": {
     "duration": 0.028632,
     "end_time": "2023-05-21T03:03:31.497476",
     "exception": false,
     "start_time": "2023-05-21T03:03:31.468844",
     "status": "completed"
    },
    "tags": []
   },
   "outputs": [],
   "source": [
    "from sklearn.preprocessing import PowerTransformer"
   ]
  },
  {
   "cell_type": "code",
   "execution_count": 37,
   "id": "5390dd26",
   "metadata": {
    "execution": {
     "iopub.execute_input": "2023-05-21T03:03:31.539967Z",
     "iopub.status.busy": "2023-05-21T03:03:31.538940Z",
     "iopub.status.idle": "2023-05-21T03:03:31.569083Z",
     "shell.execute_reply": "2023-05-21T03:03:31.567892Z"
    },
    "papermill": {
     "duration": 0.054221,
     "end_time": "2023-05-21T03:03:31.571740",
     "exception": false,
     "start_time": "2023-05-21T03:03:31.517519",
     "status": "completed"
    },
    "tags": []
   },
   "outputs": [],
   "source": [
    "transformer = PowerTransformer()\n",
    "                               \n",
    "X_train_scaled = transformer.fit_transform (X_train)\n",
    "X_test_scaled = transformer.transform(X_test)"
   ]
  },
  {
   "cell_type": "code",
   "execution_count": 38,
   "id": "73255e8e",
   "metadata": {
    "execution": {
     "iopub.execute_input": "2023-05-21T03:03:31.613222Z",
     "iopub.status.busy": "2023-05-21T03:03:31.612805Z",
     "iopub.status.idle": "2023-05-21T03:03:31.622404Z",
     "shell.execute_reply": "2023-05-21T03:03:31.621198Z"
    },
    "papermill": {
     "duration": 0.033797,
     "end_time": "2023-05-21T03:03:31.625081",
     "exception": false,
     "start_time": "2023-05-21T03:03:31.591284",
     "status": "completed"
    },
    "tags": []
   },
   "outputs": [
    {
     "name": "stdout",
     "output_type": "stream",
     "text": [
      "X_train:  Id               1.0\n",
      "SepalLengthCm    4.3\n",
      "SepalWidthCm     2.0\n",
      "PetalLengthCm    1.0\n",
      "PetalWidthCm     0.1\n",
      "dtype: float64 - Id               150.0\n",
      "SepalLengthCm      7.7\n",
      "SepalWidthCm       4.4\n",
      "PetalLengthCm      6.7\n",
      "PetalWidthCm       2.5\n",
      "dtype: float64\n"
     ]
    }
   ],
   "source": [
    "print('X_train: ',X_train.min(),'-',X_train.max())"
   ]
  },
  {
   "cell_type": "code",
   "execution_count": 39,
   "id": "0fe3cd99",
   "metadata": {
    "execution": {
     "iopub.execute_input": "2023-05-21T03:03:31.667246Z",
     "iopub.status.busy": "2023-05-21T03:03:31.666799Z",
     "iopub.status.idle": "2023-05-21T03:03:31.673414Z",
     "shell.execute_reply": "2023-05-21T03:03:31.672122Z"
    },
    "papermill": {
     "duration": 0.030725,
     "end_time": "2023-05-21T03:03:31.676158",
     "exception": false,
     "start_time": "2023-05-21T03:03:31.645433",
     "status": "completed"
    },
    "tags": []
   },
   "outputs": [
    {
     "name": "stdout",
     "output_type": "stream",
     "text": [
      "X_train_scaled (Power Transformation): -2.702619947273049 - 2.6774798180501573\n"
     ]
    }
   ],
   "source": [
    "print('X_train_scaled (Power Transformation):',X_train_scaled.min(),'-',X_train_scaled.max())"
   ]
  },
  {
   "cell_type": "markdown",
   "id": "8835b746",
   "metadata": {
    "papermill": {
     "duration": 0.020372,
     "end_time": "2023-05-21T03:03:31.716003",
     "exception": false,
     "start_time": "2023-05-21T03:03:31.695631",
     "status": "completed"
    },
    "tags": []
   },
   "source": [
    "# 7: Normalizer\n",
    "In machine learning, the term \"Normalizer\" refers to a data preprocessing technique that scales the values of individual features (columns) in a dataset independently. Normalizer operates on the columns of the dataset and transforms each feature separately, making them comparable and ensuring they fall within a specified range.\n",
    "\n",
    "The Normalizer rescales the values of each feature so that they have unit norm.\n",
    "This can be useful for sparse dataset (lots of zeros) with attributes of varying scales where using algorithms that weight input value such as neural network and algorithms that use distance measures such as K-nearest Neighbors.\n",
    "\n",
    "Normalizer operates on the rows of the dataset independently, normalizing each sample separately. The normalization process ensures that each sample has a Euclidean norm (also known as L2 norm) of 1. The formula for normalizing a sample x is:\n",
    "\n",
    "x_normalized = x / ||x||\n",
    "\n",
    "where x_normalized is the normalized version of x and ||x|| represents the Euclidean norm of x.\n",
    "\n",
    "The Normalizer can be applied using different norms, including L1 norm and Max norm, but the default is the L2 norm."
   ]
  },
  {
   "cell_type": "code",
   "execution_count": 40,
   "id": "3a986e1f",
   "metadata": {
    "execution": {
     "iopub.execute_input": "2023-05-21T03:03:31.760997Z",
     "iopub.status.busy": "2023-05-21T03:03:31.760495Z",
     "iopub.status.idle": "2023-05-21T03:03:31.766780Z",
     "shell.execute_reply": "2023-05-21T03:03:31.765323Z"
    },
    "papermill": {
     "duration": 0.0314,
     "end_time": "2023-05-21T03:03:31.769471",
     "exception": false,
     "start_time": "2023-05-21T03:03:31.738071",
     "status": "completed"
    },
    "tags": []
   },
   "outputs": [],
   "source": [
    "from sklearn.preprocessing import Normalizer"
   ]
  },
  {
   "cell_type": "code",
   "execution_count": 41,
   "id": "24b18f63",
   "metadata": {
    "execution": {
     "iopub.execute_input": "2023-05-21T03:03:31.812137Z",
     "iopub.status.busy": "2023-05-21T03:03:31.811457Z",
     "iopub.status.idle": "2023-05-21T03:03:31.823276Z",
     "shell.execute_reply": "2023-05-21T03:03:31.822121Z"
    },
    "papermill": {
     "duration": 0.036821,
     "end_time": "2023-05-21T03:03:31.826239",
     "exception": false,
     "start_time": "2023-05-21T03:03:31.789418",
     "status": "completed"
    },
    "tags": []
   },
   "outputs": [],
   "source": [
    "scaler = Normalizer()\n",
    "X_train_scaled = scaler.fit_transform(X_train)\n",
    "X_test_scaled = scaler.transform(X_train)"
   ]
  },
  {
   "cell_type": "code",
   "execution_count": 42,
   "id": "ccbcbead",
   "metadata": {
    "execution": {
     "iopub.execute_input": "2023-05-21T03:03:31.869091Z",
     "iopub.status.busy": "2023-05-21T03:03:31.868683Z",
     "iopub.status.idle": "2023-05-21T03:03:31.879502Z",
     "shell.execute_reply": "2023-05-21T03:03:31.877835Z"
    },
    "papermill": {
     "duration": 0.03531,
     "end_time": "2023-05-21T03:03:31.881999",
     "exception": false,
     "start_time": "2023-05-21T03:03:31.846689",
     "status": "completed"
    },
    "tags": []
   },
   "outputs": [
    {
     "name": "stdout",
     "output_type": "stream",
     "text": [
      "X_train: Id               1.0\n",
      "SepalLengthCm    4.3\n",
      "SepalWidthCm     2.0\n",
      "PetalLengthCm    1.0\n",
      "PetalWidthCm     0.1\n",
      "dtype: float64 - Id               150.0\n",
      "SepalLengthCm      7.7\n",
      "SepalWidthCm       4.4\n",
      "PetalLengthCm      6.7\n",
      "PetalWidthCm       2.5\n",
      "dtype: float64\n"
     ]
    }
   ],
   "source": [
    "print('X_train:',X_train.min(), '-',X_train.max())"
   ]
  },
  {
   "cell_type": "code",
   "execution_count": 43,
   "id": "d543c953",
   "metadata": {
    "execution": {
     "iopub.execute_input": "2023-05-21T03:03:31.924280Z",
     "iopub.status.busy": "2023-05-21T03:03:31.923609Z",
     "iopub.status.idle": "2023-05-21T03:03:31.930142Z",
     "shell.execute_reply": "2023-05-21T03:03:31.928814Z"
    },
    "papermill": {
     "duration": 0.029745,
     "end_time": "2023-05-21T03:03:31.932483",
     "exception": false,
     "start_time": "2023-05-21T03:03:31.902738",
     "status": "completed"
    },
    "tags": []
   },
   "outputs": [
    {
     "name": "stdout",
     "output_type": "stream",
     "text": [
      "X_train_scaled (Normalizer): 0.0025994816110760767 - 0.9983803876747591\n"
     ]
    }
   ],
   "source": [
    "print('X_train_scaled (Normalizer):',X_train_scaled.min(),'-',X_train_scaled.max())"
   ]
  },
  {
   "cell_type": "markdown",
   "id": "a1bfe158",
   "metadata": {
    "papermill": {
     "duration": 0.020259,
     "end_time": "2023-05-21T03:03:31.972360",
     "exception": false,
     "start_time": "2023-05-21T03:03:31.952101",
     "status": "completed"
    },
    "tags": []
   },
   "source": [
    "# 8: Binarizer\n",
    "* In machine learning, the term \"Binarizer\" refers to a data preprocessing technique that converts numerical features into binary values based on a threshold. It is commonly used when you want to convert continuous numerical data into binary values based on a specific cutoff point.\n",
    "\n",
    "* The Binarizer operates on each individual value in a feature column and transforms it into 0 or 1, depending on whether it is below or above the specified threshold. Any value equal to or below the threshold is transformed into 0, while any value above the threshold is transformed into 1.\n",
    "\n",
    "* Binarizer is commonly used when you want to convert continuous numerical features into binary values to indicate the presence or absence of a certain characteristic or condition. For example, you might use it to convert probabilities into binary labels based on a specific threshold.\n",
    "\n",
    "* It's important to note that Binarizer operates independently on each feature column and does not take into account the relationships between features. If you need to scale or transform the data collectively or consider the distributions of the features, other techniques such as StandardScaler or PowerTransformer might be more suitable.\n",
    "\n",
    "\n",
    "\n",
    "\n"
   ]
  },
  {
   "cell_type": "code",
   "execution_count": 44,
   "id": "d4c30682",
   "metadata": {
    "execution": {
     "iopub.execute_input": "2023-05-21T03:03:32.017690Z",
     "iopub.status.busy": "2023-05-21T03:03:32.016653Z",
     "iopub.status.idle": "2023-05-21T03:03:32.021847Z",
     "shell.execute_reply": "2023-05-21T03:03:32.021066Z"
    },
    "papermill": {
     "duration": 0.030138,
     "end_time": "2023-05-21T03:03:32.024252",
     "exception": false,
     "start_time": "2023-05-21T03:03:31.994114",
     "status": "completed"
    },
    "tags": []
   },
   "outputs": [],
   "source": [
    "from sklearn.preprocessing import Binarizer"
   ]
  },
  {
   "cell_type": "code",
   "execution_count": 45,
   "id": "5fee0434",
   "metadata": {
    "execution": {
     "iopub.execute_input": "2023-05-21T03:03:32.067377Z",
     "iopub.status.busy": "2023-05-21T03:03:32.066473Z",
     "iopub.status.idle": "2023-05-21T03:03:32.077915Z",
     "shell.execute_reply": "2023-05-21T03:03:32.077034Z"
    },
    "papermill": {
     "duration": 0.035434,
     "end_time": "2023-05-21T03:03:32.080434",
     "exception": false,
     "start_time": "2023-05-21T03:03:32.045000",
     "status": "completed"
    },
    "tags": []
   },
   "outputs": [],
   "source": [
    "scaler = Binarizer(threshold=0.5)\n",
    "X_train_scaled = scaler.fit_transform(X_train)\n",
    "X_test_scaled = scaler.transform(X_test)"
   ]
  },
  {
   "cell_type": "code",
   "execution_count": 46,
   "id": "714bd6a1",
   "metadata": {
    "execution": {
     "iopub.execute_input": "2023-05-21T03:03:32.123980Z",
     "iopub.status.busy": "2023-05-21T03:03:32.123268Z",
     "iopub.status.idle": "2023-05-21T03:03:32.134169Z",
     "shell.execute_reply": "2023-05-21T03:03:32.132978Z"
    },
    "papermill": {
     "duration": 0.03594,
     "end_time": "2023-05-21T03:03:32.136644",
     "exception": false,
     "start_time": "2023-05-21T03:03:32.100704",
     "status": "completed"
    },
    "tags": []
   },
   "outputs": [
    {
     "name": "stdout",
     "output_type": "stream",
     "text": [
      "X_train: Id               1.0\n",
      "SepalLengthCm    4.3\n",
      "SepalWidthCm     2.0\n",
      "PetalLengthCm    1.0\n",
      "PetalWidthCm     0.1\n",
      "dtype: float64 - Id               150.0\n",
      "SepalLengthCm      7.7\n",
      "SepalWidthCm       4.4\n",
      "PetalLengthCm      6.7\n",
      "PetalWidthCm       2.5\n",
      "dtype: float64\n"
     ]
    }
   ],
   "source": [
    "print('X_train:',X_train.min(), '-',X_train.max())"
   ]
  },
  {
   "cell_type": "code",
   "execution_count": 47,
   "id": "40d53e3a",
   "metadata": {
    "execution": {
     "iopub.execute_input": "2023-05-21T03:03:32.178618Z",
     "iopub.status.busy": "2023-05-21T03:03:32.178193Z",
     "iopub.status.idle": "2023-05-21T03:03:32.184355Z",
     "shell.execute_reply": "2023-05-21T03:03:32.182883Z"
    },
    "papermill": {
     "duration": 0.03125,
     "end_time": "2023-05-21T03:03:32.187474",
     "exception": false,
     "start_time": "2023-05-21T03:03:32.156224",
     "status": "completed"
    },
    "tags": []
   },
   "outputs": [
    {
     "name": "stdout",
     "output_type": "stream",
     "text": [
      "X_train_scaled (Binarizer ): 0.0 - 1.0\n"
     ]
    }
   ],
   "source": [
    "print('X_train_scaled (Binarizer ):',X_train_scaled.min(),'-',X_train_scaled.max())"
   ]
  },
  {
   "cell_type": "markdown",
   "id": "a7e02420",
   "metadata": {
    "papermill": {
     "duration": 0.019913,
     "end_time": "2023-05-21T03:03:32.227095",
     "exception": false,
     "start_time": "2023-05-21T03:03:32.207182",
     "status": "completed"
    },
    "tags": []
   },
   "source": [
    "# Note:\n",
    "* The Binarizer method converts the data to binary values(0 or 1) based on threshold. This can be useful when you want to treat the data as a binary classification problem\n",
    "* It is important to choose the appropriate scaling method based on the specific problem and dat at hand and to experiment with different techniques to find the best approach for your particular problem"
   ]
  }
 ],
 "metadata": {
  "kernelspec": {
   "display_name": "Python 3",
   "language": "python",
   "name": "python3"
  },
  "language_info": {
   "codemirror_mode": {
    "name": "ipython",
    "version": 3
   },
   "file_extension": ".py",
   "mimetype": "text/x-python",
   "name": "python",
   "nbconvert_exporter": "python",
   "pygments_lexer": "ipython3",
   "version": "3.10.10"
  },
  "papermill": {
   "default_parameters": {},
   "duration": 18.289692,
   "end_time": "2023-05-21T03:03:33.270181",
   "environment_variables": {},
   "exception": null,
   "input_path": "__notebook__.ipynb",
   "output_path": "__notebook__.ipynb",
   "parameters": {},
   "start_time": "2023-05-21T03:03:14.980489",
   "version": "2.4.0"
  }
 },
 "nbformat": 4,
 "nbformat_minor": 5
}
