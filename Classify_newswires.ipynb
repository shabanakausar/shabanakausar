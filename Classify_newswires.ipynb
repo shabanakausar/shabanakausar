{
  "nbformat": 4,
  "nbformat_minor": 0,
  "metadata": {
    "colab": {
      "provenance": [],
      "authorship_tag": "ABX9TyOd51o/rs4fVmslcve6ZpKV",
      "include_colab_link": true
    },
    "kernelspec": {
      "name": "python3",
      "display_name": "Python 3"
    },
    "language_info": {
      "name": "python"
    }
  },
  "cells": [
    {
      "cell_type": "markdown",
      "metadata": {
        "id": "view-in-github",
        "colab_type": "text"
      },
      "source": [
        "<a href=\"https://colab.research.google.com/github/shabanakausar/shabanakausar/blob/main/Classify_newswires.ipynb\" target=\"_parent\"><img src=\"https://colab.research.google.com/assets/colab-badge.svg\" alt=\"Open In Colab\"/></a>"
      ]
    },
    {
      "cell_type": "code",
      "execution_count": 140,
      "metadata": {
        "id": "3jAhInwyc195"
      },
      "outputs": [],
      "source": [
        "#----------------------Classifying newswires: a multiclass classification example---------------------"
      ]
    },
    {
      "cell_type": "code",
      "source": [
        "#-------------------------------Loading the Reuters dataset-------------------\n",
        "\n",
        "from keras.datasets import reuters\n",
        "(train_data, train_labels), (test_data, test_labels) = reuters.load_data(\n",
        "num_words=10000)"
      ],
      "metadata": {
        "id": "vi8kfp8FdYuM"
      },
      "execution_count": 141,
      "outputs": []
    },
    {
      "cell_type": "code",
      "source": [
        "len(train_data)"
      ],
      "metadata": {
        "colab": {
          "base_uri": "https://localhost:8080/"
        },
        "id": "Po1HXlYndgur",
        "outputId": "7ae2ceab-3963-458e-e12a-1ad8bb787f33"
      },
      "execution_count": 142,
      "outputs": [
        {
          "output_type": "execute_result",
          "data": {
            "text/plain": [
              "8982"
            ]
          },
          "metadata": {},
          "execution_count": 142
        }
      ]
    },
    {
      "cell_type": "code",
      "source": [
        "len(test_data)"
      ],
      "metadata": {
        "colab": {
          "base_uri": "https://localhost:8080/"
        },
        "id": "kfo3Oa-ad9oK",
        "outputId": "e4dbf9f0-b3a9-4af9-8614-2c6947b55738"
      },
      "execution_count": 143,
      "outputs": [
        {
          "output_type": "execute_result",
          "data": {
            "text/plain": [
              "2246"
            ]
          },
          "metadata": {},
          "execution_count": 143
        }
      ]
    },
    {
      "cell_type": "code",
      "source": [
        "train_data.shape"
      ],
      "metadata": {
        "colab": {
          "base_uri": "https://localhost:8080/"
        },
        "id": "JL6YsHPkeBxJ",
        "outputId": "1235bddf-d48a-4d49-b9e2-66ec9063403c"
      },
      "execution_count": 144,
      "outputs": [
        {
          "output_type": "execute_result",
          "data": {
            "text/plain": [
              "(8982,)"
            ]
          },
          "metadata": {},
          "execution_count": 144
        }
      ]
    },
    {
      "cell_type": "code",
      "source": [
        "test_data.shape"
      ],
      "metadata": {
        "colab": {
          "base_uri": "https://localhost:8080/"
        },
        "id": "oay3XnjHeM40",
        "outputId": "051f2b59-31b5-4b42-c894-820a7735133c"
      },
      "execution_count": 145,
      "outputs": [
        {
          "output_type": "execute_result",
          "data": {
            "text/plain": [
              "(2246,)"
            ]
          },
          "metadata": {},
          "execution_count": 145
        }
      ]
    },
    {
      "cell_type": "code",
      "source": [
        "#-----------------------------------------Decoding newswires back to text------------------------------------\n",
        "#------------------Note that the indices are offset by 3 because 0, 1, and 2 are reserved--------------------\n",
        "#------------------------indices for “padding,” “start of sequence,” and “unknown.”--------------------------\n",
        "word_index = reuters.get_word_index()\n",
        "reverse_word_index = dict([(value, key) for (key, value) in word_index.items()])\n",
        "decoded_newswire = ' '.join([reverse_word_index.get(i - 3, '?') for i in\n",
        "train_data[0]])"
      ],
      "metadata": {
        "id": "HPHBCdipefwu"
      },
      "execution_count": 146,
      "outputs": []
    },
    {
      "cell_type": "code",
      "source": [
        "#-----------------The label associated with an example is an integer between 0 and 45—a topic index:----------\n",
        "train_labels[10]"
      ],
      "metadata": {
        "colab": {
          "base_uri": "https://localhost:8080/"
        },
        "id": "f4f4DFi7epfW",
        "outputId": "78b1c77c-664e-42bb-fdc1-96a4d8f710d2"
      },
      "execution_count": 147,
      "outputs": [
        {
          "output_type": "execute_result",
          "data": {
            "text/plain": [
              "3"
            ]
          },
          "metadata": {},
          "execution_count": 147
        }
      ]
    },
    {
      "cell_type": "code",
      "source": [
        "#----------------------------------Prepare the Data-----------------------------------\n",
        "#----------------------------------Encoding the data----------------------------------\n",
        "import numpy as np\n",
        "def vectorize_sequences(sequences, dimension=10000):\n",
        "    results = np.zeros((len(sequences), dimension))\n",
        "    for i, sequence in enumerate(sequences):\n",
        "        results[i, sequence] = 1.\n",
        "    return results\n"
      ],
      "metadata": {
        "id": "vpAI28Knf6zx"
      },
      "execution_count": 148,
      "outputs": []
    },
    {
      "cell_type": "code",
      "source": [
        "x_train = vectorize_sequences(train_data)\n",
        "x_test = vectorize_sequences(test_data)"
      ],
      "metadata": {
        "id": "6jXskRRUgWyA"
      },
      "execution_count": 149,
      "outputs": []
    },
    {
      "cell_type": "code",
      "source": [
        "def to_one_hot(labels, dimension=46):\n",
        "    results = np.zeros((len(labels), dimension))\n",
        "    for i, label in enumerate(labels):\n",
        "        results[i, label] = 1.\n",
        "    return results\n"
      ],
      "metadata": {
        "id": "MUaCVmt9gdI-"
      },
      "execution_count": 150,
      "outputs": []
    },
    {
      "cell_type": "code",
      "source": [
        "#----------------------------------Vectorized training labels---------------------------------------\n",
        "#------------------------------------Vectorized test labels-----------------------------------------\n",
        "one_hot_train_labels = to_one_hot(train_labels)\n",
        "one_hot_test_labels = to_one_hot(test_labels)\n",
        "\n",
        "#-------------------built-in way to do this in Keras, which you’ve already seen in action in the MNIST example:\n",
        "#from keras.utils.np_utils import to_categorical\n",
        "#one_hot_train_labels = to_categorical(train_labels)\n",
        "#one_hot_test_labels = to_categorical(test_labels)"
      ],
      "metadata": {
        "id": "vBGzsUhUhWSx"
      },
      "execution_count": 151,
      "outputs": []
    },
    {
      "cell_type": "code",
      "source": [
        "#--------------------------------------------Model definition-----------------------------------------\n",
        "from keras import models\n",
        "from keras import layers\n",
        "model = models.Sequential()\n",
        "model.add(layers.Dense(64, activation='relu', input_shape=(10000,)))\n",
        "model.add(layers.Dense(64, activation='relu'))\n",
        "model.add(layers.Dense(46, activation='softmax'))\n"
      ],
      "metadata": {
        "id": "mD0JEIDQhXQh"
      },
      "execution_count": 152,
      "outputs": []
    },
    {
      "cell_type": "code",
      "source": [
        "#---------------------------------Compile the model \n",
        "model.compile(optimizer='rmsprop',\n",
        "        loss='categorical_crossentropy',\n",
        "        metrics=['accuracy'])"
      ],
      "metadata": {
        "id": "n_IhYLBJiSfx"
      },
      "execution_count": 153,
      "outputs": []
    },
    {
      "cell_type": "code",
      "source": [
        "#-------------------------------------Setting aside a validation set--------------------------------------\n",
        "x_val = x_train[:1000]\n",
        "partial_x_train = x_train[1000:]\n",
        "\n",
        "y_val = one_hot_train_labels[:1000]\n",
        "partial_y_train = one_hot_train_labels[1000:]"
      ],
      "metadata": {
        "id": "V_O1Nhf9jScl"
      },
      "execution_count": 154,
      "outputs": []
    },
    {
      "cell_type": "code",
      "source": [
        "#-------------------------------------------Training the model--------------------------------------------------    \n",
        "history = model.fit(partial_x_train,\n",
        "                    partial_y_train,\n",
        "                    epochs=20,\n",
        "                    batch_size=512,\n",
        "                    validation_data=(x_val, y_val))"
      ],
      "metadata": {
        "colab": {
          "base_uri": "https://localhost:8080/"
        },
        "id": "m-jnZ9qGjtP1",
        "outputId": "39262be0-e04a-48af-9c67-10b005738540"
      },
      "execution_count": 155,
      "outputs": [
        {
          "output_type": "stream",
          "name": "stdout",
          "text": [
            "Epoch 1/20\n",
            "16/16 [==============================] - 2s 62ms/step - loss: 2.6261 - accuracy: 0.5377 - val_loss: 1.7218 - val_accuracy: 0.6580\n",
            "Epoch 2/20\n",
            "16/16 [==============================] - 1s 52ms/step - loss: 1.4127 - accuracy: 0.7191 - val_loss: 1.2819 - val_accuracy: 0.7280\n",
            "Epoch 3/20\n",
            "16/16 [==============================] - 1s 52ms/step - loss: 1.0397 - accuracy: 0.7789 - val_loss: 1.1100 - val_accuracy: 0.7580\n",
            "Epoch 4/20\n",
            "16/16 [==============================] - 1s 52ms/step - loss: 0.8167 - accuracy: 0.8285 - val_loss: 1.0165 - val_accuracy: 0.7890\n",
            "Epoch 5/20\n",
            "16/16 [==============================] - 1s 54ms/step - loss: 0.6562 - accuracy: 0.8613 - val_loss: 0.9704 - val_accuracy: 0.7970\n",
            "Epoch 6/20\n",
            "16/16 [==============================] - 1s 51ms/step - loss: 0.5230 - accuracy: 0.8895 - val_loss: 0.9360 - val_accuracy: 0.8070\n",
            "Epoch 7/20\n",
            "16/16 [==============================] - 1s 51ms/step - loss: 0.4240 - accuracy: 0.9124 - val_loss: 0.8985 - val_accuracy: 0.8160\n",
            "Epoch 8/20\n",
            "16/16 [==============================] - 1s 51ms/step - loss: 0.3464 - accuracy: 0.9272 - val_loss: 0.8977 - val_accuracy: 0.8170\n",
            "Epoch 9/20\n",
            "16/16 [==============================] - 1s 53ms/step - loss: 0.2817 - accuracy: 0.9366 - val_loss: 0.8872 - val_accuracy: 0.8250\n",
            "Epoch 10/20\n",
            "16/16 [==============================] - 1s 52ms/step - loss: 0.2382 - accuracy: 0.9474 - val_loss: 0.8893 - val_accuracy: 0.8220\n",
            "Epoch 11/20\n",
            "16/16 [==============================] - 1s 53ms/step - loss: 0.2091 - accuracy: 0.9480 - val_loss: 0.9066 - val_accuracy: 0.8210\n",
            "Epoch 12/20\n",
            "16/16 [==============================] - 1s 53ms/step - loss: 0.1828 - accuracy: 0.9528 - val_loss: 0.9271 - val_accuracy: 0.8150\n",
            "Epoch 13/20\n",
            "16/16 [==============================] - 1s 50ms/step - loss: 0.1608 - accuracy: 0.9528 - val_loss: 0.9435 - val_accuracy: 0.8200\n",
            "Epoch 14/20\n",
            "16/16 [==============================] - 1s 53ms/step - loss: 0.1512 - accuracy: 0.9560 - val_loss: 1.0089 - val_accuracy: 0.7990\n",
            "Epoch 15/20\n",
            "16/16 [==============================] - 1s 52ms/step - loss: 0.1388 - accuracy: 0.9565 - val_loss: 1.0012 - val_accuracy: 0.8090\n",
            "Epoch 16/20\n",
            "16/16 [==============================] - 1s 52ms/step - loss: 0.1286 - accuracy: 0.9574 - val_loss: 0.9928 - val_accuracy: 0.8120\n",
            "Epoch 17/20\n",
            "16/16 [==============================] - 1s 53ms/step - loss: 0.1260 - accuracy: 0.9570 - val_loss: 1.0717 - val_accuracy: 0.8070\n",
            "Epoch 18/20\n",
            "16/16 [==============================] - 1s 52ms/step - loss: 0.1187 - accuracy: 0.9567 - val_loss: 1.0619 - val_accuracy: 0.8140\n",
            "Epoch 19/20\n",
            "16/16 [==============================] - 1s 52ms/step - loss: 0.1177 - accuracy: 0.9573 - val_loss: 1.0934 - val_accuracy: 0.7970\n",
            "Epoch 20/20\n",
            "16/16 [==============================] - 1s 52ms/step - loss: 0.1097 - accuracy: 0.9572 - val_loss: 1.0738 - val_accuracy: 0.8090\n"
          ]
        }
      ]
    },
    {
      "cell_type": "code",
      "source": [
        "#---------------------------------Plotting the training and validation loss-----------------------------------\n",
        "\n",
        "import matplotlib.pyplot as plt\n",
        "loss = history.history['loss']\n",
        "val_loss = history.history['val_loss']\n",
        "epochs = range(1, len(loss) + 1)\n",
        "plt.plot(epochs, loss, 'bo', label='Training loss')\n",
        "plt.plot(epochs, val_loss, 'b', label='Validation loss')\n",
        "plt.title('Training and validation loss')\n",
        "plt.xlabel('Epochs')\n",
        "plt.ylabel('Loss')\n",
        "plt.legend()\n",
        "plt.show()"
      ],
      "metadata": {
        "colab": {
          "base_uri": "https://localhost:8080/",
          "height": 295
        },
        "id": "ww1bpC8jkEg0",
        "outputId": "e6e7fe0f-2a1b-44a1-954e-b62e25cf7ef1"
      },
      "execution_count": 156,
      "outputs": [
        {
          "output_type": "display_data",
          "data": {
            "text/plain": [
              "<Figure size 432x288 with 1 Axes>"
            ],
            "image/png": "[encoded data removed]"
          },
          "metadata": {
            "needs_background": "light"
          }
        }
      ]
    },
    {
      "cell_type": "code",
      "source": [
        "#--------------------------------------Plotting the training and validation accuracy\n",
        "plt.clf()\n",
        "acc = history.history['accuracy']\n",
        "val_acc = history.history['val_accuracy']\n",
        "plt.plot(epochs, acc, 'bo', label='Training acc')\n",
        "plt.plot(epochs, val_acc, 'b', label='Validation acc')\n",
        "plt.title('Training and validation accuracy')\n",
        "plt.xlabel('Epochs')\n",
        "plt.ylabel('Loss')\n",
        "plt.legend()\n",
        "plt.show()"
      ],
      "metadata": {
        "colab": {
          "base_uri": "https://localhost:8080/",
          "height": 295
        },
        "id": "90jMTywGkrXC",
        "outputId": "14d20dd3-fed9-4978-eab9-5b2958708248"
      },
      "execution_count": 157,
      "outputs": [
        {
          "output_type": "display_data",
          "data": {
            "text/plain": [
              "<Figure size 432x288 with 1 Axes>"
            ],
            "image/png": "[encoded data removed]"
          },
          "metadata": {
            "needs_background": "light"
          }
        }
      ]
    },
    {
      "cell_type": "code",
      "source": [
        "#---------------------------------Retraining a model from scratch\n",
        "\n",
        "model = models.Sequential()\n",
        "model.add(layers.Dense(64, activation='relu', input_shape=(10000,)))\n",
        "model.add(layers.Dense(64, activation='relu'))\n",
        "model.add(layers.Dense(46, activation='softmax'))\n",
        "model.compile(optimizer='rmsprop',\n",
        "loss='categorical_crossentropy',\n",
        "metrics=['accuracy'])\n",
        "model.fit(partial_x_train,\n",
        "partial_y_train,\n",
        "epochs=9,\n",
        "batch_size=512,\n",
        "validation_data=(x_val, y_val))\n",
        "results = model.evaluate(x_test, one_hot_test_labels)"
      ],
      "metadata": {
        "colab": {
          "base_uri": "https://localhost:8080/"
        },
        "id": "SDCEMexYkz0x",
        "outputId": "1568d0a8-af7b-4e67-8851-f1dc3136c533"
      },
      "execution_count": 158,
      "outputs": [
        {
          "output_type": "stream",
          "name": "stdout",
          "text": [
            "Epoch 1/9\n",
            "16/16 [==============================] - 2s 61ms/step - loss: 2.5564 - accuracy: 0.4945 - val_loss: 1.7028 - val_accuracy: 0.6180\n",
            "Epoch 2/9\n",
            "16/16 [==============================] - 1s 52ms/step - loss: 1.3937 - accuracy: 0.6992 - val_loss: 1.2986 - val_accuracy: 0.7010\n",
            "Epoch 3/9\n",
            "16/16 [==============================] - 1s 52ms/step - loss: 1.0448 - accuracy: 0.7717 - val_loss: 1.1382 - val_accuracy: 0.7410\n",
            "Epoch 4/9\n",
            "16/16 [==============================] - 1s 52ms/step - loss: 0.8190 - accuracy: 0.8247 - val_loss: 1.0335 - val_accuracy: 0.7710\n",
            "Epoch 5/9\n",
            "16/16 [==============================] - 1s 52ms/step - loss: 0.6494 - accuracy: 0.8566 - val_loss: 0.9734 - val_accuracy: 0.7860\n",
            "Epoch 6/9\n",
            "16/16 [==============================] - 1s 52ms/step - loss: 0.5194 - accuracy: 0.8893 - val_loss: 0.9105 - val_accuracy: 0.8110\n",
            "Epoch 7/9\n",
            "16/16 [==============================] - 1s 52ms/step - loss: 0.4162 - accuracy: 0.9131 - val_loss: 0.9091 - val_accuracy: 0.8040\n",
            "Epoch 8/9\n",
            "16/16 [==============================] - 1s 52ms/step - loss: 0.3374 - accuracy: 0.9277 - val_loss: 0.9062 - val_accuracy: 0.8120\n",
            "Epoch 9/9\n",
            "16/16 [==============================] - 1s 51ms/step - loss: 0.2790 - accuracy: 0.9379 - val_loss: 0.8920 - val_accuracy: 0.8150\n",
            "71/71 [==============================] - 0s 3ms/step - loss: 0.9943 - accuracy: 0.7854\n"
          ]
        }
      ]
    },
    {
      "cell_type": "code",
      "source": [
        "results"
      ],
      "metadata": {
        "colab": {
          "base_uri": "https://localhost:8080/"
        },
        "id": "JRqtVexdlOVA",
        "outputId": "beb779e9-079b-4fd8-f2a4-037a25c8435f"
      },
      "execution_count": 159,
      "outputs": [
        {
          "output_type": "execute_result",
          "data": {
            "text/plain": [
              "[0.9942623972892761, 0.7853962779045105]"
            ]
          },
          "metadata": {},
          "execution_count": 159
        }
      ]
    },
    {
      "cell_type": "code",
      "source": [
        "import copy\n",
        "test_labels_copy = copy.copy(test_labels)\n",
        "np.random.shuffle(test_labels_copy)\n",
        "hits_array = np.array(test_labels) == np.array(test_labels_copy)\n",
        "float(np.sum(hits_array)) / len(test_labels)"
      ],
      "metadata": {
        "colab": {
          "base_uri": "https://localhost:8080/"
        },
        "id": "_3PgTTSvmzY5",
        "outputId": "9a747fcd-8a47-4441-80d9-76736297cb06"
      },
      "execution_count": 160,
      "outputs": [
        {
          "output_type": "execute_result",
          "data": {
            "text/plain": [
              "0.19412288512911843"
            ]
          },
          "metadata": {},
          "execution_count": 160
        }
      ]
    },
    {
      "cell_type": "code",
      "source": [
        "#---------------------------------------Generating predictions for new data------------------------\n",
        "\n",
        "predictions = model.predict(x_test)\n",
        "predictions[0].shape"
      ],
      "metadata": {
        "colab": {
          "base_uri": "https://localhost:8080/"
        },
        "id": "TkRMvbbonR8i",
        "outputId": "726337e0-d6ca-4a85-c4e8-506ed14979e4"
      },
      "execution_count": 161,
      "outputs": [
        {
          "output_type": "stream",
          "name": "stdout",
          "text": [
            "71/71 [==============================] - 0s 3ms/step\n"
          ]
        },
        {
          "output_type": "execute_result",
          "data": {
            "text/plain": [
              "(46,)"
            ]
          },
          "metadata": {},
          "execution_count": 161
        }
      ]
    },
    {
      "cell_type": "code",
      "source": [
        "#------------------------------------The coefficients in this vector sum to 1:\n",
        "np.sum(predictions[0])"
      ],
      "metadata": {
        "colab": {
          "base_uri": "https://localhost:8080/"
        },
        "id": "QU-AiUCOn0UZ",
        "outputId": "26195173-971b-4ef1-efa8-894163e4f58f"
      },
      "execution_count": 162,
      "outputs": [
        {
          "output_type": "execute_result",
          "data": {
            "text/plain": [
              "1.0000001"
            ]
          },
          "metadata": {},
          "execution_count": 162
        }
      ]
    },
    {
      "cell_type": "code",
      "source": [
        "#----------------------The largest entry is the predicted class—the class with the highest probability:\n",
        "np.argmax(predictions[0])"
      ],
      "metadata": {
        "colab": {
          "base_uri": "https://localhost:8080/"
        },
        "id": "0vUX5YNfoEGs",
        "outputId": "db656bbb-a5e2-40e9-f01d-b0b90a91a40f"
      },
      "execution_count": 163,
      "outputs": [
        {
          "output_type": "execute_result",
          "data": {
            "text/plain": [
              "3"
            ]
          },
          "metadata": {},
          "execution_count": 163
        }
      ]
    },
    {
      "cell_type": "code",
      "source": [
        "#-------------------------------A different way to handle the labels and the loss\n",
        "y_train = np.array(train_labels)\n",
        "y_test = np.array(test_labels)"
      ],
      "metadata": {
        "id": "pBqfL6j7ocG4"
      },
      "execution_count": 164,
      "outputs": []
    },
    {
      "cell_type": "code",
      "source": [
        "model.compile(optimizer='rmsprop',\n",
        "              loss='sparse_categorical_crossentropy',\n",
        "              metrics=['acc'])"
      ],
      "metadata": {
        "id": "j3JH6rJypCHS"
      },
      "execution_count": 165,
      "outputs": []
    },
    {
      "cell_type": "code",
      "source": [],
      "metadata": {
        "id": "7g52yfKjpNjR"
      },
      "execution_count": 165,
      "outputs": []
    }
  ]
}