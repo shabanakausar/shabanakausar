{
  "nbformat": 4,
  "nbformat_minor": 0,
  "metadata": {
    "colab": {
      "provenance": [],
      "authorship_tag": "ABX9TyMJzcfw1nuToNSfJ8z1WeFg",
      "include_colab_link": true
    },
    "kernelspec": {
      "name": "python3",
      "display_name": "Python 3"
    },
    "language_info": {
      "name": "python"
    },
    "widgets": {
      "application/vnd.jupyter.widget-state+json": {
        "c9270eafe7c74eda8e6a8c8eef56b761": {
          "model_module": "@jupyter-widgets/controls",
          "model_name": "HBoxModel",
          "model_module_version": "1.5.0",
          "state": {
            "_dom_classes": [],
            "_model_module": "@jupyter-widgets/controls",
            "_model_module_version": "1.5.0",
            "_model_name": "HBoxModel",
            "_view_count": null,
            "_view_module": "@jupyter-widgets/controls",
            "_view_module_version": "1.5.0",
            "_view_name": "HBoxView",
            "box_style": "",
            "children": [
              "IPY_MODEL_54f28580b21c4cf595bb2498abfc7a2e",
              "IPY_MODEL_adb9cbe2bb58483a9c23dc009b36d5c3",
              "IPY_MODEL_1e7a0745cf894e4ab34ef2801c9eeb5f"
            ],
            "layout": "IPY_MODEL_7a691e3445cb464cb39e3954074ad74d"
          }
        },
        "54f28580b21c4cf595bb2498abfc7a2e": {
          "model_module": "@jupyter-widgets/controls",
          "model_name": "HTMLModel",
          "model_module_version": "1.5.0",
          "state": {
            "_dom_classes": [],
            "_model_module": "@jupyter-widgets/controls",
            "_model_module_version": "1.5.0",
            "_model_name": "HTMLModel",
            "_view_count": null,
            "_view_module": "@jupyter-widgets/controls",
            "_view_module_version": "1.5.0",
            "_view_name": "HTMLView",
            "description": "",
            "description_tooltip": null,
            "layout": "IPY_MODEL_61ef2f81e52d42ce846bf4e45d9c0c40",
            "placeholder": "​",
            "style": "IPY_MODEL_94f6aa116c074bdb95b9ec348bd2c275",
            "value": "tokenizer_config.json: 100%"
          }
        },
        "adb9cbe2bb58483a9c23dc009b36d5c3": {
          "model_module": "@jupyter-widgets/controls",
          "model_name": "FloatProgressModel",
          "model_module_version": "1.5.0",
          "state": {
            "_dom_classes": [],
            "_model_module": "@jupyter-widgets/controls",
            "_model_module_version": "1.5.0",
            "_model_name": "FloatProgressModel",
            "_view_count": null,
            "_view_module": "@jupyter-widgets/controls",
            "_view_module_version": "1.5.0",
            "_view_name": "ProgressView",
            "bar_style": "success",
            "description": "",
            "description_tooltip": null,
            "layout": "IPY_MODEL_6912194a0d8e433da9a8dc7f0f811faf",
            "max": 26,
            "min": 0,
            "orientation": "horizontal",
            "style": "IPY_MODEL_4ede9ba084244588a542d8394b681666",
            "value": 26
          }
        },
        "1e7a0745cf894e4ab34ef2801c9eeb5f": {
          "model_module": "@jupyter-widgets/controls",
          "model_name": "HTMLModel",
          "model_module_version": "1.5.0",
          "state": {
            "_dom_classes": [],
            "_model_module": "@jupyter-widgets/controls",
            "_model_module_version": "1.5.0",
            "_model_name": "HTMLModel",
            "_view_count": null,
            "_view_module": "@jupyter-widgets/controls",
            "_view_module_version": "1.5.0",
            "_view_name": "HTMLView",
            "description": "",
            "description_tooltip": null,
            "layout": "IPY_MODEL_cf75b93c5023465f939cd66f2e2ccfe2",
            "placeholder": "​",
            "style": "IPY_MODEL_39ad766c89bb43b8bb5724df98c9fb35",
            "value": " 26.0/26.0 [00:00&lt;00:00, 409B/s]"
          }
        },
        "7a691e3445cb464cb39e3954074ad74d": {
          "model_module": "@jupyter-widgets/base",
          "model_name": "LayoutModel",
          "model_module_version": "1.2.0",
          "state": {
            "_model_module": "@jupyter-widgets/base",
            "_model_module_version": "1.2.0",
            "_model_name": "LayoutModel",
            "_view_count": null,
            "_view_module": "@jupyter-widgets/base",
            "_view_module_version": "1.2.0",
            "_view_name": "LayoutView",
            "align_content": null,
            "align_items": null,
            "align_self": null,
            "border": null,
            "bottom": null,
            "display": null,
            "flex": null,
            "flex_flow": null,
            "grid_area": null,
            "grid_auto_columns": null,
            "grid_auto_flow": null,
            "grid_auto_rows": null,
            "grid_column": null,
            "grid_gap": null,
            "grid_row": null,
            "grid_template_areas": null,
            "grid_template_columns": null,
            "grid_template_rows": null,
            "height": null,
            "justify_content": null,
            "justify_items": null,
            "left": null,
            "margin": null,
            "max_height": null,
            "max_width": null,
            "min_height": null,
            "min_width": null,
            "object_fit": null,
            "object_position": null,
            "order": null,
            "overflow": null,
            "overflow_x": null,
            "overflow_y": null,
            "padding": null,
            "right": null,
            "top": null,
            "visibility": null,
            "width": null
          }
        },
        "61ef2f81e52d42ce846bf4e45d9c0c40": {
          "model_module": "@jupyter-widgets/base",
          "model_name": "LayoutModel",
          "model_module_version": "1.2.0",
          "state": {
            "_model_module": "@jupyter-widgets/base",
            "_model_module_version": "1.2.0",
            "_model_name": "LayoutModel",
            "_view_count": null,
            "_view_module": "@jupyter-widgets/base",
            "_view_module_version": "1.2.0",
            "_view_name": "LayoutView",
            "align_content": null,
            "align_items": null,
            "align_self": null,
            "border": null,
            "bottom": null,
            "display": null,
            "flex": null,
            "flex_flow": null,
            "grid_area": null,
            "grid_auto_columns": null,
            "grid_auto_flow": null,
            "grid_auto_rows": null,
            "grid_column": null,
            "grid_gap": null,
            "grid_row": null,
            "grid_template_areas": null,
            "grid_template_columns": null,
            "grid_template_rows": null,
            "height": null,
            "justify_content": null,
            "justify_items": null,
            "left": null,
            "margin": null,
            "max_height": null,
            "max_width": null,
            "min_height": null,
            "min_width": null,
            "object_fit": null,
            "object_position": null,
            "order": null,
            "overflow": null,
            "overflow_x": null,
            "overflow_y": null,
            "padding": null,
            "right": null,
            "top": null,
            "visibility": null,
            "width": null
          }
        },
        "94f6aa116c074bdb95b9ec348bd2c275": {
          "model_module": "@jupyter-widgets/controls",
          "model_name": "DescriptionStyleModel",
          "model_module_version": "1.5.0",
          "state": {
            "_model_module": "@jupyter-widgets/controls",
            "_model_module_version": "1.5.0",
            "_model_name": "DescriptionStyleModel",
            "_view_count": null,
            "_view_module": "@jupyter-widgets/base",
            "_view_module_version": "1.2.0",
            "_view_name": "StyleView",
            "description_width": ""
          }
        },
        "6912194a0d8e433da9a8dc7f0f811faf": {
          "model_module": "@jupyter-widgets/base",
          "model_name": "LayoutModel",
          "model_module_version": "1.2.0",
          "state": {
            "_model_module": "@jupyter-widgets/base",
            "_model_module_version": "1.2.0",
            "_model_name": "LayoutModel",
            "_view_count": null,
            "_view_module": "@jupyter-widgets/base",
            "_view_module_version": "1.2.0",
            "_view_name": "LayoutView",
            "align_content": null,
            "align_items": null,
            "align_self": null,
            "border": null,
            "bottom": null,
            "display": null,
            "flex": null,
            "flex_flow": null,
            "grid_area": null,
            "grid_auto_columns": null,
            "grid_auto_flow": null,
            "grid_auto_rows": null,
            "grid_column": null,
            "grid_gap": null,
            "grid_row": null,
            "grid_template_areas": null,
            "grid_template_columns": null,
            "grid_template_rows": null,
            "height": null,
            "justify_content": null,
            "justify_items": null,
            "left": null,
            "margin": null,
            "max_height": null,
            "max_width": null,
            "min_height": null,
            "min_width": null,
            "object_fit": null,
            "object_position": null,
            "order": null,
            "overflow": null,
            "overflow_x": null,
            "overflow_y": null,
            "padding": null,
            "right": null,
            "top": null,
            "visibility": null,
            "width": null
          }
        },
        "4ede9ba084244588a542d8394b681666": {
          "model_module": "@jupyter-widgets/controls",
          "model_name": "ProgressStyleModel",
          "model_module_version": "1.5.0",
          "state": {
            "_model_module": "@jupyter-widgets/controls",
            "_model_module_version": "1.5.0",
            "_model_name": "ProgressStyleModel",
            "_view_count": null,
            "_view_module": "@jupyter-widgets/base",
            "_view_module_version": "1.2.0",
            "_view_name": "StyleView",
            "bar_color": null,
            "description_width": ""
          }
        },
        "cf75b93c5023465f939cd66f2e2ccfe2": {
          "model_module": "@jupyter-widgets/base",
          "model_name": "LayoutModel",
          "model_module_version": "1.2.0",
          "state": {
            "_model_module": "@jupyter-widgets/base",
            "_model_module_version": "1.2.0",
            "_model_name": "LayoutModel",
            "_view_count": null,
            "_view_module": "@jupyter-widgets/base",
            "_view_module_version": "1.2.0",
            "_view_name": "LayoutView",
            "align_content": null,
            "align_items": null,
            "align_self": null,
            "border": null,
            "bottom": null,
            "display": null,
            "flex": null,
            "flex_flow": null,
            "grid_area": null,
            "grid_auto_columns": null,
            "grid_auto_flow": null,
            "grid_auto_rows": null,
            "grid_column": null,
            "grid_gap": null,
            "grid_row": null,
            "grid_template_areas": null,
            "grid_template_columns": null,
            "grid_template_rows": null,
            "height": null,
            "justify_content": null,
            "justify_items": null,
            "left": null,
            "margin": null,
            "max_height": null,
            "max_width": null,
            "min_height": null,
            "min_width": null,
            "object_fit": null,
            "object_position": null,
            "order": null,
            "overflow": null,
            "overflow_x": null,
            "overflow_y": null,
            "padding": null,
            "right": null,
            "top": null,
            "visibility": null,
            "width": null
          }
        },
        "39ad766c89bb43b8bb5724df98c9fb35": {
          "model_module": "@jupyter-widgets/controls",
          "model_name": "DescriptionStyleModel",
          "model_module_version": "1.5.0",
          "state": {
            "_model_module": "@jupyter-widgets/controls",
            "_model_module_version": "1.5.0",
            "_model_name": "DescriptionStyleModel",
            "_view_count": null,
            "_view_module": "@jupyter-widgets/base",
            "_view_module_version": "1.2.0",
            "_view_name": "StyleView",
            "description_width": ""
          }
        },
        "295a24035d0d4fa8babb53c20a9e8e94": {
          "model_module": "@jupyter-widgets/controls",
          "model_name": "HBoxModel",
          "model_module_version": "1.5.0",
          "state": {
            "_dom_classes": [],
            "_model_module": "@jupyter-widgets/controls",
            "_model_module_version": "1.5.0",
            "_model_name": "HBoxModel",
            "_view_count": null,
            "_view_module": "@jupyter-widgets/controls",
            "_view_module_version": "1.5.0",
            "_view_name": "HBoxView",
            "box_style": "",
            "children": [
              "IPY_MODEL_c50397070e6745e4aac297f2a916a6d1",
              "IPY_MODEL_dbe9b76c962a43389c867271d6366265",
              "IPY_MODEL_5e9bae6be1c640b98472464f44a33b2a"
            ],
            "layout": "IPY_MODEL_cba59ea0dfd64d99a24d5617c3790193"
          }
        },
        "c50397070e6745e4aac297f2a916a6d1": {
          "model_module": "@jupyter-widgets/controls",
          "model_name": "HTMLModel",
          "model_module_version": "1.5.0",
          "state": {
            "_dom_classes": [],
            "_model_module": "@jupyter-widgets/controls",
            "_model_module_version": "1.5.0",
            "_model_name": "HTMLModel",
            "_view_count": null,
            "_view_module": "@jupyter-widgets/controls",
            "_view_module_version": "1.5.0",
            "_view_name": "HTMLView",
            "description": "",
            "description_tooltip": null,
            "layout": "IPY_MODEL_ae2157278756463a9522dbf368b86e19",
            "placeholder": "​",
            "style": "IPY_MODEL_5880caa248f24443bd9c1d5002d03bdb",
            "value": "vocab.json: 100%"
          }
        },
        "dbe9b76c962a43389c867271d6366265": {
          "model_module": "@jupyter-widgets/controls",
          "model_name": "FloatProgressModel",
          "model_module_version": "1.5.0",
          "state": {
            "_dom_classes": [],
            "_model_module": "@jupyter-widgets/controls",
            "_model_module_version": "1.5.0",
            "_model_name": "FloatProgressModel",
            "_view_count": null,
            "_view_module": "@jupyter-widgets/controls",
            "_view_module_version": "1.5.0",
            "_view_name": "ProgressView",
            "bar_style": "success",
            "description": "",
            "description_tooltip": null,
            "layout": "IPY_MODEL_6fc3c9c6d3f146a9b865f51310b8b9ea",
            "max": 1042301,
            "min": 0,
            "orientation": "horizontal",
            "style": "IPY_MODEL_c17c81aaa777403380d0197eceb8fc51",
            "value": 1042301
          }
        },
        "5e9bae6be1c640b98472464f44a33b2a": {
          "model_module": "@jupyter-widgets/controls",
          "model_name": "HTMLModel",
          "model_module_version": "1.5.0",
          "state": {
            "_dom_classes": [],
            "_model_module": "@jupyter-widgets/controls",
            "_model_module_version": "1.5.0",
            "_model_name": "HTMLModel",
            "_view_count": null,
            "_view_module": "@jupyter-widgets/controls",
            "_view_module_version": "1.5.0",
            "_view_name": "HTMLView",
            "description": "",
            "description_tooltip": null,
            "layout": "IPY_MODEL_b8922d6abcf84693b76bd9baed2f1ba4",
            "placeholder": "​",
            "style": "IPY_MODEL_9980d9865cb943caa6a7a52f0f150439",
            "value": " 1.04M/1.04M [00:00&lt;00:00, 5.05MB/s]"
          }
        },
        "cba59ea0dfd64d99a24d5617c3790193": {
          "model_module": "@jupyter-widgets/base",
          "model_name": "LayoutModel",
          "model_module_version": "1.2.0",
          "state": {
            "_model_module": "@jupyter-widgets/base",
            "_model_module_version": "1.2.0",
            "_model_name": "LayoutModel",
            "_view_count": null,
            "_view_module": "@jupyter-widgets/base",
            "_view_module_version": "1.2.0",
            "_view_name": "LayoutView",
            "align_content": null,
            "align_items": null,
            "align_self": null,
            "border": null,
            "bottom": null,
            "display": null,
            "flex": null,
            "flex_flow": null,
            "grid_area": null,
            "grid_auto_columns": null,
            "grid_auto_flow": null,
            "grid_auto_rows": null,
            "grid_column": null,
            "grid_gap": null,
            "grid_row": null,
            "grid_template_areas": null,
            "grid_template_columns": null,
            "grid_template_rows": null,
            "height": null,
            "justify_content": null,
            "justify_items": null,
            "left": null,
            "margin": null,
            "max_height": null,
            "max_width": null,
            "min_height": null,
            "min_width": null,
            "object_fit": null,
            "object_position": null,
            "order": null,
            "overflow": null,
            "overflow_x": null,
            "overflow_y": null,
            "padding": null,
            "right": null,
            "top": null,
            "visibility": null,
            "width": null
          }
        },
        "ae2157278756463a9522dbf368b86e19": {
          "model_module": "@jupyter-widgets/base",
          "model_name": "LayoutModel",
          "model_module_version": "1.2.0",
          "state": {
            "_model_module": "@jupyter-widgets/base",
            "_model_module_version": "1.2.0",
            "_model_name": "LayoutModel",
            "_view_count": null,
            "_view_module": "@jupyter-widgets/base",
            "_view_module_version": "1.2.0",
            "_view_name": "LayoutView",
            "align_content": null,
            "align_items": null,
            "align_self": null,
            "border": null,
            "bottom": null,
            "display": null,
            "flex": null,
            "flex_flow": null,
            "grid_area": null,
            "grid_auto_columns": null,
            "grid_auto_flow": null,
            "grid_auto_rows": null,
            "grid_column": null,
            "grid_gap": null,
            "grid_row": null,
            "grid_template_areas": null,
            "grid_template_columns": null,
            "grid_template_rows": null,
            "height": null,
            "justify_content": null,
            "justify_items": null,
            "left": null,
            "margin": null,
            "max_height": null,
            "max_width": null,
            "min_height": null,
            "min_width": null,
            "object_fit": null,
            "object_position": null,
            "order": null,
            "overflow": null,
            "overflow_x": null,
            "overflow_y": null,
            "padding": null,
            "right": null,
            "top": null,
            "visibility": null,
            "width": null
          }
        },
        "5880caa248f24443bd9c1d5002d03bdb": {
          "model_module": "@jupyter-widgets/controls",
          "model_name": "DescriptionStyleModel",
          "model_module_version": "1.5.0",
          "state": {
            "_model_module": "@jupyter-widgets/controls",
            "_model_module_version": "1.5.0",
            "_model_name": "DescriptionStyleModel",
            "_view_count": null,
            "_view_module": "@jupyter-widgets/base",
            "_view_module_version": "1.2.0",
            "_view_name": "StyleView",
            "description_width": ""
          }
        },
        "6fc3c9c6d3f146a9b865f51310b8b9ea": {
          "model_module": "@jupyter-widgets/base",
          "model_name": "LayoutModel",
          "model_module_version": "1.2.0",
          "state": {
            "_model_module": "@jupyter-widgets/base",
            "_model_module_version": "1.2.0",
            "_model_name": "LayoutModel",
            "_view_count": null,
            "_view_module": "@jupyter-widgets/base",
            "_view_module_version": "1.2.0",
            "_view_name": "LayoutView",
            "align_content": null,
            "align_items": null,
            "align_self": null,
            "border": null,
            "bottom": null,
            "display": null,
            "flex": null,
            "flex_flow": null,
            "grid_area": null,
            "grid_auto_columns": null,
            "grid_auto_flow": null,
            "grid_auto_rows": null,
            "grid_column": null,
            "grid_gap": null,
            "grid_row": null,
            "grid_template_areas": null,
            "grid_template_columns": null,
            "grid_template_rows": null,
            "height": null,
            "justify_content": null,
            "justify_items": null,
            "left": null,
            "margin": null,
            "max_height": null,
            "max_width": null,
            "min_height": null,
            "min_width": null,
            "object_fit": null,
            "object_position": null,
            "order": null,
            "overflow": null,
            "overflow_x": null,
            "overflow_y": null,
            "padding": null,
            "right": null,
            "top": null,
            "visibility": null,
            "width": null
          }
        },
        "c17c81aaa777403380d0197eceb8fc51": {
          "model_module": "@jupyter-widgets/controls",
          "model_name": "ProgressStyleModel",
          "model_module_version": "1.5.0",
          "state": {
            "_model_module": "@jupyter-widgets/controls",
            "_model_module_version": "1.5.0",
            "_model_name": "ProgressStyleModel",
            "_view_count": null,
            "_view_module": "@jupyter-widgets/base",
            "_view_module_version": "1.2.0",
            "_view_name": "StyleView",
            "bar_color": null,
            "description_width": ""
          }
        },
        "b8922d6abcf84693b76bd9baed2f1ba4": {
          "model_module": "@jupyter-widgets/base",
          "model_name": "LayoutModel",
          "model_module_version": "1.2.0",
          "state": {
            "_model_module": "@jupyter-widgets/base",
            "_model_module_version": "1.2.0",
            "_model_name": "LayoutModel",
            "_view_count": null,
            "_view_module": "@jupyter-widgets/base",
            "_view_module_version": "1.2.0",
            "_view_name": "LayoutView",
            "align_content": null,
            "align_items": null,
            "align_self": null,
            "border": null,
            "bottom": null,
            "display": null,
            "flex": null,
            "flex_flow": null,
            "grid_area": null,
            "grid_auto_columns": null,
            "grid_auto_flow": null,
            "grid_auto_rows": null,
            "grid_column": null,
            "grid_gap": null,
            "grid_row": null,
            "grid_template_areas": null,
            "grid_template_columns": null,
            "grid_template_rows": null,
            "height": null,
            "justify_content": null,
            "justify_items": null,
            "left": null,
            "margin": null,
            "max_height": null,
            "max_width": null,
            "min_height": null,
            "min_width": null,
            "object_fit": null,
            "object_position": null,
            "order": null,
            "overflow": null,
            "overflow_x": null,
            "overflow_y": null,
            "padding": null,
            "right": null,
            "top": null,
            "visibility": null,
            "width": null
          }
        },
        "9980d9865cb943caa6a7a52f0f150439": {
          "model_module": "@jupyter-widgets/controls",
          "model_name": "DescriptionStyleModel",
          "model_module_version": "1.5.0",
          "state": {
            "_model_module": "@jupyter-widgets/controls",
            "_model_module_version": "1.5.0",
            "_model_name": "DescriptionStyleModel",
            "_view_count": null,
            "_view_module": "@jupyter-widgets/base",
            "_view_module_version": "1.2.0",
            "_view_name": "StyleView",
            "description_width": ""
          }
        },
        "c172e02b31e94b77869f10e9571471f9": {
          "model_module": "@jupyter-widgets/controls",
          "model_name": "HBoxModel",
          "model_module_version": "1.5.0",
          "state": {
            "_dom_classes": [],
            "_model_module": "@jupyter-widgets/controls",
            "_model_module_version": "1.5.0",
            "_model_name": "HBoxModel",
            "_view_count": null,
            "_view_module": "@jupyter-widgets/controls",
            "_view_module_version": "1.5.0",
            "_view_name": "HBoxView",
            "box_style": "",
            "children": [
              "IPY_MODEL_e1f10cd801de41a098fcccf18ac2cdc1",
              "IPY_MODEL_0eda2702be744a578531e2e4155f1215",
              "IPY_MODEL_9c888626ab25409397d5318b58bc2554"
            ],
            "layout": "IPY_MODEL_281935d72d3f4cd6b92c014f9ea74889"
          }
        },
        "e1f10cd801de41a098fcccf18ac2cdc1": {
          "model_module": "@jupyter-widgets/controls",
          "model_name": "HTMLModel",
          "model_module_version": "1.5.0",
          "state": {
            "_dom_classes": [],
            "_model_module": "@jupyter-widgets/controls",
            "_model_module_version": "1.5.0",
            "_model_name": "HTMLModel",
            "_view_count": null,
            "_view_module": "@jupyter-widgets/controls",
            "_view_module_version": "1.5.0",
            "_view_name": "HTMLView",
            "description": "",
            "description_tooltip": null,
            "layout": "IPY_MODEL_ebbf110d494445b399ac0a4e052387bb",
            "placeholder": "​",
            "style": "IPY_MODEL_56a8ae46dfa94c1598e9c72bdfc26107",
            "value": "merges.txt: 100%"
          }
        },
        "0eda2702be744a578531e2e4155f1215": {
          "model_module": "@jupyter-widgets/controls",
          "model_name": "FloatProgressModel",
          "model_module_version": "1.5.0",
          "state": {
            "_dom_classes": [],
            "_model_module": "@jupyter-widgets/controls",
            "_model_module_version": "1.5.0",
            "_model_name": "FloatProgressModel",
            "_view_count": null,
            "_view_module": "@jupyter-widgets/controls",
            "_view_module_version": "1.5.0",
            "_view_name": "ProgressView",
            "bar_style": "success",
            "description": "",
            "description_tooltip": null,
            "layout": "IPY_MODEL_f1eb86ac2c334f7f9427f886c492ec68",
            "max": 456318,
            "min": 0,
            "orientation": "horizontal",
            "style": "IPY_MODEL_f533e498d8464e19bf9ddf32a8405551",
            "value": 456318
          }
        },
        "9c888626ab25409397d5318b58bc2554": {
          "model_module": "@jupyter-widgets/controls",
          "model_name": "HTMLModel",
          "model_module_version": "1.5.0",
          "state": {
            "_dom_classes": [],
            "_model_module": "@jupyter-widgets/controls",
            "_model_module_version": "1.5.0",
            "_model_name": "HTMLModel",
            "_view_count": null,
            "_view_module": "@jupyter-widgets/controls",
            "_view_module_version": "1.5.0",
            "_view_name": "HTMLView",
            "description": "",
            "description_tooltip": null,
            "layout": "IPY_MODEL_d3a15bf0cbb942aa8651c42594c548dc",
            "placeholder": "​",
            "style": "IPY_MODEL_2d21b95566214b4b8d556087a823678b",
            "value": " 456k/456k [00:00&lt;00:00, 7.19MB/s]"
          }
        },
        "281935d72d3f4cd6b92c014f9ea74889": {
          "model_module": "@jupyter-widgets/base",
          "model_name": "LayoutModel",
          "model_module_version": "1.2.0",
          "state": {
            "_model_module": "@jupyter-widgets/base",
            "_model_module_version": "1.2.0",
            "_model_name": "LayoutModel",
            "_view_count": null,
            "_view_module": "@jupyter-widgets/base",
            "_view_module_version": "1.2.0",
            "_view_name": "LayoutView",
            "align_content": null,
            "align_items": null,
            "align_self": null,
            "border": null,
            "bottom": null,
            "display": null,
            "flex": null,
            "flex_flow": null,
            "grid_area": null,
            "grid_auto_columns": null,
            "grid_auto_flow": null,
            "grid_auto_rows": null,
            "grid_column": null,
            "grid_gap": null,
            "grid_row": null,
            "grid_template_areas": null,
            "grid_template_columns": null,
            "grid_template_rows": null,
            "height": null,
            "justify_content": null,
            "justify_items": null,
            "left": null,
            "margin": null,
            "max_height": null,
            "max_width": null,
            "min_height": null,
            "min_width": null,
            "object_fit": null,
            "object_position": null,
            "order": null,
            "overflow": null,
            "overflow_x": null,
            "overflow_y": null,
            "padding": null,
            "right": null,
            "top": null,
            "visibility": null,
            "width": null
          }
        },
        "ebbf110d494445b399ac0a4e052387bb": {
          "model_module": "@jupyter-widgets/base",
          "model_name": "LayoutModel",
          "model_module_version": "1.2.0",
          "state": {
            "_model_module": "@jupyter-widgets/base",
            "_model_module_version": "1.2.0",
            "_model_name": "LayoutModel",
            "_view_count": null,
            "_view_module": "@jupyter-widgets/base",
            "_view_module_version": "1.2.0",
            "_view_name": "LayoutView",
            "align_content": null,
            "align_items": null,
            "align_self": null,
            "border": null,
            "bottom": null,
            "display": null,
            "flex": null,
            "flex_flow": null,
            "grid_area": null,
            "grid_auto_columns": null,
            "grid_auto_flow": null,
            "grid_auto_rows": null,
            "grid_column": null,
            "grid_gap": null,
            "grid_row": null,
            "grid_template_areas": null,
            "grid_template_columns": null,
            "grid_template_rows": null,
            "height": null,
            "justify_content": null,
            "justify_items": null,
            "left": null,
            "margin": null,
            "max_height": null,
            "max_width": null,
            "min_height": null,
            "min_width": null,
            "object_fit": null,
            "object_position": null,
            "order": null,
            "overflow": null,
            "overflow_x": null,
            "overflow_y": null,
            "padding": null,
            "right": null,
            "top": null,
            "visibility": null,
            "width": null
          }
        },
        "56a8ae46dfa94c1598e9c72bdfc26107": {
          "model_module": "@jupyter-widgets/controls",
          "model_name": "DescriptionStyleModel",
          "model_module_version": "1.5.0",
          "state": {
            "_model_module": "@jupyter-widgets/controls",
            "_model_module_version": "1.5.0",
            "_model_name": "DescriptionStyleModel",
            "_view_count": null,
            "_view_module": "@jupyter-widgets/base",
            "_view_module_version": "1.2.0",
            "_view_name": "StyleView",
            "description_width": ""
          }
        },
        "f1eb86ac2c334f7f9427f886c492ec68": {
          "model_module": "@jupyter-widgets/base",
          "model_name": "LayoutModel",
          "model_module_version": "1.2.0",
          "state": {
            "_model_module": "@jupyter-widgets/base",
            "_model_module_version": "1.2.0",
            "_model_name": "LayoutModel",
            "_view_count": null,
            "_view_module": "@jupyter-widgets/base",
            "_view_module_version": "1.2.0",
            "_view_name": "LayoutView",
            "align_content": null,
            "align_items": null,
            "align_self": null,
            "border": null,
            "bottom": null,
            "display": null,
            "flex": null,
            "flex_flow": null,
            "grid_area": null,
            "grid_auto_columns": null,
            "grid_auto_flow": null,
            "grid_auto_rows": null,
            "grid_column": null,
            "grid_gap": null,
            "grid_row": null,
            "grid_template_areas": null,
            "grid_template_columns": null,
            "grid_template_rows": null,
            "height": null,
            "justify_content": null,
            "justify_items": null,
            "left": null,
            "margin": null,
            "max_height": null,
            "max_width": null,
            "min_height": null,
            "min_width": null,
            "object_fit": null,
            "object_position": null,
            "order": null,
            "overflow": null,
            "overflow_x": null,
            "overflow_y": null,
            "padding": null,
            "right": null,
            "top": null,
            "visibility": null,
            "width": null
          }
        },
        "f533e498d8464e19bf9ddf32a8405551": {
          "model_module": "@jupyter-widgets/controls",
          "model_name": "ProgressStyleModel",
          "model_module_version": "1.5.0",
          "state": {
            "_model_module": "@jupyter-widgets/controls",
            "_model_module_version": "1.5.0",
            "_model_name": "ProgressStyleModel",
            "_view_count": null,
            "_view_module": "@jupyter-widgets/base",
            "_view_module_version": "1.2.0",
            "_view_name": "StyleView",
            "bar_color": null,
            "description_width": ""
          }
        },
        "d3a15bf0cbb942aa8651c42594c548dc": {
          "model_module": "@jupyter-widgets/base",
          "model_name": "LayoutModel",
          "model_module_version": "1.2.0",
          "state": {
            "_model_module": "@jupyter-widgets/base",
            "_model_module_version": "1.2.0",
            "_model_name": "LayoutModel",
            "_view_count": null,
            "_view_module": "@jupyter-widgets/base",
            "_view_module_version": "1.2.0",
            "_view_name": "LayoutView",
            "align_content": null,
            "align_items": null,
            "align_self": null,
            "border": null,
            "bottom": null,
            "display": null,
            "flex": null,
            "flex_flow": null,
            "grid_area": null,
            "grid_auto_columns": null,
            "grid_auto_flow": null,
            "grid_auto_rows": null,
            "grid_column": null,
            "grid_gap": null,
            "grid_row": null,
            "grid_template_areas": null,
            "grid_template_columns": null,
            "grid_template_rows": null,
            "height": null,
            "justify_content": null,
            "justify_items": null,
            "left": null,
            "margin": null,
            "max_height": null,
            "max_width": null,
            "min_height": null,
            "min_width": null,
            "object_fit": null,
            "object_position": null,
            "order": null,
            "overflow": null,
            "overflow_x": null,
            "overflow_y": null,
            "padding": null,
            "right": null,
            "top": null,
            "visibility": null,
            "width": null
          }
        },
        "2d21b95566214b4b8d556087a823678b": {
          "model_module": "@jupyter-widgets/controls",
          "model_name": "DescriptionStyleModel",
          "model_module_version": "1.5.0",
          "state": {
            "_model_module": "@jupyter-widgets/controls",
            "_model_module_version": "1.5.0",
            "_model_name": "DescriptionStyleModel",
            "_view_count": null,
            "_view_module": "@jupyter-widgets/base",
            "_view_module_version": "1.2.0",
            "_view_name": "StyleView",
            "description_width": ""
          }
        },
        "c6e28ebfcd694713bbb246112b5060b7": {
          "model_module": "@jupyter-widgets/controls",
          "model_name": "HBoxModel",
          "model_module_version": "1.5.0",
          "state": {
            "_dom_classes": [],
            "_model_module": "@jupyter-widgets/controls",
            "_model_module_version": "1.5.0",
            "_model_name": "HBoxModel",
            "_view_count": null,
            "_view_module": "@jupyter-widgets/controls",
            "_view_module_version": "1.5.0",
            "_view_name": "HBoxView",
            "box_style": "",
            "children": [
              "IPY_MODEL_20b962c91d6a4ee9b972c6bf585da354",
              "IPY_MODEL_e6d5ec791b8f45ca9dd1f03e54a789f2",
              "IPY_MODEL_61a883cab31740b5a4c19076f0b0c7aa"
            ],
            "layout": "IPY_MODEL_cf0c1b2ad60f495c94ac6133ee20abc1"
          }
        },
        "20b962c91d6a4ee9b972c6bf585da354": {
          "model_module": "@jupyter-widgets/controls",
          "model_name": "HTMLModel",
          "model_module_version": "1.5.0",
          "state": {
            "_dom_classes": [],
            "_model_module": "@jupyter-widgets/controls",
            "_model_module_version": "1.5.0",
            "_model_name": "HTMLModel",
            "_view_count": null,
            "_view_module": "@jupyter-widgets/controls",
            "_view_module_version": "1.5.0",
            "_view_name": "HTMLView",
            "description": "",
            "description_tooltip": null,
            "layout": "IPY_MODEL_28680ef9e1ae4a9aaf9b51240e0ee988",
            "placeholder": "​",
            "style": "IPY_MODEL_8f5c8fe00772481ca52dec60aea1bb0e",
            "value": "tokenizer.json: 100%"
          }
        },
        "e6d5ec791b8f45ca9dd1f03e54a789f2": {
          "model_module": "@jupyter-widgets/controls",
          "model_name": "FloatProgressModel",
          "model_module_version": "1.5.0",
          "state": {
            "_dom_classes": [],
            "_model_module": "@jupyter-widgets/controls",
            "_model_module_version": "1.5.0",
            "_model_name": "FloatProgressModel",
            "_view_count": null,
            "_view_module": "@jupyter-widgets/controls",
            "_view_module_version": "1.5.0",
            "_view_name": "ProgressView",
            "bar_style": "success",
            "description": "",
            "description_tooltip": null,
            "layout": "IPY_MODEL_c1881b110d9d4f999024289ae3f99c77",
            "max": 1355256,
            "min": 0,
            "orientation": "horizontal",
            "style": "IPY_MODEL_3e706ca25ac7404a989795a16930a442",
            "value": 1355256
          }
        },
        "61a883cab31740b5a4c19076f0b0c7aa": {
          "model_module": "@jupyter-widgets/controls",
          "model_name": "HTMLModel",
          "model_module_version": "1.5.0",
          "state": {
            "_dom_classes": [],
            "_model_module": "@jupyter-widgets/controls",
            "_model_module_version": "1.5.0",
            "_model_name": "HTMLModel",
            "_view_count": null,
            "_view_module": "@jupyter-widgets/controls",
            "_view_module_version": "1.5.0",
            "_view_name": "HTMLView",
            "description": "",
            "description_tooltip": null,
            "layout": "IPY_MODEL_e7a27d62f3e045c8b477165d7f85ec0d",
            "placeholder": "​",
            "style": "IPY_MODEL_8fc1ca06ac7c4e09b9df0b86cd674f26",
            "value": " 1.36M/1.36M [00:00&lt;00:00, 15.8MB/s]"
          }
        },
        "cf0c1b2ad60f495c94ac6133ee20abc1": {
          "model_module": "@jupyter-widgets/base",
          "model_name": "LayoutModel",
          "model_module_version": "1.2.0",
          "state": {
            "_model_module": "@jupyter-widgets/base",
            "_model_module_version": "1.2.0",
            "_model_name": "LayoutModel",
            "_view_count": null,
            "_view_module": "@jupyter-widgets/base",
            "_view_module_version": "1.2.0",
            "_view_name": "LayoutView",
            "align_content": null,
            "align_items": null,
            "align_self": null,
            "border": null,
            "bottom": null,
            "display": null,
            "flex": null,
            "flex_flow": null,
            "grid_area": null,
            "grid_auto_columns": null,
            "grid_auto_flow": null,
            "grid_auto_rows": null,
            "grid_column": null,
            "grid_gap": null,
            "grid_row": null,
            "grid_template_areas": null,
            "grid_template_columns": null,
            "grid_template_rows": null,
            "height": null,
            "justify_content": null,
            "justify_items": null,
            "left": null,
            "margin": null,
            "max_height": null,
            "max_width": null,
            "min_height": null,
            "min_width": null,
            "object_fit": null,
            "object_position": null,
            "order": null,
            "overflow": null,
            "overflow_x": null,
            "overflow_y": null,
            "padding": null,
            "right": null,
            "top": null,
            "visibility": null,
            "width": null
          }
        },
        "28680ef9e1ae4a9aaf9b51240e0ee988": {
          "model_module": "@jupyter-widgets/base",
          "model_name": "LayoutModel",
          "model_module_version": "1.2.0",
          "state": {
            "_model_module": "@jupyter-widgets/base",
            "_model_module_version": "1.2.0",
            "_model_name": "LayoutModel",
            "_view_count": null,
            "_view_module": "@jupyter-widgets/base",
            "_view_module_version": "1.2.0",
            "_view_name": "LayoutView",
            "align_content": null,
            "align_items": null,
            "align_self": null,
            "border": null,
            "bottom": null,
            "display": null,
            "flex": null,
            "flex_flow": null,
            "grid_area": null,
            "grid_auto_columns": null,
            "grid_auto_flow": null,
            "grid_auto_rows": null,
            "grid_column": null,
            "grid_gap": null,
            "grid_row": null,
            "grid_template_areas": null,
            "grid_template_columns": null,
            "grid_template_rows": null,
            "height": null,
            "justify_content": null,
            "justify_items": null,
            "left": null,
            "margin": null,
            "max_height": null,
            "max_width": null,
            "min_height": null,
            "min_width": null,
            "object_fit": null,
            "object_position": null,
            "order": null,
            "overflow": null,
            "overflow_x": null,
            "overflow_y": null,
            "padding": null,
            "right": null,
            "top": null,
            "visibility": null,
            "width": null
          }
        },
        "8f5c8fe00772481ca52dec60aea1bb0e": {
          "model_module": "@jupyter-widgets/controls",
          "model_name": "DescriptionStyleModel",
          "model_module_version": "1.5.0",
          "state": {
            "_model_module": "@jupyter-widgets/controls",
            "_model_module_version": "1.5.0",
            "_model_name": "DescriptionStyleModel",
            "_view_count": null,
            "_view_module": "@jupyter-widgets/base",
            "_view_module_version": "1.2.0",
            "_view_name": "StyleView",
            "description_width": ""
          }
        },
        "c1881b110d9d4f999024289ae3f99c77": {
          "model_module": "@jupyter-widgets/base",
          "model_name": "LayoutModel",
          "model_module_version": "1.2.0",
          "state": {
            "_model_module": "@jupyter-widgets/base",
            "_model_module_version": "1.2.0",
            "_model_name": "LayoutModel",
            "_view_count": null,
            "_view_module": "@jupyter-widgets/base",
            "_view_module_version": "1.2.0",
            "_view_name": "LayoutView",
            "align_content": null,
            "align_items": null,
            "align_self": null,
            "border": null,
            "bottom": null,
            "display": null,
            "flex": null,
            "flex_flow": null,
            "grid_area": null,
            "grid_auto_columns": null,
            "grid_auto_flow": null,
            "grid_auto_rows": null,
            "grid_column": null,
            "grid_gap": null,
            "grid_row": null,
            "grid_template_areas": null,
            "grid_template_columns": null,
            "grid_template_rows": null,
            "height": null,
            "justify_content": null,
            "justify_items": null,
            "left": null,
            "margin": null,
            "max_height": null,
            "max_width": null,
            "min_height": null,
            "min_width": null,
            "object_fit": null,
            "object_position": null,
            "order": null,
            "overflow": null,
            "overflow_x": null,
            "overflow_y": null,
            "padding": null,
            "right": null,
            "top": null,
            "visibility": null,
            "width": null
          }
        },
        "3e706ca25ac7404a989795a16930a442": {
          "model_module": "@jupyter-widgets/controls",
          "model_name": "ProgressStyleModel",
          "model_module_version": "1.5.0",
          "state": {
            "_model_module": "@jupyter-widgets/controls",
            "_model_module_version": "1.5.0",
            "_model_name": "ProgressStyleModel",
            "_view_count": null,
            "_view_module": "@jupyter-widgets/base",
            "_view_module_version": "1.2.0",
            "_view_name": "StyleView",
            "bar_color": null,
            "description_width": ""
          }
        },
        "e7a27d62f3e045c8b477165d7f85ec0d": {
          "model_module": "@jupyter-widgets/base",
          "model_name": "LayoutModel",
          "model_module_version": "1.2.0",
          "state": {
            "_model_module": "@jupyter-widgets/base",
            "_model_module_version": "1.2.0",
            "_model_name": "LayoutModel",
            "_view_count": null,
            "_view_module": "@jupyter-widgets/base",
            "_view_module_version": "1.2.0",
            "_view_name": "LayoutView",
            "align_content": null,
            "align_items": null,
            "align_self": null,
            "border": null,
            "bottom": null,
            "display": null,
            "flex": null,
            "flex_flow": null,
            "grid_area": null,
            "grid_auto_columns": null,
            "grid_auto_flow": null,
            "grid_auto_rows": null,
            "grid_column": null,
            "grid_gap": null,
            "grid_row": null,
            "grid_template_areas": null,
            "grid_template_columns": null,
            "grid_template_rows": null,
            "height": null,
            "justify_content": null,
            "justify_items": null,
            "left": null,
            "margin": null,
            "max_height": null,
            "max_width": null,
            "min_height": null,
            "min_width": null,
            "object_fit": null,
            "object_position": null,
            "order": null,
            "overflow": null,
            "overflow_x": null,
            "overflow_y": null,
            "padding": null,
            "right": null,
            "top": null,
            "visibility": null,
            "width": null
          }
        },
        "8fc1ca06ac7c4e09b9df0b86cd674f26": {
          "model_module": "@jupyter-widgets/controls",
          "model_name": "DescriptionStyleModel",
          "model_module_version": "1.5.0",
          "state": {
            "_model_module": "@jupyter-widgets/controls",
            "_model_module_version": "1.5.0",
            "_model_name": "DescriptionStyleModel",
            "_view_count": null,
            "_view_module": "@jupyter-widgets/base",
            "_view_module_version": "1.2.0",
            "_view_name": "StyleView",
            "description_width": ""
          }
        },
        "dc763152dd514582a2a473f7adbe389a": {
          "model_module": "@jupyter-widgets/controls",
          "model_name": "HBoxModel",
          "model_module_version": "1.5.0",
          "state": {
            "_dom_classes": [],
            "_model_module": "@jupyter-widgets/controls",
            "_model_module_version": "1.5.0",
            "_model_name": "HBoxModel",
            "_view_count": null,
            "_view_module": "@jupyter-widgets/controls",
            "_view_module_version": "1.5.0",
            "_view_name": "HBoxView",
            "box_style": "",
            "children": [
              "IPY_MODEL_03302ab627254b79ba5a0101a9307a3e",
              "IPY_MODEL_9cc197b5f69d48de918a3f70e83224f8",
              "IPY_MODEL_08b14b8952a54eae833c0fabdd393681"
            ],
            "layout": "IPY_MODEL_5c5e3e65d589471faa9dfb13ed83b0e4"
          }
        },
        "03302ab627254b79ba5a0101a9307a3e": {
          "model_module": "@jupyter-widgets/controls",
          "model_name": "HTMLModel",
          "model_module_version": "1.5.0",
          "state": {
            "_dom_classes": [],
            "_model_module": "@jupyter-widgets/controls",
            "_model_module_version": "1.5.0",
            "_model_name": "HTMLModel",
            "_view_count": null,
            "_view_module": "@jupyter-widgets/controls",
            "_view_module_version": "1.5.0",
            "_view_name": "HTMLView",
            "description": "",
            "description_tooltip": null,
            "layout": "IPY_MODEL_18904aec22d243d4b939fb611abd1a4a",
            "placeholder": "​",
            "style": "IPY_MODEL_10a32cb82311401e914baddfe06ef3d0",
            "value": "config.json: 100%"
          }
        },
        "9cc197b5f69d48de918a3f70e83224f8": {
          "model_module": "@jupyter-widgets/controls",
          "model_name": "FloatProgressModel",
          "model_module_version": "1.5.0",
          "state": {
            "_dom_classes": [],
            "_model_module": "@jupyter-widgets/controls",
            "_model_module_version": "1.5.0",
            "_model_name": "FloatProgressModel",
            "_view_count": null,
            "_view_module": "@jupyter-widgets/controls",
            "_view_module_version": "1.5.0",
            "_view_name": "ProgressView",
            "bar_style": "success",
            "description": "",
            "description_tooltip": null,
            "layout": "IPY_MODEL_a4f53dea137c4d46a9c9245e096295e2",
            "max": 665,
            "min": 0,
            "orientation": "horizontal",
            "style": "IPY_MODEL_2071a371287a49dab13c68aaa1a41ea9",
            "value": 665
          }
        },
        "08b14b8952a54eae833c0fabdd393681": {
          "model_module": "@jupyter-widgets/controls",
          "model_name": "HTMLModel",
          "model_module_version": "1.5.0",
          "state": {
            "_dom_classes": [],
            "_model_module": "@jupyter-widgets/controls",
            "_model_module_version": "1.5.0",
            "_model_name": "HTMLModel",
            "_view_count": null,
            "_view_module": "@jupyter-widgets/controls",
            "_view_module_version": "1.5.0",
            "_view_name": "HTMLView",
            "description": "",
            "description_tooltip": null,
            "layout": "IPY_MODEL_c88cbba10023463e9464ead390f47bfc",
            "placeholder": "​",
            "style": "IPY_MODEL_b02f36dbbd354fbe857fc48f2869c7f7",
            "value": " 665/665 [00:00&lt;00:00, 12.0kB/s]"
          }
        },
        "5c5e3e65d589471faa9dfb13ed83b0e4": {
          "model_module": "@jupyter-widgets/base",
          "model_name": "LayoutModel",
          "model_module_version": "1.2.0",
          "state": {
            "_model_module": "@jupyter-widgets/base",
            "_model_module_version": "1.2.0",
            "_model_name": "LayoutModel",
            "_view_count": null,
            "_view_module": "@jupyter-widgets/base",
            "_view_module_version": "1.2.0",
            "_view_name": "LayoutView",
            "align_content": null,
            "align_items": null,
            "align_self": null,
            "border": null,
            "bottom": null,
            "display": null,
            "flex": null,
            "flex_flow": null,
            "grid_area": null,
            "grid_auto_columns": null,
            "grid_auto_flow": null,
            "grid_auto_rows": null,
            "grid_column": null,
            "grid_gap": null,
            "grid_row": null,
            "grid_template_areas": null,
            "grid_template_columns": null,
            "grid_template_rows": null,
            "height": null,
            "justify_content": null,
            "justify_items": null,
            "left": null,
            "margin": null,
            "max_height": null,
            "max_width": null,
            "min_height": null,
            "min_width": null,
            "object_fit": null,
            "object_position": null,
            "order": null,
            "overflow": null,
            "overflow_x": null,
            "overflow_y": null,
            "padding": null,
            "right": null,
            "top": null,
            "visibility": null,
            "width": null
          }
        },
        "18904aec22d243d4b939fb611abd1a4a": {
          "model_module": "@jupyter-widgets/base",
          "model_name": "LayoutModel",
          "model_module_version": "1.2.0",
          "state": {
            "_model_module": "@jupyter-widgets/base",
            "_model_module_version": "1.2.0",
            "_model_name": "LayoutModel",
            "_view_count": null,
            "_view_module": "@jupyter-widgets/base",
            "_view_module_version": "1.2.0",
            "_view_name": "LayoutView",
            "align_content": null,
            "align_items": null,
            "align_self": null,
            "border": null,
            "bottom": null,
            "display": null,
            "flex": null,
            "flex_flow": null,
            "grid_area": null,
            "grid_auto_columns": null,
            "grid_auto_flow": null,
            "grid_auto_rows": null,
            "grid_column": null,
            "grid_gap": null,
            "grid_row": null,
            "grid_template_areas": null,
            "grid_template_columns": null,
            "grid_template_rows": null,
            "height": null,
            "justify_content": null,
            "justify_items": null,
            "left": null,
            "margin": null,
            "max_height": null,
            "max_width": null,
            "min_height": null,
            "min_width": null,
            "object_fit": null,
            "object_position": null,
            "order": null,
            "overflow": null,
            "overflow_x": null,
            "overflow_y": null,
            "padding": null,
            "right": null,
            "top": null,
            "visibility": null,
            "width": null
          }
        },
        "10a32cb82311401e914baddfe06ef3d0": {
          "model_module": "@jupyter-widgets/controls",
          "model_name": "DescriptionStyleModel",
          "model_module_version": "1.5.0",
          "state": {
            "_model_module": "@jupyter-widgets/controls",
            "_model_module_version": "1.5.0",
            "_model_name": "DescriptionStyleModel",
            "_view_count": null,
            "_view_module": "@jupyter-widgets/base",
            "_view_module_version": "1.2.0",
            "_view_name": "StyleView",
            "description_width": ""
          }
        },
        "a4f53dea137c4d46a9c9245e096295e2": {
          "model_module": "@jupyter-widgets/base",
          "model_name": "LayoutModel",
          "model_module_version": "1.2.0",
          "state": {
            "_model_module": "@jupyter-widgets/base",
            "_model_module_version": "1.2.0",
            "_model_name": "LayoutModel",
            "_view_count": null,
            "_view_module": "@jupyter-widgets/base",
            "_view_module_version": "1.2.0",
            "_view_name": "LayoutView",
            "align_content": null,
            "align_items": null,
            "align_self": null,
            "border": null,
            "bottom": null,
            "display": null,
            "flex": null,
            "flex_flow": null,
            "grid_area": null,
            "grid_auto_columns": null,
            "grid_auto_flow": null,
            "grid_auto_rows": null,
            "grid_column": null,
            "grid_gap": null,
            "grid_row": null,
            "grid_template_areas": null,
            "grid_template_columns": null,
            "grid_template_rows": null,
            "height": null,
            "justify_content": null,
            "justify_items": null,
            "left": null,
            "margin": null,
            "max_height": null,
            "max_width": null,
            "min_height": null,
            "min_width": null,
            "object_fit": null,
            "object_position": null,
            "order": null,
            "overflow": null,
            "overflow_x": null,
            "overflow_y": null,
            "padding": null,
            "right": null,
            "top": null,
            "visibility": null,
            "width": null
          }
        },
        "2071a371287a49dab13c68aaa1a41ea9": {
          "model_module": "@jupyter-widgets/controls",
          "model_name": "ProgressStyleModel",
          "model_module_version": "1.5.0",
          "state": {
            "_model_module": "@jupyter-widgets/controls",
            "_model_module_version": "1.5.0",
            "_model_name": "ProgressStyleModel",
            "_view_count": null,
            "_view_module": "@jupyter-widgets/base",
            "_view_module_version": "1.2.0",
            "_view_name": "StyleView",
            "bar_color": null,
            "description_width": ""
          }
        },
        "c88cbba10023463e9464ead390f47bfc": {
          "model_module": "@jupyter-widgets/base",
          "model_name": "LayoutModel",
          "model_module_version": "1.2.0",
          "state": {
            "_model_module": "@jupyter-widgets/base",
            "_model_module_version": "1.2.0",
            "_model_name": "LayoutModel",
            "_view_count": null,
            "_view_module": "@jupyter-widgets/base",
            "_view_module_version": "1.2.0",
            "_view_name": "LayoutView",
            "align_content": null,
            "align_items": null,
            "align_self": null,
            "border": null,
            "bottom": null,
            "display": null,
            "flex": null,
            "flex_flow": null,
            "grid_area": null,
            "grid_auto_columns": null,
            "grid_auto_flow": null,
            "grid_auto_rows": null,
            "grid_column": null,
            "grid_gap": null,
            "grid_row": null,
            "grid_template_areas": null,
            "grid_template_columns": null,
            "grid_template_rows": null,
            "height": null,
            "justify_content": null,
            "justify_items": null,
            "left": null,
            "margin": null,
            "max_height": null,
            "max_width": null,
            "min_height": null,
            "min_width": null,
            "object_fit": null,
            "object_position": null,
            "order": null,
            "overflow": null,
            "overflow_x": null,
            "overflow_y": null,
            "padding": null,
            "right": null,
            "top": null,
            "visibility": null,
            "width": null
          }
        },
        "b02f36dbbd354fbe857fc48f2869c7f7": {
          "model_module": "@jupyter-widgets/controls",
          "model_name": "DescriptionStyleModel",
          "model_module_version": "1.5.0",
          "state": {
            "_model_module": "@jupyter-widgets/controls",
            "_model_module_version": "1.5.0",
            "_model_name": "DescriptionStyleModel",
            "_view_count": null,
            "_view_module": "@jupyter-widgets/base",
            "_view_module_version": "1.2.0",
            "_view_name": "StyleView",
            "description_width": ""
          }
        }
      }
    }
  },
  "cells": [
    {
      "cell_type": "markdown",
      "metadata": {
        "id": "view-in-github",
        "colab_type": "text"
      },
      "source": [
        "<a href=\"https://colab.research.google.com/github/shabanakausar/shabanakausar/blob/main/Langchain_Text_Splitter.ipynb\" target=\"_parent\"><img src=\"https://colab.research.google.com/assets/colab-badge.svg\" alt=\"Open In Colab\"/></a>"
      ]
    },
    {
      "cell_type": "markdown",
      "source": [
        "#**Text Splitters**\n",
        "Once you've loaded documents, you'll often want to transform them to better suit your application. The simplest example is you may want to split a long document into smaller chunks that can fit into your model's context window. LangChain has a number of built-in document transformers that make it easy to split, combine, filter, and otherwise manipulate documents.\n",
        "\n",
        "When you want to deal with long pieces of text, it is necessary to split up that text into chunks. As simple as this sounds, there is a lot of potential complexity here. Ideally, you want to keep the semantically related pieces of text together. What \"semantically related\" means could depend on the type of text. This notebook showcases several ways to do that.\n",
        "\n",
        "* At a high level, text splitters work as following:\n",
        "\n",
        "Split the text up into small, semantically meaningful chunks (often sentences).\n",
        "Start combining these small chunks into a larger chunk until you reach a certain size (as measured by some function).\n",
        "Once you reach that size, make that chunk its own piece of text and then start creating a new chunk of text with some overlap (to keep context between chunks).\n",
        "That means there are two different axes along which you can customize your text splitter:\n",
        "\n",
        "* How the text is split\n",
        "* How the chunk size is measured\n",
        "\n",
        "\n",
        "The input text is split based on a defined chunk size with some defined chunk overlap. Chunk Size is a length function to measure the size of the chunk. This is often characters or tokens.\n",
        "\n",
        "\n",
        "Chunk Size and Chunk Overlap in Document Splitting\n",
        "A chunk overlap is used to have little overlap between two chunks and this allows for to have some notion of consistency between 2 chunks. There are different types of splitters in Lang Chain."
      ],
      "metadata": {
        "id": "PHmEelk6HIHi"
      }
    },
    {
      "cell_type": "markdown",
      "source": [
        "#**Types of Text Splitters**\n",
        "LangChain offers many different types of text splitters. These all live in the langchain-text-splitters package.\n",
        "\n",
        "#**Recursive**:\n",
        "A list of user defined characters\t\tRecursively splits text. Splitting text recursively serves the purpose of trying to keep related pieces of text next to each other. This is the recommended way to start splitting text.\n",
        "\n",
        "#**Character**\n",
        "A user defined character\t\tSplits text based on a user defined character. One of the simpler methods.\n",
        "\n",
        "Split by character is the simplest method. This splits based on characters (by default “”) and measure chunk length by number of characters.\n",
        "\n",
        "How the text is split:\n",
        "* by single character.\n",
        "* How the chunk size is measured: by number of characters.\n",
        "\n",
        "#**HTML**\n",
        "HTML specific characters: Splits text based on HTML-specific characters. Notably, this adds in relevant information about where that chunk came from (based on the HTML)\n",
        "\n",
        "#**Markdown**\n",
        "Markdown specific characters: Splits text based on Markdown-specific characters. Notably, this adds in relevant information about where that chunk came from (based on the Markdown)\n",
        "\n",
        "#**Code**\n",
        "Code (Python, JS) specific characters: Splits text based on characters specific to coding languages. 15 different languages are available to choose from.\n",
        "\n",
        "#**Token**\n",
        "Tokens Splits text on tokens. There exist a few different ways to measure tokens.HTML\tHTML specific characters\n"
      ],
      "metadata": {
        "id": "MzesYxz4OxB_"
      }
    },
    {
      "cell_type": "markdown",
      "source": [
        "#**Character Text Splitter**"
      ],
      "metadata": {
        "id": "d9duC-H_Ryx5"
      }
    },
    {
      "cell_type": "code",
      "source": [
        "%pip install -qU langchain-text-splitters"
      ],
      "metadata": {
        "id": "Fbb2GhuaHOEh"
      },
      "execution_count": 29,
      "outputs": []
    },
    {
      "cell_type": "code",
      "source": [
        "# This is a long document we can split up.\n",
        "with open(\"/content/text.txt\") as f:\n",
        "    state_of_the_union = f.read()"
      ],
      "metadata": {
        "id": "9g5PKLQ8Qx3j"
      },
      "execution_count": 30,
      "outputs": []
    },
    {
      "cell_type": "code",
      "source": [
        "from langchain_text_splitters import CharacterTextSplitter\n",
        "\n",
        "text_splitter = CharacterTextSplitter(\n",
        "    separator=\"\\n\\n\",\n",
        "    chunk_size=1000,\n",
        "    chunk_overlap=200,\n",
        "    length_function=len,\n",
        "    is_separator_regex=False,\n",
        ")"
      ],
      "metadata": {
        "id": "npazymHeQ57f"
      },
      "execution_count": 31,
      "outputs": []
    },
    {
      "cell_type": "code",
      "source": [
        "texts = text_splitter.create_documents([state_of_the_union])\n",
        "print(texts[0])"
      ],
      "metadata": {
        "colab": {
          "base_uri": "https://localhost:8080/"
        },
        "id": "N2aemL2VQ9IX",
        "outputId": "eb5fd42f-ebbf-4570-8426-46765cfa9157"
      },
      "execution_count": 32,
      "outputs": [
        {
          "output_type": "stream",
          "name": "stdout",
          "text": [
            "page_content='it is butterfly.\\nthis is a lion.\\ni love this.'\n"
          ]
        }
      ]
    },
    {
      "cell_type": "code",
      "source": [
        "metadatas = [{\"document\": 1}, {\"document\": 2}]\n",
        "documents = text_splitter.create_documents(\n",
        "    [state_of_the_union, state_of_the_union], metadatas=metadatas\n",
        ")\n",
        "print(documents[0])"
      ],
      "metadata": {
        "colab": {
          "base_uri": "https://localhost:8080/"
        },
        "id": "3EeT00pbRh08",
        "outputId": "55b943bc-8cc6-4c80-9055-6e258d9cd42a"
      },
      "execution_count": 33,
      "outputs": [
        {
          "output_type": "stream",
          "name": "stdout",
          "text": [
            "page_content='it is butterfly.\\nthis is a lion.\\ni love this.' metadata={'document': 1}\n"
          ]
        }
      ]
    },
    {
      "cell_type": "code",
      "source": [
        "text_splitter.split_text(state_of_the_union)[0]"
      ],
      "metadata": {
        "colab": {
          "base_uri": "https://localhost:8080/",
          "height": 35
        },
        "id": "wLOF_K3yTcQk",
        "outputId": "349cccd9-9755-4423-d3fb-35cee119694a"
      },
      "execution_count": 34,
      "outputs": [
        {
          "output_type": "execute_result",
          "data": {
            "text/plain": [
              "'it is butterfly.\\nthis is a lion.\\ni love this.'"
            ],
            "application/vnd.google.colaboratory.intrinsic+json": {
              "type": "string"
            }
          },
          "metadata": {},
          "execution_count": 34
        }
      ]
    },
    {
      "cell_type": "code",
      "source": [
        "text1 = \"\"\"LangChain is a framework for developing applications powered by language models. \\n\n",
        "It enables applications that:\\n\n",
        "Are context-aware: connect a language model to sources of context (prompt instructions,\\n\n",
        "few shot examples, content to ground its response in, etc.)\\n\n",
        "Reason: rely on a language model to reason (about how to answer based on provided context,\\n\n",
        "what actions to take, etc.)\\n\n",
        "This framework consists of several parts.\\n\n",
        "\n",
        "LangChain Libraries: The Python and JavaScript libraries. Contains interfaces and integrations \\n for a myriad of components,a basic run time for combining these \\n\n",
        "components into chains and agents, and off-the-shelf implementations of chains and agents. \\n\n",
        "LangChain Templates: A collection of easily deployable reference architectures for a wide variety of tasks.\\n\n",
        "LangServe: A library for deploying LangChain chains as a REST API.\\n\n",
        "LangSmith: A developer platform that lets you debug, test, evaluate,\\n\n",
        "and monitor chains built on any LLM framework and seamlessly integrates with LangChain.\\n\"\"\""
      ],
      "metadata": {
        "id": "kprabupETlZc"
      },
      "execution_count": 35,
      "outputs": []
    },
    {
      "cell_type": "code",
      "source": [
        "text_splitter = CharacterTextSplitter(\n",
        "    separator=\"\\n\",\n",
        "    chunk_size=107,\n",
        "    chunk_overlap=2,\n",
        "    length_function=len,\n",
        "    is_separator_regex=False,\n",
        ")"
      ],
      "metadata": {
        "id": "7_70qVQtYg7A"
      },
      "execution_count": 36,
      "outputs": []
    },
    {
      "cell_type": "code",
      "source": [
        "text_splitter.split_text(text1)"
      ],
      "metadata": {
        "colab": {
          "base_uri": "https://localhost:8080/"
        },
        "id": "htqfEgwCULW0",
        "outputId": "2c923a1f-2334-4bad-bff7-762d608a8920"
      },
      "execution_count": 37,
      "outputs": [
        {
          "output_type": "execute_result",
          "data": {
            "text/plain": [
              "['LangChain is a framework for developing applications powered by language models.',\n",
              " 'It enables applications that:',\n",
              " 'Are context-aware: connect a language model to sources of context (prompt instructions,',\n",
              " 'few shot examples, content to ground its response in, etc.)',\n",
              " 'Reason: rely on a language model to reason (about how to answer based on provided context,',\n",
              " 'what actions to take, etc.)\\nThis framework consists of several parts.',\n",
              " 'LangChain Libraries: The Python and JavaScript libraries. Contains interfaces and integrations',\n",
              " 'for a myriad of components,a basic run time for combining these',\n",
              " 'components into chains and agents, and off-the-shelf implementations of chains and agents.',\n",
              " 'LangChain Templates: A collection of easily deployable reference architectures for a wide variety of tasks.',\n",
              " 'LangServe: A library for deploying LangChain chains as a REST API.',\n",
              " 'LangSmith: A developer platform that lets you debug, test, evaluate,',\n",
              " 'and monitor chains built on any LLM framework and seamlessly integrates with LangChain.']"
            ]
          },
          "metadata": {},
          "execution_count": 37
        }
      ]
    },
    {
      "cell_type": "code",
      "source": [
        "texts = text_splitter.create_documents([text1])\n",
        "print(texts[0])"
      ],
      "metadata": {
        "colab": {
          "base_uri": "https://localhost:8080/"
        },
        "id": "JVZ9FXz9WAqB",
        "outputId": "f79a48bf-a053-4c16-d95a-b45ebbcddae7"
      },
      "execution_count": 38,
      "outputs": [
        {
          "output_type": "stream",
          "name": "stdout",
          "text": [
            "page_content='LangChain is a framework for developing applications powered by language models.'\n"
          ]
        }
      ]
    },
    {
      "cell_type": "code",
      "source": [
        "metadatas = [{\"Langchain\": 1}, {\"Langchain\": 2}]\n",
        "documents = text_splitter.create_documents(\n",
        "    [text1, text1], metadatas=metadatas\n",
        ")\n",
        "print(documents[0])"
      ],
      "metadata": {
        "colab": {
          "base_uri": "https://localhost:8080/"
        },
        "id": "RgJFla3JXYdl",
        "outputId": "a68efff7-6198-4c17-f749-32b7cf59cdea"
      },
      "execution_count": 39,
      "outputs": [
        {
          "output_type": "stream",
          "name": "stdout",
          "text": [
            "page_content='LangChain is a framework for developing applications powered by language models.' metadata={'Langchain': 1}\n"
          ]
        }
      ]
    },
    {
      "cell_type": "markdown",
      "source": [
        "#**Recursively split by character**\n",
        "This text splitter is the recommended one for generic text. It is parameterized by a list of characters. It tries to split on them in order until the chunks are small enough.\n",
        "\n",
        "* The default list is [\"\\n\\n\", \"\\n\", \" \", \"\"]. * * This has the effect of trying to keep all paragraphs (and then sentences, and then words) together as long as possible, as those would generically seem to be the strongest semantically related pieces of text.\n",
        "\n",
        "* How the text is split: by list of characters.\n",
        "* How the chunk size is measured: by number of characters.\n"
      ],
      "metadata": {
        "id": "GL4OAcAdafPw"
      }
    },
    {
      "cell_type": "code",
      "source": [],
      "metadata": {
        "id": "WGvJfVM8YI_s"
      },
      "execution_count": 40,
      "outputs": []
    },
    {
      "cell_type": "code",
      "source": [
        "# This is a long document we can split up.\n",
        "with open(\"/content/text.txt\") as f:\n",
        "    state = f.read()"
      ],
      "metadata": {
        "id": "tOTdHuZsbWaN"
      },
      "execution_count": 41,
      "outputs": []
    },
    {
      "cell_type": "code",
      "source": [
        "from langchain_text_splitters import RecursiveCharacterTextSplitter"
      ],
      "metadata": {
        "id": "ocsi1wM0bmhE"
      },
      "execution_count": 42,
      "outputs": []
    },
    {
      "cell_type": "code",
      "source": [
        "text_splitter = RecursiveCharacterTextSplitter(\n",
        "    # Set a really small chunk size, just to show.\n",
        "    chunk_size=100,\n",
        "    chunk_overlap=20,\n",
        "    length_function=len,\n",
        "    is_separator_regex=False,\n",
        ")"
      ],
      "metadata": {
        "id": "7XdnNOtpcoha"
      },
      "execution_count": 43,
      "outputs": []
    },
    {
      "cell_type": "code",
      "source": [
        "texts = text_splitter.create_documents([state])\n",
        "print(texts[0])"
      ],
      "metadata": {
        "colab": {
          "base_uri": "https://localhost:8080/"
        },
        "id": "sYX6K7r7cr6b",
        "outputId": "31294c06-116d-4860-e0c7-9d1b9926d1dd"
      },
      "execution_count": 44,
      "outputs": [
        {
          "output_type": "stream",
          "name": "stdout",
          "text": [
            "page_content='it is butterfly.\\nthis is a lion.\\ni love this.'\n"
          ]
        }
      ]
    },
    {
      "cell_type": "code",
      "source": [
        "text2 = \"\"\" Agents dynamically call tools. The results of those tool calls are added back to the prompt,\\n\n",
        "so that the agent can plan the next action. Depending on what tools are being used and how they’re being called,\\n\n",
        "the agent prompt can easily grow larger than the model context window.\\n\n",
        "With LCEL, it’s easy to add custom functionality for managing the size of prompts within your chain or agent.\\n\n",
        "Let’s look at simple agent example that can search Wikipedia for information.\\n\n",
        "Most LLM applications have a conversational interface. An essential component of a conversation is being able \\n\n",
        "to refer to information introduced earlier in the conversation. At bare minimum, a conversational system should\\n\n",
        "be able to access some window of past messages directly. A more complex system will need to have a world model \\n\n",
        "that it is constantly updating, which allows it to do things like maintain information about entities and their relationships.\\n\n",
        "We call this ability to store information about past interactions \"memory\".\\n\n",
        "LangChain provides a lot of utilities for adding memory to a system.\\n\n",
        "These utilities can be used by themselves or incorporated seamlessly into a chain.\\n\n",
        "\"\"\"\n",
        "\n"
      ],
      "metadata": {
        "id": "ugsEbIYJcwkS"
      },
      "execution_count": 45,
      "outputs": []
    },
    {
      "cell_type": "code",
      "source": [
        "text_splitter = RecursiveCharacterTextSplitter(\n",
        "    # Set a really small chunk size, just to show.\n",
        "    chunk_size=100,\n",
        "    chunk_overlap=10,\n",
        "    length_function=len,\n",
        "    is_separator_regex=False,\n",
        ")"
      ],
      "metadata": {
        "id": "jOpXfausd0ve"
      },
      "execution_count": 46,
      "outputs": []
    },
    {
      "cell_type": "code",
      "source": [
        "text_splitter.split_text(text2)"
      ],
      "metadata": {
        "colab": {
          "base_uri": "https://localhost:8080/"
        },
        "id": "o8SfKkUdgxYC",
        "outputId": "94ecbca0-c427-4708-9a9a-ff19cce29e26"
      },
      "execution_count": 47,
      "outputs": [
        {
          "output_type": "execute_result",
          "data": {
            "text/plain": [
              "['Agents dynamically call tools. The results of those tool calls are added back to the prompt,',\n",
              " 'so that the agent can plan the next action. Depending on what tools are being used and how they’re',\n",
              " 'they’re being called,',\n",
              " 'the agent prompt can easily grow larger than the model context window.',\n",
              " 'With LCEL, it’s easy to add custom functionality for managing the size of prompts within your chain',\n",
              " 'chain or agent.',\n",
              " 'Let’s look at simple agent example that can search Wikipedia for information.',\n",
              " 'Most LLM applications have a conversational interface. An essential component of a conversation is',\n",
              " 'is being able',\n",
              " 'to refer to information introduced earlier in the conversation. At bare minimum, a conversational',\n",
              " 'system should',\n",
              " 'be able to access some window of past messages directly. A more complex system will need to have a',\n",
              " 'to have a world model',\n",
              " 'that it is constantly updating, which allows it to do things like maintain information about',\n",
              " 'about entities and their relationships.',\n",
              " 'We call this ability to store information about past interactions \"memory\".',\n",
              " 'LangChain provides a lot of utilities for adding memory to a system.',\n",
              " 'These utilities can be used by themselves or incorporated seamlessly into a chain.']"
            ]
          },
          "metadata": {},
          "execution_count": 47
        }
      ]
    },
    {
      "cell_type": "code",
      "source": [
        "metadatas = [{\"Agent\": 1}, {\"Memory\": 2}]\n",
        "documents = text_splitter.create_documents(\n",
        "    [text2, text2], metadatas=metadatas\n",
        ")\n",
        "print(documents[0])"
      ],
      "metadata": {
        "colab": {
          "base_uri": "https://localhost:8080/"
        },
        "id": "-g1wc00mg7ux",
        "outputId": "d4e8c141-b03b-428f-b759-caa801161685"
      },
      "execution_count": 48,
      "outputs": [
        {
          "output_type": "stream",
          "name": "stdout",
          "text": [
            "page_content='Agents dynamically call tools. The results of those tool calls are added back to the prompt,' metadata={'Agent': 1}\n"
          ]
        }
      ]
    },
    {
      "cell_type": "code",
      "source": [
        "text_splitter.split_text(text2)[0]"
      ],
      "metadata": {
        "colab": {
          "base_uri": "https://localhost:8080/",
          "height": 35
        },
        "id": "jCsYwvomhyzh",
        "outputId": "1b89a211-8b79-4726-c318-30fe07a101e7"
      },
      "execution_count": 49,
      "outputs": [
        {
          "output_type": "execute_result",
          "data": {
            "text/plain": [
              "'Agents dynamically call tools. The results of those tool calls are added back to the prompt,'"
            ],
            "application/vnd.google.colaboratory.intrinsic+json": {
              "type": "string"
            }
          },
          "metadata": {},
          "execution_count": 49
        }
      ]
    },
    {
      "cell_type": "markdown",
      "source": [
        "## **Token splitting**\n",
        "\n",
        "We can also split on token count explicity, if we want.\n",
        "\n",
        "This can be useful because LLMs often have context windows designated in tokens.\n",
        "\n",
        "Tokens are often ~4 characters."
      ],
      "metadata": {
        "id": "lWX980ImYj51"
      }
    },
    {
      "cell_type": "markdown",
      "source": [
        "#**Split by tokens**\n",
        "Language models have a token limit. You should not exceed the token limit. When you split your text into chunks it is therefore a good idea to count the number of tokens. There are many tokenizers. When you count tokens in your text you should use the same tokenizer as used in the language model.\n",
        "\n",
        "* tiktoken\n",
        "* spaCy\n",
        "* NLTK\n",
        "* Hugging Face tokenizer\n",
        "\n",
        "\n",
        "\n",
        "#tiktoken\n",
        "tiktoken is a fast BPE tokenizer created by OpenAI.\n",
        "\n",
        "We can use it to estimate tokens used. It will probably be more accurate for the OpenAI models.\n",
        "\n",
        "\n",
        "\n",
        "How the text is split: by character passed in.\n",
        "How the chunk size is measured: by tiktoken tokenizer.\n",
        "\n"
      ],
      "metadata": {
        "id": "1509C0xhdd4j"
      }
    },
    {
      "cell_type": "code",
      "source": [
        "!pip install langchain"
      ],
      "metadata": {
        "colab": {
          "base_uri": "https://localhost:8080/"
        },
        "id": "RQBfkziFTADH",
        "outputId": "981fbfca-3d63-423f-f087-357cfda33dbe"
      },
      "execution_count": 51,
      "outputs": [
        {
          "output_type": "stream",
          "name": "stdout",
          "text": [
            "Collecting langchain\n",
            "  Downloading langchain-0.1.12-py3-none-any.whl (809 kB)\n",
            "\u001b[2K     \u001b[90m━━━━━━━━━━━━━━━━━━━━━━━━━━━━━━━━━━━━━━━━\u001b[0m \u001b[32m809.1/809.1 kB\u001b[0m \u001b[31m4.9 MB/s\u001b[0m eta \u001b[36m0:00:00\u001b[0m\n",
            "\u001b[?25hRequirement already satisfied: PyYAML>=5.3 in /usr/local/lib/python3.10/dist-packages (from langchain) (6.0.1)\n",
            "Requirement already satisfied: SQLAlchemy<3,>=1.4 in /usr/local/lib/python3.10/dist-packages (from langchain) (2.0.28)\n",
            "Requirement already satisfied: aiohttp<4.0.0,>=3.8.3 in /usr/local/lib/python3.10/dist-packages (from langchain) (3.9.3)\n",
            "Requirement already satisfied: async-timeout<5.0.0,>=4.0.0 in /usr/local/lib/python3.10/dist-packages (from langchain) (4.0.3)\n",
            "Collecting dataclasses-json<0.7,>=0.5.7 (from langchain)\n",
            "  Downloading dataclasses_json-0.6.4-py3-none-any.whl (28 kB)\n",
            "Requirement already satisfied: jsonpatch<2.0,>=1.33 in /usr/local/lib/python3.10/dist-packages (from langchain) (1.33)\n",
            "Collecting langchain-community<0.1,>=0.0.28 (from langchain)\n",
            "  Downloading langchain_community-0.0.28-py3-none-any.whl (1.8 MB)\n",
            "\u001b[2K     \u001b[90m━━━━━━━━━━━━━━━━━━━━━━━━━━━━━━━━━━━━━━━━\u001b[0m \u001b[32m1.8/1.8 MB\u001b[0m \u001b[31m21.8 MB/s\u001b[0m eta \u001b[36m0:00:00\u001b[0m\n",
            "\u001b[?25hRequirement already satisfied: langchain-core<0.2.0,>=0.1.31 in /usr/local/lib/python3.10/dist-packages (from langchain) (0.1.32)\n",
            "Requirement already satisfied: langchain-text-splitters<0.1,>=0.0.1 in /usr/local/lib/python3.10/dist-packages (from langchain) (0.0.1)\n",
            "Requirement already satisfied: langsmith<0.2.0,>=0.1.17 in /usr/local/lib/python3.10/dist-packages (from langchain) (0.1.31)\n",
            "Requirement already satisfied: numpy<2,>=1 in /usr/local/lib/python3.10/dist-packages (from langchain) (1.25.2)\n",
            "Requirement already satisfied: pydantic<3,>=1 in /usr/local/lib/python3.10/dist-packages (from langchain) (2.6.4)\n",
            "Requirement already satisfied: requests<3,>=2 in /usr/local/lib/python3.10/dist-packages (from langchain) (2.31.0)\n",
            "Requirement already satisfied: tenacity<9.0.0,>=8.1.0 in /usr/local/lib/python3.10/dist-packages (from langchain) (8.2.3)\n",
            "Requirement already satisfied: aiosignal>=1.1.2 in /usr/local/lib/python3.10/dist-packages (from aiohttp<4.0.0,>=3.8.3->langchain) (1.3.1)\n",
            "Requirement already satisfied: attrs>=17.3.0 in /usr/local/lib/python3.10/dist-packages (from aiohttp<4.0.0,>=3.8.3->langchain) (23.2.0)\n",
            "Requirement already satisfied: frozenlist>=1.1.1 in /usr/local/lib/python3.10/dist-packages (from aiohttp<4.0.0,>=3.8.3->langchain) (1.4.1)\n",
            "Requirement already satisfied: multidict<7.0,>=4.5 in /usr/local/lib/python3.10/dist-packages (from aiohttp<4.0.0,>=3.8.3->langchain) (6.0.5)\n",
            "Requirement already satisfied: yarl<2.0,>=1.0 in /usr/local/lib/python3.10/dist-packages (from aiohttp<4.0.0,>=3.8.3->langchain) (1.9.4)\n",
            "Collecting marshmallow<4.0.0,>=3.18.0 (from dataclasses-json<0.7,>=0.5.7->langchain)\n",
            "  Downloading marshmallow-3.21.1-py3-none-any.whl (49 kB)\n",
            "\u001b[2K     \u001b[90m━━━━━━━━━━━━━━━━━━━━━━━━━━━━━━━━━━━━━━━━\u001b[0m \u001b[32m49.4/49.4 kB\u001b[0m \u001b[31m4.3 MB/s\u001b[0m eta \u001b[36m0:00:00\u001b[0m\n",
            "\u001b[?25hCollecting typing-inspect<1,>=0.4.0 (from dataclasses-json<0.7,>=0.5.7->langchain)\n",
            "  Downloading typing_inspect-0.9.0-py3-none-any.whl (8.8 kB)\n",
            "Requirement already satisfied: jsonpointer>=1.9 in /usr/local/lib/python3.10/dist-packages (from jsonpatch<2.0,>=1.33->langchain) (2.4)\n",
            "Requirement already satisfied: anyio<5,>=3 in /usr/local/lib/python3.10/dist-packages (from langchain-core<0.2.0,>=0.1.31->langchain) (3.7.1)\n",
            "Requirement already satisfied: packaging<24.0,>=23.2 in /usr/local/lib/python3.10/dist-packages (from langchain-core<0.2.0,>=0.1.31->langchain) (23.2)\n",
            "Requirement already satisfied: orjson<4.0.0,>=3.9.14 in /usr/local/lib/python3.10/dist-packages (from langsmith<0.2.0,>=0.1.17->langchain) (3.9.15)\n",
            "Requirement already satisfied: annotated-types>=0.4.0 in /usr/local/lib/python3.10/dist-packages (from pydantic<3,>=1->langchain) (0.6.0)\n",
            "Requirement already satisfied: pydantic-core==2.16.3 in /usr/local/lib/python3.10/dist-packages (from pydantic<3,>=1->langchain) (2.16.3)\n",
            "Requirement already satisfied: typing-extensions>=4.6.1 in /usr/local/lib/python3.10/dist-packages (from pydantic<3,>=1->langchain) (4.10.0)\n",
            "Requirement already satisfied: charset-normalizer<4,>=2 in /usr/local/lib/python3.10/dist-packages (from requests<3,>=2->langchain) (3.3.2)\n",
            "Requirement already satisfied: idna<4,>=2.5 in /usr/local/lib/python3.10/dist-packages (from requests<3,>=2->langchain) (3.6)\n",
            "Requirement already satisfied: urllib3<3,>=1.21.1 in /usr/local/lib/python3.10/dist-packages (from requests<3,>=2->langchain) (2.0.7)\n",
            "Requirement already satisfied: certifi>=2017.4.17 in /usr/local/lib/python3.10/dist-packages (from requests<3,>=2->langchain) (2024.2.2)\n",
            "Requirement already satisfied: greenlet!=0.4.17 in /usr/local/lib/python3.10/dist-packages (from SQLAlchemy<3,>=1.4->langchain) (3.0.3)\n",
            "Requirement already satisfied: sniffio>=1.1 in /usr/local/lib/python3.10/dist-packages (from anyio<5,>=3->langchain-core<0.2.0,>=0.1.31->langchain) (1.3.1)\n",
            "Requirement already satisfied: exceptiongroup in /usr/local/lib/python3.10/dist-packages (from anyio<5,>=3->langchain-core<0.2.0,>=0.1.31->langchain) (1.2.0)\n",
            "Collecting mypy-extensions>=0.3.0 (from typing-inspect<1,>=0.4.0->dataclasses-json<0.7,>=0.5.7->langchain)\n",
            "  Downloading mypy_extensions-1.0.0-py3-none-any.whl (4.7 kB)\n",
            "Installing collected packages: mypy-extensions, marshmallow, typing-inspect, dataclasses-json, langchain-community, langchain\n",
            "Successfully installed dataclasses-json-0.6.4 langchain-0.1.12 langchain-community-0.0.28 marshmallow-3.21.1 mypy-extensions-1.0.0 typing-inspect-0.9.0\n"
          ]
        }
      ]
    },
    {
      "cell_type": "code",
      "source": [
        "from langchain.text_splitter import TokenTextSplitter"
      ],
      "metadata": {
        "id": "CY6ZXdbBiGhl"
      },
      "execution_count": 52,
      "outputs": []
    },
    {
      "cell_type": "code",
      "source": [
        "%pip install --upgrade --quiet langchain-text-splitters tiktoken\n",
        "\n",
        "!pip install PyPDF"
      ],
      "metadata": {
        "colab": {
          "base_uri": "https://localhost:8080/"
        },
        "id": "HPvjJ_wIZgIV",
        "outputId": "06bf3731-05b1-4407-9a4d-8cda589be7a6"
      },
      "execution_count": 54,
      "outputs": [
        {
          "output_type": "stream",
          "name": "stdout",
          "text": [
            "Requirement already satisfied: PyPDF in /usr/local/lib/python3.10/dist-packages (4.1.0)\n"
          ]
        }
      ]
    },
    {
      "cell_type": "code",
      "source": [
        "from langchain.document_loaders import PyPDFLoader"
      ],
      "metadata": {
        "id": "aeK8_ICVbygb"
      },
      "execution_count": 55,
      "outputs": []
    },
    {
      "cell_type": "code",
      "source": [
        "loader = PyPDFLoader(\"/content/MachineLearning-Lecture01.pdf\")\n",
        "pages = loader.load()"
      ],
      "metadata": {
        "id": "d_5gpXkwacRA"
      },
      "execution_count": 57,
      "outputs": []
    },
    {
      "cell_type": "code",
      "source": [
        "text_splitter = TokenTextSplitter(chunk_size=1, chunk_overlap=0)"
      ],
      "metadata": {
        "id": "tK1Zk0OUYnkN"
      },
      "execution_count": 58,
      "outputs": []
    },
    {
      "cell_type": "code",
      "source": [
        "text1 = \"foo bar bazzyfoo\""
      ],
      "metadata": {
        "id": "2xvEY_j5YyFP"
      },
      "execution_count": 59,
      "outputs": []
    },
    {
      "cell_type": "code",
      "source": [
        "text_splitter.split_text(text1)"
      ],
      "metadata": {
        "colab": {
          "base_uri": "https://localhost:8080/"
        },
        "id": "Y_tGXL3dZ66e",
        "outputId": "a1740ced-2a36-4ea1-fcd3-0e4f0ba5d6f7"
      },
      "execution_count": 60,
      "outputs": [
        {
          "output_type": "execute_result",
          "data": {
            "text/plain": [
              "['foo', ' bar', ' b', 'az', 'zy', 'foo']"
            ]
          },
          "metadata": {},
          "execution_count": 60
        }
      ]
    },
    {
      "cell_type": "code",
      "source": [
        "text_splitter = TokenTextSplitter(chunk_size=10, chunk_overlap=0)"
      ],
      "metadata": {
        "id": "eN3pU89rZ9xZ"
      },
      "execution_count": 61,
      "outputs": []
    },
    {
      "cell_type": "code",
      "source": [
        "docs = text_splitter.split_documents(pages)"
      ],
      "metadata": {
        "id": "IHXYbwKSaBsv"
      },
      "execution_count": 62,
      "outputs": []
    },
    {
      "cell_type": "code",
      "source": [
        "for i in range(len(docs)):\n",
        "    print(docs[i])"
      ],
      "metadata": {
        "colab": {
          "base_uri": "https://localhost:8080/"
        },
        "id": "pC6YLzQhaMt5",
        "outputId": "5e08f8a5-6eb7-4e7e-c9c3-f88d81e599e7"
      },
      "execution_count": 63,
      "outputs": [
        {
          "output_type": "stream",
          "name": "stdout",
          "text": [
            "page_content='MachineLearning-Lecture01  \\n' metadata={'source': '/content/MachineLearning-Lecture01.pdf', 'page': 0}\n",
            "page_content='Instructor (Andrew Ng):  Okay. Good' metadata={'source': '/content/MachineLearning-Lecture01.pdf', 'page': 0}\n",
            "page_content=' morning. Welcome to CS229, the machine ' metadata={'source': '/content/MachineLearning-Lecture01.pdf', 'page': 0}\n",
            "page_content='\\nlearning class. So what I wanna do today' metadata={'source': '/content/MachineLearning-Lecture01.pdf', 'page': 0}\n",
            "page_content=' is ju st spend a little time going over the' metadata={'source': '/content/MachineLearning-Lecture01.pdf', 'page': 0}\n",
            "page_content=' logistics \\nof the class, and then we' metadata={'source': '/content/MachineLearning-Lecture01.pdf', 'page': 0}\n",
            "page_content=\"'ll start to  talk a bit about machine learning\" metadata={'source': '/content/MachineLearning-Lecture01.pdf', 'page': 0}\n",
            "page_content='.  \\nBy way of introduction, my' metadata={'source': '/content/MachineLearning-Lecture01.pdf', 'page': 0}\n",
            "page_content=\" name's  Andrew Ng and I'll be inst\" metadata={'source': '/content/MachineLearning-Lecture01.pdf', 'page': 0}\n",
            "page_content='ru ctor for this class. And so ' metadata={'source': '/content/MachineLearning-Lecture01.pdf', 'page': 0}\n",
            "page_content='\\nI personally work in machine learning, and I' metadata={'source': '/content/MachineLearning-Lecture01.pdf', 'page': 0}\n",
            "page_content=\"' ve worked on it for about 15 years now\" metadata={'source': '/content/MachineLearning-Lecture01.pdf', 'page': 0}\n",
            "page_content=', and \\nI actually think that machine learning' metadata={'source': '/content/MachineLearning-Lecture01.pdf', 'page': 0}\n",
            "page_content=' is th e most exciting field of all the computer' metadata={'source': '/content/MachineLearning-Lecture01.pdf', 'page': 0}\n",
            "page_content=\" \\nsciences. So I'm actually always\" metadata={'source': '/content/MachineLearning-Lecture01.pdf', 'page': 0}\n",
            "page_content=' excited about  teaching this class. Sometimes I actually' metadata={'source': '/content/MachineLearning-Lecture01.pdf', 'page': 0}\n",
            "page_content=' \\nthink that machine learning is not only the' metadata={'source': '/content/MachineLearning-Lecture01.pdf', 'page': 0}\n",
            "page_content=' most exciting thin g in computer science, but ' metadata={'source': '/content/MachineLearning-Lecture01.pdf', 'page': 0}\n",
            "page_content='\\nthe most exciting thing in all of human e' metadata={'source': '/content/MachineLearning-Lecture01.pdf', 'page': 0}\n",
            "page_content=' ndeavor, so maybe a little bias there' metadata={'source': '/content/MachineLearning-Lecture01.pdf', 'page': 0}\n",
            "page_content='.  \\nI also want to introduce the' metadata={'source': '/content/MachineLearning-Lecture01.pdf', 'page': 0}\n",
            "page_content=' TAs, who are all graduate students doing research' metadata={'source': '/content/MachineLearning-Lecture01.pdf', 'page': 0}\n",
            "page_content=' in or \\nrelated to the machine learni' metadata={'source': '/content/MachineLearning-Lecture01.pdf', 'page': 0}\n",
            "page_content=' ng and all aspects of machin e learning.' metadata={'source': '/content/MachineLearning-Lecture01.pdf', 'page': 0}\n",
            "page_content=' Paul Baumstarck \\nworks in machine' metadata={'source': '/content/MachineLearning-Lecture01.pdf', 'page': 0}\n",
            "page_content=' learning and computer vision.  Catie Chang is' metadata={'source': '/content/MachineLearning-Lecture01.pdf', 'page': 0}\n",
            "page_content=' actually a neuroscientist \\nwho applies machine' metadata={'source': '/content/MachineLearning-Lecture01.pdf', 'page': 0}\n",
            "page_content=' learning algorithms to try to understand the human brain.' metadata={'source': '/content/MachineLearning-Lecture01.pdf', 'page': 0}\n",
            "page_content=' Tom Do \\nis another PhD student, works' metadata={'source': '/content/MachineLearning-Lecture01.pdf', 'page': 0}\n",
            "page_content=' in computa tional biology and in sort of' metadata={'source': '/content/MachineLearning-Lecture01.pdf', 'page': 0}\n",
            "page_content=' the basic \\nfundamentals of human learning' metadata={'source': '/content/MachineLearning-Lecture01.pdf', 'page': 0}\n",
            "page_content='. Zico Kolter is  the head TA' metadata={'source': '/content/MachineLearning-Lecture01.pdf', 'page': 0}\n",
            "page_content=\" — he's head TA two years \\nin\" metadata={'source': '/content/MachineLearning-Lecture01.pdf', 'page': 0}\n",
            "page_content=' a row now — works in machine learning a n' metadata={'source': '/content/MachineLearning-Lecture01.pdf', 'page': 0}\n",
            "page_content='d applies them to a bunch of robots. And' metadata={'source': '/content/MachineLearning-Lecture01.pdf', 'page': 0}\n",
            "page_content=' \\nDaniel Ramage is — I guess he' metadata={'source': '/content/MachineLearning-Lecture01.pdf', 'page': 0}\n",
            "page_content=\"'s not here  — Daniel applies l earning algorithms\" metadata={'source': '/content/MachineLearning-Lecture01.pdf', 'page': 0}\n",
            "page_content=' to \\nproblems in natural language processing.' metadata={'source': '/content/MachineLearning-Lecture01.pdf', 'page': 0}\n",
            "page_content=\"  \\nSo you'll get to know the\" metadata={'source': '/content/MachineLearning-Lecture01.pdf', 'page': 0}\n",
            "page_content=' TAs and me much be tter throughout this' metadata={'source': '/content/MachineLearning-Lecture01.pdf', 'page': 0}\n",
            "page_content=' quarter, but just from \\nthe sorts of' metadata={'source': '/content/MachineLearning-Lecture01.pdf', 'page': 0}\n",
            "page_content=\" things the TA's do, I hope you can\" metadata={'source': '/content/MachineLearning-Lecture01.pdf', 'page': 0}\n",
            "page_content='  already tell that machine learning is a \\n' metadata={'source': '/content/MachineLearning-Lecture01.pdf', 'page': 0}\n",
            "page_content='highly interdisciplinary topic in which just the TAs' metadata={'source': '/content/MachineLearning-Lecture01.pdf', 'page': 0}\n",
            "page_content=' find l earning algorithms to problems \\nin computer' metadata={'source': '/content/MachineLearning-Lecture01.pdf', 'page': 0}\n",
            "page_content=' vision and biology and robots a nd language.' metadata={'source': '/content/MachineLearning-Lecture01.pdf', 'page': 0}\n",
            "page_content=' And machine learning is one of \\nthose things' metadata={'source': '/content/MachineLearning-Lecture01.pdf', 'page': 0}\n",
            "page_content=' that has and is having a large impact on many' metadata={'source': '/content/MachineLearning-Lecture01.pdf', 'page': 0}\n",
            "page_content=' applications.  \\nSo just in my own' metadata={'source': '/content/MachineLearning-Lecture01.pdf', 'page': 0}\n",
            "page_content=' daily work, I actually frequently end up talking to' metadata={'source': '/content/MachineLearning-Lecture01.pdf', 'page': 0}\n",
            "page_content=' people like \\nhelicopter pilots to biologists' metadata={'source': '/content/MachineLearning-Lecture01.pdf', 'page': 0}\n",
            "page_content=' to people in  computer systems or databases to economists' metadata={'source': '/content/MachineLearning-Lecture01.pdf', 'page': 0}\n",
            "page_content=' \\nand sort of also an unending stream' metadata={'source': '/content/MachineLearning-Lecture01.pdf', 'page': 0}\n",
            "page_content=' of  people from industry coming to Stanford \\n' metadata={'source': '/content/MachineLearning-Lecture01.pdf', 'page': 0}\n",
            "page_content='interested in applying machine learni ng methods to their' metadata={'source': '/content/MachineLearning-Lecture01.pdf', 'page': 0}\n",
            "page_content=' own problems.  \\nSo yeah, this' metadata={'source': '/content/MachineLearning-Lecture01.pdf', 'page': 0}\n",
            "page_content=' is fun. A couple of weeks ago, a' metadata={'source': '/content/MachineLearning-Lecture01.pdf', 'page': 0}\n",
            "page_content=' student actually forwar ded to me an article ' metadata={'source': '/content/MachineLearning-Lecture01.pdf', 'page': 0}\n",
            "page_content='\\nin \"Computer World\" about the 12 IT' metadata={'source': '/content/MachineLearning-Lecture01.pdf', 'page': 0}\n",
            "page_content=\" skills th at employers can't say no to.\" metadata={'source': '/content/MachineLearning-Lecture01.pdf', 'page': 0}\n",
            "page_content=\" So it's about \\nsort of the 12\" metadata={'source': '/content/MachineLearning-Lecture01.pdf', 'page': 0}\n",
            "page_content=' most desirabl e skills in all of IT' metadata={'source': '/content/MachineLearning-Lecture01.pdf', 'page': 0}\n",
            "page_content=' and all of information technology, and \\nto' metadata={'source': '/content/MachineLearning-Lecture01.pdf', 'page': 0}\n",
            "page_content='pping the list was actually machine lear ning.' metadata={'source': '/content/MachineLearning-Lecture01.pdf', 'page': 0}\n",
            "page_content=' So I think this is a good time to be' metadata={'source': '/content/MachineLearning-Lecture01.pdf', 'page': 0}\n",
            "page_content=' \\nlearning this stuff and learning algorithms and having' metadata={'source': '/content/MachineLearning-Lecture01.pdf', 'page': 0}\n",
            "page_content=' a large impact on many segments \\nof science' metadata={'source': '/content/MachineLearning-Lecture01.pdf', 'page': 0}\n",
            "page_content=\" and industry.  \\nI'm actually curious\" metadata={'source': '/content/MachineLearning-Lecture01.pdf', 'page': 0}\n",
            "page_content=' about something. Learni ng algorithms is one of' metadata={'source': '/content/MachineLearning-Lecture01.pdf', 'page': 0}\n",
            "page_content=' the things that \\ntouches many areas' metadata={'source': '/content/MachineLearning-Lecture01.pdf', 'page': 0}\n",
            "page_content=\" of science and industrie s, and I'm\" metadata={'source': '/content/MachineLearning-Lecture01.pdf', 'page': 0}\n",
            "page_content=' just kind of curious. How many \\npeople' metadata={'source': '/content/MachineLearning-Lecture01.pdf', 'page': 0}\n",
            "page_content=' here are computer science majors, are in the computer' metadata={'source': '/content/MachineLearning-Lecture01.pdf', 'page': 0}\n",
            "page_content=' science department? Okay. \\nAbout half of' metadata={'source': '/content/MachineLearning-Lecture01.pdf', 'page': 0}\n",
            "page_content=' you. How many people are from  EE?' metadata={'source': '/content/MachineLearning-Lecture01.pdf', 'page': 0}\n",
            "page_content=' Oh, okay, maybe about a fifth. How' metadata={'source': '/content/MachineLearning-Lecture01.pdf', 'page': 0}\n",
            "page_content=' ' metadata={'source': '/content/MachineLearning-Lecture01.pdf', 'page': 0}\n",
            "page_content='many biologers are there here? Wow,' metadata={'source': '/content/MachineLearning-Lecture01.pdf', 'page': 1}\n",
            "page_content=\" just a few, not many. I'm surprised\" metadata={'source': '/content/MachineLearning-Lecture01.pdf', 'page': 1}\n",
            "page_content='. Anyone from \\nstatistics? Okay,' metadata={'source': '/content/MachineLearning-Lecture01.pdf', 'page': 1}\n",
            "page_content=' a few. So where are the rest of you' metadata={'source': '/content/MachineLearning-Lecture01.pdf', 'page': 1}\n",
            "page_content=' from?  \\nStudent : iCME' metadata={'source': '/content/MachineLearning-Lecture01.pdf', 'page': 1}\n",
            "page_content='.  \\nInstructor (Andrew Ng)' metadata={'source': '/content/MachineLearning-Lecture01.pdf', 'page': 1}\n",
            "page_content=' : Say again?  \\nStudent : i' metadata={'source': '/content/MachineLearning-Lecture01.pdf', 'page': 1}\n",
            "page_content='CME.  \\nInstructor (Andrew' metadata={'source': '/content/MachineLearning-Lecture01.pdf', 'page': 1}\n",
            "page_content=' Ng) : iCME. Cool. ' metadata={'source': '/content/MachineLearning-Lecture01.pdf', 'page': 1}\n",
            "page_content=' \\nStudent : [Inaudible]. ' metadata={'source': '/content/MachineLearning-Lecture01.pdf', 'page': 1}\n",
            "page_content=' \\nInstructor (Andrew Ng) : Civ' metadata={'source': '/content/MachineLearning-Lecture01.pdf', 'page': 1}\n",
            "page_content='i and what else?  \\nStudent :' metadata={'source': '/content/MachineLearning-Lecture01.pdf', 'page': 1}\n",
            "page_content=' [Inaudible]  \\nInstructor' metadata={'source': '/content/MachineLearning-Lecture01.pdf', 'page': 1}\n",
            "page_content=' (Andrew Ng) : Synthesis, [ina' metadata={'source': '/content/MachineLearning-Lecture01.pdf', 'page': 1}\n",
            "page_content='udible] systems. Yeah, cool. ' metadata={'source': '/content/MachineLearning-Lecture01.pdf', 'page': 1}\n",
            "page_content=' \\nStudent : Chemi.  \\n' metadata={'source': '/content/MachineLearning-Lecture01.pdf', 'page': 1}\n",
            "page_content='Instructor (Andrew Ng) : Chemi.' metadata={'source': '/content/MachineLearning-Lecture01.pdf', 'page': 1}\n",
            "page_content=' Cool.  \\nStudent : [Inaud' metadata={'source': '/content/MachineLearning-Lecture01.pdf', 'page': 1}\n",
            "page_content='ible].  \\nInstructor (Andrew Ng' metadata={'source': '/content/MachineLearning-Lecture01.pdf', 'page': 1}\n",
            "page_content=') : Aero/astro. Yes, right' metadata={'source': '/content/MachineLearning-Lecture01.pdf', 'page': 1}\n",
            "page_content='. Yeah, okay, cool. Anyone else?' metadata={'source': '/content/MachineLearning-Lecture01.pdf', 'page': 1}\n",
            "page_content='  \\nStudent : [Inaudible].' metadata={'source': '/content/MachineLearning-Lecture01.pdf', 'page': 1}\n",
            "page_content='  \\nInstructor (Andrew Ng) :' metadata={'source': '/content/MachineLearning-Lecture01.pdf', 'page': 1}\n",
            "page_content=' Pardon? MSNE. All ri g' metadata={'source': '/content/MachineLearning-Lecture01.pdf', 'page': 1}\n",
            "page_content='ht. Cool. Yeah.  \\nStudent' metadata={'source': '/content/MachineLearning-Lecture01.pdf', 'page': 1}\n",
            "page_content=' : [Inaudible].  \\nInstruct' metadata={'source': '/content/MachineLearning-Lecture01.pdf', 'page': 1}\n",
            "page_content='or (Andrew Ng) : Pardon? ' metadata={'source': '/content/MachineLearning-Lecture01.pdf', 'page': 1}\n",
            "page_content=' \\nStudent : [Inaudible]. ' metadata={'source': '/content/MachineLearning-Lecture01.pdf', 'page': 1}\n",
            "page_content=' \\nInstructor (Andrew Ng) : End' metadata={'source': '/content/MachineLearning-Lecture01.pdf', 'page': 1}\n",
            "page_content='o —  \\nStudent : [Inaud' metadata={'source': '/content/MachineLearning-Lecture01.pdf', 'page': 1}\n",
            "page_content='ible].  \\nInstructor (Andrew Ng' metadata={'source': '/content/MachineLearning-Lecture01.pdf', 'page': 1}\n",
            "page_content=') : Oh, I see, industry. Okay' metadata={'source': '/content/MachineLearning-Lecture01.pdf', 'page': 1}\n",
            "page_content='. Cool. Great, great. So as you' metadata={'source': '/content/MachineLearning-Lecture01.pdf', 'page': 1}\n",
            "page_content=' can \\ntell from a cross-section of' metadata={'source': '/content/MachineLearning-Lecture01.pdf', 'page': 1}\n",
            "page_content=\" th is class, I think we're a very\" metadata={'source': '/content/MachineLearning-Lecture01.pdf', 'page': 1}\n",
            "page_content=' diverse audience in this room, \\nand that' metadata={'source': '/content/MachineLearning-Lecture01.pdf', 'page': 1}\n",
            "page_content=\"'s one of the things that makes this class fun\" metadata={'source': '/content/MachineLearning-Lecture01.pdf', 'page': 1}\n",
            "page_content=' to teach and fun to be in, I think' metadata={'source': '/content/MachineLearning-Lecture01.pdf', 'page': 1}\n",
            "page_content='.  ' metadata={'source': '/content/MachineLearning-Lecture01.pdf', 'page': 1}\n",
            "page_content=\"So in this class, we've tried to convey\" metadata={'source': '/content/MachineLearning-Lecture01.pdf', 'page': 2}\n",
            "page_content=' to you a broad set of principl es and' metadata={'source': '/content/MachineLearning-Lecture01.pdf', 'page': 2}\n",
            "page_content=' tools that will \\nbe useful for doing many' metadata={'source': '/content/MachineLearning-Lecture01.pdf', 'page': 2}\n",
            "page_content=', many things. And ev ery time I' metadata={'source': '/content/MachineLearning-Lecture01.pdf', 'page': 2}\n",
            "page_content=' teach this class, I can actually \\nvery' metadata={'source': '/content/MachineLearning-Lecture01.pdf', 'page': 2}\n",
            "page_content=' confidently say that af ter December, no matter what' metadata={'source': '/content/MachineLearning-Lecture01.pdf', 'page': 2}\n",
            "page_content=\" yo u're going to do after this \\n\" metadata={'source': '/content/MachineLearning-Lecture01.pdf', 'page': 2}\n",
            "page_content=\"December when you've sort of completed this  class\" metadata={'source': '/content/MachineLearning-Lecture01.pdf', 'page': 2}\n",
            "page_content=\", you'll find the things you learn in \" metadata={'source': '/content/MachineLearning-Lecture01.pdf', 'page': 2}\n",
            "page_content='\\nthis class very useful, and these things will' metadata={'source': '/content/MachineLearning-Lecture01.pdf', 'page': 2}\n",
            "page_content=' be useful pretty much no matter what you end ' metadata={'source': '/content/MachineLearning-Lecture01.pdf', 'page': 2}\n",
            "page_content='\\nup doing later in your life.  ' metadata={'source': '/content/MachineLearning-Lecture01.pdf', 'page': 2}\n",
            "page_content='\\nSo I have more logistics to go over later' metadata={'source': '/content/MachineLearning-Lecture01.pdf', 'page': 2}\n",
            "page_content=\", but let's say a few more words about\" metadata={'source': '/content/MachineLearning-Lecture01.pdf', 'page': 2}\n",
            "page_content=' machine \\nlearning. I feel that machine learning' metadata={'source': '/content/MachineLearning-Lecture01.pdf', 'page': 2}\n",
            "page_content=' grew out of  early work in AI, early' metadata={'source': '/content/MachineLearning-Lecture01.pdf', 'page': 2}\n",
            "page_content=' work in artificial \\nintelligence. And over the' metadata={'source': '/content/MachineLearning-Lecture01.pdf', 'page': 2}\n",
            "page_content=' last — I wanna say last 15 or last 20' metadata={'source': '/content/MachineLearning-Lecture01.pdf', 'page': 2}\n",
            "page_content=\" years or so, it's been viewed as a\" metadata={'source': '/content/MachineLearning-Lecture01.pdf', 'page': 2}\n",
            "page_content=' sort of growing new capability for computers. And in' metadata={'source': '/content/MachineLearning-Lecture01.pdf', 'page': 2}\n",
            "page_content=' particular, it turns out \\nthat there are' metadata={'source': '/content/MachineLearning-Lecture01.pdf', 'page': 2}\n",
            "page_content=' many programs or there are many applications that you can' metadata={'source': '/content/MachineLearning-Lecture01.pdf', 'page': 2}\n",
            "page_content=\"'t program by \\nhand.  \\n\" metadata={'source': '/content/MachineLearning-Lecture01.pdf', 'page': 2}\n",
            "page_content='For example, if you want to get a computer' metadata={'source': '/content/MachineLearning-Lecture01.pdf', 'page': 2}\n",
            "page_content=' to read handwritten characters, to read sort of ' metadata={'source': '/content/MachineLearning-Lecture01.pdf', 'page': 2}\n",
            "page_content='\\nhandwritten digits, that actual ly turns out' metadata={'source': '/content/MachineLearning-Lecture01.pdf', 'page': 2}\n",
            "page_content=' to be amazingly difficult to write a piece of ' metadata={'source': '/content/MachineLearning-Lecture01.pdf', 'page': 2}\n",
            "page_content='\\nsoftware to take this input, an image of' metadata={'source': '/content/MachineLearning-Lecture01.pdf', 'page': 2}\n",
            "page_content=' some thing that I wrote and to  figure out' metadata={'source': '/content/MachineLearning-Lecture01.pdf', 'page': 2}\n",
            "page_content=' just what \\nit is, to translate my' metadata={'source': '/content/MachineLearning-Lecture01.pdf', 'page': 2}\n",
            "page_content=' cursive handwriting into — to extract the characters I' metadata={'source': '/content/MachineLearning-Lecture01.pdf', 'page': 2}\n",
            "page_content=' wrote out in \\nlonghand. And' metadata={'source': '/content/MachineLearning-Lecture01.pdf', 'page': 2}\n",
            "page_content=' other things: One thing that my students and I' metadata={'source': '/content/MachineLearning-Lecture01.pdf', 'page': 2}\n",
            "page_content=' do is autonomous flight. It \\nturns' metadata={'source': '/content/MachineLearning-Lecture01.pdf', 'page': 2}\n",
            "page_content=' out to be extremely difficult to sit dow n and' metadata={'source': '/content/MachineLearning-Lecture01.pdf', 'page': 2}\n",
            "page_content=' write a program to  fly a helicopter. ' metadata={'source': '/content/MachineLearning-Lecture01.pdf', 'page': 2}\n",
            "page_content=' \\nBut in contrast, if you want to' metadata={'source': '/content/MachineLearning-Lecture01.pdf', 'page': 2}\n",
            "page_content=' do things like to get software to fl y a' metadata={'source': '/content/MachineLearning-Lecture01.pdf', 'page': 2}\n",
            "page_content=' helicopter or have \\nsoftware recognize handwritten digits,' metadata={'source': '/content/MachineLearning-Lecture01.pdf', 'page': 2}\n",
            "page_content=' one very  successful approach is to use a learning' metadata={'source': '/content/MachineLearning-Lecture01.pdf', 'page': 2}\n",
            "page_content=' \\nalgorithm and have a computer learn by' metadata={'source': '/content/MachineLearning-Lecture01.pdf', 'page': 2}\n",
            "page_content=' its elf how to, say, recognize your handwriting' metadata={'source': '/content/MachineLearning-Lecture01.pdf', 'page': 2}\n",
            "page_content='. \\nAnd in fact, handwritten digit recognition' metadata={'source': '/content/MachineLearning-Lecture01.pdf', 'page': 2}\n",
            "page_content=', this is pretty much the only approach that ' metadata={'source': '/content/MachineLearning-Lecture01.pdf', 'page': 2}\n",
            "page_content='\\nworks well. It uses applications that are hard' metadata={'source': '/content/MachineLearning-Lecture01.pdf', 'page': 2}\n",
            "page_content=' to program by hand.  \\nLearning algorithms' metadata={'source': '/content/MachineLearning-Lecture01.pdf', 'page': 2}\n",
            "page_content=' has also made I guess sign ificant in' metadata={'source': '/content/MachineLearning-Lecture01.pdf', 'page': 2}\n",
            "page_content=\"roads in what's sometimes called \\ndatabase mining\" metadata={'source': '/content/MachineLearning-Lecture01.pdf', 'page': 2}\n",
            "page_content='. So, for example, with the growth of' metadata={'source': '/content/MachineLearning-Lecture01.pdf', 'page': 2}\n",
            "page_content=' IT and computers, increasingly \\nmany hospitals are' metadata={'source': '/content/MachineLearning-Lecture01.pdf', 'page': 2}\n",
            "page_content=' keeping around medical reco rds of what sort' metadata={'source': '/content/MachineLearning-Lecture01.pdf', 'page': 2}\n",
            "page_content=' of patients, what \\nproblems they had' metadata={'source': '/content/MachineLearning-Lecture01.pdf', 'page': 2}\n",
            "page_content=', what their prognoses was,  what' metadata={'source': '/content/MachineLearning-Lecture01.pdf', 'page': 2}\n",
            "page_content=' the outcome was. And taking all of \\n' metadata={'source': '/content/MachineLearning-Lecture01.pdf', 'page': 2}\n",
            "page_content='these medical records, which started to be digitized' metadata={'source': '/content/MachineLearning-Lecture01.pdf', 'page': 2}\n",
            "page_content=' only about maybe 15 years, applying \\nlearning' metadata={'source': '/content/MachineLearning-Lecture01.pdf', 'page': 2}\n",
            "page_content=' algorithms to them can turn raw medi cal records into' metadata={'source': '/content/MachineLearning-Lecture01.pdf', 'page': 2}\n",
            "page_content=' what I might loosely call \\nmedical knowledge in' metadata={'source': '/content/MachineLearning-Lecture01.pdf', 'page': 2}\n",
            "page_content=' which we start to detect trends in medical practice and' metadata={'source': '/content/MachineLearning-Lecture01.pdf', 'page': 2}\n",
            "page_content=' even start to \\nalter medical practice as a' metadata={'source': '/content/MachineLearning-Lecture01.pdf', 'page': 2}\n",
            "page_content=\" result of me dical knowledge that's derived by\" metadata={'source': '/content/MachineLearning-Lecture01.pdf', 'page': 2}\n",
            "page_content=' applying \\nlearning algorithms to the sorts of medical' metadata={'source': '/content/MachineLearning-Lecture01.pdf', 'page': 2}\n",
            "page_content=' r ecords that hospitals have just been building ' metadata={'source': '/content/MachineLearning-Lecture01.pdf', 'page': 2}\n",
            "page_content='\\nover the last 15, 20 years in an' metadata={'source': '/content/MachineLearning-Lecture01.pdf', 'page': 2}\n",
            "page_content=' electronic format.  \\nTurns out that' metadata={'source': '/content/MachineLearning-Lecture01.pdf', 'page': 2}\n",
            "page_content=' most of you probably use learning algorithms — I don' metadata={'source': '/content/MachineLearning-Lecture01.pdf', 'page': 2}\n",
            "page_content=\"'t know — I think \\nhalf a dozen\" metadata={'source': '/content/MachineLearning-Lecture01.pdf', 'page': 2}\n",
            "page_content=' times a day or maybe a dozen  times a' metadata={'source': '/content/MachineLearning-Lecture01.pdf', 'page': 2}\n",
            "page_content=' day or more, and often without \\nknow' metadata={'source': '/content/MachineLearning-Lecture01.pdf', 'page': 2}\n",
            "page_content='ing it. So, for example, every time' metadata={'source': '/content/MachineLearning-Lecture01.pdf', 'page': 2}\n",
            "page_content=' you se nd mail via the US Postal System' metadata={'source': '/content/MachineLearning-Lecture01.pdf', 'page': 2}\n",
            "page_content=\", turns \\nout there's an algorithm that\" metadata={'source': '/content/MachineLearning-Lecture01.pdf', 'page': 2}\n",
            "page_content=' tries to automa tically read the zip code' metadata={'source': '/content/MachineLearning-Lecture01.pdf', 'page': 2}\n",
            "page_content=' you wrote on your \\nenvelope,' metadata={'source': '/content/MachineLearning-Lecture01.pdf', 'page': 2}\n",
            "page_content=\" and that's done by a learning al gorith\" metadata={'source': '/content/MachineLearning-Lecture01.pdf', 'page': 2}\n",
            "page_content='m. So every time you send US mail,' metadata={'source': '/content/MachineLearning-Lecture01.pdf', 'page': 2}\n",
            "page_content=' you \\nare using a learning algorithm, per' metadata={'source': '/content/MachineLearning-Lecture01.pdf', 'page': 2}\n",
            "page_content='hap s without even being aware of it. ' metadata={'source': '/content/MachineLearning-Lecture01.pdf', 'page': 2}\n",
            "page_content=' ' metadata={'source': '/content/MachineLearning-Lecture01.pdf', 'page': 2}\n",
            "page_content='Similarly, every time you write a check, I' metadata={'source': '/content/MachineLearning-Lecture01.pdf', 'page': 3}\n",
            "page_content=\" ac tually don't know the number for this\" metadata={'source': '/content/MachineLearning-Lecture01.pdf', 'page': 3}\n",
            "page_content=', but a \\nsignificant fraction of checks that' metadata={'source': '/content/MachineLearning-Lecture01.pdf', 'page': 3}\n",
            "page_content=\" you write are processed by a learning algorithm that's\" metadata={'source': '/content/MachineLearning-Lecture01.pdf', 'page': 3}\n",
            "page_content=' \\nlearned to read the digits, so' metadata={'source': '/content/MachineLearning-Lecture01.pdf', 'page': 3}\n",
            "page_content=' the dolla r amount that you wrote down on' metadata={'source': '/content/MachineLearning-Lecture01.pdf', 'page': 3}\n",
            "page_content=' your check. So \\nevery time you write' metadata={'source': '/content/MachineLearning-Lecture01.pdf', 'page': 3}\n",
            "page_content=\" a check, there's anot her learning algorithm\" metadata={'source': '/content/MachineLearning-Lecture01.pdf', 'page': 3}\n",
            "page_content=\" that you're probably \\nusing without even being\" metadata={'source': '/content/MachineLearning-Lecture01.pdf', 'page': 3}\n",
            "page_content=' aware of it.  \\nIf you use' metadata={'source': '/content/MachineLearning-Lecture01.pdf', 'page': 3}\n",
            "page_content=' a credit card, or I know at least one' metadata={'source': '/content/MachineLearning-Lecture01.pdf', 'page': 3}\n",
            "page_content=' phone compan y was doing this, and lots of' metadata={'source': '/content/MachineLearning-Lecture01.pdf', 'page': 3}\n",
            "page_content=' \\ncompanies like eBay as well that do' metadata={'source': '/content/MachineLearning-Lecture01.pdf', 'page': 3}\n",
            "page_content=\" electr onic transactions, there's a good chance\" metadata={'source': '/content/MachineLearning-Lecture01.pdf', 'page': 3}\n",
            "page_content=\" that \\nthere's a learning algorithm in the\" metadata={'source': '/content/MachineLearning-Lecture01.pdf', 'page': 3}\n",
            "page_content=' backgr ound trying to figure out if,' metadata={'source': '/content/MachineLearning-Lecture01.pdf', 'page': 3}\n",
            "page_content=\" say, your credit \\ncard's been stolen\" metadata={'source': '/content/MachineLearning-Lecture01.pdf', 'page': 3}\n",
            "page_content=\" or if someone's engaging in a fraudulent transaction.\" metadata={'source': '/content/MachineLearning-Lecture01.pdf', 'page': 3}\n",
            "page_content='  \\nIf you use a website like Amazon' metadata={'source': '/content/MachineLearning-Lecture01.pdf', 'page': 3}\n",
            "page_content=' or Netflix that will often recommend books for you to' metadata={'source': '/content/MachineLearning-Lecture01.pdf', 'page': 3}\n",
            "page_content=' \\nbuy or movies for you to rent or' metadata={'source': '/content/MachineLearning-Lecture01.pdf', 'page': 3}\n",
            "page_content=' whatever , these are other examples of learning \\n' metadata={'source': '/content/MachineLearning-Lecture01.pdf', 'page': 3}\n",
            "page_content='algorithms that have learned what sorts of th' metadata={'source': '/content/MachineLearning-Lecture01.pdf', 'page': 3}\n",
            "page_content=' ings you like to buy or what sorts of' metadata={'source': '/content/MachineLearning-Lecture01.pdf', 'page': 3}\n",
            "page_content=' movies \\nyou like to watch and can therefore' metadata={'source': '/content/MachineLearning-Lecture01.pdf', 'page': 3}\n",
            "page_content=' give  customized recommendations to you.  \\n' metadata={'source': '/content/MachineLearning-Lecture01.pdf', 'page': 3}\n",
            "page_content='Just about a week ago, I had my car' metadata={'source': '/content/MachineLearning-Lecture01.pdf', 'page': 3}\n",
            "page_content=' serviced, and even there, my car mechanic' metadata={'source': '/content/MachineLearning-Lecture01.pdf', 'page': 3}\n",
            "page_content=' was trying \\nto explain to me some learning' metadata={'source': '/content/MachineLearning-Lecture01.pdf', 'page': 3}\n",
            "page_content=' algorithm in th e innards of my car th' metadata={'source': '/content/MachineLearning-Lecture01.pdf', 'page': 3}\n",
            "page_content=\" at's sort of doing its \\nbest to\" metadata={'source': '/content/MachineLearning-Lecture01.pdf', 'page': 3}\n",
            "page_content=' optimize my driving performan ce for fuel efficiency or' metadata={'source': '/content/MachineLearning-Lecture01.pdf', 'page': 3}\n",
            "page_content=' something.  \\nSo, see, most' metadata={'source': '/content/MachineLearning-Lecture01.pdf', 'page': 3}\n",
            "page_content=' of us use learning algorithms half a dozen, a' metadata={'source': '/content/MachineLearning-Lecture01.pdf', 'page': 3}\n",
            "page_content=' dozen, maybe dozens of times \\nwithout even' metadata={'source': '/content/MachineLearning-Lecture01.pdf', 'page': 3}\n",
            "page_content=' knowing it.  \\nAnd of course,' metadata={'source': '/content/MachineLearning-Lecture01.pdf', 'page': 3}\n",
            "page_content=' learning algorithms are also  doing things like giving us' metadata={'source': '/content/MachineLearning-Lecture01.pdf', 'page': 3}\n",
            "page_content=' a growing \\nunderstanding of the human genome' metadata={'source': '/content/MachineLearning-Lecture01.pdf', 'page': 3}\n",
            "page_content='. So if so meday we ever find a' metadata={'source': '/content/MachineLearning-Lecture01.pdf', 'page': 3}\n",
            "page_content=' cure for cancer, I bet \\nlearning algorithms' metadata={'source': '/content/MachineLearning-Lecture01.pdf', 'page': 3}\n",
            "page_content=' will have had a large role in that. That' metadata={'source': '/content/MachineLearning-Lecture01.pdf', 'page': 3}\n",
            "page_content=\"'s sort of the thing that Tom \\nworks\" metadata={'source': '/content/MachineLearning-Lecture01.pdf', 'page': 3}\n",
            "page_content=' on, yes?  \\nSo in teaching' metadata={'source': '/content/MachineLearning-Lecture01.pdf', 'page': 3}\n",
            "page_content=' this class, I sort of have thre e' metadata={'source': '/content/MachineLearning-Lecture01.pdf', 'page': 3}\n",
            "page_content=' goals. One of them is just to I hope' metadata={'source': '/content/MachineLearning-Lecture01.pdf', 'page': 3}\n",
            "page_content=' convey \\nsome of my own excitement a bout' metadata={'source': '/content/MachineLearning-Lecture01.pdf', 'page': 3}\n",
            "page_content=' machine learning to you.  \\nThe second' metadata={'source': '/content/MachineLearning-Lecture01.pdf', 'page': 3}\n",
            "page_content=' goal is by the end of this class, I' metadata={'source': '/content/MachineLearning-Lecture01.pdf', 'page': 3}\n",
            "page_content=' hope all of you will be ab le to apply' metadata={'source': '/content/MachineLearning-Lecture01.pdf', 'page': 3}\n",
            "page_content=' state-of-\\nthe-art machine learning' metadata={'source': '/content/MachineLearning-Lecture01.pdf', 'page': 3}\n",
            "page_content=\" algorithms to whatev er problems you're interested\" metadata={'source': '/content/MachineLearning-Lecture01.pdf', 'page': 3}\n",
            "page_content=' in. And if you \\never need to' metadata={'source': '/content/MachineLearning-Lecture01.pdf', 'page': 3}\n",
            "page_content=' build a system for reading zi p codes,' metadata={'source': '/content/MachineLearning-Lecture01.pdf', 'page': 3}\n",
            "page_content=\" you'll know how to do that by the end\" metadata={'source': '/content/MachineLearning-Lecture01.pdf', 'page': 3}\n",
            "page_content=' \\nof this class.  \\nAnd' metadata={'source': '/content/MachineLearning-Lecture01.pdf', 'page': 3}\n",
            "page_content=' lastly, by the end of this class,' metadata={'source': '/content/MachineLearning-Lecture01.pdf', 'page': 3}\n",
            "page_content=' I reali ze that only a subset of ' metadata={'source': '/content/MachineLearning-Lecture01.pdf', 'page': 3}\n",
            "page_content=' you are interested in \\ndoing research in machine' metadata={'source': '/content/MachineLearning-Lecture01.pdf', 'page': 3}\n",
            "page_content=' learning, but by the c onclusion of this' metadata={'source': '/content/MachineLearning-Lecture01.pdf', 'page': 3}\n",
            "page_content=' class,  I hope that all of \\n' metadata={'source': '/content/MachineLearning-Lecture01.pdf', 'page': 3}\n",
            "page_content='you will actually be well qualified to star t doing' metadata={'source': '/content/MachineLearning-Lecture01.pdf', 'page': 3}\n",
            "page_content=' research in machine learning, okay?  \\n' metadata={'source': '/content/MachineLearning-Lecture01.pdf', 'page': 3}\n",
            "page_content=\"So let's say a few words about logistics.\" metadata={'source': '/content/MachineLearning-Lecture01.pdf', 'page': 3}\n",
            "page_content=' The prerequisites of this class are written on one' metadata={'source': '/content/MachineLearning-Lecture01.pdf', 'page': 3}\n",
            "page_content=' \\nof the handouts, are as follows' metadata={'source': '/content/MachineLearning-Lecture01.pdf', 'page': 3}\n",
            "page_content=\": In this class, I'm going to assume\" metadata={'source': '/content/MachineLearning-Lecture01.pdf', 'page': 3}\n",
            "page_content=' that all of you have sort \\nof basic' metadata={'source': '/content/MachineLearning-Lecture01.pdf', 'page': 3}\n",
            "page_content=' knowledge of computer science and kn owledge of the' metadata={'source': '/content/MachineLearning-Lecture01.pdf', 'page': 3}\n",
            "page_content=' basic computer skills and \\nprinciples.' metadata={'source': '/content/MachineLearning-Lecture01.pdf', 'page': 3}\n",
            "page_content=' So I assume all of you know what big?' metadata={'source': '/content/MachineLearning-Lecture01.pdf', 'page': 3}\n",
            "page_content='O notation, that all of you know about ' metadata={'source': '/content/MachineLearning-Lecture01.pdf', 'page': 3}\n",
            "page_content='\\nsort of data structures like  queues, stacks' metadata={'source': '/content/MachineLearning-Lecture01.pdf', 'page': 3}\n",
            "page_content=', binary trees , and that all of you know' metadata={'source': '/content/MachineLearning-Lecture01.pdf', 'page': 3}\n",
            "page_content=' enough \\nprogramming skills to, like,' metadata={'source': '/content/MachineLearning-Lecture01.pdf', 'page': 3}\n",
            "page_content=' write a simple co mputer program. And it' metadata={'source': '/content/MachineLearning-Lecture01.pdf', 'page': 3}\n",
            "page_content=' turns out that most ' metadata={'source': '/content/MachineLearning-Lecture01.pdf', 'page': 3}\n",
            "page_content='of this class will not be very program ming intensive' metadata={'source': '/content/MachineLearning-Lecture01.pdf', 'page': 4}\n",
            "page_content=', although we will do some \\nprogramming' metadata={'source': '/content/MachineLearning-Lecture01.pdf', 'page': 4}\n",
            "page_content=', mostly in either MATLAB or Octa ve' metadata={'source': '/content/MachineLearning-Lecture01.pdf', 'page': 4}\n",
            "page_content=\". I'll say a bit more about that later\" metadata={'source': '/content/MachineLearning-Lecture01.pdf', 'page': 4}\n",
            "page_content='.  \\nI also assume familiarity with basic' metadata={'source': '/content/MachineLearning-Lecture01.pdf', 'page': 4}\n",
            "page_content=' proba bility and statistics. So most undergraduate' metadata={'source': '/content/MachineLearning-Lecture01.pdf', 'page': 4}\n",
            "page_content=' \\nstatistics class, like Stat 116 taught' metadata={'source': '/content/MachineLearning-Lecture01.pdf', 'page': 4}\n",
            "page_content=' here at Stanford, will be more than enough.' metadata={'source': '/content/MachineLearning-Lecture01.pdf', 'page': 4}\n",
            "page_content=\" I'm gonna \\nassume all of you\" metadata={'source': '/content/MachineLearning-Lecture01.pdf', 'page': 4}\n",
            "page_content=' know what ra ndom variables are, that all' metadata={'source': '/content/MachineLearning-Lecture01.pdf', 'page': 4}\n",
            "page_content=' of you know what expectation \\nis, what' metadata={'source': '/content/MachineLearning-Lecture01.pdf', 'page': 4}\n",
            "page_content=' a variance or a random variable is. And in' metadata={'source': '/content/MachineLearning-Lecture01.pdf', 'page': 4}\n",
            "page_content=\" case of some of you, it's been a\" metadata={'source': '/content/MachineLearning-Lecture01.pdf', 'page': 4}\n",
            "page_content=\" while \\nsince you've seen some of this\" metadata={'source': '/content/MachineLearning-Lecture01.pdf', 'page': 4}\n",
            "page_content=' material. At some of the discussion sections, we' metadata={'source': '/content/MachineLearning-Lecture01.pdf', 'page': 4}\n",
            "page_content=\"'ll actually \\ngo over some of the pre\" metadata={'source': '/content/MachineLearning-Lecture01.pdf', 'page': 4}\n",
            "page_content='requisites, sort of as  a refresher course' metadata={'source': '/content/MachineLearning-Lecture01.pdf', 'page': 4}\n",
            "page_content=\" under prerequisite class. \\nI'll say a\" metadata={'source': '/content/MachineLearning-Lecture01.pdf', 'page': 4}\n",
            "page_content=' bit more about that later as well.  ' metadata={'source': '/content/MachineLearning-Lecture01.pdf', 'page': 4}\n",
            "page_content='\\nLastly, I also assume familiarity with basi' metadata={'source': '/content/MachineLearning-Lecture01.pdf', 'page': 4}\n",
            "page_content=' c linear algebra. And again, most undergraduate ' metadata={'source': '/content/MachineLearning-Lecture01.pdf', 'page': 4}\n",
            "page_content='\\nlinear algebra courses are more than enough. So' metadata={'source': '/content/MachineLearning-Lecture01.pdf', 'page': 4}\n",
            "page_content=\" if you've taken courses like Math 51, \" metadata={'source': '/content/MachineLearning-Lecture01.pdf', 'page': 4}\n",
            "page_content='\\n103, Math 113 or CS205 at Stanford' metadata={'source': '/content/MachineLearning-Lecture01.pdf', 'page': 4}\n",
            "page_content=', that would be more than enough. Basically,' metadata={'source': '/content/MachineLearning-Lecture01.pdf', 'page': 4}\n",
            "page_content=\" I'm \\ngonna assume that all of\" metadata={'source': '/content/MachineLearning-Lecture01.pdf', 'page': 4}\n",
            "page_content=' you know what matrix es and vectors are, that' metadata={'source': '/content/MachineLearning-Lecture01.pdf', 'page': 4}\n",
            "page_content=' you know how to \\nmultiply mat' metadata={'source': '/content/MachineLearning-Lecture01.pdf', 'page': 4}\n",
            "page_content='rices and vectors and multiply matrix and matrices,' metadata={'source': '/content/MachineLearning-Lecture01.pdf', 'page': 4}\n",
            "page_content=' that you know what a matrix inverse is. If' metadata={'source': '/content/MachineLearning-Lecture01.pdf', 'page': 4}\n",
            "page_content=' you know what an eigenvect or of' metadata={'source': '/content/MachineLearning-Lecture01.pdf', 'page': 4}\n",
            "page_content=\" a matrix is, that'd be even better.\" metadata={'source': '/content/MachineLearning-Lecture01.pdf', 'page': 4}\n",
            "page_content=\" \\nBut if you don't quite know or\" metadata={'source': '/content/MachineLearning-Lecture01.pdf', 'page': 4}\n",
            "page_content=\" if you're not qu ite sure, that\" metadata={'source': '/content/MachineLearning-Lecture01.pdf', 'page': 4}\n",
            "page_content=\"'s fine, too. We'll go over it\" metadata={'source': '/content/MachineLearning-Lecture01.pdf', 'page': 4}\n",
            "page_content=' in \\nthe review sections.  \\n' metadata={'source': '/content/MachineLearning-Lecture01.pdf', 'page': 4}\n",
            "page_content='So there are a couple more logisti cal' metadata={'source': '/content/MachineLearning-Lecture01.pdf', 'page': 4}\n",
            "page_content=' things I should deal with in  this class.' metadata={'source': '/content/MachineLearning-Lecture01.pdf', 'page': 4}\n",
            "page_content=' One is that, as \\nmost of you' metadata={'source': '/content/MachineLearning-Lecture01.pdf', 'page': 4}\n",
            "page_content=' know, CS229 is a televised cla ss.' metadata={'source': '/content/MachineLearning-Lecture01.pdf', 'page': 4}\n",
            "page_content=' And in fact, I guess many of you are' metadata={'source': '/content/MachineLearning-Lecture01.pdf', 'page': 4}\n",
            "page_content=' \\nprobably watching this at home on TV,' metadata={'source': '/content/MachineLearning-Lecture01.pdf', 'page': 4}\n",
            "page_content=\" so I' m gonna say hi to our home\" metadata={'source': '/content/MachineLearning-Lecture01.pdf', 'page': 4}\n",
            "page_content=' viewers.  \\nSo earlier this year,' metadata={'source': '/content/MachineLearning-Lecture01.pdf', 'page': 4}\n",
            "page_content=' I appro ached SCPD, which televises' metadata={'source': '/content/MachineLearning-Lecture01.pdf', 'page': 4}\n",
            "page_content=' th ese classes, about trying to \\n' metadata={'source': '/content/MachineLearning-Lecture01.pdf', 'page': 4}\n",
            "page_content='make a small number of Stanford classes publ ic' metadata={'source': '/content/MachineLearning-Lecture01.pdf', 'page': 4}\n",
            "page_content='ly available or posting the videos on the \\n' metadata={'source': '/content/MachineLearning-Lecture01.pdf', 'page': 4}\n",
            "page_content='web. And so this year, Stanford is actually' metadata={'source': '/content/MachineLearning-Lecture01.pdf', 'page': 4}\n",
            "page_content=\" starting a small pilot program in which we'll \" metadata={'source': '/content/MachineLearning-Lecture01.pdf', 'page': 4}\n",
            "page_content='\\npost videos of a small number of classes on' metadata={'source': '/content/MachineLearning-Lecture01.pdf', 'page': 4}\n",
            "page_content='lin e, so on the Internet in a way' metadata={'source': '/content/MachineLearning-Lecture01.pdf', 'page': 4}\n",
            "page_content=' that makes it \\npublicly accessible to everyone' metadata={'source': '/content/MachineLearning-Lecture01.pdf', 'page': 4}\n",
            "page_content=\". I'm very exc ited about that because\" metadata={'source': '/content/MachineLearning-Lecture01.pdf', 'page': 4}\n",
            "page_content=\" machine learning in \\nschool, let's get\" metadata={'source': '/content/MachineLearning-Lecture01.pdf', 'page': 4}\n",
            "page_content=' the word out there.  \\nOne of' metadata={'source': '/content/MachineLearning-Lecture01.pdf', 'page': 4}\n",
            "page_content=\" the consequences of this is that — let's see\" metadata={'source': '/content/MachineLearning-Lecture01.pdf', 'page': 4}\n",
            "page_content=' — so videos  or pictures of the students ' metadata={'source': '/content/MachineLearning-Lecture01.pdf', 'page': 4}\n",
            "page_content='\\nin this classroom will not be posted online,' metadata={'source': '/content/MachineLearning-Lecture01.pdf', 'page': 4}\n",
            "page_content=\" so your images — so don't worry about being\" metadata={'source': '/content/MachineLearning-Lecture01.pdf', 'page': 4}\n",
            "page_content=' \\nby seeing your own face appear on YouTube' metadata={'source': '/content/MachineLearning-Lecture01.pdf', 'page': 4}\n",
            "page_content=' one day. But the microphones may pick up your' metadata={'source': '/content/MachineLearning-Lecture01.pdf', 'page': 4}\n",
            "page_content=' voices, so I guess the consequence of that is' metadata={'source': '/content/MachineLearning-Lecture01.pdf', 'page': 4}\n",
            "page_content=' that because microphones may pick up your voices, no' metadata={'source': '/content/MachineLearning-Lecture01.pdf', 'page': 4}\n",
            "page_content=' matter how irritated you are at  me, don' metadata={'source': '/content/MachineLearning-Lecture01.pdf', 'page': 4}\n",
            "page_content=\"'t yell out swear words in the \\nmiddle\" metadata={'source': '/content/MachineLearning-Lecture01.pdf', 'page': 4}\n",
            "page_content=\" of class, but because there won't be video\" metadata={'source': '/content/MachineLearning-Lecture01.pdf', 'page': 4}\n",
            "page_content=' you can safely sit there and make faces \\n' metadata={'source': '/content/MachineLearning-Lecture01.pdf', 'page': 4}\n",
            "page_content=\"at me, and that won't show, okay\" metadata={'source': '/content/MachineLearning-Lecture01.pdf', 'page': 4}\n",
            "page_content=\"?  \\nLet's see. I also\" metadata={'source': '/content/MachineLearning-Lecture01.pdf', 'page': 4}\n",
            "page_content=' handed out this — ther e were two handouts' metadata={'source': '/content/MachineLearning-Lecture01.pdf', 'page': 4}\n",
            "page_content=' I hope most of you have, \\ncourse' metadata={'source': '/content/MachineLearning-Lecture01.pdf', 'page': 4}\n",
            "page_content=' information handout. So let me just sa y' metadata={'source': '/content/MachineLearning-Lecture01.pdf', 'page': 4}\n",
            "page_content=' a few words about parts of these. On the' metadata={'source': '/content/MachineLearning-Lecture01.pdf', 'page': 4}\n",
            "page_content=\" \\nthird page, there's a section that\" metadata={'source': '/content/MachineLearning-Lecture01.pdf', 'page': 4}\n",
            "page_content=' says Online Resources.  \\nOh, okay' metadata={'source': '/content/MachineLearning-Lecture01.pdf', 'page': 4}\n",
            "page_content='. Louder? Actually, could you turn up' metadata={'source': '/content/MachineLearning-Lecture01.pdf', 'page': 4}\n",
            "page_content=' the volume? Testing. Is this better? ' metadata={'source': '/content/MachineLearning-Lecture01.pdf', 'page': 4}\n",
            "page_content='\\nTesting, testing. Okay, cool. Thanks' metadata={'source': '/content/MachineLearning-Lecture01.pdf', 'page': 4}\n",
            "page_content='.  ' metadata={'source': '/content/MachineLearning-Lecture01.pdf', 'page': 4}\n",
            "page_content='So all right, online resources. The class has' metadata={'source': '/content/MachineLearning-Lecture01.pdf', 'page': 5}\n",
            "page_content=\" a home page, so it's in on the\" metadata={'source': '/content/MachineLearning-Lecture01.pdf', 'page': 5}\n",
            "page_content=\" handouts. I \\nwon't write on\" metadata={'source': '/content/MachineLearning-Lecture01.pdf', 'page': 5}\n",
            "page_content=' the chalkboard — http:// cs229.stan' metadata={'source': '/content/MachineLearning-Lecture01.pdf', 'page': 5}\n",
            "page_content='ford.edu. And so when there are ' metadata={'source': '/content/MachineLearning-Lecture01.pdf', 'page': 5}\n",
            "page_content='\\nhomework assignments or things like that, we' metadata={'source': '/content/MachineLearning-Lecture01.pdf', 'page': 5}\n",
            "page_content=\"  usually won't sort of — in the mission\" metadata={'source': '/content/MachineLearning-Lecture01.pdf', 'page': 5}\n",
            "page_content=' of \\nsaving trees, we will usually not' metadata={'source': '/content/MachineLearning-Lecture01.pdf', 'page': 5}\n",
            "page_content=' give out many handouts in class. So homework' metadata={'source': '/content/MachineLearning-Lecture01.pdf', 'page': 5}\n",
            "page_content=' \\nassignments, homework solutions will be' metadata={'source': '/content/MachineLearning-Lecture01.pdf', 'page': 5}\n",
            "page_content=' posted online at the course home page.  ' metadata={'source': '/content/MachineLearning-Lecture01.pdf', 'page': 5}\n",
            "page_content=\"\\nAs far as this class, I've also\" metadata={'source': '/content/MachineLearning-Lecture01.pdf', 'page': 5}\n",
            "page_content=\" written, a nd I guess I've also\" metadata={'source': '/content/MachineLearning-Lecture01.pdf', 'page': 5}\n",
            "page_content=' revised every year a set of \\nfairly' metadata={'source': '/content/MachineLearning-Lecture01.pdf', 'page': 5}\n",
            "page_content=' detailed lecture notes that cover the te chnical' metadata={'source': '/content/MachineLearning-Lecture01.pdf', 'page': 5}\n",
            "page_content=' content of this  class. And so if you' metadata={'source': '/content/MachineLearning-Lecture01.pdf', 'page': 5}\n",
            "page_content=\" \\nvisit the course homepage, you'll\" metadata={'source': '/content/MachineLearning-Lecture01.pdf', 'page': 5}\n",
            "page_content=' also find the detailed lecture notes that go over in' metadata={'source': '/content/MachineLearning-Lecture01.pdf', 'page': 5}\n",
            "page_content=' detail \\nall the math and equations and so' metadata={'source': '/content/MachineLearning-Lecture01.pdf', 'page': 5}\n",
            "page_content=\" on  that I'll be doing in class.\" metadata={'source': '/content/MachineLearning-Lecture01.pdf', 'page': 5}\n",
            "page_content=\"  \\nThere's also a newsgroup,\" metadata={'source': '/content/MachineLearning-Lecture01.pdf', 'page': 5}\n",
            "page_content=' su.class.cs229, also written on' metadata={'source': '/content/MachineLearning-Lecture01.pdf', 'page': 5}\n",
            "page_content=' the handout. This is a \\nnews' metadata={'source': '/content/MachineLearning-Lecture01.pdf', 'page': 5}\n",
            "page_content=\"group that's sort of a forum for people in\" metadata={'source': '/content/MachineLearning-Lecture01.pdf', 'page': 5}\n",
            "page_content='  the class to get to  know each other' metadata={'source': '/content/MachineLearning-Lecture01.pdf', 'page': 5}\n",
            "page_content=' and \\nhave whatever discussions you want to ha' metadata={'source': '/content/MachineLearning-Lecture01.pdf', 'page': 5}\n",
            "page_content=' ve amongst yourselves. So the class newsgroup ' metadata={'source': '/content/MachineLearning-Lecture01.pdf', 'page': 5}\n",
            "page_content='\\nwill not be monitored by the TAs and' metadata={'source': '/content/MachineLearning-Lecture01.pdf', 'page': 5}\n",
            "page_content=' me. But this is a place for you to' metadata={'source': '/content/MachineLearning-Lecture01.pdf', 'page': 5}\n",
            "page_content=' form study groups \\nor find project partners or' metadata={'source': '/content/MachineLearning-Lecture01.pdf', 'page': 5}\n",
            "page_content=\" discuss homework problems and so on, and it's\" metadata={'source': '/content/MachineLearning-Lecture01.pdf', 'page': 5}\n",
            "page_content=' not monitored \\nby the TAs and me' metadata={'source': '/content/MachineLearning-Lecture01.pdf', 'page': 5}\n",
            "page_content='. So feel free to ta lk trash about' metadata={'source': '/content/MachineLearning-Lecture01.pdf', 'page': 5}\n",
            "page_content=' this class there.  \\nIf you want' metadata={'source': '/content/MachineLearning-Lecture01.pdf', 'page': 5}\n",
            "page_content=' to contact the teaching staff, pl ease use the' metadata={'source': '/content/MachineLearning-Lecture01.pdf', 'page': 5}\n",
            "page_content=' email address written down here, \\ncs229' metadata={'source': '/content/MachineLearning-Lecture01.pdf', 'page': 5}\n",
            "page_content='-qa@cs.stanford.edu.' metadata={'source': '/content/MachineLearning-Lecture01.pdf', 'page': 5}\n",
            "page_content=\" This goes to an acc ount that's read\" metadata={'source': '/content/MachineLearning-Lecture01.pdf', 'page': 5}\n",
            "page_content=' by all the TAs and me. So ' metadata={'source': '/content/MachineLearning-Lecture01.pdf', 'page': 5}\n",
            "page_content='\\nrather than sending us email individually, if you' metadata={'source': '/content/MachineLearning-Lecture01.pdf', 'page': 5}\n",
            "page_content=' send email to this account, it will \\n' metadata={'source': '/content/MachineLearning-Lecture01.pdf', 'page': 5}\n",
            "page_content='actually let us get back to you maximally quickly' metadata={'source': '/content/MachineLearning-Lecture01.pdf', 'page': 5}\n",
            "page_content=' with answers to your questions.  \\nIf' metadata={'source': '/content/MachineLearning-Lecture01.pdf', 'page': 5}\n",
            "page_content=\" you're asking questions about homework probl ems\" metadata={'source': '/content/MachineLearning-Lecture01.pdf', 'page': 5}\n",
            "page_content=', please say in the subject line which \\n' metadata={'source': '/content/MachineLearning-Lecture01.pdf', 'page': 5}\n",
            "page_content='assignment and which question the email refers to,' metadata={'source': '/content/MachineLearning-Lecture01.pdf', 'page': 5}\n",
            "page_content=' since that will also help us to route \\n' metadata={'source': '/content/MachineLearning-Lecture01.pdf', 'page': 5}\n",
            "page_content='your question to the appropriate TA or to me ' metadata={'source': '/content/MachineLearning-Lecture01.pdf', 'page': 5}\n",
            "page_content=' appropriately and get the response back to \\nyou' metadata={'source': '/content/MachineLearning-Lecture01.pdf', 'page': 5}\n",
            "page_content=\" quickly.  \\nLet's see. Sk\" metadata={'source': '/content/MachineLearning-Lecture01.pdf', 'page': 5}\n",
            "page_content=\"ipping ahead — let's see — for homework,\" metadata={'source': '/content/MachineLearning-Lecture01.pdf', 'page': 5}\n",
            "page_content=' one midterm, one open and term \\nproject' metadata={'source': '/content/MachineLearning-Lecture01.pdf', 'page': 5}\n",
            "page_content='. Notice on the honor code. So one th' metadata={'source': '/content/MachineLearning-Lecture01.pdf', 'page': 5}\n",
            "page_content='i ng that I think will help you to succeed' metadata={'source': '/content/MachineLearning-Lecture01.pdf', 'page': 5}\n",
            "page_content=' and \\ndo well in this class and even' metadata={'source': '/content/MachineLearning-Lecture01.pdf', 'page': 5}\n",
            "page_content=' help you to enjoy this cla ss more is if' metadata={'source': '/content/MachineLearning-Lecture01.pdf', 'page': 5}\n",
            "page_content=' you form a study \\ngroup.  ' metadata={'source': '/content/MachineLearning-Lecture01.pdf', 'page': 5}\n",
            "page_content=\"\\nSo start looking around where you' re sitting\" metadata={'source': '/content/MachineLearning-Lecture01.pdf', 'page': 5}\n",
            "page_content=' now or at the end of class today, m' metadata={'source': '/content/MachineLearning-Lecture01.pdf', 'page': 5}\n",
            "page_content='ingle a \\nlittle bit and get to know' metadata={'source': '/content/MachineLearning-Lecture01.pdf', 'page': 5}\n",
            "page_content=' your classmates. I strongly encourage you to form study' metadata={'source': '/content/MachineLearning-Lecture01.pdf', 'page': 5}\n",
            "page_content=' groups \\nand sort of have a group of' metadata={'source': '/content/MachineLearning-Lecture01.pdf', 'page': 5}\n",
            "page_content=' people to study with and have a group of your' metadata={'source': '/content/MachineLearning-Lecture01.pdf', 'page': 5}\n",
            "page_content=' fellow students \\nto talk over these concepts with' metadata={'source': '/content/MachineLearning-Lecture01.pdf', 'page': 5}\n",
            "page_content='. You can also  post on the class news' metadata={'source': '/content/MachineLearning-Lecture01.pdf', 'page': 5}\n",
            "page_content=' group if you want to \\nuse that to' metadata={'source': '/content/MachineLearning-Lecture01.pdf', 'page': 5}\n",
            "page_content=' try to form a study group.  \\n' metadata={'source': '/content/MachineLearning-Lecture01.pdf', 'page': 5}\n",
            "page_content='But some of the problems sets in this cla ss' metadata={'source': '/content/MachineLearning-Lecture01.pdf', 'page': 5}\n",
            "page_content=' are reasonably difficult.  People that have \\n' metadata={'source': '/content/MachineLearning-Lecture01.pdf', 'page': 5}\n",
            "page_content='taken the class before may tell you they were' metadata={'source': '/content/MachineLearning-Lecture01.pdf', 'page': 5}\n",
            "page_content=' very difficult. And just I bet it would be' metadata={'source': '/content/MachineLearning-Lecture01.pdf', 'page': 5}\n",
            "page_content=\" \\nmore fun for you, and you'd\" metadata={'source': '/content/MachineLearning-Lecture01.pdf', 'page': 5}\n",
            "page_content=' probably have a be tter learning experience if you' metadata={'source': '/content/MachineLearning-Lecture01.pdf', 'page': 5}\n",
            "page_content=' form a \\nstudy group of people to work' metadata={'source': '/content/MachineLearning-Lecture01.pdf', 'page': 5}\n",
            "page_content=' with. So I definitely encourage you to do that' metadata={'source': '/content/MachineLearning-Lecture01.pdf', 'page': 5}\n",
            "page_content='.  \\nAnd just to say a word' metadata={'source': '/content/MachineLearning-Lecture01.pdf', 'page': 5}\n",
            "page_content=' on the honor code, whic h is I' metadata={'source': '/content/MachineLearning-Lecture01.pdf', 'page': 5}\n",
            "page_content=' definitely en courage you to form a \\nstudy' metadata={'source': '/content/MachineLearning-Lecture01.pdf', 'page': 5}\n",
            "page_content=' group and work together, discuss homew ork' metadata={'source': '/content/MachineLearning-Lecture01.pdf', 'page': 5}\n",
            "page_content=' problems together. But if you discuss ' metadata={'source': '/content/MachineLearning-Lecture01.pdf', 'page': 5}\n",
            "page_content='homework problems with other students, then  I' metadata={'source': '/content/MachineLearning-Lecture01.pdf', 'page': 6}\n",
            "page_content=\"'ll ask you to sort of go home and write\" metadata={'source': '/content/MachineLearning-Lecture01.pdf', 'page': 6}\n",
            "page_content=' \\ndown your own solutions independe nt' metadata={'source': '/content/MachineLearning-Lecture01.pdf', 'page': 6}\n",
            "page_content='ly without referring to note s that were taken in' metadata={'source': '/content/MachineLearning-Lecture01.pdf', 'page': 6}\n",
            "page_content=' any \\nof your joint study sessions. ' metadata={'source': '/content/MachineLearning-Lecture01.pdf', 'page': 6}\n",
            "page_content=' \\nSo in other words, when you turn' metadata={'source': '/content/MachineLearning-Lecture01.pdf', 'page': 6}\n",
            "page_content=' in a hom ework problem, what you turn' metadata={'source': '/content/MachineLearning-Lecture01.pdf', 'page': 6}\n",
            "page_content=' in should be \\nsomething that was reconstructed independ' metadata={'source': '/content/MachineLearning-Lecture01.pdf', 'page': 6}\n",
            "page_content='e ntly by yourself and w ith' metadata={'source': '/content/MachineLearning-Lecture01.pdf', 'page': 6}\n",
            "page_content='out referring to \\nnotes that you took during' metadata={'source': '/content/MachineLearning-Lecture01.pdf', 'page': 6}\n",
            "page_content=' your  study sessions with other people, okay?' metadata={'source': '/content/MachineLearning-Lecture01.pdf', 'page': 6}\n",
            "page_content=' And obviously, \\nshowing your solutions to' metadata={'source': '/content/MachineLearning-Lecture01.pdf', 'page': 6}\n",
            "page_content=' othe rs or copying other solutions  directly is' metadata={'source': '/content/MachineLearning-Lecture01.pdf', 'page': 6}\n",
            "page_content=' right out.  \\nWe occasionally also reuse' metadata={'source': '/content/MachineLearning-Lecture01.pdf', 'page': 6}\n",
            "page_content=' problem set questions from previous years so that the ' metadata={'source': '/content/MachineLearning-Lecture01.pdf', 'page': 6}\n",
            "page_content='\\nproblems are a bit more debugged and' metadata={'source': '/content/MachineLearning-Lecture01.pdf', 'page': 6}\n",
            "page_content=' work more  smoothly. And as a result of' metadata={'source': '/content/MachineLearning-Lecture01.pdf', 'page': 6}\n",
            "page_content=' that, I also \\nask you not to' metadata={'source': '/content/MachineLearning-Lecture01.pdf', 'page': 6}\n",
            "page_content=' look at solutions from previous ye ars, and' metadata={'source': '/content/MachineLearning-Lecture01.pdf', 'page': 6}\n",
            "page_content=' this includes both sort of official \\nsolutions' metadata={'source': '/content/MachineLearning-Lecture01.pdf', 'page': 6}\n",
            "page_content=\" that we've given out to previous gene rations\" metadata={'source': '/content/MachineLearning-Lecture01.pdf', 'page': 6}\n",
            "page_content=' of this class and previous solutions \\nthat people' metadata={'source': '/content/MachineLearning-Lecture01.pdf', 'page': 6}\n",
            "page_content=' that have taken this class in previous years may have' metadata={'source': '/content/MachineLearning-Lecture01.pdf', 'page': 6}\n",
            "page_content=' written out by \\nthemselves, okay?' metadata={'source': '/content/MachineLearning-Lecture01.pdf', 'page': 6}\n",
            "page_content='  \\nSadly, in this class, there' metadata={'source': '/content/MachineLearning-Lecture01.pdf', 'page': 6}\n",
            "page_content=' are usually — sadly, in previous y ears,' metadata={'source': '/content/MachineLearning-Lecture01.pdf', 'page': 6}\n",
            "page_content=' there have often been a \\nfew honor code' metadata={'source': '/content/MachineLearning-Lecture01.pdf', 'page': 6}\n",
            "page_content=' violations in this class. And last year, I' metadata={'source': '/content/MachineLearning-Lecture01.pdf', 'page': 6}\n",
            "page_content=' think I pr osecuted five honor code ' metadata={'source': '/content/MachineLearning-Lecture01.pdf', 'page': 6}\n",
            "page_content='\\nviolations, which I think is a ridiculously' metadata={'source': '/content/MachineLearning-Lecture01.pdf', 'page': 6}\n",
            "page_content=\" large number. And so just don't work without\" metadata={'source': '/content/MachineLearning-Lecture01.pdf', 'page': 6}\n",
            "page_content=\" \\nsolutions, and hopefully there'll be\" metadata={'source': '/content/MachineLearning-Lecture01.pdf', 'page': 6}\n",
            "page_content=\" zero honor code  violations this year. I'd\" metadata={'source': '/content/MachineLearning-Lecture01.pdf', 'page': 6}\n",
            "page_content=' love for that \\nto happen.  ' metadata={'source': '/content/MachineLearning-Lecture01.pdf', 'page': 6}\n",
            "page_content='\\nThe section here on the late homework polic y' metadata={'source': '/content/MachineLearning-Lecture01.pdf', 'page': 6}\n",
            "page_content=' if you ever want to hand in a homework ' metadata={'source': '/content/MachineLearning-Lecture01.pdf', 'page': 6}\n",
            "page_content=\"\\nlate, I'll leave you to r e\" metadata={'source': '/content/MachineLearning-Lecture01.pdf', 'page': 6}\n",
            "page_content='ad that yourself.  \\nWe also have' metadata={'source': '/content/MachineLearning-Lecture01.pdf', 'page': 6}\n",
            "page_content=' a midterm, which is scheduled for Thursday, 8' metadata={'source': '/content/MachineLearning-Lecture01.pdf', 'page': 6}\n",
            "page_content='th of November at 6:00 p.m' metadata={'source': '/content/MachineLearning-Lecture01.pdf', 'page': 6}\n",
            "page_content='., \\nso please keep that evening free.' metadata={'source': '/content/MachineLearning-Lecture01.pdf', 'page': 6}\n",
            "page_content=\"  \\nAnd let's see. And one\" metadata={'source': '/content/MachineLearning-Lecture01.pdf', 'page': 6}\n",
            "page_content=' more administrative thing I wanted to sa y is about' metadata={'source': '/content/MachineLearning-Lecture01.pdf', 'page': 6}\n",
            "page_content=' the class \\nproject. So part of the' metadata={'source': '/content/MachineLearning-Lecture01.pdf', 'page': 6}\n",
            "page_content=' goal of this cla ss is to leave you well' metadata={'source': '/content/MachineLearning-Lecture01.pdf', 'page': 6}\n",
            "page_content=' eq uipped to apply machine \\nlearning algorithms' metadata={'source': '/content/MachineLearning-Lecture01.pdf', 'page': 6}\n",
            "page_content=' to a problem or to do rese arch in machine' metadata={'source': '/content/MachineLearning-Lecture01.pdf', 'page': 6}\n",
            "page_content=' learning. And so as part of \\nthis' metadata={'source': '/content/MachineLearning-Lecture01.pdf', 'page': 6}\n",
            "page_content=\" class, I'll ask you to execute a small\" metadata={'source': '/content/MachineLearning-Lecture01.pdf', 'page': 6}\n",
            "page_content=' resear ch project sort of as a small term project' metadata={'source': '/content/MachineLearning-Lecture01.pdf', 'page': 6}\n",
            "page_content='.  \\nAnd what most students do for' metadata={'source': '/content/MachineLearning-Lecture01.pdf', 'page': 6}\n",
            "page_content=' this is either  apply machine learning to a problem' metadata={'source': '/content/MachineLearning-Lecture01.pdf', 'page': 6}\n",
            "page_content=' that you \\nfind interesting or investigate some aspect' metadata={'source': '/content/MachineLearning-Lecture01.pdf', 'page': 6}\n",
            "page_content=' of  machine learning. So to those of you' metadata={'source': '/content/MachineLearning-Lecture01.pdf', 'page': 6}\n",
            "page_content=' that \\nare either already doing research or to' metadata={'source': '/content/MachineLearning-Lecture01.pdf', 'page': 6}\n",
            "page_content=\" those of you who are in industry, you're\" metadata={'source': '/content/MachineLearning-Lecture01.pdf', 'page': 6}\n",
            "page_content=' taking this \\nfrom a company, one fantastic' metadata={'source': '/content/MachineLearning-Lecture01.pdf', 'page': 6}\n",
            "page_content=' sort of way to do a class project would be' metadata={'source': '/content/MachineLearning-Lecture01.pdf', 'page': 6}\n",
            "page_content=' if you apply \\nmachine learning algorithms to a' metadata={'source': '/content/MachineLearning-Lecture01.pdf', 'page': 6}\n",
            "page_content=\" problem that  you're interested in, to a\" metadata={'source': '/content/MachineLearning-Lecture01.pdf', 'page': 6}\n",
            "page_content=\" problem that \\nyou're already working on,\" metadata={'source': '/content/MachineLearning-Lecture01.pdf', 'page': 6}\n",
            "page_content=' whether it be a scien ce research problem or' metadata={'source': '/content/MachineLearning-Lecture01.pdf', 'page': 6}\n",
            "page_content=' sort of a problem \\nin industry where you' metadata={'source': '/content/MachineLearning-Lecture01.pdf', 'page': 6}\n",
            "page_content=\"'re trying to get a syst em to work\" metadata={'source': '/content/MachineLearning-Lecture01.pdf', 'page': 6}\n",
            "page_content=' using a learning algorithm.  \\nTo those' metadata={'source': '/content/MachineLearning-Lecture01.pdf', 'page': 6}\n",
            "page_content=' of you that are not currently doing re search,' metadata={'source': '/content/MachineLearning-Lecture01.pdf', 'page': 6}\n",
            "page_content=' one great way to do a project would \\n' metadata={'source': '/content/MachineLearning-Lecture01.pdf', 'page': 6}\n",
            "page_content='be if you apply learning algorithms to just pick a' metadata={'source': '/content/MachineLearning-Lecture01.pdf', 'page': 6}\n",
            "page_content=' problem that you care about. Pick a \\n' metadata={'source': '/content/MachineLearning-Lecture01.pdf', 'page': 6}\n",
            "page_content='problem that you find interesting, and apply lear n' metadata={'source': '/content/MachineLearning-Lecture01.pdf', 'page': 6}\n",
            "page_content='ing algorithms to that  and play with the ' metadata={'source': '/content/MachineLearning-Lecture01.pdf', 'page': 6}\n",
            "page_content='\\nideas and see what happens.  ' metadata={'source': '/content/MachineLearning-Lecture01.pdf', 'page': 6}\n",
            "page_content=\"And let's see. Oh, and the goal\" metadata={'source': '/content/MachineLearning-Lecture01.pdf', 'page': 7}\n",
            "page_content=' of the projec t should really be for' metadata={'source': '/content/MachineLearning-Lecture01.pdf', 'page': 7}\n",
            "page_content=' you to do a publishable \\npiece of' metadata={'source': '/content/MachineLearning-Lecture01.pdf', 'page': 7}\n",
            "page_content=' research in machine learning, okay?  \\n' metadata={'source': '/content/MachineLearning-Lecture01.pdf', 'page': 7}\n",
            "page_content='And if you go to the course website, you' metadata={'source': '/content/MachineLearning-Lecture01.pdf', 'page': 7}\n",
            "page_content=\"'ll actuall y find a list of the projects\" metadata={'source': '/content/MachineLearning-Lecture01.pdf', 'page': 7}\n",
            "page_content=' that students \\nhad done last year. And' metadata={'source': '/content/MachineLearning-Lecture01.pdf', 'page': 7}\n",
            "page_content=\" so I'm holding the li st in my hand\" metadata={'source': '/content/MachineLearning-Lecture01.pdf', 'page': 7}\n",
            "page_content='. You can  go home later and \\n' metadata={'source': '/content/MachineLearning-Lecture01.pdf', 'page': 7}\n",
            "page_content='take a look at it online.  \\n' metadata={'source': '/content/MachineLearning-Lecture01.pdf', 'page': 7}\n",
            "page_content='But reading down this list, I see that last' metadata={'source': '/content/MachineLearning-Lecture01.pdf', 'page': 7}\n",
            "page_content=' year, there were st udents that ap' metadata={'source': '/content/MachineLearning-Lecture01.pdf', 'page': 7}\n",
            "page_content=' plied learning \\nalgorithms to control' metadata={'source': '/content/MachineLearning-Lecture01.pdf', 'page': 7}\n",
            "page_content=' a snake robot. Ther e was a few projects' metadata={'source': '/content/MachineLearning-Lecture01.pdf', 'page': 7}\n",
            "page_content=' on improving learning \\nalgorithms. There' metadata={'source': '/content/MachineLearning-Lecture01.pdf', 'page': 7}\n",
            "page_content=\"'s a project on flying autonomous  aircraft. There\" metadata={'source': '/content/MachineLearning-Lecture01.pdf', 'page': 7}\n",
            "page_content=' was a project actually \\ndone by our TA' metadata={'source': '/content/MachineLearning-Lecture01.pdf', 'page': 7}\n",
            "page_content=' Paul on improvi ng computer vision algorithms  using' metadata={'source': '/content/MachineLearning-Lecture01.pdf', 'page': 7}\n",
            "page_content=' machine learning.  \\nThere are a couple' metadata={'source': '/content/MachineLearning-Lecture01.pdf', 'page': 7}\n",
            "page_content=' of project s on Netflix rankings using learning algorithms;' metadata={'source': '/content/MachineLearning-Lecture01.pdf', 'page': 7}\n",
            "page_content=' a few \\nmedical robots; ones on segment' metadata={'source': '/content/MachineLearning-Lecture01.pdf', 'page': 7}\n",
            "page_content='ing [inaudibl e] to segmenting' metadata={'source': '/content/MachineLearning-Lecture01.pdf', 'page': 7}\n",
            "page_content=' pieces of the body using \\nlearning algorithms;' metadata={'source': '/content/MachineLearning-Lecture01.pdf', 'page': 7}\n",
            "page_content=' one on musical instrume nt detection; an' metadata={'source': '/content/MachineLearning-Lecture01.pdf', 'page': 7}\n",
            "page_content='ot her on irony sequence \\nalignment;' metadata={'source': '/content/MachineLearning-Lecture01.pdf', 'page': 7}\n",
            "page_content=' and a few algorithms on understandin g the brain' metadata={'source': '/content/MachineLearning-Lecture01.pdf', 'page': 7}\n",
            "page_content=' neuroscience, actually quite a \\nfew projects on' metadata={'source': '/content/MachineLearning-Lecture01.pdf', 'page': 7}\n",
            "page_content=' neuroscience; a couple of projects on unde scending' metadata={'source': '/content/MachineLearning-Lecture01.pdf', 'page': 7}\n",
            "page_content=' fMRI data on brain \\nscans,' metadata={'source': '/content/MachineLearning-Lecture01.pdf', 'page': 7}\n",
            "page_content=' and so on; another project on market makings' metadata={'source': '/content/MachineLearning-Lecture01.pdf', 'page': 7}\n",
            "page_content=', the financial trading. There was an \\n' metadata={'source': '/content/MachineLearning-Lecture01.pdf', 'page': 7}\n",
            "page_content='interesting project on trying to use learning algorithms to decide' metadata={'source': '/content/MachineLearning-Lecture01.pdf', 'page': 7}\n",
            "page_content=\" what is it that makes a \\nperson's\" metadata={'source': '/content/MachineLearning-Lecture01.pdf', 'page': 7}\n",
            "page_content=\" face physically attractive. There's a learning algorithm on\" metadata={'source': '/content/MachineLearning-Lecture01.pdf', 'page': 7}\n",
            "page_content=' op tical illusions, and \\nso on' metadata={'source': '/content/MachineLearning-Lecture01.pdf', 'page': 7}\n",
            "page_content='.  \\nAnd it goes on, so' metadata={'source': '/content/MachineLearning-Lecture01.pdf', 'page': 7}\n",
            "page_content=' lots of fun projects. A nd take a' metadata={'source': '/content/MachineLearning-Lecture01.pdf', 'page': 7}\n",
            "page_content=' look, then come up with your own \\n' metadata={'source': '/content/MachineLearning-Lecture01.pdf', 'page': 7}\n",
            "page_content='ideas. But whatever you find cool and interest' metadata={'source': '/content/MachineLearning-Lecture01.pdf', 'page': 7}\n",
            "page_content=\" ing, I hope you'll be able to make\" metadata={'source': '/content/MachineLearning-Lecture01.pdf', 'page': 7}\n",
            "page_content=' machine \\nlearning a project out of it.' metadata={'source': '/content/MachineLearning-Lecture01.pdf', 'page': 7}\n",
            "page_content=' Yeah, question?  \\nStudent : Are' metadata={'source': '/content/MachineLearning-Lecture01.pdf', 'page': 7}\n",
            "page_content=' these gro up projects?  \\nInstructor' metadata={'source': '/content/MachineLearning-Lecture01.pdf', 'page': 7}\n",
            "page_content=' (Andrew Ng): Oh, yes, thank you' metadata={'source': '/content/MachineLearning-Lecture01.pdf', 'page': 7}\n",
            "page_content='.  \\nStudent : So how many people' metadata={'source': '/content/MachineLearning-Lecture01.pdf', 'page': 7}\n",
            "page_content=' can be in a group?  \\nInstruct' metadata={'source': '/content/MachineLearning-Lecture01.pdf', 'page': 7}\n",
            "page_content='or (Andrew Ng): Right. So projects can' metadata={'source': '/content/MachineLearning-Lecture01.pdf', 'page': 7}\n",
            "page_content=' be done in  groups of up to three people' metadata={'source': '/content/MachineLearning-Lecture01.pdf', 'page': 7}\n",
            "page_content='. \\nSo as part of forming study groups' metadata={'source': '/content/MachineLearning-Lecture01.pdf', 'page': 7}\n",
            "page_content=', later t oday as you get to know' metadata={'source': '/content/MachineLearning-Lecture01.pdf', 'page': 7}\n",
            "page_content=' your classmates, I \\ndefinitely also encourage' metadata={'source': '/content/MachineLearning-Lecture01.pdf', 'page': 7}\n",
            "page_content=' you to grab two ot her people and form a' metadata={'source': '/content/MachineLearning-Lecture01.pdf', 'page': 7}\n",
            "page_content=' group of up to three \\npeople for your' metadata={'source': '/content/MachineLearning-Lecture01.pdf', 'page': 7}\n",
            "page_content=' project, okay? And just start brainstorming ideas' metadata={'source': '/content/MachineLearning-Lecture01.pdf', 'page': 7}\n",
            "page_content=' for now amongst \\nyourselves. You can' metadata={'source': '/content/MachineLearning-Lecture01.pdf', 'page': 7}\n",
            "page_content=' also come and talk to me or the TAs' metadata={'source': '/content/MachineLearning-Lecture01.pdf', 'page': 7}\n",
            "page_content=' if you want to brainstorm ideas \\nwith us' metadata={'source': '/content/MachineLearning-Lecture01.pdf', 'page': 7}\n",
            "page_content='.  \\nOkay. So one more organizational' metadata={'source': '/content/MachineLearning-Lecture01.pdf', 'page': 7}\n",
            "page_content=\" ques tion. I'm curious, how many\" metadata={'source': '/content/MachineLearning-Lecture01.pdf', 'page': 7}\n",
            "page_content=' of you know \\nMATLAB? Wow,' metadata={'source': '/content/MachineLearning-Lecture01.pdf', 'page': 7}\n",
            "page_content=' cool, quite a lot. Okay. So as' metadata={'source': '/content/MachineLearning-Lecture01.pdf', 'page': 7}\n",
            "page_content=' part of the — act ually how many of' metadata={'source': '/content/MachineLearning-Lecture01.pdf', 'page': 7}\n",
            "page_content=' you \\nknow Octave or have used Oct' metadata={'source': '/content/MachineLearning-Lecture01.pdf', 'page': 7}\n",
            "page_content='ave ? Oh, okay, much smaller number.' metadata={'source': '/content/MachineLearning-Lecture01.pdf', 'page': 7}\n",
            "page_content='  \\nSo as part of this class,' metadata={'source': '/content/MachineLearning-Lecture01.pdf', 'page': 7}\n",
            "page_content=\" especially in the homeworks, we'll ask you\" metadata={'source': '/content/MachineLearning-Lecture01.pdf', 'page': 7}\n",
            "page_content=' to implement a few \\nprograms, a' metadata={'source': '/content/MachineLearning-Lecture01.pdf', 'page': 7}\n",
            "page_content=' few machine learning algorithms as  part of the hom' metadata={'source': '/content/MachineLearning-Lecture01.pdf', 'page': 7}\n",
            "page_content='eworks. And most of ' metadata={'source': '/content/MachineLearning-Lecture01.pdf', 'page': 7}\n",
            "page_content='those homeworks will be done in either MATLA' metadata={'source': '/content/MachineLearning-Lecture01.pdf', 'page': 8}\n",
            "page_content=' B or in Octave, which is sort of' metadata={'source': '/content/MachineLearning-Lecture01.pdf', 'page': 8}\n",
            "page_content=' — I \\nknow some people call it a' metadata={'source': '/content/MachineLearning-Lecture01.pdf', 'page': 8}\n",
            "page_content=' free ve rsion of MATLAB, which it' metadata={'source': '/content/MachineLearning-Lecture01.pdf', 'page': 8}\n",
            "page_content=\" sort  of is, sort of isn't.\" metadata={'source': '/content/MachineLearning-Lecture01.pdf', 'page': 8}\n",
            "page_content='  \\nSo I guess for those of you' metadata={'source': '/content/MachineLearning-Lecture01.pdf', 'page': 8}\n",
            "page_content=\" that haven't s een MATLAB before,\" metadata={'source': '/content/MachineLearning-Lecture01.pdf', 'page': 8}\n",
            "page_content=' and I know most of you \\nhave,' metadata={'source': '/content/MachineLearning-Lecture01.pdf', 'page': 8}\n",
            "page_content=' MATLAB is I guess part of the programming language' metadata={'source': '/content/MachineLearning-Lecture01.pdf', 'page': 8}\n",
            "page_content=' that makes it very easy to write codes using mat' metadata={'source': '/content/MachineLearning-Lecture01.pdf', 'page': 8}\n",
            "page_content='rices, to write code for numerical routines, to' metadata={'source': '/content/MachineLearning-Lecture01.pdf', 'page': 8}\n",
            "page_content=' move data around, to \\nplot data.' metadata={'source': '/content/MachineLearning-Lecture01.pdf', 'page': 8}\n",
            "page_content=\" And it's sort of an extremely easy to \" metadata={'source': '/content/MachineLearning-Lecture01.pdf', 'page': 8}\n",
            "page_content=' learn tool to use for implementing a lot of ' metadata={'source': '/content/MachineLearning-Lecture01.pdf', 'page': 8}\n",
            "page_content='\\nlearning algorithms.  \\nAnd in case' metadata={'source': '/content/MachineLearning-Lecture01.pdf', 'page': 8}\n",
            "page_content=' some of you want to work on your  own' metadata={'source': '/content/MachineLearning-Lecture01.pdf', 'page': 8}\n",
            "page_content=\" home computer or something if you \\ndon't\" metadata={'source': '/content/MachineLearning-Lecture01.pdf', 'page': 8}\n",
            "page_content=' have a MATLAB license, for the purposes of' metadata={'source': '/content/MachineLearning-Lecture01.pdf', 'page': 8}\n",
            "page_content=\"  this class, there's also — [ina\" metadata={'source': '/content/MachineLearning-Lecture01.pdf', 'page': 8}\n",
            "page_content='udible] \\nwrite that down [ina' metadata={'source': '/content/MachineLearning-Lecture01.pdf', 'page': 8}\n",
            "page_content=\"udible] MATLAB — there' s also\" metadata={'source': '/content/MachineLearning-Lecture01.pdf', 'page': 8}\n",
            "page_content=' a software package called Octave \\nthat you' metadata={'source': '/content/MachineLearning-Lecture01.pdf', 'page': 8}\n",
            "page_content=' can download for free off the Internet. And it' metadata={'source': '/content/MachineLearning-Lecture01.pdf', 'page': 8}\n",
            "page_content=' has somewhat fewer features than MATLAB, but it' metadata={'source': '/content/MachineLearning-Lecture01.pdf', 'page': 8}\n",
            "page_content=\"'s free, and for the purposes of  this\" metadata={'source': '/content/MachineLearning-Lecture01.pdf', 'page': 8}\n",
            "page_content=' class, it will work for just about \\n' metadata={'source': '/content/MachineLearning-Lecture01.pdf', 'page': 8}\n",
            "page_content='everything.  \\nSo actually I, well' metadata={'source': '/content/MachineLearning-Lecture01.pdf', 'page': 8}\n",
            "page_content=', so yeah, just a side comment for those' metadata={'source': '/content/MachineLearning-Lecture01.pdf', 'page': 8}\n",
            "page_content=\" of you that haven't seen \\nMATLAB\" metadata={'source': '/content/MachineLearning-Lecture01.pdf', 'page': 8}\n",
            "page_content=' before I guess, once a colleague of mine at' metadata={'source': '/content/MachineLearning-Lecture01.pdf', 'page': 8}\n",
            "page_content=' a different university, not at \\nStanford' metadata={'source': '/content/MachineLearning-Lecture01.pdf', 'page': 8}\n",
            "page_content=', actually teaches another machine l earning course. He' metadata={'source': '/content/MachineLearning-Lecture01.pdf', 'page': 8}\n",
            "page_content=\"'s taught it for many years. \\nSo\" metadata={'source': '/content/MachineLearning-Lecture01.pdf', 'page': 8}\n",
            "page_content=' one day, he was in his office, and' metadata={'source': '/content/MachineLearning-Lecture01.pdf', 'page': 8}\n",
            "page_content=' an old student of his from, lik e,' metadata={'source': '/content/MachineLearning-Lecture01.pdf', 'page': 8}\n",
            "page_content=' ten years ago came \\ninto his office and' metadata={'source': '/content/MachineLearning-Lecture01.pdf', 'page': 8}\n",
            "page_content=' he said, \"Oh, professo r,' metadata={'source': '/content/MachineLearning-Lecture01.pdf', 'page': 8}\n",
            "page_content=' professor, thank you so much for your \\n' metadata={'source': '/content/MachineLearning-Lecture01.pdf', 'page': 8}\n",
            "page_content='machine learning class. I learned so much from it' metadata={'source': '/content/MachineLearning-Lecture01.pdf', 'page': 8}\n",
            "page_content=\". There's this stuff that I learned in your\" metadata={'source': '/content/MachineLearning-Lecture01.pdf', 'page': 8}\n",
            "page_content=' \\nclass, and I now use every day' metadata={'source': '/content/MachineLearning-Lecture01.pdf', 'page': 8}\n",
            "page_content=\". And it's help ed me make lots of\" metadata={'source': '/content/MachineLearning-Lecture01.pdf', 'page': 8}\n",
            "page_content=\" money, and here's a \\npicture of\" metadata={'source': '/content/MachineLearning-Lecture01.pdf', 'page': 8}\n",
            "page_content=' my big house.\"  \\nSo my friend' metadata={'source': '/content/MachineLearning-Lecture01.pdf', 'page': 8}\n",
            "page_content=' was very excited. He said, \"W ow' metadata={'source': '/content/MachineLearning-Lecture01.pdf', 'page': 8}\n",
            "page_content=\". That's great. I'm glad to hear\" metadata={'source': '/content/MachineLearning-Lecture01.pdf', 'page': 8}\n",
            "page_content=' this \\nmachine learning stuff was actually useful.' metadata={'source': '/content/MachineLearning-Lecture01.pdf', 'page': 8}\n",
            "page_content=' So what was it that you learned? Was it' metadata={'source': '/content/MachineLearning-Lecture01.pdf', 'page': 8}\n",
            "page_content=' \\nlogistic regression? Was it the PC' metadata={'source': '/content/MachineLearning-Lecture01.pdf', 'page': 8}\n",
            "page_content='A? Was it the data ne tworks?' metadata={'source': '/content/MachineLearning-Lecture01.pdf', 'page': 8}\n",
            "page_content=' What was it that you \\nlearned that' metadata={'source': '/content/MachineLearning-Lecture01.pdf', 'page': 8}\n",
            "page_content=' was so helpful?\" And the student said, \"' metadata={'source': '/content/MachineLearning-Lecture01.pdf', 'page': 8}\n",
            "page_content='Oh, it was the MATLAB.\"  ' metadata={'source': '/content/MachineLearning-Lecture01.pdf', 'page': 8}\n",
            "page_content=\"\\nSo for those of you that don't know\" metadata={'source': '/content/MachineLearning-Lecture01.pdf', 'page': 8}\n",
            "page_content=' MATLAB yet, I hope you do learn it' metadata={'source': '/content/MachineLearning-Lecture01.pdf', 'page': 8}\n",
            "page_content=\". It's not hard, \\nand we\" metadata={'source': '/content/MachineLearning-Lecture01.pdf', 'page': 8}\n",
            "page_content=\"'ll actually have a short MATLAB tutori al\" metadata={'source': '/content/MachineLearning-Lecture01.pdf', 'page': 8}\n",
            "page_content=' in one of the discussion sections for \\nthose' metadata={'source': '/content/MachineLearning-Lecture01.pdf', 'page': 8}\n",
            "page_content=\" of you that don't know it.  \" metadata={'source': '/content/MachineLearning-Lecture01.pdf', 'page': 8}\n",
            "page_content='\\nOkay. The very last piece of logistical th' metadata={'source': '/content/MachineLearning-Lecture01.pdf', 'page': 8}\n",
            "page_content=' ing is the discussion s ections. So discussion' metadata={'source': '/content/MachineLearning-Lecture01.pdf', 'page': 8}\n",
            "page_content=' \\nsections will be taught by the TAs' metadata={'source': '/content/MachineLearning-Lecture01.pdf', 'page': 8}\n",
            "page_content=', and atte ndance at discussion sections' metadata={'source': '/content/MachineLearning-Lecture01.pdf', 'page': 8}\n",
            "page_content=\" is optional, \\nalthough they'll also be\" metadata={'source': '/content/MachineLearning-Lecture01.pdf', 'page': 8}\n",
            "page_content=\" recorded and televi sed. And we'll use\" metadata={'source': '/content/MachineLearning-Lecture01.pdf', 'page': 8}\n",
            "page_content=' the discussion sections \\nmainly for two things' metadata={'source': '/content/MachineLearning-Lecture01.pdf', 'page': 8}\n",
            "page_content='. For the next two or th ree weeks' metadata={'source': '/content/MachineLearning-Lecture01.pdf', 'page': 8}\n",
            "page_content=\", we'll use the discussion sections \\nto\" metadata={'source': '/content/MachineLearning-Lecture01.pdf', 'page': 8}\n",
            "page_content=' go over the prerequisites to this class or if' metadata={'source': '/content/MachineLearning-Lecture01.pdf', 'page': 8}\n",
            "page_content=\" some of you haven't seen probability or \\n\" metadata={'source': '/content/MachineLearning-Lecture01.pdf', 'page': 8}\n",
            "page_content='statistics for a while or maybe algebra, we' metadata={'source': '/content/MachineLearning-Lecture01.pdf', 'page': 8}\n",
            "page_content=\"'ll go over those in the discussion sections as a\" metadata={'source': '/content/MachineLearning-Lecture01.pdf', 'page': 8}\n",
            "page_content=' \\nrefresher for those of you that' metadata={'source': '/content/MachineLearning-Lecture01.pdf', 'page': 8}\n",
            "page_content=' want one.  \\nLater in this quarter' metadata={'source': '/content/MachineLearning-Lecture01.pdf', 'page': 8}\n",
            "page_content=\", we'll also use the disc ussion\" metadata={'source': '/content/MachineLearning-Lecture01.pdf', 'page': 8}\n",
            "page_content=' sections to go over extensions for the \\nmaterial' metadata={'source': '/content/MachineLearning-Lecture01.pdf', 'page': 8}\n",
            "page_content=\" that I'm teaching in the main lectur es\" metadata={'source': '/content/MachineLearning-Lecture01.pdf', 'page': 8}\n",
            "page_content='. So machine learning is a huge field, and' metadata={'source': '/content/MachineLearning-Lecture01.pdf', 'page': 8}\n",
            "page_content=' \\nthere are a few extensions that we really' metadata={'source': '/content/MachineLearning-Lecture01.pdf', 'page': 8}\n",
            "page_content=\" want  to teach but didn't have time in\" metadata={'source': '/content/MachineLearning-Lecture01.pdf', 'page': 8}\n",
            "page_content=' the main \\nlectures for.  ' metadata={'source': '/content/MachineLearning-Lecture01.pdf', 'page': 8}\n",
            "page_content=\"So later this quarter, we'll use the discussion\" metadata={'source': '/content/MachineLearning-Lecture01.pdf', 'page': 9}\n",
            "page_content=' sections to talk about things like convex \\n' metadata={'source': '/content/MachineLearning-Lecture01.pdf', 'page': 9}\n",
            "page_content='optimization, to talk a little bit about h' metadata={'source': '/content/MachineLearning-Lecture01.pdf', 'page': 9}\n",
            "page_content='idde n Markov models, which is a' metadata={'source': '/content/MachineLearning-Lecture01.pdf', 'page': 9}\n",
            "page_content=' type of machine \\nlearning algorithm for modeling time' metadata={'source': '/content/MachineLearning-Lecture01.pdf', 'page': 9}\n",
            "page_content=' series and a few other things, so  extensions' metadata={'source': '/content/MachineLearning-Lecture01.pdf', 'page': 9}\n",
            "page_content=\" to the \\nmaterials that I'll be\" metadata={'source': '/content/MachineLearning-Lecture01.pdf', 'page': 9}\n",
            "page_content=' covering in the main  lectures. And attend an' metadata={'source': '/content/MachineLearning-Lecture01.pdf', 'page': 9}\n",
            "page_content='ce at the discussion \\nsections is optional,' metadata={'source': '/content/MachineLearning-Lecture01.pdf', 'page': 9}\n",
            "page_content=' okay?  \\nSo that was all I' metadata={'source': '/content/MachineLearning-Lecture01.pdf', 'page': 9}\n",
            "page_content=' had from l ogistics. Before we move' metadata={'source': '/content/MachineLearning-Lecture01.pdf', 'page': 9}\n",
            "page_content=' on to start talking a bit about \\nmachine' metadata={'source': '/content/MachineLearning-Lecture01.pdf', 'page': 9}\n",
            "page_content=' learning, let me check what questions you have.' metadata={'source': '/content/MachineLearning-Lecture01.pdf', 'page': 9}\n",
            "page_content=' Yeah?  \\nStudent : [Inaud' metadata={'source': '/content/MachineLearning-Lecture01.pdf', 'page': 9}\n",
            "page_content='ible] R or something like that?  ' metadata={'source': '/content/MachineLearning-Lecture01.pdf', 'page': 9}\n",
            "page_content='\\nInstructor (Andrew Ng) : Oh,' metadata={'source': '/content/MachineLearning-Lecture01.pdf', 'page': 9}\n",
            "page_content=\" yeah, let's see, right. So our\" metadata={'source': '/content/MachineLearning-Lecture01.pdf', 'page': 9}\n",
            "page_content=\" policy has been that you're \\nwelcome\" metadata={'source': '/content/MachineLearning-Lecture01.pdf', 'page': 9}\n",
            "page_content=' to use R, but I would strongly advi' metadata={'source': '/content/MachineLearning-Lecture01.pdf', 'page': 9}\n",
            "page_content=' se against it, mainly because in the last ' metadata={'source': '/content/MachineLearning-Lecture01.pdf', 'page': 9}\n",
            "page_content='\\nproblem set, we actually supply some code th' metadata={'source': '/content/MachineLearning-Lecture01.pdf', 'page': 9}\n",
            "page_content=' at will run in Octave  but that would' metadata={'source': '/content/MachineLearning-Lecture01.pdf', 'page': 9}\n",
            "page_content=' be \\nsomewhat painful for you to' metadata={'source': '/content/MachineLearning-Lecture01.pdf', 'page': 9}\n",
            "page_content=' translate into R yourself. So for your other assignments' metadata={'source': '/content/MachineLearning-Lecture01.pdf', 'page': 9}\n",
            "page_content=', if \\nyou wanna submit a solution in' metadata={'source': '/content/MachineLearning-Lecture01.pdf', 'page': 9}\n",
            "page_content=\" R, that's fi ne. But I think\" metadata={'source': '/content/MachineLearning-Lecture01.pdf', 'page': 9}\n",
            "page_content=' MATLAB is actually totally \\nworth learning.' metadata={'source': '/content/MachineLearning-Lecture01.pdf', 'page': 9}\n",
            "page_content=' I know R and MATLAB, and I personally' metadata={'source': '/content/MachineLearning-Lecture01.pdf', 'page': 9}\n",
            "page_content=' end up using MATLAB quite a \\nbit' metadata={'source': '/content/MachineLearning-Lecture01.pdf', 'page': 9}\n",
            "page_content=' more often for various reasons. Yeah?  ' metadata={'source': '/content/MachineLearning-Lecture01.pdf', 'page': 9}\n",
            "page_content='\\nStudent : For the [inaudible]' metadata={'source': '/content/MachineLearning-Lecture01.pdf', 'page': 9}\n",
            "page_content=' pr oject [inaudible]? ' metadata={'source': '/content/MachineLearning-Lecture01.pdf', 'page': 9}\n",
            "page_content=' \\nInstructor (Andrew Ng) : So' metadata={'source': '/content/MachineLearning-Lecture01.pdf', 'page': 9}\n",
            "page_content=\" for the term project, you're welcome to do\" metadata={'source': '/content/MachineLearning-Lecture01.pdf', 'page': 9}\n",
            "page_content=' it in smaller \\ngroups of three, or' metadata={'source': '/content/MachineLearning-Lecture01.pdf', 'page': 9}\n",
            "page_content=\" you're welcome to do it by yo urself\" metadata={'source': '/content/MachineLearning-Lecture01.pdf', 'page': 9}\n",
            "page_content=' or in groups of two. Grading is the' metadata={'source': '/content/MachineLearning-Lecture01.pdf', 'page': 9}\n",
            "page_content=' \\nsame regardless of the group size, so' metadata={'source': '/content/MachineLearning-Lecture01.pdf', 'page': 9}\n",
            "page_content=' with  a larger group, you probably — I' metadata={'source': '/content/MachineLearning-Lecture01.pdf', 'page': 9}\n",
            "page_content=' recommend \\ntrying to form a team,' metadata={'source': '/content/MachineLearning-Lecture01.pdf', 'page': 9}\n",
            "page_content=\" but it's actually totally fine to do it in\" metadata={'source': '/content/MachineLearning-Lecture01.pdf', 'page': 9}\n",
            "page_content=' a sma ller group if you want.' metadata={'source': '/content/MachineLearning-Lecture01.pdf', 'page': 9}\n",
            "page_content='  \\nStudent : [Inaudible]' metadata={'source': '/content/MachineLearning-Lecture01.pdf', 'page': 9}\n",
            "page_content=' what language [inaudible]?  ' metadata={'source': '/content/MachineLearning-Lecture01.pdf', 'page': 9}\n",
            "page_content=\"\\nInstructor (Andrew Ng): So let's\" metadata={'source': '/content/MachineLearning-Lecture01.pdf', 'page': 9}\n",
            "page_content=' see. There is no C programming in this class' metadata={'source': '/content/MachineLearning-Lecture01.pdf', 'page': 9}\n",
            "page_content=' other \\nthan any that you may choose to' metadata={'source': '/content/MachineLearning-Lecture01.pdf', 'page': 9}\n",
            "page_content=' do yourself in your project. So all the hom' metadata={'source': '/content/MachineLearning-Lecture01.pdf', 'page': 9}\n",
            "page_content='eworks can be \\ndone in MATLAB or' metadata={'source': '/content/MachineLearning-Lecture01.pdf', 'page': 9}\n",
            "page_content=\" Octave, and let's see. A n\" metadata={'source': '/content/MachineLearning-Lecture01.pdf', 'page': 9}\n",
            "page_content='d I guess the program prerequisites is more ' metadata={'source': '/content/MachineLearning-Lecture01.pdf', 'page': 9}\n",
            "page_content='\\nthe ability to understand big?O notation and' metadata={'source': '/content/MachineLearning-Lecture01.pdf', 'page': 9}\n",
            "page_content=' know ledge of what a data structure, like a' metadata={'source': '/content/MachineLearning-Lecture01.pdf', 'page': 9}\n",
            "page_content=' \\nlinked list or a queue or bina' metadata={'source': '/content/MachineLearning-Lecture01.pdf', 'page': 9}\n",
            "page_content=' ry treatments, more so than  your knowledge' metadata={'source': '/content/MachineLearning-Lecture01.pdf', 'page': 9}\n",
            "page_content=' of C or Java \\nspecifically. Yeah' metadata={'source': '/content/MachineLearning-Lecture01.pdf', 'page': 9}\n",
            "page_content='?  \\nStudent : Looking at the end' metadata={'source': '/content/MachineLearning-Lecture01.pdf', 'page': 9}\n",
            "page_content=' semester project, I mean, what exactly will you' metadata={'source': '/content/MachineLearning-Lecture01.pdf', 'page': 9}\n",
            "page_content=' be testing \\nover there? [Inaud' metadata={'source': '/content/MachineLearning-Lecture01.pdf', 'page': 9}\n",
            "page_content='ible]?  \\nInstructor (Andrew' metadata={'source': '/content/MachineLearning-Lecture01.pdf', 'page': 9}\n",
            "page_content=' Ng) : Of the project?  \\n' metadata={'source': '/content/MachineLearning-Lecture01.pdf', 'page': 9}\n",
            "page_content='Student : Yeah.  \\nInstructor (' metadata={'source': '/content/MachineLearning-Lecture01.pdf', 'page': 9}\n",
            "page_content='Andrew Ng) : Yeah, let me answer that' metadata={'source': '/content/MachineLearning-Lecture01.pdf', 'page': 9}\n",
            "page_content=' later.  In a couple of weeks, I' metadata={'source': '/content/MachineLearning-Lecture01.pdf', 'page': 9}\n",
            "page_content=' shall \\ngive out a handout with guidelines' metadata={'source': '/content/MachineLearning-Lecture01.pdf', 'page': 9}\n",
            "page_content=' for the pr oject. But for now,' metadata={'source': '/content/MachineLearning-Lecture01.pdf', 'page': 9}\n",
            "page_content=' we should think of the \\ngoal as being' metadata={'source': '/content/MachineLearning-Lecture01.pdf', 'page': 9}\n",
            "page_content=' to do a cool piec e of machine learning' metadata={'source': '/content/MachineLearning-Lecture01.pdf', 'page': 9}\n",
            "page_content=' work that  will let you experience the ' metadata={'source': '/content/MachineLearning-Lecture01.pdf', 'page': 9}\n",
            "page_content='joys of machine learning firs thand and' metadata={'source': '/content/MachineLearning-Lecture01.pdf', 'page': 10}\n",
            "page_content=' really try to think about doing a publishable piece' metadata={'source': '/content/MachineLearning-Lecture01.pdf', 'page': 10}\n",
            "page_content=' \\nof work.  \\nSo many' metadata={'source': '/content/MachineLearning-Lecture01.pdf', 'page': 10}\n",
            "page_content=' students will try to build a cool machine learning application' metadata={'source': '/content/MachineLearning-Lecture01.pdf', 'page': 10}\n",
            "page_content=\". That's probably \\nthe most common project\" metadata={'source': '/content/MachineLearning-Lecture01.pdf', 'page': 10}\n",
            "page_content='. Some students will try to improve state-of' metadata={'source': '/content/MachineLearning-Lecture01.pdf', 'page': 10}\n",
            "page_content='-the-art machine \\nlearning. Some' metadata={'source': '/content/MachineLearning-Lecture01.pdf', 'page': 10}\n",
            "page_content=' of those projects are also very  successful. It' metadata={'source': '/content/MachineLearning-Lecture01.pdf', 'page': 10}\n",
            "page_content=\"'s a littl e bit harder to do\" metadata={'source': '/content/MachineLearning-Lecture01.pdf', 'page': 10}\n",
            "page_content=\". And \\nthere's also a smaller minority\" metadata={'source': '/content/MachineLearning-Lecture01.pdf', 'page': 10}\n",
            "page_content=' of students th at will sometimes try to prove —' metadata={'source': '/content/MachineLearning-Lecture01.pdf', 'page': 10}\n",
            "page_content=' develop the \\ntheory of machine learning further' metadata={'source': '/content/MachineLearning-Lecture01.pdf', 'page': 10}\n",
            "page_content=' or try to  prove theorems about machine' metadata={'source': '/content/MachineLearning-Lecture01.pdf', 'page': 10}\n",
            "page_content=\" learning. So \\nthey're usually great projects\" metadata={'source': '/content/MachineLearning-Lecture01.pdf', 'page': 10}\n",
            "page_content=' of all of those types with applications and machine learning' metadata={'source': '/content/MachineLearning-Lecture01.pdf', 'page': 10}\n",
            "page_content=' \\nbeing the most common. Anything else?' metadata={'source': '/content/MachineLearning-Lecture01.pdf', 'page': 10}\n",
            "page_content=' Okay, cool.  \\nSo that was' metadata={'source': '/content/MachineLearning-Lecture01.pdf', 'page': 10}\n",
            "page_content=\" it for logistics. Let's talk about  learning\" metadata={'source': '/content/MachineLearning-Lecture01.pdf', 'page': 10}\n",
            "page_content=' algorithms. So can I have the laptop \\n' metadata={'source': '/content/MachineLearning-Lecture01.pdf', 'page': 10}\n",
            "page_content='display, please, or the projector? Actually,' metadata={'source': '/content/MachineLearning-Lecture01.pdf', 'page': 10}\n",
            "page_content=' co uld you lower the big sc reen' metadata={'source': '/content/MachineLearning-Lecture01.pdf', 'page': 10}\n",
            "page_content='? Cool. This is \\namazing customer' metadata={'source': '/content/MachineLearning-Lecture01.pdf', 'page': 10}\n",
            "page_content=' service. Thank you. I see. Okay,' metadata={'source': '/content/MachineLearning-Lecture01.pdf', 'page': 10}\n",
            "page_content=\" cool. Okay. No, that's fine.\" metadata={'source': '/content/MachineLearning-Lecture01.pdf', 'page': 10}\n",
            "page_content=\" I see. \\nOkay. That's cool\" metadata={'source': '/content/MachineLearning-Lecture01.pdf', 'page': 10}\n",
            "page_content='. Thanks. Okay.  \\nBig screen' metadata={'source': '/content/MachineLearning-Lecture01.pdf', 'page': 10}\n",
            "page_content=\" isn't working toda y, but I hope\" metadata={'source': '/content/MachineLearning-Lecture01.pdf', 'page': 10}\n",
            "page_content=' you can read things  on the smaller screens out' metadata={'source': '/content/MachineLearning-Lecture01.pdf', 'page': 10}\n",
            "page_content=' \\nthere. Actually, [inaudible' metadata={'source': '/content/MachineLearning-Lecture01.pdf', 'page': 10}\n",
            "page_content='] I think this room just got a new projector' metadata={'source': '/content/MachineLearning-Lecture01.pdf', 'page': 10}\n",
            "page_content=' that — someone \\nsent you an excited email' metadata={'source': '/content/MachineLearning-Lecture01.pdf', 'page': 10}\n",
            "page_content=' — was it just on Frid ay? —' metadata={'source': '/content/MachineLearning-Lecture01.pdf', 'page': 10}\n",
            "page_content=' saying we just got a new projector \\nand' metadata={'source': '/content/MachineLearning-Lecture01.pdf', 'page': 10}\n",
            "page_content=' they said 4,000-to-1 something' metadata={'source': '/content/MachineLearning-Lecture01.pdf', 'page': 10}\n",
            "page_content=\" or othe r brightness ratio. I don't\" metadata={'source': '/content/MachineLearning-Lecture01.pdf', 'page': 10}\n",
            "page_content=' know. Someone was \\nvery excited about the' metadata={'source': '/content/MachineLearning-Lecture01.pdf', 'page': 10}\n",
            "page_content=' new projector in this room, but I guess we' metadata={'source': '/content/MachineLearning-Lecture01.pdf', 'page': 10}\n",
            "page_content=\"'ll see that in operation \\non Wednesday.\" metadata={'source': '/content/MachineLearning-Lecture01.pdf', 'page': 10}\n",
            "page_content='  \\nSo start by talking about what machine' metadata={'source': '/content/MachineLearning-Lecture01.pdf', 'page': 10}\n",
            "page_content=' learni ng is. What is machine learning?' metadata={'source': '/content/MachineLearning-Lecture01.pdf', 'page': 10}\n",
            "page_content=' Actually, \\ncan you read the text out' metadata={'source': '/content/MachineLearning-Lecture01.pdf', 'page': 10}\n",
            "page_content=' there? Raise your hand if the text on the' metadata={'source': '/content/MachineLearning-Lecture01.pdf', 'page': 10}\n",
            "page_content=' small screens is legible. \\nOh,' metadata={'source': '/content/MachineLearning-Lecture01.pdf', 'page': 10}\n",
            "page_content=' okay, cool, mostly legible. Okay.' metadata={'source': '/content/MachineLearning-Lecture01.pdf', 'page': 10}\n",
            "page_content=\" So I'll just read it out.  \" metadata={'source': '/content/MachineLearning-Lecture01.pdf', 'page': 10}\n",
            "page_content='\\nSo what is machine learning? Way back in' metadata={'source': '/content/MachineLearning-Lecture01.pdf', 'page': 10}\n",
            "page_content='  about 1959, Arthur Samuel defined machine \\n' metadata={'source': '/content/MachineLearning-Lecture01.pdf', 'page': 10}\n",
            "page_content='learning informally as the [inaudible]' metadata={'source': '/content/MachineLearning-Lecture01.pdf', 'page': 10}\n",
            "page_content=' that gives computers to learn — [inaudible' metadata={'source': '/content/MachineLearning-Lecture01.pdf', 'page': 10}\n",
            "page_content='] that \\ngives computers the ability to' metadata={'source': '/content/MachineLearning-Lecture01.pdf', 'page': 10}\n",
            "page_content=' learn without  being explicitly programmed. So Arthur ' metadata={'source': '/content/MachineLearning-Lecture01.pdf', 'page': 10}\n",
            "page_content='\\nSamuel, so way back in the history' metadata={'source': '/content/MachineLearning-Lecture01.pdf', 'page': 10}\n",
            "page_content=' of m achine learning, actually did something' metadata={'source': '/content/MachineLearning-Lecture01.pdf', 'page': 10}\n",
            "page_content=' very \\ncool, which was he wrote a' metadata={'source': '/content/MachineLearning-Lecture01.pdf', 'page': 10}\n",
            "page_content=' checkers progr am, which would play games' metadata={'source': '/content/MachineLearning-Lecture01.pdf', 'page': 10}\n",
            "page_content=' of checkers \\nagainst itself.  ' metadata={'source': '/content/MachineLearning-Lecture01.pdf', 'page': 10}\n",
            "page_content='\\nAnd so because a computer can play thousands ' metadata={'source': '/content/MachineLearning-Lecture01.pdf', 'page': 10}\n",
            "page_content=' of games against itself relatively quickly, \\nArthur' metadata={'source': '/content/MachineLearning-Lecture01.pdf', 'page': 10}\n",
            "page_content=' Samuel had his program play thousands  of games against' metadata={'source': '/content/MachineLearning-Lecture01.pdf', 'page': 10}\n",
            "page_content=' itself, and over time it \\nwould start' metadata={'source': '/content/MachineLearning-Lecture01.pdf', 'page': 10}\n",
            "page_content=' to learn to rec ognize patterns which led' metadata={'source': '/content/MachineLearning-Lecture01.pdf', 'page': 10}\n",
            "page_content=' to wi ns and patterns which led to \\n' metadata={'source': '/content/MachineLearning-Lecture01.pdf', 'page': 10}\n",
            "page_content='losses. So over time it learned things like' metadata={'source': '/content/MachineLearning-Lecture01.pdf', 'page': 10}\n",
            "page_content=' that , \"Gee, if I get a' metadata={'source': '/content/MachineLearning-Lecture01.pdf', 'page': 10}\n",
            "page_content=' lot of pieces taken by the \\nopponent' metadata={'source': '/content/MachineLearning-Lecture01.pdf', 'page': 10}\n",
            "page_content=\", then I'm more likely to lose than win\" metadata={'source': '/content/MachineLearning-Lecture01.pdf', 'page': 10}\n",
            "page_content=',\" or, \"Gee, if I get' metadata={'source': '/content/MachineLearning-Lecture01.pdf', 'page': 10}\n",
            "page_content=' my pieces into a \\ncertain position, then' metadata={'source': '/content/MachineLearning-Lecture01.pdf', 'page': 10}\n",
            "page_content=\" I'm especially li kely to win rather than\" metadata={'source': '/content/MachineLearning-Lecture01.pdf', 'page': 10}\n",
            "page_content=' lose.\"  \\nAnd so over time,' metadata={'source': '/content/MachineLearning-Lecture01.pdf', 'page': 10}\n",
            "page_content=' Arthur Samuel had a check ers program that w' metadata={'source': '/content/MachineLearning-Lecture01.pdf', 'page': 10}\n",
            "page_content='oul d actually learn to \\nplay checkers' metadata={'source': '/content/MachineLearning-Lecture01.pdf', 'page': 10}\n",
            "page_content=' by learning what are the sort of  board positions' metadata={'source': '/content/MachineLearning-Lecture01.pdf', 'page': 10}\n",
            "page_content=' that tend to be associated \\nwith wins and' metadata={'source': '/content/MachineLearning-Lecture01.pdf', 'page': 10}\n",
            "page_content=' what are the boa rd positions that tend' metadata={'source': '/content/MachineLearning-Lecture01.pdf', 'page': 10}\n",
            "page_content=' to be associated with losses. And \\nway' metadata={'source': '/content/MachineLearning-Lecture01.pdf', 'page': 10}\n",
            "page_content=' back around 1959, the amazing thing about this was' metadata={'source': '/content/MachineLearning-Lecture01.pdf', 'page': 10}\n",
            "page_content=' that his program actually \\nlearned to play' metadata={'source': '/content/MachineLearning-Lecture01.pdf', 'page': 10}\n",
            "page_content=' checkers much better than Arthur Samuel  himself could' metadata={'source': '/content/MachineLearning-Lecture01.pdf', 'page': 10}\n",
            "page_content='.  ' metadata={'source': '/content/MachineLearning-Lecture01.pdf', 'page': 10}\n",
            "page_content='So even today, there are some people that say' metadata={'source': '/content/MachineLearning-Lecture01.pdf', 'page': 11}\n",
            "page_content=\", well, computers can't do anything that \" metadata={'source': '/content/MachineLearning-Lecture01.pdf', 'page': 11}\n",
            "page_content=\"\\nthey're not explicitly programmed to. And Ar\" metadata={'source': '/content/MachineLearning-Lecture01.pdf', 'page': 11}\n",
            "page_content=\" thur Samuel's checkers program was maybe \" metadata={'source': '/content/MachineLearning-Lecture01.pdf', 'page': 11}\n",
            "page_content='\\nthe first I think really convi ncing' metadata={'source': '/content/MachineLearning-Lecture01.pdf', 'page': 11}\n",
            "page_content=' refutation of this clai m. Namely' metadata={'source': '/content/MachineLearning-Lecture01.pdf', 'page': 11}\n",
            "page_content=', Arthur Samuel \\nmanaged to write a check' metadata={'source': '/content/MachineLearning-Lecture01.pdf', 'page': 11}\n",
            "page_content='ers program that could play checkers much better than' metadata={'source': '/content/MachineLearning-Lecture01.pdf', 'page': 11}\n",
            "page_content=' he \\npersonally could, and this is' metadata={'source': '/content/MachineLearning-Lecture01.pdf', 'page': 11}\n",
            "page_content=' an instance of maybe computers learning to do things that' metadata={'source': '/content/MachineLearning-Lecture01.pdf', 'page': 11}\n",
            "page_content=' \\nthey were not programmed explicitly to do.' metadata={'source': '/content/MachineLearning-Lecture01.pdf', 'page': 11}\n",
            "page_content=\"  \\nHere's a more recent, a\" metadata={'source': '/content/MachineLearning-Lecture01.pdf', 'page': 11}\n",
            "page_content=' more modern, more formal definition of machine learning due' metadata={'source': '/content/MachineLearning-Lecture01.pdf', 'page': 11}\n",
            "page_content=' to \\nTom Mitchell, who says that a' metadata={'source': '/content/MachineLearning-Lecture01.pdf', 'page': 11}\n",
            "page_content=' well-posed le arning problem is defined as' metadata={'source': '/content/MachineLearning-Lecture01.pdf', 'page': 11}\n",
            "page_content=' follows: He \\nsays that a computer' metadata={'source': '/content/MachineLearning-Lecture01.pdf', 'page': 11}\n",
            "page_content=' program is set to lear n from an experience E' metadata={'source': '/content/MachineLearning-Lecture01.pdf', 'page': 11}\n",
            "page_content=' with respect to some \\ntask T and some' metadata={'source': '/content/MachineLearning-Lecture01.pdf', 'page': 11}\n",
            "page_content=' performance measure P if  its performance on T as' metadata={'source': '/content/MachineLearning-Lecture01.pdf', 'page': 11}\n",
            "page_content=' measured by P \\nimproves with experience E' metadata={'source': '/content/MachineLearning-Lecture01.pdf', 'page': 11}\n",
            "page_content='. Okay. So not  only is it a' metadata={'source': '/content/MachineLearning-Lecture01.pdf', 'page': 11}\n",
            "page_content=' definition, it even rhymes.  \\n' metadata={'source': '/content/MachineLearning-Lecture01.pdf', 'page': 11}\n",
            "page_content='So, for example, in the case of check' metadata={'source': '/content/MachineLearning-Lecture01.pdf', 'page': 11}\n",
            "page_content='ers, th e experience E that a program has' metadata={'source': '/content/MachineLearning-Lecture01.pdf', 'page': 11}\n",
            "page_content=' would be \\nthe experience of playing lots of' metadata={'source': '/content/MachineLearning-Lecture01.pdf', 'page': 11}\n",
            "page_content=' games of checkers against itself, say. The' metadata={'source': '/content/MachineLearning-Lecture01.pdf', 'page': 11}\n",
            "page_content=' task T is the \\ntask of playing check' metadata={'source': '/content/MachineLearning-Lecture01.pdf', 'page': 11}\n",
            "page_content='ers, a nd the performance measure P will' metadata={'source': '/content/MachineLearning-Lecture01.pdf', 'page': 11}\n",
            "page_content=' be something like the \\nfraction of games' metadata={'source': '/content/MachineLearning-Lecture01.pdf', 'page': 11}\n",
            "page_content=' it wins against a cert ain set of human opponents' metadata={'source': '/content/MachineLearning-Lecture01.pdf', 'page': 11}\n",
            "page_content=\". And by this \\ndefinition, we'll\" metadata={'source': '/content/MachineLearning-Lecture01.pdf', 'page': 11}\n",
            "page_content=\" say that Arthur Samuel's ch eckers program\" metadata={'source': '/content/MachineLearning-Lecture01.pdf', 'page': 11}\n",
            "page_content=' has learned to play checkers, \\nok' metadata={'source': '/content/MachineLearning-Lecture01.pdf', 'page': 11}\n",
            "page_content='ay?  \\nSo as an overview of' metadata={'source': '/content/MachineLearning-Lecture01.pdf', 'page': 11}\n",
            "page_content=\" what we're going to do in this class,\" metadata={'source': '/content/MachineLearning-Lecture01.pdf', 'page': 11}\n",
            "page_content=' this class is sort of organized \\ninto four' metadata={'source': '/content/MachineLearning-Lecture01.pdf', 'page': 11}\n",
            "page_content=\" major sections. We're gonna talk about four major\" metadata={'source': '/content/MachineLearning-Lecture01.pdf', 'page': 11}\n",
            "page_content=' topics in this class, the first \\nof' metadata={'source': '/content/MachineLearning-Lecture01.pdf', 'page': 11}\n",
            "page_content=' which is supervised learning. So le t me give' metadata={'source': '/content/MachineLearning-Lecture01.pdf', 'page': 11}\n",
            "page_content=' you an example of that.  \\nSo' metadata={'source': '/content/MachineLearning-Lecture01.pdf', 'page': 11}\n",
            "page_content=' suppose you collect a data set of housing prices.' metadata={'source': '/content/MachineLearning-Lecture01.pdf', 'page': 11}\n",
            "page_content=' And one of the TAs, Dan Ramage' metadata={'source': '/content/MachineLearning-Lecture01.pdf', 'page': 11}\n",
            "page_content=', \\nactually collected a data set for me' metadata={'source': '/content/MachineLearning-Lecture01.pdf', 'page': 11}\n",
            "page_content=' last week to use in the example later. But' metadata={'source': '/content/MachineLearning-Lecture01.pdf', 'page': 11}\n",
            "page_content=' suppose that \\nyou go to collect statistics about' metadata={'source': '/content/MachineLearning-Lecture01.pdf', 'page': 11}\n",
            "page_content=' how much hous es cost in a certain geographic area' metadata={'source': '/content/MachineLearning-Lecture01.pdf', 'page': 11}\n",
            "page_content='. And \\nDan, the TA, collected' metadata={'source': '/content/MachineLearning-Lecture01.pdf', 'page': 11}\n",
            "page_content=' data from housing pr ices in Portland, Oregon' metadata={'source': '/content/MachineLearning-Lecture01.pdf', 'page': 11}\n",
            "page_content='. So what you can do \\nis let' metadata={'source': '/content/MachineLearning-Lecture01.pdf', 'page': 11}\n",
            "page_content=\"'s say plot the square footage of the house against\" metadata={'source': '/content/MachineLearning-Lecture01.pdf', 'page': 11}\n",
            "page_content=' the list price of  the house, right,' metadata={'source': '/content/MachineLearning-Lecture01.pdf', 'page': 11}\n",
            "page_content=' so \\nyou collect data on a bunch of' metadata={'source': '/content/MachineLearning-Lecture01.pdf', 'page': 11}\n",
            "page_content=\" houses. And let' s say you get a\" metadata={'source': '/content/MachineLearning-Lecture01.pdf', 'page': 11}\n",
            "page_content=' data set like this with \\nhouses of different' metadata={'source': '/content/MachineLearning-Lecture01.pdf', 'page': 11}\n",
            "page_content=' sizes that are li sted for different amounts of' metadata={'source': '/content/MachineLearning-Lecture01.pdf', 'page': 11}\n",
            "page_content=\" money.  \\nNow, let's say\" metadata={'source': '/content/MachineLearning-Lecture01.pdf', 'page': 11}\n",
            "page_content=\" that I'm trying to sell a hous e in\" metadata={'source': '/content/MachineLearning-Lecture01.pdf', 'page': 11}\n",
            "page_content=' the same area as Portland, Oregon as \\n' metadata={'source': '/content/MachineLearning-Lecture01.pdf', 'page': 11}\n",
            "page_content=\"where the data comes from. Let's say I\" metadata={'source': '/content/MachineLearning-Lecture01.pdf', 'page': 11}\n",
            "page_content=\" have a hou se that's this size in\" metadata={'source': '/content/MachineLearning-Lecture01.pdf', 'page': 11}\n",
            "page_content=' square footage, and \\nI want an algorithm' metadata={'source': '/content/MachineLearning-Lecture01.pdf', 'page': 11}\n",
            "page_content=' to tell me about how much should I expect my' metadata={'source': '/content/MachineLearning-Lecture01.pdf', 'page': 11}\n",
            "page_content=' house to sell for. So there are lots of' metadata={'source': '/content/MachineLearning-Lecture01.pdf', 'page': 11}\n",
            "page_content=' ways to do this, and some of you may' metadata={'source': '/content/MachineLearning-Lecture01.pdf', 'page': 11}\n",
            "page_content=\" have seen elements of what I'm \\nabout\" metadata={'source': '/content/MachineLearning-Lecture01.pdf', 'page': 11}\n",
            "page_content=' to say before.  \\nSo one thing' metadata={'source': '/content/MachineLearning-Lecture01.pdf', 'page': 11}\n",
            "page_content=' you could do is look at this data and maybe' metadata={'source': '/content/MachineLearning-Lecture01.pdf', 'page': 11}\n",
            "page_content=' put a straight  line to it. And then' metadata={'source': '/content/MachineLearning-Lecture01.pdf', 'page': 11}\n",
            "page_content=' \\nif this is my house, you may' metadata={'source': '/content/MachineLearning-Lecture01.pdf', 'page': 11}\n",
            "page_content=' then look at th e straight line and predict that' metadata={'source': '/content/MachineLearning-Lecture01.pdf', 'page': 11}\n",
            "page_content=' my house is \\ngonna go for about' metadata={'source': '/content/MachineLearning-Lecture01.pdf', 'page': 11}\n",
            "page_content=' that much money, right? Ther e are other' metadata={'source': '/content/MachineLearning-Lecture01.pdf', 'page': 11}\n",
            "page_content=' decisions that we can make, \\nwhich we' metadata={'source': '/content/MachineLearning-Lecture01.pdf', 'page': 11}\n",
            "page_content=\"'ll talk about later, which is, well,\" metadata={'source': '/content/MachineLearning-Lecture01.pdf', 'page': 11}\n",
            "page_content=\" what if I don' t wanna put a straight\" metadata={'source': '/content/MachineLearning-Lecture01.pdf', 'page': 11}\n",
            "page_content=' line? \\nMaybe I should put a quad' metadata={'source': '/content/MachineLearning-Lecture01.pdf', 'page': 11}\n",
            "page_content='ratic function to it. Ma ybe that' metadata={'source': '/content/MachineLearning-Lecture01.pdf', 'page': 11}\n",
            "page_content=' fits the data a little bit better. \\n' metadata={'source': '/content/MachineLearning-Lecture01.pdf', 'page': 11}\n",
            "page_content='You notice if you do that, the price of' metadata={'source': '/content/MachineLearning-Lecture01.pdf', 'page': 11}\n",
            "page_content=\" my house goes up a bit, so that'd\" metadata={'source': '/content/MachineLearning-Lecture01.pdf', 'page': 11}\n",
            "page_content=' be nice.  ' metadata={'source': '/content/MachineLearning-Lecture01.pdf', 'page': 11}\n",
            "page_content='And this sort of learning pr oblem of learning' metadata={'source': '/content/MachineLearning-Lecture01.pdf', 'page': 12}\n",
            "page_content=' to predict hous ing prices is an example of ' metadata={'source': '/content/MachineLearning-Lecture01.pdf', 'page': 12}\n",
            "page_content=\"\\nwhat's called a supervised learning problem. And\" metadata={'source': '/content/MachineLearning-Lecture01.pdf', 'page': 12}\n",
            "page_content=\" the reason that it's called supervised \\nlearning\" metadata={'source': '/content/MachineLearning-Lecture01.pdf', 'page': 12}\n",
            "page_content=\" is because we're providing the al gorithm\" metadata={'source': '/content/MachineLearning-Lecture01.pdf', 'page': 12}\n",
            "page_content=' a data set of a bunch of square \\n' metadata={'source': '/content/MachineLearning-Lecture01.pdf', 'page': 12}\n",
            "page_content='footages, a bunch of housing sizes, and' metadata={'source': '/content/MachineLearning-Lecture01.pdf', 'page': 12}\n",
            "page_content=' as well as sort of the right answer of what' metadata={'source': '/content/MachineLearning-Lecture01.pdf', 'page': 12}\n",
            "page_content=' the \\nactual prices of a number  of' metadata={'source': '/content/MachineLearning-Lecture01.pdf', 'page': 12}\n",
            "page_content=' houses were, right?  \\nSo we' metadata={'source': '/content/MachineLearning-Lecture01.pdf', 'page': 12}\n",
            "page_content=\" call this supervised learning because we're supervising the\" metadata={'source': '/content/MachineLearning-Lecture01.pdf', 'page': 12}\n",
            "page_content=' algorithm or, in other \\nwords, we' metadata={'source': '/content/MachineLearning-Lecture01.pdf', 'page': 12}\n",
            "page_content=\"'re giving the algorithm the, quote,  right\" metadata={'source': '/content/MachineLearning-Lecture01.pdf', 'page': 12}\n",
            "page_content=' answer for a number of houses. And \\n' metadata={'source': '/content/MachineLearning-Lecture01.pdf', 'page': 12}\n",
            "page_content='then we want the algorithm to learn the a ss' metadata={'source': '/content/MachineLearning-Lecture01.pdf', 'page': 12}\n",
            "page_content='ociation between the inputs and the outputs \\nand' metadata={'source': '/content/MachineLearning-Lecture01.pdf', 'page': 12}\n",
            "page_content=' to sort of give us more of the right answers' metadata={'source': '/content/MachineLearning-Lecture01.pdf', 'page': 12}\n",
            "page_content=', okay?  \\nIt turns out this' metadata={'source': '/content/MachineLearning-Lecture01.pdf', 'page': 12}\n",
            "page_content=' specific exam ple that I drew here is an example' metadata={'source': '/content/MachineLearning-Lecture01.pdf', 'page': 12}\n",
            "page_content=' of something called a \\nregression problem.' metadata={'source': '/content/MachineLearning-Lecture01.pdf', 'page': 12}\n",
            "page_content=' And the term regression sort of refers to the fact' metadata={'source': '/content/MachineLearning-Lecture01.pdf', 'page': 12}\n",
            "page_content=\" that the variable \\nyou're trying to predict\" metadata={'source': '/content/MachineLearning-Lecture01.pdf', 'page': 12}\n",
            "page_content=' is a continuous value and price.  \\n' metadata={'source': '/content/MachineLearning-Lecture01.pdf', 'page': 12}\n",
            "page_content=\"There's another class of supervised learning problems which we\" metadata={'source': '/content/MachineLearning-Lecture01.pdf', 'page': 12}\n",
            "page_content=\"'ll talk about, which are \\nclassification\" metadata={'source': '/content/MachineLearning-Lecture01.pdf', 'page': 12}\n",
            "page_content=' problems. And so, in a classifi c' metadata={'source': '/content/MachineLearning-Lecture01.pdf', 'page': 12}\n",
            "page_content=\"ation problem, the variab le you're trying\" metadata={'source': '/content/MachineLearning-Lecture01.pdf', 'page': 12}\n",
            "page_content=' to \\npredict is discreet rather than continuous' metadata={'source': '/content/MachineLearning-Lecture01.pdf', 'page': 12}\n",
            "page_content=' . So as one specific example — so actually a' metadata={'source': '/content/MachineLearning-Lecture01.pdf', 'page': 12}\n",
            "page_content=' \\nstandard data set you can download online [' metadata={'source': '/content/MachineLearning-Lecture01.pdf', 'page': 12}\n",
            "page_content='i naudible] that lots of machine learning' metadata={'source': '/content/MachineLearning-Lecture01.pdf', 'page': 12}\n",
            "page_content=\" \\npeople have played with. Let's say\" metadata={'source': '/content/MachineLearning-Lecture01.pdf', 'page': 12}\n",
            "page_content=' you collect  a data set on breast cancer tumors' metadata={'source': '/content/MachineLearning-Lecture01.pdf', 'page': 12}\n",
            "page_content=', and you \\nwant to learn the algorithm' metadata={'source': '/content/MachineLearning-Lecture01.pdf', 'page': 12}\n",
            "page_content=' to predict wh ether or not a certai n' metadata={'source': '/content/MachineLearning-Lecture01.pdf', 'page': 12}\n",
            "page_content=' tumor is malignant. \\nMalignant is' metadata={'source': '/content/MachineLearning-Lecture01.pdf', 'page': 12}\n",
            "page_content=' the opposite of benign, right, so ma l' metadata={'source': '/content/MachineLearning-Lecture01.pdf', 'page': 12}\n",
            "page_content='ignancy is a sort of harmful, bad tumor' metadata={'source': '/content/MachineLearning-Lecture01.pdf', 'page': 12}\n",
            "page_content='. \\nSo we collect some number of features' metadata={'source': '/content/MachineLearning-Lecture01.pdf', 'page': 12}\n",
            "page_content=', some  number of properties of these tumors,' metadata={'source': '/content/MachineLearning-Lecture01.pdf', 'page': 12}\n",
            "page_content=' and \\nfor the sake of sort of having' metadata={'source': '/content/MachineLearning-Lecture01.pdf', 'page': 12}\n",
            "page_content=' a simple [inaudi ble] explanation, let' metadata={'source': '/content/MachineLearning-Lecture01.pdf', 'page': 12}\n",
            "page_content=\"'s just say that we're \\ngoing to\" metadata={'source': '/content/MachineLearning-Lecture01.pdf', 'page': 12}\n",
            "page_content=' look at the size of the tumor and depe' metadata={'source': '/content/MachineLearning-Lecture01.pdf', 'page': 12}\n",
            "page_content=' nding on the size of the tumor, we' metadata={'source': '/content/MachineLearning-Lecture01.pdf', 'page': 12}\n",
            "page_content=\"'ll try to \\nfigure out whether or not\" metadata={'source': '/content/MachineLearning-Lecture01.pdf', 'page': 12}\n",
            "page_content=' the tu mor is malignant or benign. ' metadata={'source': '/content/MachineLearning-Lecture01.pdf', 'page': 12}\n",
            "page_content=' \\nSo the tumor is either malignant or' metadata={'source': '/content/MachineLearning-Lecture01.pdf', 'page': 12}\n",
            "page_content=' benign, and so  the variable in the Y' metadata={'source': '/content/MachineLearning-Lecture01.pdf', 'page': 12}\n",
            "page_content=' axis is either zero \\nor 1, and' metadata={'source': '/content/MachineLearning-Lecture01.pdf', 'page': 12}\n",
            "page_content=' so your data set ma y look something like that' metadata={'source': '/content/MachineLearning-Lecture01.pdf', 'page': 12}\n",
            "page_content=\", righ t? And that's 1 and\" metadata={'source': '/content/MachineLearning-Lecture01.pdf', 'page': 12}\n",
            "page_content=\" that's \\nzero, okay? And so\" metadata={'source': '/content/MachineLearning-Lecture01.pdf', 'page': 12}\n",
            "page_content=' this is an example of a classification problem where the' metadata={'source': '/content/MachineLearning-Lecture01.pdf', 'page': 12}\n",
            "page_content=\" variable \\nyou're trying to predict is a\" metadata={'source': '/content/MachineLearning-Lecture01.pdf', 'page': 12}\n",
            "page_content=\" discreet value. It 's either zero or 1\" metadata={'source': '/content/MachineLearning-Lecture01.pdf', 'page': 12}\n",
            "page_content='.  \\nAnd in fact, more generally' metadata={'source': '/content/MachineLearning-Lecture01.pdf', 'page': 12}\n",
            "page_content=\", there will be many learning problems where we'll\" metadata={'source': '/content/MachineLearning-Lecture01.pdf', 'page': 12}\n",
            "page_content=' have more \\nthan one input variable, more' metadata={'source': '/content/MachineLearning-Lecture01.pdf', 'page': 12}\n",
            "page_content=' than one input f eature and use more than' metadata={'source': '/content/MachineLearning-Lecture01.pdf', 'page': 12}\n",
            "page_content=' one variable to try \\nto predict, say' metadata={'source': '/content/MachineLearning-Lecture01.pdf', 'page': 12}\n",
            "page_content=', whether a tumor is malignant  or benign' metadata={'source': '/content/MachineLearning-Lecture01.pdf', 'page': 12}\n",
            "page_content='. So, for example, continuing with \\n' metadata={'source': '/content/MachineLearning-Lecture01.pdf', 'page': 12}\n",
            "page_content='this, you may instead have a data  set' metadata={'source': '/content/MachineLearning-Lecture01.pdf', 'page': 12}\n",
            "page_content=\" that looks like this. I'm gonna part this\" metadata={'source': '/content/MachineLearning-Lecture01.pdf', 'page': 12}\n",
            "page_content=' data set in a \\nslightly different way' metadata={'source': '/content/MachineLearning-Lecture01.pdf', 'page': 12}\n",
            "page_content=\" now. And I'm making this  data set\" metadata={'source': '/content/MachineLearning-Lecture01.pdf', 'page': 12}\n",
            "page_content=' look much cleaner than it really \\nis in' metadata={'source': '/content/MachineLearning-Lecture01.pdf', 'page': 12}\n",
            "page_content=' reality for illustration, okay?  \\nFor' metadata={'source': '/content/MachineLearning-Lecture01.pdf', 'page': 12}\n",
            "page_content=' example, maybe the crosses indicate ma lignant tumors' metadata={'source': '/content/MachineLearning-Lecture01.pdf', 'page': 12}\n",
            "page_content=' and the \"O\"s may indicate \\n' metadata={'source': '/content/MachineLearning-Lecture01.pdf', 'page': 12}\n",
            "page_content='benign tumors. And so you may have a' metadata={'source': '/content/MachineLearning-Lecture01.pdf', 'page': 12}\n",
            "page_content=' data se t comprising patients of  different ages and' metadata={'source': '/content/MachineLearning-Lecture01.pdf', 'page': 12}\n",
            "page_content=' \\nwho have different tumor sizes and where a' metadata={'source': '/content/MachineLearning-Lecture01.pdf', 'page': 12}\n",
            "page_content=' cross indicates a mali gnant tumor, and' metadata={'source': '/content/MachineLearning-Lecture01.pdf', 'page': 12}\n",
            "page_content=' an \\n\"O\" indicates a benign tumor' metadata={'source': '/content/MachineLearning-Lecture01.pdf', 'page': 12}\n",
            "page_content='. And you may want  an algorithm to learn' metadata={'source': '/content/MachineLearning-Lecture01.pdf', 'page': 12}\n",
            "page_content=' to predict, given a \\nnew patient,' metadata={'source': '/content/MachineLearning-Lecture01.pdf', 'page': 12}\n",
            "page_content=' whether their tumo r is malignant or benign' metadata={'source': '/content/MachineLearning-Lecture01.pdf', 'page': 12}\n",
            "page_content='.  ' metadata={'source': '/content/MachineLearning-Lecture01.pdf', 'page': 12}\n",
            "page_content='So, for example, what a learning algorithm ma' metadata={'source': '/content/MachineLearning-Lecture01.pdf', 'page': 13}\n",
            "page_content=' y do is maybe come in and decide that a' metadata={'source': '/content/MachineLearning-Lecture01.pdf', 'page': 13}\n",
            "page_content=' \\nstraight line like that separates the two classes' metadata={'source': '/content/MachineLearning-Lecture01.pdf', 'page': 13}\n",
            "page_content=' of tumors really well, and so if you have' metadata={'source': '/content/MachineLearning-Lecture01.pdf', 'page': 13}\n",
            "page_content=\" a \\nnew patient who's age and tumor\" metadata={'source': '/content/MachineLearning-Lecture01.pdf', 'page': 13}\n",
            "page_content=' size fall over there, then the algorithm may predict' metadata={'source': '/content/MachineLearning-Lecture01.pdf', 'page': 13}\n",
            "page_content=' that \\nthe tumor is benign rather than mal' metadata={'source': '/content/MachineLearning-Lecture01.pdf', 'page': 13}\n",
            "page_content='ignant, oka y? So this is just' metadata={'source': '/content/MachineLearning-Lecture01.pdf', 'page': 13}\n",
            "page_content=' another example of \\nanother supervised learning problem and' metadata={'source': '/content/MachineLearning-Lecture01.pdf', 'page': 13}\n",
            "page_content=' another classification problem.  \\nAnd so it' metadata={'source': '/content/MachineLearning-Lecture01.pdf', 'page': 13}\n",
            "page_content=\" turns out that one of the issues we' ll\" metadata={'source': '/content/MachineLearning-Lecture01.pdf', 'page': 13}\n",
            "page_content=' talk about later in this class is in this ' metadata={'source': '/content/MachineLearning-Lecture01.pdf', 'page': 13}\n",
            "page_content=\"\\nspecific example, we're going to try to\" metadata={'source': '/content/MachineLearning-Lecture01.pdf', 'page': 13}\n",
            "page_content=' predic t whether a tumor is malignant or benign' metadata={'source': '/content/MachineLearning-Lecture01.pdf', 'page': 13}\n",
            "page_content=' \\nbased on two features or based on two' metadata={'source': '/content/MachineLearning-Lecture01.pdf', 'page': 13}\n",
            "page_content=' inputs, namely the age of the patient and the' metadata={'source': '/content/MachineLearning-Lecture01.pdf', 'page': 13}\n",
            "page_content=' tumor \\nsize. It turns out that when' metadata={'source': '/content/MachineLearning-Lecture01.pdf', 'page': 13}\n",
            "page_content=' you look at a real  data set, you' metadata={'source': '/content/MachineLearning-Lecture01.pdf', 'page': 13}\n",
            "page_content=' find th at learning algorithms \\noften use other' metadata={'source': '/content/MachineLearning-Lecture01.pdf', 'page': 13}\n",
            "page_content=' sets of features . In the breast cancer data ex' metadata={'source': '/content/MachineLearning-Lecture01.pdf', 'page': 13}\n",
            "page_content=' ample, you also use properties \\nof the' metadata={'source': '/content/MachineLearning-Lecture01.pdf', 'page': 13}\n",
            "page_content=' tumors, like clump thic kness,' metadata={'source': '/content/MachineLearning-Lecture01.pdf', 'page': 13}\n",
            "page_content=' uniformity of cell size, uniformity of cell' metadata={'source': '/content/MachineLearning-Lecture01.pdf', 'page': 13}\n",
            "page_content=' shape, \\n[inaudible] ad' metadata={'source': '/content/MachineLearning-Lecture01.pdf', 'page': 13}\n",
            "page_content='hesion and so on, so va rious other' metadata={'source': '/content/MachineLearning-Lecture01.pdf', 'page': 13}\n",
            "page_content=' medical properties.  \\nAnd one of the' metadata={'source': '/content/MachineLearning-Lecture01.pdf', 'page': 13}\n",
            "page_content=\" most interesting things we'll ta lk about later\" metadata={'source': '/content/MachineLearning-Lecture01.pdf', 'page': 13}\n",
            "page_content=' this quarter is what if your \\ndata doesn' metadata={'source': '/content/MachineLearning-Lecture01.pdf', 'page': 13}\n",
            "page_content=\"'t lie in a two-dimensional or th re\" metadata={'source': '/content/MachineLearning-Lecture01.pdf', 'page': 13}\n",
            "page_content='e-dimensional or sort of even a finite ' metadata={'source': '/content/MachineLearning-Lecture01.pdf', 'page': 13}\n",
            "page_content='\\ndimensional space, but is it possible — what' metadata={'source': '/content/MachineLearning-Lecture01.pdf', 'page': 13}\n",
            "page_content=' if your data actually lies in an infinite \\n' metadata={'source': '/content/MachineLearning-Lecture01.pdf', 'page': 13}\n",
            "page_content='dimensional space? Our plots here are two-d' metadata={'source': '/content/MachineLearning-Lecture01.pdf', 'page': 13}\n",
            "page_content=\"ime nsional space. I can't plot you\" metadata={'source': '/content/MachineLearning-Lecture01.pdf', 'page': 13}\n",
            "page_content=' an infinite \\ndimensional space, right? And' metadata={'source': '/content/MachineLearning-Lecture01.pdf', 'page': 13}\n",
            "page_content=' so it turns out that one of the most successful' metadata={'source': '/content/MachineLearning-Lecture01.pdf', 'page': 13}\n",
            "page_content=' classes of \\nmachine learning algorithms — some may' metadata={'source': '/content/MachineLearning-Lecture01.pdf', 'page': 13}\n",
            "page_content=' call support vector machines — actually takes \\ndata' metadata={'source': '/content/MachineLearning-Lecture01.pdf', 'page': 13}\n",
            "page_content=' and maps data to an infinite dimensi on' metadata={'source': '/content/MachineLearning-Lecture01.pdf', 'page': 13}\n",
            "page_content='al space and then does classification using not \\n' metadata={'source': '/content/MachineLearning-Lecture01.pdf', 'page': 13}\n",
            "page_content=\"two features like I've done  here, but\" metadata={'source': '/content/MachineLearning-Lecture01.pdf', 'page': 13}\n",
            "page_content=' an infinite number of features.  \\nAnd' metadata={'source': '/content/MachineLearning-Lecture01.pdf', 'page': 13}\n",
            "page_content=' that will actually be one of the most fa sc' metadata={'source': '/content/MachineLearning-Lecture01.pdf', 'page': 13}\n",
            "page_content='inating things we talk about when we go \\n' metadata={'source': '/content/MachineLearning-Lecture01.pdf', 'page': 13}\n",
            "page_content='deeply into classification al gorithms. And' metadata={'source': '/content/MachineLearning-Lecture01.pdf', 'page': 13}\n",
            "page_content=\" it's actually an in teresting question,\" metadata={'source': '/content/MachineLearning-Lecture01.pdf', 'page': 13}\n",
            "page_content=' right, so \\nthink about how do you' metadata={'source': '/content/MachineLearning-Lecture01.pdf', 'page': 13}\n",
            "page_content=' even represent an in finite dimensional vector in computer ' metadata={'source': '/content/MachineLearning-Lecture01.pdf', 'page': 13}\n",
            "page_content=\"\\nmemory? You don't have an infinite amount\" metadata={'source': '/content/MachineLearning-Lecture01.pdf', 'page': 13}\n",
            "page_content=' of computers. How do you even represent a ' metadata={'source': '/content/MachineLearning-Lecture01.pdf', 'page': 13}\n",
            "page_content='\\npoint that lies in an infinite dimensional sp ace' metadata={'source': '/content/MachineLearning-Lecture01.pdf', 'page': 13}\n",
            "page_content=\"? We'll talk about that when we get to\" metadata={'source': '/content/MachineLearning-Lecture01.pdf', 'page': 13}\n",
            "page_content=' \\nsupport vector machines, okay?  ' metadata={'source': '/content/MachineLearning-Lecture01.pdf', 'page': 13}\n",
            "page_content=\"\\nSo let's see. So that was supervised\" metadata={'source': '/content/MachineLearning-Lecture01.pdf', 'page': 13}\n",
            "page_content=' learning. The second of the four major topics of' metadata={'source': '/content/MachineLearning-Lecture01.pdf', 'page': 13}\n",
            "page_content=' this \\nclass will be learning theory. So' metadata={'source': '/content/MachineLearning-Lecture01.pdf', 'page': 13}\n",
            "page_content=' I have a friend who teaches math at a different' metadata={'source': '/content/MachineLearning-Lecture01.pdf', 'page': 13}\n",
            "page_content=' \\nuniversity, not at Stanford, and' metadata={'source': '/content/MachineLearning-Lecture01.pdf', 'page': 13}\n",
            "page_content=' when you talk to  him about his work and' metadata={'source': '/content/MachineLearning-Lecture01.pdf', 'page': 13}\n",
            "page_content=\" what he's really \\nout to do,\" metadata={'source': '/content/MachineLearning-Lecture01.pdf', 'page': 13}\n",
            "page_content=\" this friend of mine will — he's a ma\" metadata={'source': '/content/MachineLearning-Lecture01.pdf', 'page': 13}\n",
            "page_content=' th professor, right? — this friend of mine' metadata={'source': '/content/MachineLearning-Lecture01.pdf', 'page': 13}\n",
            "page_content=' \\nwill sort of get the look of wonder' metadata={'source': '/content/MachineLearning-Lecture01.pdf', 'page': 13}\n",
            "page_content=\" in his eyes, and he'll tell you about\" metadata={'source': '/content/MachineLearning-Lecture01.pdf', 'page': 13}\n",
            "page_content=' how in his \\nmathematical work,' metadata={'source': '/content/MachineLearning-Lecture01.pdf', 'page': 13}\n",
            "page_content=\" he feels like he's disc overing truth and\" metadata={'source': '/content/MachineLearning-Lecture01.pdf', 'page': 13}\n",
            "page_content=' beauty in the universe. And \\nhe says' metadata={'source': '/content/MachineLearning-Lecture01.pdf', 'page': 13}\n",
            "page_content=' it in sort of a real ly touching, sincere' metadata={'source': '/content/MachineLearning-Lecture01.pdf', 'page': 13}\n",
            "page_content=' way, and then  he has this — you' metadata={'source': '/content/MachineLearning-Lecture01.pdf', 'page': 13}\n",
            "page_content=' can see it \\nin his eyes — he' metadata={'source': '/content/MachineLearning-Lecture01.pdf', 'page': 13}\n",
            "page_content=' has this deep appreciation of the truth and beauty ' metadata={'source': '/content/MachineLearning-Lecture01.pdf', 'page': 13}\n",
            "page_content=' in the universe as \\nrevealed to him' metadata={'source': '/content/MachineLearning-Lecture01.pdf', 'page': 13}\n",
            "page_content=' by the math he does.  \\nIn' metadata={'source': '/content/MachineLearning-Lecture01.pdf', 'page': 13}\n",
            "page_content=\" this class, I'm not gonna do any truth\" metadata={'source': '/content/MachineLearning-Lecture01.pdf', 'page': 13}\n",
            "page_content=\" and beauty. In this class,  I'm\" metadata={'source': '/content/MachineLearning-Lecture01.pdf', 'page': 13}\n",
            "page_content=' gonna talk about \\nlearning theory to try to' metadata={'source': '/content/MachineLearning-Lecture01.pdf', 'page': 13}\n",
            "page_content=' convey to y ou an understanding of how and' metadata={'source': '/content/MachineLearning-Lecture01.pdf', 'page': 13}\n",
            "page_content=' why learning \\nalgorithms work so that' metadata={'source': '/content/MachineLearning-Lecture01.pdf', 'page': 13}\n",
            "page_content=' we can apply these lear ning algorithms as effectively' metadata={'source': '/content/MachineLearning-Lecture01.pdf', 'page': 13}\n",
            "page_content=' as possible.  \\nSo, for example' metadata={'source': '/content/MachineLearning-Lecture01.pdf', 'page': 13}\n",
            "page_content=', it turns out you can prove su rprisingly' metadata={'source': '/content/MachineLearning-Lecture01.pdf', 'page': 13}\n",
            "page_content=' deep theorems on when you can \\n' metadata={'source': '/content/MachineLearning-Lecture01.pdf', 'page': 13}\n",
            "page_content='guarantee that a learning algorithm will wo r' metadata={'source': '/content/MachineLearning-Lecture01.pdf', 'page': 13}\n",
            "page_content='k, all right? So think about a learning' metadata={'source': '/content/MachineLearning-Lecture01.pdf', 'page': 13}\n",
            "page_content=' ' metadata={'source': '/content/MachineLearning-Lecture01.pdf', 'page': 13}\n",
            "page_content='algorithm for reading zip codes. When can ' metadata={'source': '/content/MachineLearning-Lecture01.pdf', 'page': 14}\n",
            "page_content=' you prove a theorem guaranteeing that a \\nlearning' metadata={'source': '/content/MachineLearning-Lecture01.pdf', 'page': 14}\n",
            "page_content=' algorithm will be at least 99.9 per cent' metadata={'source': '/content/MachineLearning-Lecture01.pdf', 'page': 14}\n",
            "page_content=' accurate on reading zip codes? This is \\n' metadata={'source': '/content/MachineLearning-Lecture01.pdf', 'page': 14}\n",
            "page_content='actually somewhat surprising. We actually prove theorems' metadata={'source': '/content/MachineLearning-Lecture01.pdf', 'page': 14}\n",
            "page_content=' showing when you can expect \\nthat to hold' metadata={'source': '/content/MachineLearning-Lecture01.pdf', 'page': 14}\n",
            "page_content=\".  \\nWe'll also sort of delve\" metadata={'source': '/content/MachineLearning-Lecture01.pdf', 'page': 14}\n",
            "page_content=' into learning theo ry to try to understand' metadata={'source': '/content/MachineLearning-Lecture01.pdf', 'page': 14}\n",
            "page_content=' what algorithms can \\napproximate different functions' metadata={'source': '/content/MachineLearning-Lecture01.pdf', 'page': 14}\n",
            "page_content=' well and also  try to understand things like how' metadata={'source': '/content/MachineLearning-Lecture01.pdf', 'page': 14}\n",
            "page_content=' much \\ntraining data do you need? So' metadata={'source': '/content/MachineLearning-Lecture01.pdf', 'page': 14}\n",
            "page_content=' how many exampl es of houses do I need' metadata={'source': '/content/MachineLearning-Lecture01.pdf', 'page': 14}\n",
            "page_content=' in order for your \\nlearning algorithm to recognize' metadata={'source': '/content/MachineLearning-Lecture01.pdf', 'page': 14}\n",
            "page_content=' the pattern be tween the square footage of a' metadata={'source': '/content/MachineLearning-Lecture01.pdf', 'page': 14}\n",
            "page_content=' house and its \\nhousing price? And this' metadata={'source': '/content/MachineLearning-Lecture01.pdf', 'page': 14}\n",
            "page_content=\" will help  us answer questions like if you're\" metadata={'source': '/content/MachineLearning-Lecture01.pdf', 'page': 14}\n",
            "page_content=' trying to design a \\nlearning algorithm, should' metadata={'source': '/content/MachineLearning-Lecture01.pdf', 'page': 14}\n",
            "page_content=' you be spending more time collecting more data or is' metadata={'source': '/content/MachineLearning-Lecture01.pdf', 'page': 14}\n",
            "page_content=' it a case \\nthat you already have enough' metadata={'source': '/content/MachineLearning-Lecture01.pdf', 'page': 14}\n",
            "page_content=' data; it would be  a waste of time' metadata={'source': '/content/MachineLearning-Lecture01.pdf', 'page': 14}\n",
            "page_content=' to try to collect more. \\nOkay?' metadata={'source': '/content/MachineLearning-Lecture01.pdf', 'page': 14}\n",
            "page_content='  \\nSo I think learning algorithms are a' metadata={'source': '/content/MachineLearning-Lecture01.pdf', 'page': 14}\n",
            "page_content=' very powerful tool that  as I walk around sort' metadata={'source': '/content/MachineLearning-Lecture01.pdf', 'page': 14}\n",
            "page_content=' of \\nindustry in Silicon Valley or as' metadata={'source': '/content/MachineLearning-Lecture01.pdf', 'page': 14}\n",
            "page_content=' I work with  various businesses in CS and outside' metadata={'source': '/content/MachineLearning-Lecture01.pdf', 'page': 14}\n",
            "page_content=\" CS, I \\nfind that there's often\" metadata={'source': '/content/MachineLearning-Lecture01.pdf', 'page': 14}\n",
            "page_content=' a huge differen ce between how well so me' metadata={'source': '/content/MachineLearning-Lecture01.pdf', 'page': 14}\n",
            "page_content='one who really \\nunderstands this stuff' metadata={'source': '/content/MachineLearning-Lecture01.pdf', 'page': 14}\n",
            "page_content=' can appl y a learning algorithm versus so meone' metadata={'source': '/content/MachineLearning-Lecture01.pdf', 'page': 14}\n",
            "page_content=' who sort of gets it \\nbut sort of' metadata={'source': '/content/MachineLearning-Lecture01.pdf', 'page': 14}\n",
            "page_content=\" doesn't.  \\nThe analogy I like\" metadata={'source': '/content/MachineLearning-Lecture01.pdf', 'page': 14}\n",
            "page_content=' to think of  is imagine you were going to' metadata={'source': '/content/MachineLearning-Lecture01.pdf', 'page': 14}\n",
            "page_content=' a carpentry school instead of \\na machine' metadata={'source': '/content/MachineLearning-Lecture01.pdf', 'page': 14}\n",
            "page_content=' learning class, right? If you go to a' metadata={'source': '/content/MachineLearning-Lecture01.pdf', 'page': 14}\n",
            "page_content=' carpentry school, they can give you the ' metadata={'source': '/content/MachineLearning-Lecture01.pdf', 'page': 14}\n",
            "page_content=\"\\ntools of carpentry. They'll give you\" metadata={'source': '/content/MachineLearning-Lecture01.pdf', 'page': 14}\n",
            "page_content=' a hamme r, a bunch of nails,' metadata={'source': '/content/MachineLearning-Lecture01.pdf', 'page': 14}\n",
            "page_content=' a screwdriver or \\nwhatever. But a' metadata={'source': '/content/MachineLearning-Lecture01.pdf', 'page': 14}\n",
            "page_content=' master carpenter will be able to  use those' metadata={'source': '/content/MachineLearning-Lecture01.pdf', 'page': 14}\n",
            "page_content=' tools far better than most of us \\nin' metadata={'source': '/content/MachineLearning-Lecture01.pdf', 'page': 14}\n",
            "page_content=' this room. I know a carpen ter can' metadata={'source': '/content/MachineLearning-Lecture01.pdf', 'page': 14}\n",
            "page_content=' do things with a hammer and nail that I couldn' metadata={'source': '/content/MachineLearning-Lecture01.pdf', 'page': 14}\n",
            "page_content=\"'t \\npossibly. And it's actually a\" metadata={'source': '/content/MachineLearning-Lecture01.pdf', 'page': 14}\n",
            "page_content=' littl e bit like that in machine learning' metadata={'source': '/content/MachineLearning-Lecture01.pdf', 'page': 14}\n",
            "page_content=\", too. One thing that's \\ns\" metadata={'source': '/content/MachineLearning-Lecture01.pdf', 'page': 14}\n",
            "page_content='adly not taught in many courses on machine l' metadata={'source': '/content/MachineLearning-Lecture01.pdf', 'page': 14}\n",
            "page_content=' earning is how to take the tools of machine ' metadata={'source': '/content/MachineLearning-Lecture01.pdf', 'page': 14}\n",
            "page_content='\\nlearning and really, really apply them well.' metadata={'source': '/content/MachineLearning-Lecture01.pdf', 'page': 14}\n",
            "page_content='  \\nSo in the same way, so' metadata={'source': '/content/MachineLearning-Lecture01.pdf', 'page': 14}\n",
            "page_content=' the tools of machin e learning are I wanna' metadata={'source': '/content/MachineLearning-Lecture01.pdf', 'page': 14}\n",
            "page_content=' say quite a bit more \\nadvanced than' metadata={'source': '/content/MachineLearning-Lecture01.pdf', 'page': 14}\n",
            "page_content=' the tools of carpentry. Maybe a carpenter' metadata={'source': '/content/MachineLearning-Lecture01.pdf', 'page': 14}\n",
            "page_content=' will disagree . But a large part of \\n' metadata={'source': '/content/MachineLearning-Lecture01.pdf', 'page': 14}\n",
            "page_content='this class will be just givi ng you' metadata={'source': '/content/MachineLearning-Lecture01.pdf', 'page': 14}\n",
            "page_content=' the raw tools of machine learning, just the algorithms' metadata={'source': '/content/MachineLearning-Lecture01.pdf', 'page': 14}\n",
            "page_content=' \\nand so on. But what I plan' metadata={'source': '/content/MachineLearning-Lecture01.pdf', 'page': 14}\n",
            "page_content=' to do throughout this entire quarter, not just in' metadata={'source': '/content/MachineLearning-Lecture01.pdf', 'page': 14}\n",
            "page_content=' the segment of \\nlearning theory, but actually' metadata={'source': '/content/MachineLearning-Lecture01.pdf', 'page': 14}\n",
            "page_content=' as a theme r unning through everything I do' metadata={'source': '/content/MachineLearning-Lecture01.pdf', 'page': 14}\n",
            "page_content=' this quarter, will \\nbe to try to' metadata={'source': '/content/MachineLearning-Lecture01.pdf', 'page': 14}\n",
            "page_content=' convey to you the skills to real ly take the' metadata={'source': '/content/MachineLearning-Lecture01.pdf', 'page': 14}\n",
            "page_content=' learning al gorithm ideas and really \\n' metadata={'source': '/content/MachineLearning-Lecture01.pdf', 'page': 14}\n",
            "page_content='to get them to work on a problem. ' metadata={'source': '/content/MachineLearning-Lecture01.pdf', 'page': 14}\n",
            "page_content=\" \\nIt's sort of hard for me to\" metadata={'source': '/content/MachineLearning-Lecture01.pdf', 'page': 14}\n",
            "page_content=' stand here and say how big a deal that is' metadata={'source': '/content/MachineLearning-Lecture01.pdf', 'page': 14}\n",
            "page_content=', but when I walk \\naround companies in' metadata={'source': '/content/MachineLearning-Lecture01.pdf', 'page': 14}\n",
            "page_content=\" Silicon Valley, it's co mpletely not\" metadata={'source': '/content/MachineLearning-Lecture01.pdf', 'page': 14}\n",
            "page_content=' uncommon for me to see \\nsomeone using some' metadata={'source': '/content/MachineLearning-Lecture01.pdf', 'page': 14}\n",
            "page_content=' machine learning algorith m and then explain to me what' metadata={'source': '/content/MachineLearning-Lecture01.pdf', 'page': 14}\n",
            "page_content=\" they've \\nbeen doing for the last six\" metadata={'source': '/content/MachineLearning-Lecture01.pdf', 'page': 14}\n",
            "page_content=' months, and I go, oh, gee' metadata={'source': '/content/MachineLearning-Lecture01.pdf', 'page': 14}\n",
            "page_content=', it should have been obvious from \\nthe' metadata={'source': '/content/MachineLearning-Lecture01.pdf', 'page': 14}\n",
            "page_content=\" start that the last six months, you've been\" metadata={'source': '/content/MachineLearning-Lecture01.pdf', 'page': 14}\n",
            "page_content=' wa sting your time, right?  \\n' metadata={'source': '/content/MachineLearning-Lecture01.pdf', 'page': 14}\n",
            "page_content='And so my goal in this class, running th' metadata={'source': '/content/MachineLearning-Lecture01.pdf', 'page': 14}\n",
            "page_content=' rough the entire quarter , not just on learning ' metadata={'source': '/content/MachineLearning-Lecture01.pdf', 'page': 14}\n",
            "page_content='\\ntheory, is actually not only to give' metadata={'source': '/content/MachineLearning-Lecture01.pdf', 'page': 14}\n",
            "page_content=' you the tools of m achine learning,' metadata={'source': '/content/MachineLearning-Lecture01.pdf', 'page': 14}\n",
            "page_content=' but to teach you \\nhow to use them' metadata={'source': '/content/MachineLearning-Lecture01.pdf', 'page': 14}\n",
            "page_content=\" well. And I've noticed this  is something\" metadata={'source': '/content/MachineLearning-Lecture01.pdf', 'page': 14}\n",
            "page_content=' that really not many other ' metadata={'source': '/content/MachineLearning-Lecture01.pdf', 'page': 14}\n",
            "page_content=\"classes teach. And this is something I'm re\" metadata={'source': '/content/MachineLearning-Lecture01.pdf', 'page': 15}\n",
            "page_content='a lly convinced is a huge deal, and' metadata={'source': '/content/MachineLearning-Lecture01.pdf', 'page': 15}\n",
            "page_content=' so by the \\nend of this class,' metadata={'source': '/content/MachineLearning-Lecture01.pdf', 'page': 15}\n",
            "page_content=' I hope all of you will be master carpent' metadata={'source': '/content/MachineLearning-Lecture01.pdf', 'page': 15}\n",
            "page_content='ers. I hope all of you will be ' metadata={'source': '/content/MachineLearning-Lecture01.pdf', 'page': 15}\n",
            "page_content='\\nreally good at applying these learning algor it' metadata={'source': '/content/MachineLearning-Lecture01.pdf', 'page': 15}\n",
            "page_content='hms and getting them to work amazingly \\n' metadata={'source': '/content/MachineLearning-Lecture01.pdf', 'page': 15}\n",
            "page_content='well in many problems. Okay?  \\n' metadata={'source': '/content/MachineLearning-Lecture01.pdf', 'page': 15}\n",
            "page_content=\"Let's see. So [inaudible]\" metadata={'source': '/content/MachineLearning-Lecture01.pdf', 'page': 15}\n",
            "page_content=' the board. After lear ning theory, there' metadata={'source': '/content/MachineLearning-Lecture01.pdf', 'page': 15}\n",
            "page_content=\"'s a nother class of learning \\nal\" metadata={'source': '/content/MachineLearning-Lecture01.pdf', 'page': 15}\n",
            "page_content='gorithms that I then want to teach you a' metadata={'source': '/content/MachineLearning-Lecture01.pdf', 'page': 15}\n",
            "page_content=\" bout, and that's unsupervised learning.\" metadata={'source': '/content/MachineLearning-Lecture01.pdf', 'page': 15}\n",
            "page_content=' So you \\nrecall, right, a' metadata={'source': '/content/MachineLearning-Lecture01.pdf', 'page': 15}\n",
            "page_content=' little ea rlier I drew an example like' metadata={'source': '/content/MachineLearning-Lecture01.pdf', 'page': 15}\n",
            "page_content=' this , right, where you have a couple of' metadata={'source': '/content/MachineLearning-Lecture01.pdf', 'page': 15}\n",
            "page_content=' \\nfeatures, a couple of input vari ab' metadata={'source': '/content/MachineLearning-Lecture01.pdf', 'page': 15}\n",
            "page_content='les and sort of malignant tumors and benign tumors' metadata={'source': '/content/MachineLearning-Lecture01.pdf', 'page': 15}\n",
            "page_content=' or \\nwhatever. And that was an example' metadata={'source': '/content/MachineLearning-Lecture01.pdf', 'page': 15}\n",
            "page_content=' of a s upervised learning problem because the' metadata={'source': '/content/MachineLearning-Lecture01.pdf', 'page': 15}\n",
            "page_content=' data \\nyou have gives you the right answer' metadata={'source': '/content/MachineLearning-Lecture01.pdf', 'page': 15}\n",
            "page_content=' for each of your patients. The data tells you' metadata={'source': '/content/MachineLearning-Lecture01.pdf', 'page': 15}\n",
            "page_content=' this \\npatient has a malignant tumor;' metadata={'source': '/content/MachineLearning-Lecture01.pdf', 'page': 15}\n",
            "page_content='  this patient has a benign tumor. So it' metadata={'source': '/content/MachineLearning-Lecture01.pdf', 'page': 15}\n",
            "page_content=' had the right \\nanswers, and' metadata={'source': '/content/MachineLearning-Lecture01.pdf', 'page': 15}\n",
            "page_content=' you wanted the algorithm to just produce more of the' metadata={'source': '/content/MachineLearning-Lecture01.pdf', 'page': 15}\n",
            "page_content=' same.  \\nIn contrast, in an' metadata={'source': '/content/MachineLearning-Lecture01.pdf', 'page': 15}\n",
            "page_content=' unsupervised learning problem , this is the sort' metadata={'source': '/content/MachineLearning-Lecture01.pdf', 'page': 15}\n",
            "page_content=' of data you get, okay? \\nWhere' metadata={'source': '/content/MachineLearning-Lecture01.pdf', 'page': 15}\n",
            "page_content=\" speaking loosely, you're given a data se t\" metadata={'source': '/content/MachineLearning-Lecture01.pdf', 'page': 15}\n",
            "page_content=\", and I'm not gonna tell you what the\" metadata={'source': '/content/MachineLearning-Lecture01.pdf', 'page': 15}\n",
            "page_content=' right \\nanswer is on any of your data' metadata={'source': '/content/MachineLearning-Lecture01.pdf', 'page': 15}\n",
            "page_content=\". I'm just gonna give you a data set\" metadata={'source': '/content/MachineLearning-Lecture01.pdf', 'page': 15}\n",
            "page_content=' and I\\'m gonna say, \"Would you please' metadata={'source': '/content/MachineLearning-Lecture01.pdf', 'page': 15}\n",
            "page_content=' find interesting structure in this data set?\" So that' metadata={'source': '/content/MachineLearning-Lecture01.pdf', 'page': 15}\n",
            "page_content=\"'s the unsupervised \\nlearning problem where\" metadata={'source': '/content/MachineLearning-Lecture01.pdf', 'page': 15}\n",
            "page_content=\" you're sort of not given the right answer for\" metadata={'source': '/content/MachineLearning-Lecture01.pdf', 'page': 15}\n",
            "page_content=' everything.  \\nSo, for example,' metadata={'source': '/content/MachineLearning-Lecture01.pdf', 'page': 15}\n",
            "page_content=' an algorithm may find structure in the data in the' metadata={'source': '/content/MachineLearning-Lecture01.pdf', 'page': 15}\n",
            "page_content=' form of the data being \\npartitioned' metadata={'source': '/content/MachineLearning-Lecture01.pdf', 'page': 15}\n",
            "page_content=' into two clusters, or clustering is  sort' metadata={'source': '/content/MachineLearning-Lecture01.pdf', 'page': 15}\n",
            "page_content=' of one example of an unsupervised \\n' metadata={'source': '/content/MachineLearning-Lecture01.pdf', 'page': 15}\n",
            "page_content='learning problem.  \\nSo I hope you' metadata={'source': '/content/MachineLearning-Lecture01.pdf', 'page': 15}\n",
            "page_content=' can see this. It turns out that th es' metadata={'source': '/content/MachineLearning-Lecture01.pdf', 'page': 15}\n",
            "page_content='e sort of unsupervised  learning algorithms ' metadata={'source': '/content/MachineLearning-Lecture01.pdf', 'page': 15}\n",
            "page_content='\\nare also used in many problems. This is' metadata={'source': '/content/MachineLearning-Lecture01.pdf', 'page': 15}\n",
            "page_content=' a scr een shot — this is a picture' metadata={'source': '/content/MachineLearning-Lecture01.pdf', 'page': 15}\n",
            "page_content=' I got from Sue \\nEmvee,' metadata={'source': '/content/MachineLearning-Lecture01.pdf', 'page': 15}\n",
            "page_content=\" who's a PhD student here, who is a\" metadata={'source': '/content/MachineLearning-Lecture01.pdf', 'page': 15}\n",
            "page_content=' pplying unsupervised learning algorithms to ' metadata={'source': '/content/MachineLearning-Lecture01.pdf', 'page': 15}\n",
            "page_content='\\ntry to understand gene data, so is trying' metadata={'source': '/content/MachineLearning-Lecture01.pdf', 'page': 15}\n",
            "page_content=' to  look at genes as individuals and group them' metadata={'source': '/content/MachineLearning-Lecture01.pdf', 'page': 15}\n",
            "page_content=' \\ninto clusters based on properties of what ge' metadata={'source': '/content/MachineLearning-Lecture01.pdf', 'page': 15}\n",
            "page_content=' nes they respond to — based on properties of' metadata={'source': '/content/MachineLearning-Lecture01.pdf', 'page': 15}\n",
            "page_content=' \\nhow the genes respond to different experiments.' metadata={'source': '/content/MachineLearning-Lecture01.pdf', 'page': 15}\n",
            "page_content='  \\nAnother interesting application of [inaud' metadata={'source': '/content/MachineLearning-Lecture01.pdf', 'page': 15}\n",
            "page_content='ible] sorts of clus tering algorithms is' metadata={'source': '/content/MachineLearning-Lecture01.pdf', 'page': 15}\n",
            "page_content=' actually \\nimage processing, this which I got' metadata={'source': '/content/MachineLearning-Lecture01.pdf', 'page': 15}\n",
            "page_content=\" from Steve Gules, who's another PhD student\" metadata={'source': '/content/MachineLearning-Lecture01.pdf', 'page': 15}\n",
            "page_content='. It turns \\nout what you can do' metadata={'source': '/content/MachineLearning-Lecture01.pdf', 'page': 15}\n",
            "page_content=' is if you give this sort of  data,' metadata={'source': '/content/MachineLearning-Lecture01.pdf', 'page': 15}\n",
            "page_content=' say an image, to certain unsupervised ' metadata={'source': '/content/MachineLearning-Lecture01.pdf', 'page': 15}\n",
            "page_content='\\nlearning algorithms, they will then learn to group' metadata={'source': '/content/MachineLearning-Lecture01.pdf', 'page': 15}\n",
            "page_content=' pixels together and say, gee, this sort' metadata={'source': '/content/MachineLearning-Lecture01.pdf', 'page': 15}\n",
            "page_content=' of \\npixel seems to belong together , and' metadata={'source': '/content/MachineLearning-Lecture01.pdf', 'page': 15}\n",
            "page_content=' that sort of pixel seems to belong together. ' metadata={'source': '/content/MachineLearning-Lecture01.pdf', 'page': 15}\n",
            "page_content=' \\nAnd so the images you see on the' metadata={'source': '/content/MachineLearning-Lecture01.pdf', 'page': 15}\n",
            "page_content=' bottom — I guess you can just barely see them' metadata={'source': '/content/MachineLearning-Lecture01.pdf', 'page': 15}\n",
            "page_content=' on there \\n— so the images you see' metadata={'source': '/content/MachineLearning-Lecture01.pdf', 'page': 15}\n",
            "page_content=' on the bottom are groupings — are what the' metadata={'source': '/content/MachineLearning-Lecture01.pdf', 'page': 15}\n",
            "page_content=' algorithm has done \\nto group certain pixels together' metadata={'source': '/content/MachineLearning-Lecture01.pdf', 'page': 15}\n",
            "page_content='. On a small di splay, it might' metadata={'source': '/content/MachineLearning-Lecture01.pdf', 'page': 15}\n",
            "page_content=' be easier to just look at the \\nimage' metadata={'source': '/content/MachineLearning-Lecture01.pdf', 'page': 15}\n",
            "page_content=' on the right. The two images on the bott' metadata={'source': '/content/MachineLearning-Lecture01.pdf', 'page': 15}\n",
            "page_content='o m are two sort of identical visualizations ' metadata={'source': '/content/MachineLearning-Lecture01.pdf', 'page': 15}\n",
            "page_content='\\nof the same grouping of the pixe' metadata={'source': '/content/MachineLearning-Lecture01.pdf', 'page': 15}\n",
            "page_content=' ls into [inaudible] regions. ' metadata={'source': '/content/MachineLearning-Lecture01.pdf', 'page': 15}\n",
            "page_content=' \\nAnd so it turns out that this sort' metadata={'source': '/content/MachineLearning-Lecture01.pdf', 'page': 15}\n",
            "page_content=' of clustering algorithm or this sort of unsuper' metadata={'source': '/content/MachineLearning-Lecture01.pdf', 'page': 15}\n",
            "page_content='vised \\nlearning algorithm, which learns  to' metadata={'source': '/content/MachineLearning-Lecture01.pdf', 'page': 15}\n",
            "page_content=' group pixels together, it turns out to be useful' metadata={'source': '/content/MachineLearning-Lecture01.pdf', 'page': 15}\n",
            "page_content=' for \\nmany applications in vision, in co' metadata={'source': '/content/MachineLearning-Lecture01.pdf', 'page': 15}\n",
            "page_content=' mputer vision image processing.  ' metadata={'source': '/content/MachineLearning-Lecture01.pdf', 'page': 15}\n",
            "page_content=\"I'll just show you one example, and this\" metadata={'source': '/content/MachineLearning-Lecture01.pdf', 'page': 16}\n",
            "page_content=' is a rather cool one that two students, Ash' metadata={'source': '/content/MachineLearning-Lecture01.pdf', 'page': 16}\n",
            "page_content='utosh \\nSaxena and Min Sun here' metadata={'source': '/content/MachineLearning-Lecture01.pdf', 'page': 16}\n",
            "page_content=' did, wh ich is given an image like' metadata={'source': '/content/MachineLearning-Lecture01.pdf', 'page': 16}\n",
            "page_content=' this, right? This is actually a \\n' metadata={'source': '/content/MachineLearning-Lecture01.pdf', 'page': 16}\n",
            "page_content='picture taken of the Stanford campus. You can apply' metadata={'source': '/content/MachineLearning-Lecture01.pdf', 'page': 16}\n",
            "page_content=' that sort of cl ustering algorithm and ' metadata={'source': '/content/MachineLearning-Lecture01.pdf', 'page': 16}\n",
            "page_content='\\ngroup the picture into regions. Let me actually' metadata={'source': '/content/MachineLearning-Lecture01.pdf', 'page': 16}\n",
            "page_content=' blow that up so that you can see it more' metadata={'source': '/content/MachineLearning-Lecture01.pdf', 'page': 16}\n",
            "page_content=' \\nclearly. Okay. So in the' metadata={'source': '/content/MachineLearning-Lecture01.pdf', 'page': 16}\n",
            "page_content=' middle, you see the lines sort of groupi' metadata={'source': '/content/MachineLearning-Lecture01.pdf', 'page': 16}\n",
            "page_content=' ng the image together, \\ngrouping the' metadata={'source': '/content/MachineLearning-Lecture01.pdf', 'page': 16}\n",
            "page_content=' image into [inaudible] regions. ' metadata={'source': '/content/MachineLearning-Lecture01.pdf', 'page': 16}\n",
            "page_content=' \\nAnd what Ashutosh and Min did' metadata={'source': '/content/MachineLearning-Lecture01.pdf', 'page': 16}\n",
            "page_content=' was they then  applied the learning algorithm to say' metadata={'source': '/content/MachineLearning-Lecture01.pdf', 'page': 16}\n",
            "page_content=' can \\nwe take this clustering and us' metadata={'source': '/content/MachineLearning-Lecture01.pdf', 'page': 16}\n",
            "page_content=' e it to build a 3D model of the' metadata={'source': '/content/MachineLearning-Lecture01.pdf', 'page': 16}\n",
            "page_content=' world? And so using the \\nclust' metadata={'source': '/content/MachineLearning-Lecture01.pdf', 'page': 16}\n",
            "page_content='ering, they then had a lear ning algorithm' metadata={'source': '/content/MachineLearning-Lecture01.pdf', 'page': 16}\n",
            "page_content=' try to learn what the 3D structure of the' metadata={'source': '/content/MachineLearning-Lecture01.pdf', 'page': 16}\n",
            "page_content=' \\nworld looks like so that they could come' metadata={'source': '/content/MachineLearning-Lecture01.pdf', 'page': 16}\n",
            "page_content=' up with a 3D model that you can sort' metadata={'source': '/content/MachineLearning-Lecture01.pdf', 'page': 16}\n",
            "page_content=' of fly \\nthrough, okay? Although many' metadata={'source': '/content/MachineLearning-Lecture01.pdf', 'page': 16}\n",
            "page_content=\" people used to th ink it's not possible to\" metadata={'source': '/content/MachineLearning-Lecture01.pdf', 'page': 16}\n",
            "page_content=' take a single \\nimage and build a 3' metadata={'source': '/content/MachineLearning-Lecture01.pdf', 'page': 16}\n",
            "page_content='D model, but using a lear ning algorithm' metadata={'source': '/content/MachineLearning-Lecture01.pdf', 'page': 16}\n",
            "page_content=' and that sort of clustering \\nalgorithm' metadata={'source': '/content/MachineLearning-Lecture01.pdf', 'page': 16}\n",
            "page_content=' is the first step. They were able to.' metadata={'source': '/content/MachineLearning-Lecture01.pdf', 'page': 16}\n",
            "page_content=\"  \\nI'll just show you one more\" metadata={'source': '/content/MachineLearning-Lecture01.pdf', 'page': 16}\n",
            "page_content=\" example. I like this  because it's a\" metadata={'source': '/content/MachineLearning-Lecture01.pdf', 'page': 16}\n",
            "page_content=' picture of Stanford with our \\nbeautiful Stanford' metadata={'source': '/content/MachineLearning-Lecture01.pdf', 'page': 16}\n",
            "page_content=' campus. So again, taking th e same sort' metadata={'source': '/content/MachineLearning-Lecture01.pdf', 'page': 16}\n",
            "page_content=' of clustering algorithms, taking \\nthe same' metadata={'source': '/content/MachineLearning-Lecture01.pdf', 'page': 16}\n",
            "page_content=' sort of unsupervised learning algor ithm' metadata={'source': '/content/MachineLearning-Lecture01.pdf', 'page': 16}\n",
            "page_content=', you can group the pixels into different \\n' metadata={'source': '/content/MachineLearning-Lecture01.pdf', 'page': 16}\n",
            "page_content='regions. And using that as a pre-' metadata={'source': '/content/MachineLearning-Lecture01.pdf', 'page': 16}\n",
            "page_content='processing step, they eventually built this sort of 3' metadata={'source': '/content/MachineLearning-Lecture01.pdf', 'page': 16}\n",
            "page_content='D model of Stanford campus in a single picture.' metadata={'source': '/content/MachineLearning-Lecture01.pdf', 'page': 16}\n",
            "page_content='  You can sort of walk  into the ceiling' metadata={'source': '/content/MachineLearning-Lecture01.pdf', 'page': 16}\n",
            "page_content=', look \\naround the campus. Okay?' metadata={'source': '/content/MachineLearning-Lecture01.pdf', 'page': 16}\n",
            "page_content=' This actually turned out to be a mix of supervised' metadata={'source': '/content/MachineLearning-Lecture01.pdf', 'page': 16}\n",
            "page_content=' and \\nunsupervised learning, but the' metadata={'source': '/content/MachineLearning-Lecture01.pdf', 'page': 16}\n",
            "page_content=' unsupervised lear ning, this sort of' metadata={'source': '/content/MachineLearning-Lecture01.pdf', 'page': 16}\n",
            "page_content=' cl ustering was the first \\nstep' metadata={'source': '/content/MachineLearning-Lecture01.pdf', 'page': 16}\n",
            "page_content='.  \\nSo it turns out these sorts' metadata={'source': '/content/MachineLearning-Lecture01.pdf', 'page': 16}\n",
            "page_content=' of unsupervised — clustering algorithms are actually' metadata={'source': '/content/MachineLearning-Lecture01.pdf', 'page': 16}\n",
            "page_content=' routinely \\nused for many different problems, things' metadata={'source': '/content/MachineLearning-Lecture01.pdf', 'page': 16}\n",
            "page_content=' like organizing computing clusters, social \\nnetwork analysis' metadata={'source': '/content/MachineLearning-Lecture01.pdf', 'page': 16}\n",
            "page_content=\", market segmentation, so if you're a\" metadata={'source': '/content/MachineLearning-Lecture01.pdf', 'page': 16}\n",
            "page_content=' marketer and you want to divide your market into' metadata={'source': '/content/MachineLearning-Lecture01.pdf', 'page': 16}\n",
            "page_content=' different segments or diffe rent groups of people to' metadata={'source': '/content/MachineLearning-Lecture01.pdf', 'page': 16}\n",
            "page_content=' market to them \\nseparately; even for' metadata={'source': '/content/MachineLearning-Lecture01.pdf', 'page': 16}\n",
            "page_content=' astronomical data an alysis and understanding how galaxies' metadata={'source': '/content/MachineLearning-Lecture01.pdf', 'page': 16}\n",
            "page_content=' are \\nformed. These are just a sort' metadata={'source': '/content/MachineLearning-Lecture01.pdf', 'page': 16}\n",
            "page_content=' of small sample  of the applications of unsuper' metadata={'source': '/content/MachineLearning-Lecture01.pdf', 'page': 16}\n",
            "page_content='vised learning \\nalgorithms and clustering' metadata={'source': '/content/MachineLearning-Lecture01.pdf', 'page': 16}\n",
            "page_content=\" algorithms that we 'll talk about later in this\" metadata={'source': '/content/MachineLearning-Lecture01.pdf', 'page': 16}\n",
            "page_content=' class.  \\nJust one particularly cool example' metadata={'source': '/content/MachineLearning-Lecture01.pdf', 'page': 16}\n",
            "page_content=' of an uns upervised learning algorithm that I' metadata={'source': '/content/MachineLearning-Lecture01.pdf', 'page': 16}\n",
            "page_content=' want to \\ntell you about. And to' metadata={'source': '/content/MachineLearning-Lecture01.pdf', 'page': 16}\n",
            "page_content=\" motivate that, I'm gonna  tell you about\" metadata={'source': '/content/MachineLearning-Lecture01.pdf', 'page': 16}\n",
            "page_content=\" what's called the cocktail \\nparty problem,\" metadata={'source': '/content/MachineLearning-Lecture01.pdf', 'page': 16}\n",
            "page_content=\" which is imagine that you're at  some cocktail\" metadata={'source': '/content/MachineLearning-Lecture01.pdf', 'page': 16}\n",
            "page_content=' party a nd there are lots of \\n' metadata={'source': '/content/MachineLearning-Lecture01.pdf', 'page': 16}\n",
            "page_content='people standing all over. And you know how it' metadata={'source': '/content/MachineLearning-Lecture01.pdf', 'page': 16}\n",
            "page_content=\" is, right, if you're at a large\" metadata={'source': '/content/MachineLearning-Lecture01.pdf', 'page': 16}\n",
            "page_content=\" party, \\neveryone's talking, it can\" metadata={'source': '/content/MachineLearning-Lecture01.pdf', 'page': 16}\n",
            "page_content=' be sometimes very hard  to hear even the person' metadata={'source': '/content/MachineLearning-Lecture01.pdf', 'page': 16}\n",
            "page_content=' in front of you. \\nSo imagine a' metadata={'source': '/content/MachineLearning-Lecture01.pdf', 'page': 16}\n",
            "page_content=' large cocktail party with lots of people. So the' metadata={'source': '/content/MachineLearning-Lecture01.pdf', 'page': 16}\n",
            "page_content=' problem is, is that all of these people talking' metadata={'source': '/content/MachineLearning-Lecture01.pdf', 'page': 16}\n",
            "page_content=', can you separate out the voice of just the' metadata={'source': '/content/MachineLearning-Lecture01.pdf', 'page': 16}\n",
            "page_content=\" person you're interested in \\ntalking to with\" metadata={'source': '/content/MachineLearning-Lecture01.pdf', 'page': 16}\n",
            "page_content=' all this  loud background noise?  \\n' metadata={'source': '/content/MachineLearning-Lecture01.pdf', 'page': 16}\n",
            "page_content=\"So I'll show you a specific example in a\" metadata={'source': '/content/MachineLearning-Lecture01.pdf', 'page': 16}\n",
            "page_content=\" second, but here's a cocktail party that's\" metadata={'source': '/content/MachineLearning-Lecture01.pdf', 'page': 16}\n",
            "page_content=' I guess \\nrather sparsely attended by just' metadata={'source': '/content/MachineLearning-Lecture01.pdf', 'page': 16}\n",
            "page_content=\" two people.  But what we're gonna do\" metadata={'source': '/content/MachineLearning-Lecture01.pdf', 'page': 16}\n",
            "page_content=\" is we'll put two \\nmicrophones in\" metadata={'source': '/content/MachineLearning-Lecture01.pdf', 'page': 16}\n",
            "page_content=' the room, okay? And so becau se' metadata={'source': '/content/MachineLearning-Lecture01.pdf', 'page': 16}\n",
            "page_content=' the microphones are just at slightly \\ndifferent distances' metadata={'source': '/content/MachineLearning-Lecture01.pdf', 'page': 16}\n",
            "page_content=' to the two people, and th e two people' metadata={'source': '/content/MachineLearning-Lecture01.pdf', 'page': 16}\n",
            "page_content=' may speak in slightly different \\nvolumes,' metadata={'source': '/content/MachineLearning-Lecture01.pdf', 'page': 16}\n",
            "page_content=' each microphone will pick up an overl apping combination' metadata={'source': '/content/MachineLearning-Lecture01.pdf', 'page': 16}\n",
            "page_content=\" of these two people's \" metadata={'source': '/content/MachineLearning-Lecture01.pdf', 'page': 16}\n",
            "page_content='voices, so slightly different overlapping voice s.' metadata={'source': '/content/MachineLearning-Lecture01.pdf', 'page': 17}\n",
            "page_content=\" So Speaker 1's voice may be more loud \" metadata={'source': '/content/MachineLearning-Lecture01.pdf', 'page': 17}\n",
            "page_content=\"\\non Microphone 1, and Speaker 2's\" metadata={'source': '/content/MachineLearning-Lecture01.pdf', 'page': 17}\n",
            "page_content=' voice may be louder on Microphone 2, whatever' metadata={'source': '/content/MachineLearning-Lecture01.pdf', 'page': 17}\n",
            "page_content='.  \\nBut the question is, given' metadata={'source': '/content/MachineLearning-Lecture01.pdf', 'page': 17}\n",
            "page_content=' these microphone reco rdings, can you' metadata={'source': '/content/MachineLearning-Lecture01.pdf', 'page': 17}\n",
            "page_content=\" separate out the original \\nspeaker's voices\" metadata={'source': '/content/MachineLearning-Lecture01.pdf', 'page': 17}\n",
            "page_content=\"? So I'm gonna play some audi o clips\" metadata={'source': '/content/MachineLearning-Lecture01.pdf', 'page': 17}\n",
            "page_content=' that were collected by Tai Yuan \\nLee at' metadata={'source': '/content/MachineLearning-Lecture01.pdf', 'page': 17}\n",
            "page_content=\" UCSD. I'm gonna actually play for you\" metadata={'source': '/content/MachineLearning-Lecture01.pdf', 'page': 17}\n",
            "page_content=' the original raw microphone recordings \\nfrom this cocktail' metadata={'source': '/content/MachineLearning-Lecture01.pdf', 'page': 17}\n",
            "page_content=' party. So this is the Microphone 1:' metadata={'source': '/content/MachineLearning-Lecture01.pdf', 'page': 17}\n",
            "page_content='  \\nMicrophone 1:  \\n' metadata={'source': '/content/MachineLearning-Lecture01.pdf', 'page': 17}\n",
            "page_content='One, two, three, four, five,' metadata={'source': '/content/MachineLearning-Lecture01.pdf', 'page': 17}\n",
            "page_content=' six, seven, eight, nine, ten.' metadata={'source': '/content/MachineLearning-Lecture01.pdf', 'page': 17}\n",
            "page_content='  \\nMicrophone 2:  \\n' metadata={'source': '/content/MachineLearning-Lecture01.pdf', 'page': 17}\n",
            "page_content='Uno, dos, tres, cuatro' metadata={'source': '/content/MachineLearning-Lecture01.pdf', 'page': 17}\n",
            "page_content=', cinco, seis, siet' metadata={'source': '/content/MachineLearning-Lecture01.pdf', 'page': 17}\n",
            "page_content='e, ocho, nueve, die' metadata={'source': '/content/MachineLearning-Lecture01.pdf', 'page': 17}\n",
            "page_content='z.  \\nInstructor (Andrew Ng' metadata={'source': '/content/MachineLearning-Lecture01.pdf', 'page': 17}\n",
            "page_content=\") : So it's a fascinating cocktail party with\" metadata={'source': '/content/MachineLearning-Lecture01.pdf', 'page': 17}\n",
            "page_content=' people counting from \\none to ten. This' metadata={'source': '/content/MachineLearning-Lecture01.pdf', 'page': 17}\n",
            "page_content=' is the second microphone:  \\nMicrophone' metadata={'source': '/content/MachineLearning-Lecture01.pdf', 'page': 17}\n",
            "page_content=' 1:  \\nOne, two, three' metadata={'source': '/content/MachineLearning-Lecture01.pdf', 'page': 17}\n",
            "page_content=', four, five, six, seven, eight' metadata={'source': '/content/MachineLearning-Lecture01.pdf', 'page': 17}\n",
            "page_content=', nine, ten.  \\nMicrophone' metadata={'source': '/content/MachineLearning-Lecture01.pdf', 'page': 17}\n",
            "page_content=' 2:  \\nUno, dos,' metadata={'source': '/content/MachineLearning-Lecture01.pdf', 'page': 17}\n",
            "page_content=' tres, cuatro, cinco,' metadata={'source': '/content/MachineLearning-Lecture01.pdf', 'page': 17}\n",
            "page_content=' seis, siete, ocho,' metadata={'source': '/content/MachineLearning-Lecture01.pdf', 'page': 17}\n",
            "page_content=' nueve, diez.  \\n' metadata={'source': '/content/MachineLearning-Lecture01.pdf', 'page': 17}\n",
            "page_content='Instructor (Andrew Ng) : Okay. So' metadata={'source': '/content/MachineLearning-Lecture01.pdf', 'page': 17}\n",
            "page_content=\" in supervised learning, we don't know what the\" metadata={'source': '/content/MachineLearning-Lecture01.pdf', 'page': 17}\n",
            "page_content=' \\nright answer is, right? So what' metadata={'source': '/content/MachineLearning-Lecture01.pdf', 'page': 17}\n",
            "page_content=\" we're goi ng to do is take exactly\" metadata={'source': '/content/MachineLearning-Lecture01.pdf', 'page': 17}\n",
            "page_content=' the two microphone \\nrecordings you just heard' metadata={'source': '/content/MachineLearning-Lecture01.pdf', 'page': 17}\n",
            "page_content=' and give it to an  unsupervised learning' metadata={'source': '/content/MachineLearning-Lecture01.pdf', 'page': 17}\n",
            "page_content=' algorithm and tell the \\nalgorithm which of' metadata={'source': '/content/MachineLearning-Lecture01.pdf', 'page': 17}\n",
            "page_content=' these discover structure in the data [inaudible' metadata={'source': '/content/MachineLearning-Lecture01.pdf', 'page': 17}\n",
            "page_content='] or  what structure is \\nthere in' metadata={'source': '/content/MachineLearning-Lecture01.pdf', 'page': 17}\n",
            "page_content=\" this data? And we actually don't know what\" metadata={'source': '/content/MachineLearning-Lecture01.pdf', 'page': 17}\n",
            "page_content=' the right answer is offhand.  \\n' metadata={'source': '/content/MachineLearning-Lecture01.pdf', 'page': 17}\n",
            "page_content='So give this data to an unsupervised lear' metadata={'source': '/content/MachineLearning-Lecture01.pdf', 'page': 17}\n",
            "page_content=' ning algorithm, and what the algorithm does in' metadata={'source': '/content/MachineLearning-Lecture01.pdf', 'page': 17}\n",
            "page_content=' \\nthis case, it will discover that this' metadata={'source': '/content/MachineLearning-Lecture01.pdf', 'page': 17}\n",
            "page_content=' data can actually be explained by two independent \\n' metadata={'source': '/content/MachineLearning-Lecture01.pdf', 'page': 17}\n",
            "page_content='speakers speaking at the same time, and it' metadata={'source': '/content/MachineLearning-Lecture01.pdf', 'page': 17}\n",
            "page_content=' can  further separate out the two speakers for ' metadata={'source': '/content/MachineLearning-Lecture01.pdf', 'page': 17}\n",
            "page_content=\"\\nyou. So here's Output 1 of the\" metadata={'source': '/content/MachineLearning-Lecture01.pdf', 'page': 17}\n",
            "page_content=' algorithm:  \\nMicrophone 1: ' metadata={'source': '/content/MachineLearning-Lecture01.pdf', 'page': 17}\n",
            "page_content=' \\nOne, two, three, four,' metadata={'source': '/content/MachineLearning-Lecture01.pdf', 'page': 17}\n",
            "page_content=' five, six, seven, eight, nine,' metadata={'source': '/content/MachineLearning-Lecture01.pdf', 'page': 17}\n",
            "page_content=' ten.  \\nInstructor (Andrew Ng' metadata={'source': '/content/MachineLearning-Lecture01.pdf', 'page': 17}\n",
            "page_content=\") : And there's the second algorithm: \" metadata={'source': '/content/MachineLearning-Lecture01.pdf', 'page': 17}\n",
            "page_content=' \\nMicrophone 2:  ' metadata={'source': '/content/MachineLearning-Lecture01.pdf', 'page': 17}\n",
            "page_content='Uno, dos, tres, cuatro' metadata={'source': '/content/MachineLearning-Lecture01.pdf', 'page': 18}\n",
            "page_content=', cinco, seis, siet' metadata={'source': '/content/MachineLearning-Lecture01.pdf', 'page': 18}\n",
            "page_content='e, ocho, nueve, die' metadata={'source': '/content/MachineLearning-Lecture01.pdf', 'page': 18}\n",
            "page_content='z.  \\nInstructor (Andrew Ng' metadata={'source': '/content/MachineLearning-Lecture01.pdf', 'page': 18}\n",
            "page_content='): And so the algorithm discovers  that, g' metadata={'source': '/content/MachineLearning-Lecture01.pdf', 'page': 18}\n",
            "page_content='ee, the structure \\nunderlying the data' metadata={'source': '/content/MachineLearning-Lecture01.pdf', 'page': 18}\n",
            "page_content=' is really th at there are two sources of so' metadata={'source': '/content/MachineLearning-Lecture01.pdf', 'page': 18}\n",
            "page_content=\" und, and here they are. I'll \" metadata={'source': '/content/MachineLearning-Lecture01.pdf', 'page': 18}\n",
            "page_content='\\nshow you one more example. This is a' metadata={'source': '/content/MachineLearning-Lecture01.pdf', 'page': 18}\n",
            "page_content=', well, th is is a second sort of' metadata={'source': '/content/MachineLearning-Lecture01.pdf', 'page': 18}\n",
            "page_content=' different pair of \\nmicrophone recordings: ' metadata={'source': '/content/MachineLearning-Lecture01.pdf', 'page': 18}\n",
            "page_content=' \\nMicrophone 1:  \\nOne' metadata={'source': '/content/MachineLearning-Lecture01.pdf', 'page': 18}\n",
            "page_content=', two, three, four, five, six' metadata={'source': '/content/MachineLearning-Lecture01.pdf', 'page': 18}\n",
            "page_content=', seven, eight, nine, ten. ' metadata={'source': '/content/MachineLearning-Lecture01.pdf', 'page': 18}\n",
            "page_content=' \\nMicrophone 2:  \\n[' metadata={'source': '/content/MachineLearning-Lecture01.pdf', 'page': 18}\n",
            "page_content='Music playing.]  Instructor (Andrew Ng): So' metadata={'source': '/content/MachineLearning-Lecture01.pdf', 'page': 18}\n",
            "page_content=' the poor guy is not at a cocktail party.' metadata={'source': '/content/MachineLearning-Lecture01.pdf', 'page': 18}\n",
            "page_content=\" He's talking to his \\nradio. There\" metadata={'source': '/content/MachineLearning-Lecture01.pdf', 'page': 18}\n",
            "page_content=\"'s the second recording:  \\nMicrophone\" metadata={'source': '/content/MachineLearning-Lecture01.pdf', 'page': 18}\n",
            "page_content=' 1:  \\nOne, two, three' metadata={'source': '/content/MachineLearning-Lecture01.pdf', 'page': 18}\n",
            "page_content=', four, five, six, seven, eight' metadata={'source': '/content/MachineLearning-Lecture01.pdf', 'page': 18}\n",
            "page_content=', nine, ten.  \\nMicrophone' metadata={'source': '/content/MachineLearning-Lecture01.pdf', 'page': 18}\n",
            "page_content=' 2:  \\n[Music playing.] ' metadata={'source': '/content/MachineLearning-Lecture01.pdf', 'page': 18}\n",
            "page_content=' \\nInstructor (Andrew Ng) : Right' metadata={'source': '/content/MachineLearning-Lecture01.pdf', 'page': 18}\n",
            "page_content=\". And we get this data. It's the\" metadata={'source': '/content/MachineLearning-Lecture01.pdf', 'page': 18}\n",
            "page_content=' same unsupervised \\nlearning algorithm. The' metadata={'source': '/content/MachineLearning-Lecture01.pdf', 'page': 18}\n",
            "page_content=' algorithm is actually called independent component analysis, and ' metadata={'source': '/content/MachineLearning-Lecture01.pdf', 'page': 18}\n",
            "page_content=\"\\nlater in this quarter, you'll see why\" metadata={'source': '/content/MachineLearning-Lecture01.pdf', 'page': 18}\n",
            "page_content=\". And then output's the following:  \" metadata={'source': '/content/MachineLearning-Lecture01.pdf', 'page': 18}\n",
            "page_content='\\nMicrophone 1:  \\nOne,' metadata={'source': '/content/MachineLearning-Lecture01.pdf', 'page': 18}\n",
            "page_content=' two, three, four, five, six,' metadata={'source': '/content/MachineLearning-Lecture01.pdf', 'page': 18}\n",
            "page_content=' seven, eight, nine, ten.  ' metadata={'source': '/content/MachineLearning-Lecture01.pdf', 'page': 18}\n",
            "page_content=\"\\nInstructor (Andrew Ng): And that's\" metadata={'source': '/content/MachineLearning-Lecture01.pdf', 'page': 18}\n",
            "page_content=' the second one:  \\nMicrophone 2' metadata={'source': '/content/MachineLearning-Lecture01.pdf', 'page': 18}\n",
            "page_content=':  \\n[Music playing.]  ' metadata={'source': '/content/MachineLearning-Lecture01.pdf', 'page': 18}\n",
            "page_content='\\nInstructor (Andrew Ng): Okay. So' metadata={'source': '/content/MachineLearning-Lecture01.pdf', 'page': 18}\n",
            "page_content=' it turns out that be yond solving the cocktail' metadata={'source': '/content/MachineLearning-Lecture01.pdf', 'page': 18}\n",
            "page_content=' party \\nalgorithm, this specific cla ss' metadata={'source': '/content/MachineLearning-Lecture01.pdf', 'page': 18}\n",
            "page_content=' of unsupervised learning algor ithms' metadata={'source': '/content/MachineLearning-Lecture01.pdf', 'page': 18}\n",
            "page_content=' are also applied to a \\nbunch of' metadata={'source': '/content/MachineLearning-Lecture01.pdf', 'page': 18}\n",
            "page_content=' other problems, like in text proces sing or' metadata={'source': '/content/MachineLearning-Lecture01.pdf', 'page': 18}\n",
            "page_content=' understanding f unctional grading and \\nmachine' metadata={'source': '/content/MachineLearning-Lecture01.pdf', 'page': 18}\n",
            "page_content=' data, like the magneto-encephalog' metadata={'source': '/content/MachineLearning-Lecture01.pdf', 'page': 18}\n",
            "page_content=\"ram would be an EEG data. We'll talk\" metadata={'source': '/content/MachineLearning-Lecture01.pdf', 'page': 18}\n",
            "page_content=' about \\nthat more when we go and describe' metadata={'source': '/content/MachineLearning-Lecture01.pdf', 'page': 18}\n",
            "page_content=' ICA or independent component analysis algorithms, \\n' metadata={'source': '/content/MachineLearning-Lecture01.pdf', 'page': 18}\n",
            "page_content='which is what you just saw.  ' metadata={'source': '/content/MachineLearning-Lecture01.pdf', 'page': 18}\n",
            "page_content='And as an aside, this algorithm I just showed' metadata={'source': '/content/MachineLearning-Lecture01.pdf', 'page': 19}\n",
            "page_content=' you, it seems like it must be a pretty' metadata={'source': '/content/MachineLearning-Lecture01.pdf', 'page': 19}\n",
            "page_content=' \\ncomplicated algorithm, right, to take' metadata={'source': '/content/MachineLearning-Lecture01.pdf', 'page': 19}\n",
            "page_content=' this overlapping audio streams and separate them \\nout' metadata={'source': '/content/MachineLearning-Lecture01.pdf', 'page': 19}\n",
            "page_content='. It sounds like a pretty complicated thi ng' metadata={'source': '/content/MachineLearning-Lecture01.pdf', 'page': 19}\n",
            "page_content=\" to do. So you're gonna ask how complicated\" metadata={'source': '/content/MachineLearning-Lecture01.pdf', 'page': 19}\n",
            "page_content=' \\nis it really to implement an  algorithm' metadata={'source': '/content/MachineLearning-Lecture01.pdf', 'page': 19}\n",
            "page_content=' like this? It turns out if you do it' metadata={'source': '/content/MachineLearning-Lecture01.pdf', 'page': 19}\n",
            "page_content=' in MATLAB, you \\ncan do it' metadata={'source': '/content/MachineLearning-Lecture01.pdf', 'page': 19}\n",
            "page_content=' in one line of code.  \\nSo' metadata={'source': '/content/MachineLearning-Lecture01.pdf', 'page': 19}\n",
            "page_content=' I got this from Samuel Wyse at Toront' metadata={'source': '/content/MachineLearning-Lecture01.pdf', 'page': 19}\n",
            "page_content=' o, U of Toronto, and the example I' metadata={'source': '/content/MachineLearning-Lecture01.pdf', 'page': 19}\n",
            "page_content=' showed you \\nactually used a more complicated I' metadata={'source': '/content/MachineLearning-Lecture01.pdf', 'page': 19}\n",
            "page_content='CA algorithm than this. But nonetheless, I guess' metadata={'source': '/content/MachineLearning-Lecture01.pdf', 'page': 19}\n",
            "page_content=\" this is \\nwhy for this class I'm\" metadata={'source': '/content/MachineLearning-Lecture01.pdf', 'page': 19}\n",
            "page_content=' going to ask you to  do most of your' metadata={'source': '/content/MachineLearning-Lecture01.pdf', 'page': 19}\n",
            "page_content=' programming in MATLAB and \\nOctave because' metadata={'source': '/content/MachineLearning-Lecture01.pdf', 'page': 19}\n",
            "page_content=' if you try to implement the sa me algorithm in' metadata={'source': '/content/MachineLearning-Lecture01.pdf', 'page': 19}\n",
            "page_content=' C or Java or something, I \\ncan' metadata={'source': '/content/MachineLearning-Lecture01.pdf', 'page': 19}\n",
            "page_content=' tell you from personal, painful experien ce, you' metadata={'source': '/content/MachineLearning-Lecture01.pdf', 'page': 19}\n",
            "page_content=' end up writing pages and pages of \\ncode' metadata={'source': '/content/MachineLearning-Lecture01.pdf', 'page': 19}\n",
            "page_content=\" rather than relatively few lines of code. I'll\" metadata={'source': '/content/MachineLearning-Lecture01.pdf', 'page': 19}\n",
            "page_content=' also mention that it did take researchers \\nmany' metadata={'source': '/content/MachineLearning-Lecture01.pdf', 'page': 19}\n",
            "page_content=', many years to come up with that one line' metadata={'source': '/content/MachineLearning-Lecture01.pdf', 'page': 19}\n",
            "page_content=' of code, so this is not easy. ' metadata={'source': '/content/MachineLearning-Lecture01.pdf', 'page': 19}\n",
            "page_content=' \\nSo that was unsupervised learning,' metadata={'source': '/content/MachineLearning-Lecture01.pdf', 'page': 19}\n",
            "page_content=' and then the last of the four major topics I' metadata={'source': '/content/MachineLearning-Lecture01.pdf', 'page': 19}\n",
            "page_content=' wanna tell \\nyou about is reinforcement learning.' metadata={'source': '/content/MachineLearning-Lecture01.pdf', 'page': 19}\n",
            "page_content=\" And this  refers to problems where you don't\" metadata={'source': '/content/MachineLearning-Lecture01.pdf', 'page': 19}\n",
            "page_content=' do one-\\nshot decision-making. So' metadata={'source': '/content/MachineLearning-Lecture01.pdf', 'page': 19}\n",
            "page_content=', for example, in  the supervised learning cancer' metadata={'source': '/content/MachineLearning-Lecture01.pdf', 'page': 19}\n",
            "page_content=' prediction \\nproblem, you have a patient come' metadata={'source': '/content/MachineLearning-Lecture01.pdf', 'page': 19}\n",
            "page_content=' in, you predict that the cancer is malignant' metadata={'source': '/content/MachineLearning-Lecture01.pdf', 'page': 19}\n",
            "page_content=' or benign. \\nAnd then based on your' metadata={'source': '/content/MachineLearning-Lecture01.pdf', 'page': 19}\n",
            "page_content=' prediction, maybe the pa tient lives or dies' metadata={'source': '/content/MachineLearning-Lecture01.pdf', 'page': 19}\n",
            "page_content=\", and then that's it, \\nright\" metadata={'source': '/content/MachineLearning-Lecture01.pdf', 'page': 19}\n",
            "page_content=\"? So you make a decision and then there's\" metadata={'source': '/content/MachineLearning-Lecture01.pdf', 'page': 19}\n",
            "page_content=' a consequence. You either got it right or ' metadata={'source': '/content/MachineLearning-Lecture01.pdf', 'page': 19}\n",
            "page_content='\\nwrong. In reinforcement learning problems, you are' metadata={'source': '/content/MachineLearning-Lecture01.pdf', 'page': 19}\n",
            "page_content=' usually asked to make a sequence of \\ndec' metadata={'source': '/content/MachineLearning-Lecture01.pdf', 'page': 19}\n",
            "page_content='isions over time.  \\nSo, for' metadata={'source': '/content/MachineLearning-Lecture01.pdf', 'page': 19}\n",
            "page_content=' example, this is something that my students and I' metadata={'source': '/content/MachineLearning-Lecture01.pdf', 'page': 19}\n",
            "page_content=' work on. If I give you the keys ' metadata={'source': '/content/MachineLearning-Lecture01.pdf', 'page': 19}\n",
            "page_content='\\nto an autonomous helicopter — we actually ha ve' metadata={'source': '/content/MachineLearning-Lecture01.pdf', 'page': 19}\n",
            "page_content=' this helicopter here at Stanford, — how \\n' metadata={'source': '/content/MachineLearning-Lecture01.pdf', 'page': 19}\n",
            "page_content='do you write a program to make it fly,' metadata={'source': '/content/MachineLearning-Lecture01.pdf', 'page': 19}\n",
            "page_content=' ri ght? You notice that if you' metadata={'source': '/content/MachineLearning-Lecture01.pdf', 'page': 19}\n",
            "page_content=' make a wrong \\ndecision on a helicopter' metadata={'source': '/content/MachineLearning-Lecture01.pdf', 'page': 19}\n",
            "page_content=', the consequence of crashing it may not happen until' metadata={'source': '/content/MachineLearning-Lecture01.pdf', 'page': 19}\n",
            "page_content=' much later. And in fact, usually you need' metadata={'source': '/content/MachineLearning-Lecture01.pdf', 'page': 19}\n",
            "page_content=' to make a w hole sequence of bad decisions to' metadata={'source': '/content/MachineLearning-Lecture01.pdf', 'page': 19}\n",
            "page_content=' crash a \\nhelicopter. But con' metadata={'source': '/content/MachineLearning-Lecture01.pdf', 'page': 19}\n",
            "page_content='versely, you al so need to make a whole' metadata={'source': '/content/MachineLearning-Lecture01.pdf', 'page': 19}\n",
            "page_content=' sequence of good decisions in \\norder to fly' metadata={'source': '/content/MachineLearning-Lecture01.pdf', 'page': 19}\n",
            "page_content=' a helic opter really well.  \\n' metadata={'source': '/content/MachineLearning-Lecture01.pdf', 'page': 19}\n",
            "page_content=\"So I'm gonna show you some fun videos of\" metadata={'source': '/content/MachineLearning-Lecture01.pdf', 'page': 19}\n",
            "page_content=' lear ning algorithms flying helicopters. This is ' metadata={'source': '/content/MachineLearning-Lecture01.pdf', 'page': 19}\n",
            "page_content='\\na video of our helicopter at Stanford flying using' metadata={'source': '/content/MachineLearning-Lecture01.pdf', 'page': 19}\n",
            "page_content=' a contro ller that was learned using a ' metadata={'source': '/content/MachineLearning-Lecture01.pdf', 'page': 19}\n",
            "page_content='\\nreinforcement learning algorithm. So this wa' metadata={'source': '/content/MachineLearning-Lecture01.pdf', 'page': 19}\n",
            "page_content=' s done on the Stanford football field, and ' metadata={'source': '/content/MachineLearning-Lecture01.pdf', 'page': 19}\n",
            "page_content=\"\\nwe'll zoom out the camera in a second\" metadata={'source': '/content/MachineLearning-Lecture01.pdf', 'page': 19}\n",
            "page_content=\". You'll sort of see th e trees planted\" metadata={'source': '/content/MachineLearning-Lecture01.pdf', 'page': 19}\n",
            "page_content=' in the sky. So \\nmaybe this is' metadata={'source': '/content/MachineLearning-Lecture01.pdf', 'page': 19}\n",
            "page_content=' one of the most difficult aer obatic maneuvers flown' metadata={'source': '/content/MachineLearning-Lecture01.pdf', 'page': 19}\n",
            "page_content=' on any helicopter under \\ncomputer control. And' metadata={'source': '/content/MachineLearning-Lecture01.pdf', 'page': 19}\n",
            "page_content=' this controller, which is very, very hard for' metadata={'source': '/content/MachineLearning-Lecture01.pdf', 'page': 19}\n",
            "page_content=' a human to sit down \\nand write out' metadata={'source': '/content/MachineLearning-Lecture01.pdf', 'page': 19}\n",
            "page_content=', was learned using one of these reinforcement learning algorithms' metadata={'source': '/content/MachineLearning-Lecture01.pdf', 'page': 19}\n",
            "page_content='.  \\nJust a word about that:' metadata={'source': '/content/MachineLearning-Lecture01.pdf', 'page': 19}\n",
            "page_content=' The basic idea behi nd a reinforcement learning' metadata={'source': '/content/MachineLearning-Lecture01.pdf', 'page': 19}\n",
            "page_content=\" algorithm is this \\nidea of what's\" metadata={'source': '/content/MachineLearning-Lecture01.pdf', 'page': 19}\n",
            "page_content=' called a reward  function. What we have to' metadata={'source': '/content/MachineLearning-Lecture01.pdf', 'page': 19}\n",
            "page_content=\" think about is imagine you're \\ntrying\" metadata={'source': '/content/MachineLearning-Lecture01.pdf', 'page': 19}\n",
            "page_content=' to train a dog. So every time y our' metadata={'source': '/content/MachineLearning-Lecture01.pdf', 'page': 19}\n",
            "page_content=' dog does something good, you say, \"Good' metadata={'source': '/content/MachineLearning-Lecture01.pdf', 'page': 19}\n",
            "page_content=' dog,\" \\nand you reward the dog.' metadata={'source': '/content/MachineLearning-Lecture01.pdf', 'page': 19}\n",
            "page_content=' Every time your dog does something bad, you go' metadata={'source': '/content/MachineLearning-Lecture01.pdf', 'page': 19}\n",
            "page_content=', \"Bad dog,\" right? And hopefully,' metadata={'source': '/content/MachineLearning-Lecture01.pdf', 'page': 19}\n",
            "page_content=' over time, your dog will lear n to do' metadata={'source': '/content/MachineLearning-Lecture01.pdf', 'page': 19}\n",
            "page_content=' the right things to get more of \\nthe' metadata={'source': '/content/MachineLearning-Lecture01.pdf', 'page': 19}\n",
            "page_content=' positive rewards, to get mo re of the \"' metadata={'source': '/content/MachineLearning-Lecture01.pdf', 'page': 19}\n",
            "page_content='Good dogs\" and to ge t fewer of the' metadata={'source': '/content/MachineLearning-Lecture01.pdf', 'page': 19}\n",
            "page_content=' \"Bad dogs.”  ' metadata={'source': '/content/MachineLearning-Lecture01.pdf', 'page': 19}\n",
            "page_content='So the way we teach a helicopter to fly or' metadata={'source': '/content/MachineLearning-Lecture01.pdf', 'page': 20}\n",
            "page_content=' any of these robots is sort of the same thing' metadata={'source': '/content/MachineLearning-Lecture01.pdf', 'page': 20}\n",
            "page_content='. \\nEvery time the helicopter crashes, we' metadata={'source': '/content/MachineLearning-Lecture01.pdf', 'page': 20}\n",
            "page_content=' go, \"B ad helicopter,\" and every time' metadata={'source': '/content/MachineLearning-Lecture01.pdf', 'page': 20}\n",
            "page_content=' it does the \\nright thing, we go' metadata={'source': '/content/MachineLearning-Lecture01.pdf', 'page': 20}\n",
            "page_content=', \"Good helicopter, \" and over time it' metadata={'source': '/content/MachineLearning-Lecture01.pdf', 'page': 20}\n",
            "page_content=' learns how to control itself so as to \\n' metadata={'source': '/content/MachineLearning-Lecture01.pdf', 'page': 20}\n",
            "page_content='get more of these positive rewards.  \\n' metadata={'source': '/content/MachineLearning-Lecture01.pdf', 'page': 20}\n",
            "page_content='So reinforcement learning is — I think of it as' metadata={'source': '/content/MachineLearning-Lecture01.pdf', 'page': 20}\n",
            "page_content=' a way for you to specify what you want ' metadata={'source': '/content/MachineLearning-Lecture01.pdf', 'page': 20}\n",
            "page_content='\\ndone, so you have to specify what is' metadata={'source': '/content/MachineLearning-Lecture01.pdf', 'page': 20}\n",
            "page_content=' a \"good dog\" and what is a \"' metadata={'source': '/content/MachineLearning-Lecture01.pdf', 'page': 20}\n",
            "page_content='bad dog\" behavior. And \\nthen it' metadata={'source': '/content/MachineLearning-Lecture01.pdf', 'page': 20}\n",
            "page_content=\"'s up to the learning algorithm to  figure out\" metadata={'source': '/content/MachineLearning-Lecture01.pdf', 'page': 20}\n",
            "page_content=' how to maximize the \"good dog\" \\n' metadata={'source': '/content/MachineLearning-Lecture01.pdf', 'page': 20}\n",
            "page_content='reward signals and minimize the \"bad dog\"' metadata={'source': '/content/MachineLearning-Lecture01.pdf', 'page': 20}\n",
            "page_content=' punishments.  \\nSo it turns out reinforcement' metadata={'source': '/content/MachineLearning-Lecture01.pdf', 'page': 20}\n",
            "page_content=' learning is applie d to other problems in robotics' metadata={'source': '/content/MachineLearning-Lecture01.pdf', 'page': 20}\n",
            "page_content=\". It's applied \\nto things in web\" metadata={'source': '/content/MachineLearning-Lecture01.pdf', 'page': 20}\n",
            "page_content=\" crawling and so on. But it's just \" metadata={'source': '/content/MachineLearning-Lecture01.pdf', 'page': 20}\n",
            "page_content=' cool to show videos, so let me just show' metadata={'source': '/content/MachineLearning-Lecture01.pdf', 'page': 20}\n",
            "page_content=' \\na bunch of them. This learning algorithm' metadata={'source': '/content/MachineLearning-Lecture01.pdf', 'page': 20}\n",
            "page_content=' was actually implemented by our head TA, Zico' metadata={'source': '/content/MachineLearning-Lecture01.pdf', 'page': 20}\n",
            "page_content=', of programming a four-legged dog. I' metadata={'source': '/content/MachineLearning-Lecture01.pdf', 'page': 20}\n",
            "page_content=' guess Sam Shriver in this class also worked ' metadata={'source': '/content/MachineLearning-Lecture01.pdf', 'page': 20}\n",
            "page_content='\\non the project and Peter Renfrew and' metadata={'source': '/content/MachineLearning-Lecture01.pdf', 'page': 20}\n",
            "page_content=' Mike and a few others. But I guess this' metadata={'source': '/content/MachineLearning-Lecture01.pdf', 'page': 20}\n",
            "page_content=' really is a \\ngood dog/bad dog' metadata={'source': '/content/MachineLearning-Lecture01.pdf', 'page': 20}\n",
            "page_content=\" since it's a robot dog.  \\n\" metadata={'source': '/content/MachineLearning-Lecture01.pdf', 'page': 20}\n",
            "page_content='The second video on the right, some of the' metadata={'source': '/content/MachineLearning-Lecture01.pdf', 'page': 20}\n",
            "page_content=' st udents, I guess Peter, Z' metadata={'source': '/content/MachineLearning-Lecture01.pdf', 'page': 20}\n",
            "page_content='ico, Tonca working \\non a robotic' metadata={'source': '/content/MachineLearning-Lecture01.pdf', 'page': 20}\n",
            "page_content=' snake, again using learning algorith ms to teach a' metadata={'source': '/content/MachineLearning-Lecture01.pdf', 'page': 20}\n",
            "page_content=' snake robot to climb over \\nobstacles' metadata={'source': '/content/MachineLearning-Lecture01.pdf', 'page': 20}\n",
            "page_content='.  \\nBelow that, this is kind' metadata={'source': '/content/MachineLearning-Lecture01.pdf', 'page': 20}\n",
            "page_content=' of a fun example.  Ashutosh Sax' metadata={'source': '/content/MachineLearning-Lecture01.pdf', 'page': 20}\n",
            "page_content='ena and Jeff Michaels used \\nlearning algorithms to' metadata={'source': '/content/MachineLearning-Lecture01.pdf', 'page': 20}\n",
            "page_content=' teach a car how to  drive at reasonably high' metadata={'source': '/content/MachineLearning-Lecture01.pdf', 'page': 20}\n",
            "page_content=' speeds off roads \\navoiding obstacles. ' metadata={'source': '/content/MachineLearning-Lecture01.pdf', 'page': 20}\n",
            "page_content=\" \\nAnd on the lower right, that's\" metadata={'source': '/content/MachineLearning-Lecture01.pdf', 'page': 20}\n",
            "page_content=' a robot program med by PhD student Eva Roshen' metadata={'source': '/content/MachineLearning-Lecture01.pdf', 'page': 20}\n",
            "page_content=' to teach a \\nsort of somewhat strangely configured' metadata={'source': '/content/MachineLearning-Lecture01.pdf', 'page': 20}\n",
            "page_content=' robot how to get on top of an obstacle,' metadata={'source': '/content/MachineLearning-Lecture01.pdf', 'page': 20}\n",
            "page_content=' how to get \\nover an obstacle. Sorry' metadata={'source': '/content/MachineLearning-Lecture01.pdf', 'page': 20}\n",
            "page_content=\". I know the video's kind of small.\" metadata={'source': '/content/MachineLearning-Lecture01.pdf', 'page': 20}\n",
            "page_content=' I hope you can sort of see it. ' metadata={'source': '/content/MachineLearning-Lecture01.pdf', 'page': 20}\n",
            "page_content='\\nOkay?  \\nSo I think all' metadata={'source': '/content/MachineLearning-Lecture01.pdf', 'page': 20}\n",
            "page_content=' of these are robots that I thi nk' metadata={'source': '/content/MachineLearning-Lecture01.pdf', 'page': 20}\n",
            "page_content=' are very difficult to hand-code a controller ' metadata={'source': '/content/MachineLearning-Lecture01.pdf', 'page': 20}\n",
            "page_content='\\nfor by learning these sorts of l earning algorithms' metadata={'source': '/content/MachineLearning-Lecture01.pdf', 'page': 20}\n",
            "page_content='. You can in relatively short order get a ' metadata={'source': '/content/MachineLearning-Lecture01.pdf', 'page': 20}\n",
            "page_content='\\nrobot to do often pretty amazing things.' metadata={'source': '/content/MachineLearning-Lecture01.pdf', 'page': 20}\n",
            "page_content='  \\nOkay. So that was most of' metadata={'source': '/content/MachineLearning-Lecture01.pdf', 'page': 20}\n",
            "page_content=' what I wanted to say today. Just a couple' metadata={'source': '/content/MachineLearning-Lecture01.pdf', 'page': 20}\n",
            "page_content=' more last things, but \\nlet me just' metadata={'source': '/content/MachineLearning-Lecture01.pdf', 'page': 20}\n",
            "page_content=' check what questions you have righ t now.' metadata={'source': '/content/MachineLearning-Lecture01.pdf', 'page': 20}\n",
            "page_content=\" So if there are no questions, I'll just\" metadata={'source': '/content/MachineLearning-Lecture01.pdf', 'page': 20}\n",
            "page_content=' \\nclose with two reminders, which are after' metadata={'source': '/content/MachineLearning-Lecture01.pdf', 'page': 20}\n",
            "page_content=' class today or as you start to talk with other' metadata={'source': '/content/MachineLearning-Lecture01.pdf', 'page': 20}\n",
            "page_content=' \\npeople in this class, I just encourage' metadata={'source': '/content/MachineLearning-Lecture01.pdf', 'page': 20}\n",
            "page_content=' you again to start to form project partners, to' metadata={'source': '/content/MachineLearning-Lecture01.pdf', 'page': 20}\n",
            "page_content=' try to \\nfind project partners to do your' metadata={'source': '/content/MachineLearning-Lecture01.pdf', 'page': 20}\n",
            "page_content=' project with. And also, this is a good' metadata={'source': '/content/MachineLearning-Lecture01.pdf', 'page': 20}\n",
            "page_content=' time to start forming \\nstudy groups, so' metadata={'source': '/content/MachineLearning-Lecture01.pdf', 'page': 20}\n",
            "page_content=' either talk to your friends  or post in the' metadata={'source': '/content/MachineLearning-Lecture01.pdf', 'page': 20}\n",
            "page_content=' newsgroup, but we just \\nencourage' metadata={'source': '/content/MachineLearning-Lecture01.pdf', 'page': 20}\n",
            "page_content=' you to try to star t to do both of' metadata={'source': '/content/MachineLearning-Lecture01.pdf', 'page': 20}\n",
            "page_content=' those today, okay? Form study groups, and' metadata={'source': '/content/MachineLearning-Lecture01.pdf', 'page': 20}\n",
            "page_content=' try \\nto find two other project partners.' metadata={'source': '/content/MachineLearning-Lecture01.pdf', 'page': 20}\n",
            "page_content=\"  \\nSo thank you. I'm looking\" metadata={'source': '/content/MachineLearning-Lecture01.pdf', 'page': 20}\n",
            "page_content=\" forward to teaching this class, and I'll see\" metadata={'source': '/content/MachineLearning-Lecture01.pdf', 'page': 20}\n",
            "page_content=' you in a couple of \\ndays. ' metadata={'source': '/content/MachineLearning-Lecture01.pdf', 'page': 20}\n",
            "page_content=' ' metadata={'source': '/content/MachineLearning-Lecture01.pdf', 'page': 20}\n",
            "page_content='[End of Audio]  \\nDuration:' metadata={'source': '/content/MachineLearning-Lecture01.pdf', 'page': 21}\n",
            "page_content=' 69 minutes  ' metadata={'source': '/content/MachineLearning-Lecture01.pdf', 'page': 21}\n"
          ]
        }
      ]
    },
    {
      "cell_type": "code",
      "source": [
        "pages[0].metadata"
      ],
      "metadata": {
        "colab": {
          "base_uri": "https://localhost:8080/"
        },
        "id": "JmHNFEkkaQac",
        "outputId": "34d15534-ffc5-49f8-a9a0-d6753cadd38f"
      },
      "execution_count": 64,
      "outputs": [
        {
          "output_type": "execute_result",
          "data": {
            "text/plain": [
              "{'source': '/content/MachineLearning-Lecture01.pdf', 'page': 0}"
            ]
          },
          "metadata": {},
          "execution_count": 64
        }
      ]
    },
    {
      "cell_type": "code",
      "source": [
        "text_splitter = TokenTextSplitter(chunk_size=10, chunk_overlap=0)\n",
        "\n",
        "texts = text_splitter.split_text(text2)\n",
        "print(texts[0])"
      ],
      "metadata": {
        "colab": {
          "base_uri": "https://localhost:8080/"
        },
        "id": "Q2R_alqvcPDc",
        "outputId": "b9e55380-16af-4d67-85d0-c445152420d2"
      },
      "execution_count": 65,
      "outputs": [
        {
          "output_type": "stream",
          "name": "stdout",
          "text": [
            " Agents dynamically call tools. The results of those tool\n"
          ]
        }
      ]
    },
    {
      "cell_type": "markdown",
      "source": [
        "#**SpaCy**\n",
        "SpaCy is an open-source software library for advanced natural language processing, written in the programming languages Python and Cython.\n",
        "\n",
        "Another alternative to NLTK is to use spaCy tokenizer.\n",
        "\n",
        "* How the text is split: by spaCy tokenizer.\n",
        "* How the chunk size is measured: by number of characters.\n",
        "\n"
      ],
      "metadata": {
        "id": "AK8MVGr1ejt4"
      }
    },
    {
      "cell_type": "code",
      "source": [
        "%pip install --upgrade --quiet  spacy"
      ],
      "metadata": {
        "id": "NAcfJr2Vf6fS"
      },
      "execution_count": 66,
      "outputs": []
    },
    {
      "cell_type": "code",
      "source": [
        "# This is a long document we can split up.\n",
        "with open(\"/content/stories.txt\") as f:\n",
        "    state_of_the_union = f.read()"
      ],
      "metadata": {
        "id": "qyfbK951e94X"
      },
      "execution_count": 67,
      "outputs": []
    },
    {
      "cell_type": "code",
      "source": [
        "from langchain_text_splitters import SpacyTextSplitter"
      ],
      "metadata": {
        "id": "atD7LocBfDWf"
      },
      "execution_count": 68,
      "outputs": []
    },
    {
      "cell_type": "code",
      "source": [
        "text_splitter = SpacyTextSplitter(chunk_size=1000)\n",
        "\n",
        "texts = text_splitter.split_text(state_of_the_union)\n",
        "print(texts[0])\n"
      ],
      "metadata": {
        "colab": {
          "base_uri": "https://localhost:8080/"
        },
        "id": "8y3KTEU6iCLp",
        "outputId": "de0c6f3b-4eb6-43c0-ee71-c00fd927f225"
      },
      "execution_count": 69,
      "outputs": [
        {
          "output_type": "stream",
          "name": "stdout",
          "text": [
            ".\n",
            "\n",
            "“The Happy Prince” by Oscar Wilde\n",
            "English short stories“The Happy Prince” is a story that explores compassion in society, serving as a fairy tale and a fable at once.\n",
            "\n",
            "It’s about a prince who is only allowed to see beauty and comfort in his life.\n",
            "\n",
            "When he dies, he’s turned into a golden statue in his city, where he discovers that others actually live their lives in poverty and darkness.\n",
            "\n",
            "With the help of a swallow (a type of bird), the prince manages to help people even after death.\n",
            "\n",
            "Since the story is old, much of the English is outdated (not used in modern English).\n",
            "\n",
            "Still, if you have a good grasp of the English language, you can use this story to give yourself a great reading challenge.\n",
            "\n",
            "14.\n",
            "\n",
            "“The Night Train at Deoli” by Ruskin Bond\n",
            "The Night Train at DeoliRuskin Bond used to spend summers at his grandmother’s house in Dehradun, India.\n",
            "\n",
            "While taking the train, he always had to pass through a small station called Deoli.\n"
          ]
        },
        {
          "output_type": "stream",
          "name": "stderr",
          "text": [
            "/usr/local/lib/python3.10/dist-packages/spacy/pipeline/lemmatizer.py:211: UserWarning: [W108] The rule-based lemmatizer did not find POS annotation for one or more tokens. Check that your pipeline includes components that assign token.pos, typically 'tagger'+'attribute_ruler' or 'morphologizer'.\n",
            "  warnings.warn(Warnings.W108)\n"
          ]
        }
      ]
    },
    {
      "cell_type": "markdown",
      "source": [
        "# **NLTK**\n",
        "The Natural Language Toolkit, or more commonly NLTK, is a suite of libraries and programs for symbolic and statistical natural language processing (NLP) for English written in the Python programming language.\n",
        "\n",
        "Rather than just splitting on “”, we can use NLTK to split based on NLTK tokenizers.\n",
        "\n",
        "How the text is split: by NLTK tokenizer.\n",
        "How the chunk size is measured: by number of characters.\n"
      ],
      "metadata": {
        "id": "Ktx4_6apgntB"
      }
    },
    {
      "cell_type": "code",
      "source": [
        "!pip install nltk"
      ],
      "metadata": {
        "colab": {
          "base_uri": "https://localhost:8080/"
        },
        "id": "Ejqm8K1rglrA",
        "outputId": "39ac4c66-94a7-470f-e995-12f76924494b"
      },
      "execution_count": 70,
      "outputs": [
        {
          "output_type": "stream",
          "name": "stdout",
          "text": [
            "Requirement already satisfied: nltk in /usr/local/lib/python3.10/dist-packages (3.8.1)\n",
            "Requirement already satisfied: click in /usr/local/lib/python3.10/dist-packages (from nltk) (8.1.7)\n",
            "Requirement already satisfied: joblib in /usr/local/lib/python3.10/dist-packages (from nltk) (1.3.2)\n",
            "Requirement already satisfied: regex>=2021.8.3 in /usr/local/lib/python3.10/dist-packages (from nltk) (2023.12.25)\n",
            "Requirement already satisfied: tqdm in /usr/local/lib/python3.10/dist-packages (from nltk) (4.66.2)\n"
          ]
        }
      ]
    },
    {
      "cell_type": "code",
      "source": [
        "import nltk\n",
        "nltk.download('punkt')\n"
      ],
      "metadata": {
        "colab": {
          "base_uri": "https://localhost:8080/"
        },
        "id": "T6T4jfjtk9QV",
        "outputId": "429acd1d-28db-412c-f6d1-316567c1dbd9"
      },
      "execution_count": 71,
      "outputs": [
        {
          "output_type": "stream",
          "name": "stderr",
          "text": [
            "[nltk_data] Downloading package punkt to /root/nltk_data...\n",
            "[nltk_data]   Unzipping tokenizers/punkt.zip.\n"
          ]
        },
        {
          "output_type": "execute_result",
          "data": {
            "text/plain": [
              "True"
            ]
          },
          "metadata": {},
          "execution_count": 71
        }
      ]
    },
    {
      "cell_type": "code",
      "source": [
        "# This is a long document we can split up.\n",
        "with open(\"/content/stories.txt\") as f:\n",
        "    state = f.read()\n"
      ],
      "metadata": {
        "id": "SKIaL2MEjYEk"
      },
      "execution_count": 72,
      "outputs": []
    },
    {
      "cell_type": "code",
      "source": [
        "from langchain_text_splitters import NLTKTextSplitter\n",
        "\n",
        "text_splitter = NLTKTextSplitter(chunk_size=1000)"
      ],
      "metadata": {
        "id": "VATRp4DdjdGs"
      },
      "execution_count": 73,
      "outputs": []
    },
    {
      "cell_type": "code",
      "source": [
        "texts = text_splitter.split_text(state)\n",
        "print(texts[0])\n"
      ],
      "metadata": {
        "colab": {
          "base_uri": "https://localhost:8080/"
        },
        "id": "DSqG7wjxjjGk",
        "outputId": "322dc120-0e33-4804-f246-29f896d5e980"
      },
      "execution_count": 74,
      "outputs": [
        {
          "output_type": "stream",
          "name": "stdout",
          "text": [
            ".\n",
            "\n",
            "“The Happy Prince” by Oscar Wilde\n",
            "English short stories“The Happy Prince” is a story that explores compassion in society, serving as a fairy tale and a fable at once.\n",
            "\n",
            "It’s about a prince who is only allowed to see beauty and comfort in his life.\n",
            "\n",
            "When he dies, he’s turned into a golden statue in his city, where he discovers that others actually live their lives in poverty and darkness.\n",
            "\n",
            "With the help of a swallow (a type of bird), the prince manages to help people even after death.Since the story is old, much of the English is outdated (not used in modern English).\n",
            "\n",
            "Still, if you have a good grasp of the English language, you can use this story to give yourself a great reading challenge.\n",
            "\n",
            "14.\n",
            "\n",
            "“The Night Train at Deoli” by Ruskin Bond\n",
            "The Night Train at DeoliRuskin Bond used to spend summers at his grandmother’s house in Dehradun, India.\n",
            "\n",
            "While taking the train, he always had to pass through a small station called Deoli.\n"
          ]
        }
      ]
    },
    {
      "cell_type": "markdown",
      "source": [
        "#**Hugging Face tokenizer**\n",
        "Hugging Face has many tokenizers.\n",
        "\n",
        "We use Hugging Face tokenizer, the GPT2TokenizerFast to count the text length in tokens.\n",
        "\n",
        "How the text is split: by character passed in.\n",
        "How the chunk size is measured: by number of tokens calculated by the Hugging Face tokenizer.\n"
      ],
      "metadata": {
        "id": "rzOt73FWnPbW"
      }
    },
    {
      "cell_type": "code",
      "source": [
        "from transformers import GPT2TokenizerFast"
      ],
      "metadata": {
        "id": "FFb1Mssfjsma"
      },
      "execution_count": 75,
      "outputs": []
    },
    {
      "cell_type": "code",
      "source": [
        "tokenizer = GPT2TokenizerFast.from_pretrained(\"gpt2\")"
      ],
      "metadata": {
        "colab": {
          "base_uri": "https://localhost:8080/",
          "height": 177,
          "referenced_widgets": [
            "c9270eafe7c74eda8e6a8c8eef56b761",
            "54f28580b21c4cf595bb2498abfc7a2e",
            "adb9cbe2bb58483a9c23dc009b36d5c3",
            "1e7a0745cf894e4ab34ef2801c9eeb5f",
            "7a691e3445cb464cb39e3954074ad74d",
            "61ef2f81e52d42ce846bf4e45d9c0c40",
            "94f6aa116c074bdb95b9ec348bd2c275",
            "6912194a0d8e433da9a8dc7f0f811faf",
            "4ede9ba084244588a542d8394b681666",
            "cf75b93c5023465f939cd66f2e2ccfe2",
            "39ad766c89bb43b8bb5724df98c9fb35",
            "295a24035d0d4fa8babb53c20a9e8e94",
            "c50397070e6745e4aac297f2a916a6d1",
            "dbe9b76c962a43389c867271d6366265",
            "5e9bae6be1c640b98472464f44a33b2a",
            "cba59ea0dfd64d99a24d5617c3790193",
            "ae2157278756463a9522dbf368b86e19",
            "5880caa248f24443bd9c1d5002d03bdb",
            "6fc3c9c6d3f146a9b865f51310b8b9ea",
            "c17c81aaa777403380d0197eceb8fc51",
            "b8922d6abcf84693b76bd9baed2f1ba4",
            "9980d9865cb943caa6a7a52f0f150439",
            "c172e02b31e94b77869f10e9571471f9",
            "e1f10cd801de41a098fcccf18ac2cdc1",
            "0eda2702be744a578531e2e4155f1215",
            "9c888626ab25409397d5318b58bc2554",
            "281935d72d3f4cd6b92c014f9ea74889",
            "ebbf110d494445b399ac0a4e052387bb",
            "56a8ae46dfa94c1598e9c72bdfc26107",
            "f1eb86ac2c334f7f9427f886c492ec68",
            "f533e498d8464e19bf9ddf32a8405551",
            "d3a15bf0cbb942aa8651c42594c548dc",
            "2d21b95566214b4b8d556087a823678b",
            "c6e28ebfcd694713bbb246112b5060b7",
            "20b962c91d6a4ee9b972c6bf585da354",
            "e6d5ec791b8f45ca9dd1f03e54a789f2",
            "61a883cab31740b5a4c19076f0b0c7aa",
            "cf0c1b2ad60f495c94ac6133ee20abc1",
            "28680ef9e1ae4a9aaf9b51240e0ee988",
            "8f5c8fe00772481ca52dec60aea1bb0e",
            "c1881b110d9d4f999024289ae3f99c77",
            "3e706ca25ac7404a989795a16930a442",
            "e7a27d62f3e045c8b477165d7f85ec0d",
            "8fc1ca06ac7c4e09b9df0b86cd674f26",
            "dc763152dd514582a2a473f7adbe389a",
            "03302ab627254b79ba5a0101a9307a3e",
            "9cc197b5f69d48de918a3f70e83224f8",
            "08b14b8952a54eae833c0fabdd393681",
            "5c5e3e65d589471faa9dfb13ed83b0e4",
            "18904aec22d243d4b939fb611abd1a4a",
            "10a32cb82311401e914baddfe06ef3d0",
            "a4f53dea137c4d46a9c9245e096295e2",
            "2071a371287a49dab13c68aaa1a41ea9",
            "c88cbba10023463e9464ead390f47bfc",
            "b02f36dbbd354fbe857fc48f2869c7f7"
          ]
        },
        "id": "g0ZyXVHKnpVG",
        "outputId": "215f0ceb-7277-4368-fa54-81374407b81b"
      },
      "execution_count": 76,
      "outputs": [
        {
          "output_type": "display_data",
          "data": {
            "text/plain": [
              "tokenizer_config.json:   0%|          | 0.00/26.0 [00:00<?, ?B/s]"
            ],
            "application/vnd.jupyter.widget-view+json": {
              "version_major": 2,
              "version_minor": 0,
              "model_id": "c9270eafe7c74eda8e6a8c8eef56b761"
            }
          },
          "metadata": {}
        },
        {
          "output_type": "display_data",
          "data": {
            "text/plain": [
              "vocab.json:   0%|          | 0.00/1.04M [00:00<?, ?B/s]"
            ],
            "application/vnd.jupyter.widget-view+json": {
              "version_major": 2,
              "version_minor": 0,
              "model_id": "295a24035d0d4fa8babb53c20a9e8e94"
            }
          },
          "metadata": {}
        },
        {
          "output_type": "display_data",
          "data": {
            "text/plain": [
              "merges.txt:   0%|          | 0.00/456k [00:00<?, ?B/s]"
            ],
            "application/vnd.jupyter.widget-view+json": {
              "version_major": 2,
              "version_minor": 0,
              "model_id": "c172e02b31e94b77869f10e9571471f9"
            }
          },
          "metadata": {}
        },
        {
          "output_type": "display_data",
          "data": {
            "text/plain": [
              "tokenizer.json:   0%|          | 0.00/1.36M [00:00<?, ?B/s]"
            ],
            "application/vnd.jupyter.widget-view+json": {
              "version_major": 2,
              "version_minor": 0,
              "model_id": "c6e28ebfcd694713bbb246112b5060b7"
            }
          },
          "metadata": {}
        },
        {
          "output_type": "display_data",
          "data": {
            "text/plain": [
              "config.json:   0%|          | 0.00/665 [00:00<?, ?B/s]"
            ],
            "application/vnd.jupyter.widget-view+json": {
              "version_major": 2,
              "version_minor": 0,
              "model_id": "dc763152dd514582a2a473f7adbe389a"
            }
          },
          "metadata": {}
        }
      ]
    },
    {
      "cell_type": "code",
      "source": [
        "# This is a long document we can split up.\n",
        "with open(\"/content/stories.txt\") as f:\n",
        "    state = f.read()"
      ],
      "metadata": {
        "id": "nMmmGm4onu5a"
      },
      "execution_count": 77,
      "outputs": []
    },
    {
      "cell_type": "code",
      "source": [
        "from langchain_text_splitters import CharacterTextSplitter\n",
        "\n",
        "text_splitter = CharacterTextSplitter.from_huggingface_tokenizer(\n",
        "    tokenizer, chunk_size=200, chunk_overlap=0\n",
        ")\n"
      ],
      "metadata": {
        "id": "IOY69Lisn-bs"
      },
      "execution_count": 78,
      "outputs": []
    },
    {
      "cell_type": "code",
      "source": [
        "texts = text_splitter.split_text(state_of_the_union)\n",
        "\n",
        "print(texts[0])"
      ],
      "metadata": {
        "colab": {
          "base_uri": "https://localhost:8080/"
        },
        "id": "r1F_HceeoSFN",
        "outputId": "0c5bf3c2-672b-4af4-96f8-aa4de2bdead7"
      },
      "execution_count": 79,
      "outputs": [
        {
          "output_type": "stream",
          "name": "stdout",
          "text": [
            ". “The Happy Prince” by Oscar Wilde\n",
            "English short stories“The Happy Prince” is a story that explores compassion in society, serving as a fairy tale and a fable at once. It’s about a prince who is only allowed to see beauty and comfort in his life. When he dies, he’s turned into a golden statue in his city, where he discovers that others actually live their lives in poverty and darkness. With the help of a swallow (a type of bird), the prince manages to help people even after death.Since the story is old, much of the English is outdated (not used in modern English). Still, if you have a good grasp of the English language, you can use this story to give yourself a great reading challenge.\n"
          ]
        }
      ]
    },
    {
      "cell_type": "markdown",
      "source": [
        "#**SentenceTransformers**\n",
        "The SentenceTransformersTokenTextSplitter is a specialized text splitter for use with the sentence-transformer models. The default behaviour is to split the text into chunks that fit the token window of the sentence transformer model that you would like to use.\n",
        "\n"
      ],
      "metadata": {
        "id": "DdqiTsbVKdIi"
      }
    },
    {
      "cell_type": "code",
      "source": [
        "!pip install sentence-transformers"
      ],
      "metadata": {
        "colab": {
          "base_uri": "https://localhost:8080/"
        },
        "id": "JfYVg6WhMI_a",
        "outputId": "be346fd3-33bf-4cc5-c359-30c3a3efce32"
      },
      "execution_count": 80,
      "outputs": [
        {
          "output_type": "stream",
          "name": "stdout",
          "text": [
            "Requirement already satisfied: sentence-transformers in /usr/local/lib/python3.10/dist-packages (2.5.1)\n",
            "Requirement already satisfied: transformers<5.0.0,>=4.32.0 in /usr/local/lib/python3.10/dist-packages (from sentence-transformers) (4.38.2)\n",
            "Requirement already satisfied: tqdm in /usr/local/lib/python3.10/dist-packages (from sentence-transformers) (4.66.2)\n",
            "Requirement already satisfied: torch>=1.11.0 in /usr/local/lib/python3.10/dist-packages (from sentence-transformers) (2.2.1+cu121)\n",
            "Requirement already satisfied: numpy in /usr/local/lib/python3.10/dist-packages (from sentence-transformers) (1.25.2)\n",
            "Requirement already satisfied: scikit-learn in /usr/local/lib/python3.10/dist-packages (from sentence-transformers) (1.2.2)\n",
            "Requirement already satisfied: scipy in /usr/local/lib/python3.10/dist-packages (from sentence-transformers) (1.11.4)\n",
            "Requirement already satisfied: huggingface-hub>=0.15.1 in /usr/local/lib/python3.10/dist-packages (from sentence-transformers) (0.20.3)\n",
            "Requirement already satisfied: Pillow in /usr/local/lib/python3.10/dist-packages (from sentence-transformers) (9.4.0)\n",
            "Requirement already satisfied: filelock in /usr/local/lib/python3.10/dist-packages (from huggingface-hub>=0.15.1->sentence-transformers) (3.13.1)\n",
            "Requirement already satisfied: fsspec>=2023.5.0 in /usr/local/lib/python3.10/dist-packages (from huggingface-hub>=0.15.1->sentence-transformers) (2023.6.0)\n",
            "Requirement already satisfied: requests in /usr/local/lib/python3.10/dist-packages (from huggingface-hub>=0.15.1->sentence-transformers) (2.31.0)\n",
            "Requirement already satisfied: pyyaml>=5.1 in /usr/local/lib/python3.10/dist-packages (from huggingface-hub>=0.15.1->sentence-transformers) (6.0.1)\n",
            "Requirement already satisfied: typing-extensions>=3.7.4.3 in /usr/local/lib/python3.10/dist-packages (from huggingface-hub>=0.15.1->sentence-transformers) (4.10.0)\n",
            "Requirement already satisfied: packaging>=20.9 in /usr/local/lib/python3.10/dist-packages (from huggingface-hub>=0.15.1->sentence-transformers) (23.2)\n",
            "Requirement already satisfied: sympy in /usr/local/lib/python3.10/dist-packages (from torch>=1.11.0->sentence-transformers) (1.12)\n",
            "Requirement already satisfied: networkx in /usr/local/lib/python3.10/dist-packages (from torch>=1.11.0->sentence-transformers) (3.2.1)\n",
            "Requirement already satisfied: jinja2 in /usr/local/lib/python3.10/dist-packages (from torch>=1.11.0->sentence-transformers) (3.1.3)\n",
            "Requirement already satisfied: nvidia-cuda-nvrtc-cu12==12.1.105 in /usr/local/lib/python3.10/dist-packages (from torch>=1.11.0->sentence-transformers) (12.1.105)\n",
            "Requirement already satisfied: nvidia-cuda-runtime-cu12==12.1.105 in /usr/local/lib/python3.10/dist-packages (from torch>=1.11.0->sentence-transformers) (12.1.105)\n",
            "Requirement already satisfied: nvidia-cuda-cupti-cu12==12.1.105 in /usr/local/lib/python3.10/dist-packages (from torch>=1.11.0->sentence-transformers) (12.1.105)\n",
            "Requirement already satisfied: nvidia-cudnn-cu12==8.9.2.26 in /usr/local/lib/python3.10/dist-packages (from torch>=1.11.0->sentence-transformers) (8.9.2.26)\n",
            "Requirement already satisfied: nvidia-cublas-cu12==12.1.3.1 in /usr/local/lib/python3.10/dist-packages (from torch>=1.11.0->sentence-transformers) (12.1.3.1)\n",
            "Requirement already satisfied: nvidia-cufft-cu12==11.0.2.54 in /usr/local/lib/python3.10/dist-packages (from torch>=1.11.0->sentence-transformers) (11.0.2.54)\n",
            "Requirement already satisfied: nvidia-curand-cu12==10.3.2.106 in /usr/local/lib/python3.10/dist-packages (from torch>=1.11.0->sentence-transformers) (10.3.2.106)\n",
            "Requirement already satisfied: nvidia-cusolver-cu12==11.4.5.107 in /usr/local/lib/python3.10/dist-packages (from torch>=1.11.0->sentence-transformers) (11.4.5.107)\n",
            "Requirement already satisfied: nvidia-cusparse-cu12==12.1.0.106 in /usr/local/lib/python3.10/dist-packages (from torch>=1.11.0->sentence-transformers) (12.1.0.106)\n",
            "Requirement already satisfied: nvidia-nccl-cu12==2.19.3 in /usr/local/lib/python3.10/dist-packages (from torch>=1.11.0->sentence-transformers) (2.19.3)\n",
            "Requirement already satisfied: nvidia-nvtx-cu12==12.1.105 in /usr/local/lib/python3.10/dist-packages (from torch>=1.11.0->sentence-transformers) (12.1.105)\n",
            "Requirement already satisfied: triton==2.2.0 in /usr/local/lib/python3.10/dist-packages (from torch>=1.11.0->sentence-transformers) (2.2.0)\n",
            "Requirement already satisfied: nvidia-nvjitlink-cu12 in /usr/local/lib/python3.10/dist-packages (from nvidia-cusolver-cu12==11.4.5.107->torch>=1.11.0->sentence-transformers) (12.4.99)\n",
            "Requirement already satisfied: regex!=2019.12.17 in /usr/local/lib/python3.10/dist-packages (from transformers<5.0.0,>=4.32.0->sentence-transformers) (2023.12.25)\n",
            "Requirement already satisfied: tokenizers<0.19,>=0.14 in /usr/local/lib/python3.10/dist-packages (from transformers<5.0.0,>=4.32.0->sentence-transformers) (0.15.2)\n",
            "Requirement already satisfied: safetensors>=0.4.1 in /usr/local/lib/python3.10/dist-packages (from transformers<5.0.0,>=4.32.0->sentence-transformers) (0.4.2)\n",
            "Requirement already satisfied: joblib>=1.1.1 in /usr/local/lib/python3.10/dist-packages (from scikit-learn->sentence-transformers) (1.3.2)\n",
            "Requirement already satisfied: threadpoolctl>=2.0.0 in /usr/local/lib/python3.10/dist-packages (from scikit-learn->sentence-transformers) (3.3.0)\n",
            "Requirement already satisfied: MarkupSafe>=2.0 in /usr/local/lib/python3.10/dist-packages (from jinja2->torch>=1.11.0->sentence-transformers) (2.1.5)\n",
            "Requirement already satisfied: charset-normalizer<4,>=2 in /usr/local/lib/python3.10/dist-packages (from requests->huggingface-hub>=0.15.1->sentence-transformers) (3.3.2)\n",
            "Requirement already satisfied: idna<4,>=2.5 in /usr/local/lib/python3.10/dist-packages (from requests->huggingface-hub>=0.15.1->sentence-transformers) (3.6)\n",
            "Requirement already satisfied: urllib3<3,>=1.21.1 in /usr/local/lib/python3.10/dist-packages (from requests->huggingface-hub>=0.15.1->sentence-transformers) (2.0.7)\n",
            "Requirement already satisfied: certifi>=2017.4.17 in /usr/local/lib/python3.10/dist-packages (from requests->huggingface-hub>=0.15.1->sentence-transformers) (2024.2.2)\n",
            "Requirement already satisfied: mpmath>=0.19 in /usr/local/lib/python3.10/dist-packages (from sympy->torch>=1.11.0->sentence-transformers) (1.3.0)\n"
          ]
        }
      ]
    },
    {
      "cell_type": "code",
      "source": [
        "from langchain_text_splitters import SentenceTransformersTokenTextSplitter"
      ],
      "metadata": {
        "id": "9jMespTwoS4K"
      },
      "execution_count": 81,
      "outputs": []
    },
    {
      "cell_type": "code",
      "source": [
        "splitter = SentenceTransformersTokenTextSplitter(chunk_overlap=0)\n",
        "text = \"Lorem the text \""
      ],
      "metadata": {
        "id": "tj2mQQx2LYhH"
      },
      "execution_count": 82,
      "outputs": []
    },
    {
      "cell_type": "code",
      "source": [
        "count_start_and_stop_tokens = 2\n",
        "text_token_count = splitter.count_tokens(text=text) - count_start_and_stop_tokens\n",
        "print(text_token_count)"
      ],
      "metadata": {
        "colab": {
          "base_uri": "https://localhost:8080/"
        },
        "id": "N6WvWQUaL1mk",
        "outputId": "f632b37f-c1e2-42b6-fe4a-fea86f0e3e54"
      },
      "execution_count": 83,
      "outputs": [
        {
          "output_type": "stream",
          "name": "stdout",
          "text": [
            "4\n"
          ]
        }
      ]
    },
    {
      "cell_type": "code",
      "source": [
        "token_multiplier = splitter.maximum_tokens_per_chunk // text_token_count + 1\n",
        "\n",
        "# `text_to_split` does not fit in a single chunk\n",
        "text_to_split = text * token_multiplier\n",
        "\n",
        "print(f\"tokens in text to split: {splitter.count_tokens(text=text_to_split)}\")"
      ],
      "metadata": {
        "colab": {
          "base_uri": "https://localhost:8080/"
        },
        "id": "rjTzk64xNSFQ",
        "outputId": "31b382f7-2e9d-498f-b190-1fd337103aed"
      },
      "execution_count": 84,
      "outputs": [
        {
          "output_type": "stream",
          "name": "stdout",
          "text": [
            "tokens in text to split: 390\n"
          ]
        }
      ]
    },
    {
      "cell_type": "code",
      "source": [
        "text_chunks = splitter.split_text(text=text_to_split)\n",
        "\n",
        "print(text_chunks[1])"
      ],
      "metadata": {
        "colab": {
          "base_uri": "https://localhost:8080/"
        },
        "id": "fcu42sMXNaNq",
        "outputId": "25691ad4-6480-4b02-dfd9-449c45eada99"
      },
      "execution_count": 85,
      "outputs": [
        {
          "output_type": "stream",
          "name": "stdout",
          "text": [
            "lorem the text\n"
          ]
        }
      ]
    },
    {
      "cell_type": "markdown",
      "source": [
        "#**Split code**\n",
        "CodeTextSplitter allows you to split your code with multiple languages supported. Import enum Language and specify the language."
      ],
      "metadata": {
        "id": "kwbv2Xf8YlVT"
      }
    },
    {
      "cell_type": "code",
      "source": [
        "%pip install -qU langchain-text-splitters"
      ],
      "metadata": {
        "id": "CoKBdq7dNgl7"
      },
      "execution_count": 86,
      "outputs": []
    },
    {
      "cell_type": "code",
      "source": [
        "from langchain_text_splitters import (\n",
        "    Language,\n",
        "    RecursiveCharacterTextSplitter,\n",
        ")"
      ],
      "metadata": {
        "id": "OC6GBVuHYzNZ"
      },
      "execution_count": 87,
      "outputs": []
    },
    {
      "cell_type": "code",
      "source": [
        "\n",
        "# Full list of supported languages\n",
        "[e.value for e in Language]"
      ],
      "metadata": {
        "colab": {
          "base_uri": "https://localhost:8080/"
        },
        "id": "l-Gdbk1dY3tL",
        "outputId": "d3fdd70d-96cc-48b9-e082-aa44698977aa"
      },
      "execution_count": 88,
      "outputs": [
        {
          "output_type": "execute_result",
          "data": {
            "text/plain": [
              "['cpp',\n",
              " 'go',\n",
              " 'java',\n",
              " 'kotlin',\n",
              " 'js',\n",
              " 'ts',\n",
              " 'php',\n",
              " 'proto',\n",
              " 'python',\n",
              " 'rst',\n",
              " 'ruby',\n",
              " 'rust',\n",
              " 'scala',\n",
              " 'swift',\n",
              " 'markdown',\n",
              " 'latex',\n",
              " 'html',\n",
              " 'sol',\n",
              " 'csharp',\n",
              " 'cobol',\n",
              " 'c',\n",
              " 'lua',\n",
              " 'perl']"
            ]
          },
          "metadata": {},
          "execution_count": 88
        }
      ]
    },
    {
      "cell_type": "code",
      "source": [
        "# You can also see the separators used for a given language\n",
        "RecursiveCharacterTextSplitter.get_separators_for_language(Language.PYTHON)"
      ],
      "metadata": {
        "colab": {
          "base_uri": "https://localhost:8080/"
        },
        "id": "Sb3bEAdTY4iU",
        "outputId": "3d3cabed-5e88-422c-aa8c-6674f722c115"
      },
      "execution_count": 89,
      "outputs": [
        {
          "output_type": "execute_result",
          "data": {
            "text/plain": [
              "['\\nclass ', '\\ndef ', '\\n\\tdef ', '\\n\\n', '\\n', ' ', '']"
            ]
          },
          "metadata": {},
          "execution_count": 89
        }
      ]
    },
    {
      "cell_type": "markdown",
      "source": [
        "#Python\n",
        "Here’s an example using the PythonTextSplitter:\n",
        "\n"
      ],
      "metadata": {
        "id": "90Flf16qZKPh"
      }
    },
    {
      "cell_type": "code",
      "source": [
        "PYTHON_CODE = \"\"\"\n",
        "def hello_world():\n",
        "    print(\"Hello, World!\")\n",
        "\n",
        "# Call the function\n",
        "hello_world()\n",
        "\"\"\"\n"
      ],
      "metadata": {
        "id": "1YoMsxvCZADx"
      },
      "execution_count": 90,
      "outputs": []
    },
    {
      "cell_type": "code",
      "source": [
        "python_splitter = RecursiveCharacterTextSplitter.from_language(\n",
        "    language=Language.PYTHON, chunk_size=50, chunk_overlap=0\n",
        ")\n",
        "python_docs = python_splitter.create_documents([PYTHON_CODE])\n",
        "python_docs\n"
      ],
      "metadata": {
        "colab": {
          "base_uri": "https://localhost:8080/"
        },
        "id": "Anj9cOKDZRj1",
        "outputId": "13fe39b2-bf17-459b-85e8-aed823587997"
      },
      "execution_count": 91,
      "outputs": [
        {
          "output_type": "execute_result",
          "data": {
            "text/plain": [
              "[Document(page_content='def hello_world():\\n    print(\"Hello, World!\")'),\n",
              " Document(page_content='# Call the function\\nhello_world()')]"
            ]
          },
          "metadata": {},
          "execution_count": 91
        }
      ]
    },
    {
      "cell_type": "markdown",
      "source": [
        "#**JS**\n",
        "Here’s an example using the JS text splitter:\n"
      ],
      "metadata": {
        "id": "-OkoBnwea1S8"
      }
    },
    {
      "cell_type": "code",
      "source": [
        "\n",
        "JS_CODE = \"\"\"\n",
        "function helloWorld() {\n",
        "  console.log(\"Hello, World!\");\n",
        "}\n",
        "\n",
        "// Call the function\n",
        "helloWorld();\n",
        "\"\"\"\n",
        "\n",
        "js_splitter = RecursiveCharacterTextSplitter.from_language(\n",
        "    language=Language.JS, chunk_size=60, chunk_overlap=0\n",
        ")\n",
        "js_docs = js_splitter.create_documents([JS_CODE])\n",
        "js_docs"
      ],
      "metadata": {
        "colab": {
          "base_uri": "https://localhost:8080/"
        },
        "id": "9EegrlySZSae",
        "outputId": "caac07ad-35d2-4805-8fc1-087908724ab0"
      },
      "execution_count": 92,
      "outputs": [
        {
          "output_type": "execute_result",
          "data": {
            "text/plain": [
              "[Document(page_content='function helloWorld() {\\n  console.log(\"Hello, World!\");\\n}'),\n",
              " Document(page_content='// Call the function\\nhelloWorld();')]"
            ]
          },
          "metadata": {},
          "execution_count": 92
        }
      ]
    },
    {
      "cell_type": "markdown",
      "source": [
        "#**Markdown**\n",
        "Here’s an example using the Markdown text splitter:\n"
      ],
      "metadata": {
        "id": "AQAYzOlqbqUc"
      }
    },
    {
      "cell_type": "code",
      "source": [
        "markdown_text = \"\"\"\n",
        "# 🦜️🔗 LangChain\n",
        "\n",
        "⚡ Building applications with LLMs through composability ⚡\n",
        "\n",
        "## Quick Install\n",
        "\n",
        "```bash\n",
        "# Hopefully this code block isn't split\n",
        "pip install langchain\n",
        "```\n",
        "\n",
        "As an open-source project in a rapidly developing field, we are extremely open to contributions.\n",
        "\"\"\"\n",
        "\n"
      ],
      "metadata": {
        "id": "jsHYexFJa_EA"
      },
      "execution_count": 94,
      "outputs": []
    },
    {
      "cell_type": "code",
      "source": [
        "md_splitter = RecursiveCharacterTextSplitter.from_language(\n",
        "    language=Language.MARKDOWN, chunk_size=60, chunk_overlap=0\n",
        ")\n",
        "md_docs = md_splitter.create_documents([markdown_text])\n",
        "md_docs"
      ],
      "metadata": {
        "colab": {
          "base_uri": "https://localhost:8080/"
        },
        "id": "0I7jTz58cDWb",
        "outputId": "248a899c-fa21-4c83-9630-0675a0e024e1"
      },
      "execution_count": 95,
      "outputs": [
        {
          "output_type": "execute_result",
          "data": {
            "text/plain": [
              "[Document(page_content='# 🦜️🔗 LangChain'),\n",
              " Document(page_content='⚡ Building applications with LLMs through composability ⚡'),\n",
              " Document(page_content='## Quick Install\\n\\n```bash'),\n",
              " Document(page_content=\"# Hopefully this code block isn't split\"),\n",
              " Document(page_content='pip install langchain'),\n",
              " Document(page_content='```'),\n",
              " Document(page_content='As an open-source project in a rapidly developing field, we'),\n",
              " Document(page_content='are extremely open to contributions.')]"
            ]
          },
          "metadata": {},
          "execution_count": 95
        }
      ]
    },
    {
      "cell_type": "code",
      "source": [],
      "metadata": {
        "id": "PW5I37a-cfYR"
      },
      "execution_count": null,
      "outputs": []
    },
    {
      "cell_type": "markdown",
      "source": [
        "#**Semantic Chunking**\n",
        "Splits the text based on semantic similarity.\n",
        "\n",
        "Taken from Greg Kamradt’s wonderful notebook: https://github.com/FullStackRetrieval-com/RetrievalTutorials/blob/main/5_Levels_Of_Text_Splitting.ipynb\n",
        "\n",
        "All credit to him.\n",
        "\n",
        "At a high level, this splits into sentences, then groups into groups of 3 sentences, and then merges one that are similar in the embedding space.\n",
        "\n"
      ],
      "metadata": {
        "id": "JMtelaTfeI_P"
      }
    },
    {
      "cell_type": "code",
      "source": [
        "#Install Dependencies\n",
        "!pip install --quiet langchain_experimental langchain_openai"
      ],
      "metadata": {
        "colab": {
          "base_uri": "https://localhost:8080/"
        },
        "id": "ZEWBJ6ijeT6H",
        "outputId": "72ffe8cb-3266-4f1f-eb28-f2e08024b2b6"
      },
      "execution_count": 96,
      "outputs": [
        {
          "output_type": "stream",
          "name": "stdout",
          "text": [
            "\u001b[2K     \u001b[90m━━━━━━━━━━━━━━━━━━━━━━━━━━━━━━━━━━━━━━━━\u001b[0m \u001b[32m177.6/177.6 kB\u001b[0m \u001b[31m1.5 MB/s\u001b[0m eta \u001b[36m0:00:00\u001b[0m\n",
            "\u001b[2K     \u001b[90m━━━━━━━━━━━━━━━━━━━━━━━━━━━━━━━━━━━━━━━━\u001b[0m \u001b[32m262.4/262.4 kB\u001b[0m \u001b[31m5.5 MB/s\u001b[0m eta \u001b[36m0:00:00\u001b[0m\n",
            "\u001b[2K     \u001b[90m━━━━━━━━━━━━━━━━━━━━━━━━━━━━━━━━━━━━━━━━\u001b[0m \u001b[32m75.6/75.6 kB\u001b[0m \u001b[31m5.6 MB/s\u001b[0m eta \u001b[36m0:00:00\u001b[0m\n",
            "\u001b[2K     \u001b[90m━━━━━━━━━━━━━━━━━━━━━━━━━━━━━━━━━━━━━━━━\u001b[0m \u001b[32m77.8/77.8 kB\u001b[0m \u001b[31m3.9 MB/s\u001b[0m eta \u001b[36m0:00:00\u001b[0m\n",
            "\u001b[2K     \u001b[90m━━━━━━━━━━━━━━━━━━━━━━━━━━━━━━━━━━━━━━━━\u001b[0m \u001b[32m58.3/58.3 kB\u001b[0m \u001b[31m3.5 MB/s\u001b[0m eta \u001b[36m0:00:00\u001b[0m\n",
            "\u001b[?25h"
          ]
        }
      ]
    },
    {
      "cell_type": "code",
      "source": [
        "#Load Example Data\n",
        "# This is a long document we can split up.\n",
        "with open(\"/content/text.txt\") as f:\n",
        "    state_of_the_union = f.read()"
      ],
      "metadata": {
        "id": "6tCL-whFeygI"
      },
      "execution_count": 99,
      "outputs": []
    },
    {
      "cell_type": "code",
      "source": [
        "#Create Text Splitter\n",
        "from langchain_experimental.text_splitter import SemanticChunker\n",
        "from langchain_openai.embeddings import OpenAIEmbeddings\n",
        "\n",
        "text_splitter = SemanticChunker(OpenAIEmbeddings())"
      ],
      "metadata": {
        "colab": {
          "base_uri": "https://localhost:8080/",
          "height": 367
        },
        "id": "Or_Yklc8fBlx",
        "outputId": "af56e616-2a4d-4e88-c37d-ba8f4481683b"
      },
      "execution_count": 105,
      "outputs": [
        {
          "output_type": "error",
          "ename": "ValidationError",
          "evalue": "1 validation error for OpenAIEmbeddings\n__root__\n  Did not find openai_api_key, please add an environment variable `OPENAI_API_KEY` which contains it, or pass `openai_api_key` as a named parameter. (type=value_error)",
          "traceback": [
            "\u001b[0;31m---------------------------------------------------------------------------\u001b[0m",
            "\u001b[0;31mValidationError\u001b[0m                           Traceback (most recent call last)",
            "\u001b[0;32m<ipython-input-105-b205123419a7>\u001b[0m in \u001b[0;36m<cell line: 5>\u001b[0;34m()\u001b[0m\n\u001b[1;32m      3\u001b[0m \u001b[0;32mfrom\u001b[0m \u001b[0mlangchain_openai\u001b[0m\u001b[0;34m.\u001b[0m\u001b[0membeddings\u001b[0m \u001b[0;32mimport\u001b[0m \u001b[0mOpenAIEmbeddings\u001b[0m\u001b[0;34m\u001b[0m\u001b[0;34m\u001b[0m\u001b[0m\n\u001b[1;32m      4\u001b[0m \u001b[0;34m\u001b[0m\u001b[0m\n\u001b[0;32m----> 5\u001b[0;31m \u001b[0mtext_splitter\u001b[0m \u001b[0;34m=\u001b[0m \u001b[0mSemanticChunker\u001b[0m\u001b[0;34m(\u001b[0m\u001b[0mOpenAIEmbeddings\u001b[0m\u001b[0;34m(\u001b[0m\u001b[0;34m)\u001b[0m\u001b[0;34m)\u001b[0m\u001b[0;34m\u001b[0m\u001b[0;34m\u001b[0m\u001b[0m\n\u001b[0m",
            "\u001b[0;32m/usr/local/lib/python3.10/dist-packages/pydantic/v1/main.py\u001b[0m in \u001b[0;36m__init__\u001b[0;34m(__pydantic_self__, **data)\u001b[0m\n\u001b[1;32m    339\u001b[0m         \u001b[0mvalues\u001b[0m\u001b[0;34m,\u001b[0m \u001b[0mfields_set\u001b[0m\u001b[0;34m,\u001b[0m \u001b[0mvalidation_error\u001b[0m \u001b[0;34m=\u001b[0m \u001b[0mvalidate_model\u001b[0m\u001b[0;34m(\u001b[0m\u001b[0m__pydantic_self__\u001b[0m\u001b[0;34m.\u001b[0m\u001b[0m__class__\u001b[0m\u001b[0;34m,\u001b[0m \u001b[0mdata\u001b[0m\u001b[0;34m)\u001b[0m\u001b[0;34m\u001b[0m\u001b[0;34m\u001b[0m\u001b[0m\n\u001b[1;32m    340\u001b[0m         \u001b[0;32mif\u001b[0m \u001b[0mvalidation_error\u001b[0m\u001b[0;34m:\u001b[0m\u001b[0;34m\u001b[0m\u001b[0;34m\u001b[0m\u001b[0m\n\u001b[0;32m--> 341\u001b[0;31m             \u001b[0;32mraise\u001b[0m \u001b[0mvalidation_error\u001b[0m\u001b[0;34m\u001b[0m\u001b[0;34m\u001b[0m\u001b[0m\n\u001b[0m\u001b[1;32m    342\u001b[0m         \u001b[0;32mtry\u001b[0m\u001b[0;34m:\u001b[0m\u001b[0;34m\u001b[0m\u001b[0;34m\u001b[0m\u001b[0m\n\u001b[1;32m    343\u001b[0m             \u001b[0mobject_setattr\u001b[0m\u001b[0;34m(\u001b[0m\u001b[0m__pydantic_self__\u001b[0m\u001b[0;34m,\u001b[0m \u001b[0;34m'__dict__'\u001b[0m\u001b[0;34m,\u001b[0m \u001b[0mvalues\u001b[0m\u001b[0;34m)\u001b[0m\u001b[0;34m\u001b[0m\u001b[0;34m\u001b[0m\u001b[0m\n",
            "\u001b[0;31mValidationError\u001b[0m: 1 validation error for OpenAIEmbeddings\n__root__\n  Did not find openai_api_key, please add an environment variable `OPENAI_API_KEY` which contains it, or pass `openai_api_key` as a named parameter. (type=value_error)"
          ]
        }
      ]
    },
    {
      "cell_type": "code",
      "source": [
        "#Split Text\n",
        "docs = text_splitter.create_documents([state_of_the_union])\n",
        "print(docs[0].page_content)\n"
      ],
      "metadata": {
        "colab": {
          "base_uri": "https://localhost:8080/"
        },
        "id": "JD2pA0vXfu5d",
        "outputId": "9b2863fc-aa38-4344-af76-f69ab84dcdeb"
      },
      "execution_count": 102,
      "outputs": [
        {
          "output_type": "stream",
          "name": "stdout",
          "text": [
            "it is butterfly.\n",
            "this is a lion.\n",
            "i love this.\n"
          ]
        }
      ]
    },
    {
      "cell_type": "code",
      "source": [],
      "metadata": {
        "id": "kkId_8FwgB3i"
      },
      "execution_count": null,
      "outputs": []
    }
  ]
}